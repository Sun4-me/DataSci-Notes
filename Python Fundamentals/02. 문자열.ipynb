{
 "cells": [
  {
   "cell_type": "markdown",
   "metadata": {
    "id": "DuzVknjo8muc"
   },
   "source": [
    "# 문자열이란?\n",
    "  - 문자들이 열거(나열) 되어 있으면 문자열(`str`)\n",
    "  - 열거(나열)가 되어 있다? **연속**되어 있다. **순서**가 있다.\n",
    "    - **`Sequence`**라고 한다!\n",
    "  * 여러 개의 문자를 순서대로 나열한 것\n",
    "  * 순서가 있다? **순번**이 있다.\n",
    "  * 순번을 **`index`**라고 한다\n",
    "  * 문자열은 문자의 `Sequence`다"
   ]
  },
  {
   "cell_type": "code",
   "execution_count": 2,
   "metadata": {
    "colab": {
     "base_uri": "https://localhost:8080/"
    },
    "executionInfo": {
     "elapsed": 16,
     "status": "ok",
     "timestamp": 1646715813652,
     "user": {
      "displayName": "소민호",
      "photoUrl": "https://lh3.googleusercontent.com/a-/AOh14GhLGRC49SI7WOuNBQAwvTUAj-ggmp6EPPCrjHhC=s64",
      "userId": "16551848544638359832"
     },
     "user_tz": -540
    },
    "id": "8hkFnqcS9QFr",
    "outputId": "724421d2-2257-4f7f-8a5c-761f3165d64e"
   },
   "outputs": [
    {
     "name": "stdout",
     "output_type": "stream",
     "text": [
      "sun1 sun2\n"
     ]
    }
   ],
   "source": [
    "# 문자열은 작은 따옴표('') 또는 큰 따옴표(\"\") 사이에 작성한다.\n",
    "name1 = 'sun1'\n",
    "name2 = \"sun2\"\n",
    "\n",
    "print(name1, name2)"
   ]
  },
  {
   "cell_type": "code",
   "execution_count": 3,
   "metadata": {
    "colab": {
     "base_uri": "https://localhost:8080/"
    },
    "executionInfo": {
     "elapsed": 13,
     "status": "ok",
     "timestamp": 1646715813652,
     "user": {
      "displayName": "소민호",
      "photoUrl": "https://lh3.googleusercontent.com/a-/AOh14GhLGRC49SI7WOuNBQAwvTUAj-ggmp6EPPCrjHhC=s64",
      "userId": "16551848544638359832"
     },
     "user_tz": -540
    },
    "id": "inHUjy2E_B2t",
    "outputId": "9953accc-c03f-4755-f3cc-30a1da24bb3d"
   },
   "outputs": [
    {
     "data": {
      "text/plain": [
       "(str, str)"
      ]
     },
     "execution_count": 3,
     "metadata": {},
     "output_type": "execute_result"
    }
   ],
   "source": [
    "type(name1), type(name2)"
   ]
  },
  {
   "cell_type": "code",
   "execution_count": 4,
   "metadata": {
    "colab": {
     "base_uri": "https://localhost:8080/"
    },
    "executionInfo": {
     "elapsed": 13,
     "status": "ok",
     "timestamp": 1646715813653,
     "user": {
      "displayName": "소민호",
      "photoUrl": "https://lh3.googleusercontent.com/a-/AOh14GhLGRC49SI7WOuNBQAwvTUAj-ggmp6EPPCrjHhC=s64",
      "userId": "16551848544638359832"
     },
     "user_tz": -540
    },
    "id": "En8G2kgB_oYd",
    "outputId": "8968a84e-2e61-4c32-d035-522657307a6d"
   },
   "outputs": [
    {
     "name": "stdout",
     "output_type": "stream",
     "text": [
      "I'm Student\n"
     ]
    }
   ],
   "source": [
    "# 문자열 중간에 작은 따옴표가 존재한다면 큰 따옴표로 묶으면 된다.\n",
    "text = \"I'm Student\"\n",
    "print(text)"
   ]
  },
  {
   "cell_type": "code",
   "execution_count": 5,
   "metadata": {
    "colab": {
     "base_uri": "https://localhost:8080/"
    },
    "executionInfo": {
     "elapsed": 12,
     "status": "ok",
     "timestamp": 1646715813653,
     "user": {
      "displayName": "소민호",
      "photoUrl": "https://lh3.googleusercontent.com/a-/AOh14GhLGRC49SI7WOuNBQAwvTUAj-ggmp6EPPCrjHhC=s64",
      "userId": "16551848544638359832"
     },
     "user_tz": -540
    },
    "id": "tKowaOaQAIUe",
    "outputId": "fc053f2c-8918-4358-f13f-5c708c091e26"
   },
   "outputs": [
    {
     "name": "stdout",
     "output_type": "stream",
     "text": [
      "그는 \"안녕하세요\" 라고 말했다.\n"
     ]
    }
   ],
   "source": [
    "# 문자열 중간에 큰 따옴표가 존재한다면 작은 따옴표로 묶어주자!\n",
    "text = '그는 \"안녕하세요\" 라고 말했다.'\n",
    "print(text)"
   ]
  },
  {
   "cell_type": "code",
   "execution_count": 6,
   "metadata": {
    "colab": {
     "base_uri": "https://localhost:8080/"
    },
    "executionInfo": {
     "elapsed": 11,
     "status": "ok",
     "timestamp": 1646715813653,
     "user": {
      "displayName": "소민호",
      "photoUrl": "https://lh3.googleusercontent.com/a-/AOh14GhLGRC49SI7WOuNBQAwvTUAj-ggmp6EPPCrjHhC=s64",
      "userId": "16551848544638359832"
     },
     "user_tz": -540
    },
    "id": "MYKtC1flCxGT",
    "outputId": "e8a64c20-63d9-4134-f480-5757928d68bc"
   },
   "outputs": [
    {
     "name": "stdout",
     "output_type": "stream",
     "text": [
      "I said, \"I'm Student\"\n"
     ]
    }
   ],
   "source": [
    "# \\를 해당 문자앞에 배치시키는 방법\n",
    "text = \"I said, \\\"I'm Student\\\"\"\n",
    "print(text)"
   ]
  },
  {
   "cell_type": "code",
   "execution_count": 7,
   "metadata": {
    "colab": {
     "base_uri": "https://localhost:8080/"
    },
    "executionInfo": {
     "elapsed": 11,
     "status": "ok",
     "timestamp": 1646715813654,
     "user": {
      "displayName": "소민호",
      "photoUrl": "https://lh3.googleusercontent.com/a-/AOh14GhLGRC49SI7WOuNBQAwvTUAj-ggmp6EPPCrjHhC=s64",
      "userId": "16551848544638359832"
     },
     "user_tz": -540
    },
    "id": "QA_umX6EC-J0",
    "outputId": "62497ec0-ec58-4bb1-835f-6890e7280c02"
   },
   "outputs": [
    {
     "name": "stdout",
     "output_type": "stream",
     "text": [
      "I said, \"I'm Student\"\n"
     ]
    }
   ],
   "source": [
    "# Doc String\n",
    "# 따옴표 3개 이어서 사용, Doc String 안에 위치한 문자열은 무조건 적은대로 표현이 된다.\n",
    "text = '''I said, \"I'm Student\"'''\n",
    "print(text)"
   ]
  },
  {
   "cell_type": "code",
   "execution_count": 9,
   "metadata": {
    "colab": {
     "base_uri": "https://localhost:8080/"
    },
    "executionInfo": {
     "elapsed": 10,
     "status": "ok",
     "timestamp": 1646715813654,
     "user": {
      "displayName": "소민호",
      "photoUrl": "https://lh3.googleusercontent.com/a-/AOh14GhLGRC49SI7WOuNBQAwvTUAj-ggmp6EPPCrjHhC=s64",
      "userId": "16551848544638359832"
     },
     "user_tz": -540
    },
    "id": "E-aWtxFDE5yD",
    "outputId": "2c1e9e03-b57c-4013-b677-1dfd2ed8535d"
   },
   "outputs": [
    {
     "name": "stdout",
     "output_type": "stream",
     "text": [
      "안녕하세요\n",
      "반갑습니다\n",
      "저는\n",
      "선헌석\n",
      "입니다.\n"
     ]
    }
   ],
   "source": [
    "# 개행\n",
    "text=\"안녕하세요\\n반갑습니다\\n저는\\n선헌석\\n입니다.\"\n",
    "print(text)"
   ]
  },
  {
   "cell_type": "code",
   "execution_count": 10,
   "metadata": {
    "colab": {
     "base_uri": "https://localhost:8080/"
    },
    "executionInfo": {
     "elapsed": 8,
     "status": "ok",
     "timestamp": 1646715813654,
     "user": {
      "displayName": "소민호",
      "photoUrl": "https://lh3.googleusercontent.com/a-/AOh14GhLGRC49SI7WOuNBQAwvTUAj-ggmp6EPPCrjHhC=s64",
      "userId": "16551848544638359832"
     },
     "user_tz": -540
    },
    "id": "O0frvcPZF0Ai",
    "outputId": "618f33eb-edb9-4b33-f68b-69ccd585665d"
   },
   "outputs": [
    {
     "name": "stdout",
     "output_type": "stream",
     "text": [
      "안녕하세요\n",
      "반갑습니다.\n",
      "저는\n",
      "선헌석\n",
      "입니다.\n"
     ]
    }
   ],
   "source": [
    "# Doc String 활용\n",
    "text = \"\"\"안녕하세요\n",
    "반갑습니다.\n",
    "저는\n",
    "선헌석\n",
    "입니다.\"\"\"\n",
    "\n",
    "print(text)"
   ]
  },
  {
   "cell_type": "markdown",
   "metadata": {
    "id": "5fbe0EXJHOA8"
   },
   "source": [
    "# Sequence\n",
    "- Sequence는 순번이 있다\n",
    "- 인덱스는 무조건 정수이다."
   ]
  },
  {
   "cell_type": "code",
   "execution_count": 12,
   "metadata": {
    "colab": {
     "base_uri": "https://localhost:8080/"
    },
    "executionInfo": {
     "elapsed": 14,
     "status": "ok",
     "timestamp": 1646715813982,
     "user": {
      "displayName": "소민호",
      "photoUrl": "https://lh3.googleusercontent.com/a-/AOh14GhLGRC49SI7WOuNBQAwvTUAj-ggmp6EPPCrjHhC=s64",
      "userId": "16551848544638359832"
     },
     "user_tz": -540
    },
    "id": "fclr5Pr5JYyS",
    "outputId": "d010e305-4204-4a17-9493-db5e255670b2"
   },
   "outputs": [
    {
     "name": "stdout",
     "output_type": "stream",
     "text": [
      "Hello\n"
     ]
    }
   ],
   "source": [
    "text = \"Hello\"\n",
    "print(text)"
   ]
  },
  {
   "cell_type": "code",
   "execution_count": 13,
   "metadata": {
    "colab": {
     "base_uri": "https://localhost:8080/"
    },
    "executionInfo": {
     "elapsed": 14,
     "status": "ok",
     "timestamp": 1646715813983,
     "user": {
      "displayName": "소민호",
      "photoUrl": "https://lh3.googleusercontent.com/a-/AOh14GhLGRC49SI7WOuNBQAwvTUAj-ggmp6EPPCrjHhC=s64",
      "userId": "16551848544638359832"
     },
     "user_tz": -540
    },
    "id": "P3Qa5GpzJ778",
    "outputId": "1401cd42-f61f-49d3-9af3-143d1757ad45"
   },
   "outputs": [
    {
     "data": {
      "text/plain": [
       "5"
      ]
     },
     "execution_count": 13,
     "metadata": {},
     "output_type": "execute_result"
    }
   ],
   "source": [
    "# 시퀀스의 크기(길이)를 잴 수 있는 함수 - len\n",
    "len(text)"
   ]
  },
  {
   "cell_type": "code",
   "execution_count": 23,
   "metadata": {
    "colab": {
     "base_uri": "https://localhost:8080/"
    },
    "executionInfo": {
     "elapsed": 13,
     "status": "ok",
     "timestamp": 1646715813984,
     "user": {
      "displayName": "소민호",
      "photoUrl": "https://lh3.googleusercontent.com/a-/AOh14GhLGRC49SI7WOuNBQAwvTUAj-ggmp6EPPCrjHhC=s64",
      "userId": "16551848544638359832"
     },
     "user_tz": -540
    },
    "id": "kI8oOaHpKQJ9",
    "outputId": "ad9c0a41-d61a-45a6-8fab-3051fab63218"
   },
   "outputs": [
    {
     "name": "stdout",
     "output_type": "stream",
     "text": [
      "l\n"
     ]
    }
   ],
   "source": [
    "# 시퀀스 내의 데이터를 인덱스로 접근하기. [] 안에 인덱스를 집어 넣어서 접근한다.\n",
    "print(text[3])"
   ]
  },
  {
   "cell_type": "code",
   "execution_count": 22,
   "metadata": {
    "colab": {
     "base_uri": "https://localhost:8080/"
    },
    "executionInfo": {
     "elapsed": 12,
     "status": "ok",
     "timestamp": 1646715813984,
     "user": {
      "displayName": "소민호",
      "photoUrl": "https://lh3.googleusercontent.com/a-/AOh14GhLGRC49SI7WOuNBQAwvTUAj-ggmp6EPPCrjHhC=s64",
      "userId": "16551848544638359832"
     },
     "user_tz": -540
    },
    "id": "LktJ7PN8KzG7",
    "outputId": "5c5d3f7c-db26-48df-abb3-9d887b9d6e3d"
   },
   "outputs": [
    {
     "name": "stdout",
     "output_type": "stream",
     "text": [
      "o\n"
     ]
    }
   ],
   "source": [
    " # -1 인덱스는 언제나 가장 마지막 데이터를 의미한다.\n",
    "print(text[-1])"
   ]
  },
  {
   "cell_type": "code",
   "execution_count": 21,
   "metadata": {
    "colab": {
     "base_uri": "https://localhost:8080/",
     "height": 193
    },
    "executionInfo": {
     "elapsed": 293,
     "status": "error",
     "timestamp": 1646715814267,
     "user": {
      "displayName": "소민호",
      "photoUrl": "https://lh3.googleusercontent.com/a-/AOh14GhLGRC49SI7WOuNBQAwvTUAj-ggmp6EPPCrjHhC=s64",
      "userId": "16551848544638359832"
     },
     "user_tz": -540
    },
    "id": "jn7KrcjZLX77",
    "outputId": "8108d869-c0c6-417b-dbb8-fb828740c5eb"
   },
   "outputs": [
    {
     "ename": "IndexError",
     "evalue": "string index out of range",
     "output_type": "error",
     "traceback": [
      "\u001b[1;31m---------------------------------------------------------------------------\u001b[0m",
      "\u001b[1;31mIndexError\u001b[0m                                Traceback (most recent call last)",
      "\u001b[1;32m~\\AppData\\Local\\Temp\\ipykernel_28208\\3627418459.py\u001b[0m in \u001b[0;36m<module>\u001b[1;34m\u001b[0m\n\u001b[0;32m      1\u001b[0m \u001b[1;31m# 인덱스의 범위를 벗어나면 IndexError\u001b[0m\u001b[1;33m\u001b[0m\u001b[1;33m\u001b[0m\u001b[0m\n\u001b[1;32m----> 2\u001b[1;33m \u001b[0mprint\u001b[0m\u001b[1;33m(\u001b[0m\u001b[0mtext\u001b[0m\u001b[1;33m[\u001b[0m\u001b[1;36m10\u001b[0m\u001b[1;33m]\u001b[0m\u001b[1;33m)\u001b[0m\u001b[1;33m\u001b[0m\u001b[1;33m\u001b[0m\u001b[0m\n\u001b[0m",
      "\u001b[1;31mIndexError\u001b[0m: string index out of range"
     ]
    }
   ],
   "source": [
    "# 인덱스의 범위를 벗어나면 IndexError\n",
    "print(text[10])"
   ]
  },
  {
   "cell_type": "markdown",
   "metadata": {
    "id": "qc-81sIbMe20"
   },
   "source": [
    "# 슬라이싱(Slicing)\n",
    "- 인덱스를 사용해서 시퀀스를 잘라낸다.\n",
    "- 잘라서 새로운 시퀀스를 만들어 낸다.\n",
    "- `[start : end : step]`\n",
    "  - `start` ~ `end-1` 부분을 `step`만큼 건너 뛰면서 잘라낸다."
   ]
  },
  {
   "cell_type": "code",
   "execution_count": 24,
   "metadata": {
    "colab": {
     "base_uri": "https://localhost:8080/"
    },
    "executionInfo": {
     "elapsed": 8,
     "status": "ok",
     "timestamp": 1646715820707,
     "user": {
      "displayName": "소민호",
      "photoUrl": "https://lh3.googleusercontent.com/a-/AOh14GhLGRC49SI7WOuNBQAwvTUAj-ggmp6EPPCrjHhC=s64",
      "userId": "16551848544638359832"
     },
     "user_tz": -540
    },
    "id": "85r4b4fTRGoi",
    "outputId": "9243cc29-5bd7-4a7f-8f08-0baaf5135292"
   },
   "outputs": [
    {
     "name": "stdout",
     "output_type": "stream",
     "text": [
      "안녕하세요!반갑습니다\n"
     ]
    }
   ],
   "source": [
    "text = \"안녕하세요!반갑습니다\"\n",
    "print(text)"
   ]
  },
  {
   "cell_type": "code",
   "execution_count": 26,
   "metadata": {
    "colab": {
     "base_uri": "https://localhost:8080/",
     "height": 35
    },
    "executionInfo": {
     "elapsed": 5,
     "status": "ok",
     "timestamp": 1646715820708,
     "user": {
      "displayName": "소민호",
      "photoUrl": "https://lh3.googleusercontent.com/a-/AOh14GhLGRC49SI7WOuNBQAwvTUAj-ggmp6EPPCrjHhC=s64",
      "userId": "16551848544638359832"
     },
     "user_tz": -540
    },
    "id": "YhK3dK2zRmU6",
    "outputId": "58de8e39-e94f-4c5c-bc98-9f226a98d24c"
   },
   "outputs": [
    {
     "data": {
      "text/plain": [
       "'안녕하'"
      ]
     },
     "execution_count": 26,
     "metadata": {},
     "output_type": "execute_result"
    }
   ],
   "source": [
    "# start -> 0, end -> 3   ===>  0 ~ 2 인덱스 까지 잘라진다.\n",
    "text[0 : 3]"
   ]
  },
  {
   "cell_type": "code",
   "execution_count": 25,
   "metadata": {
    "colab": {
     "base_uri": "https://localhost:8080/",
     "height": 35
    },
    "executionInfo": {
     "elapsed": 384,
     "status": "ok",
     "timestamp": 1646715821497,
     "user": {
      "displayName": "소민호",
      "photoUrl": "https://lh3.googleusercontent.com/a-/AOh14GhLGRC49SI7WOuNBQAwvTUAj-ggmp6EPPCrjHhC=s64",
      "userId": "16551848544638359832"
     },
     "user_tz": -540
    },
    "id": "d3GUZmlXR8QJ",
    "outputId": "d3f14a60-c2fc-44b4-f481-31554b24d99c"
   },
   "outputs": [
    {
     "data": {
      "text/plain": [
       "'세요!반갑습니다'"
      ]
     },
     "execution_count": 25,
     "metadata": {},
     "output_type": "execute_result"
    }
   ],
   "source": [
    "text[3 : 12] # end 인덱스의 범위를 벗어나면 자동으로 제일 마지막 까지 추출된다."
   ]
  },
  {
   "cell_type": "markdown",
   "metadata": {
    "id": "0kPtHFPkS2ob"
   },
   "source": [
    "* `start, end, step`은 생략이 가능하다.\n",
    "* `start`를 생략하면 자동으로 0이 들어간다.\n",
    "* `end`를 생략하면 자동으로 시퀀스의 길이(`len`)가 들어간다."
   ]
  },
  {
   "cell_type": "code",
   "execution_count": 25,
   "metadata": {
    "colab": {
     "base_uri": "https://localhost:8080/",
     "height": 35
    },
    "executionInfo": {
     "elapsed": 14,
     "status": "ok",
     "timestamp": 1646715821499,
     "user": {
      "displayName": "소민호",
      "photoUrl": "https://lh3.googleusercontent.com/a-/AOh14GhLGRC49SI7WOuNBQAwvTUAj-ggmp6EPPCrjHhC=s64",
      "userId": "16551848544638359832"
     },
     "user_tz": -540
    },
    "id": "FWG9SbA8Ttqq",
    "outputId": "a7fe3da0-dece-4a64-e1cd-0bcf93cd0665"
   },
   "outputs": [
    {
     "data": {
      "application/vnd.google.colaboratory.intrinsic+json": {
       "type": "string"
      },
      "text/plain": [
       "'세요!반갑습니다'"
      ]
     },
     "execution_count": 25,
     "metadata": {},
     "output_type": "execute_result"
    }
   ],
   "source": [
    "# end를 생략한 경우\n",
    "text[3 : ]"
   ]
  },
  {
   "cell_type": "code",
   "execution_count": 26,
   "metadata": {
    "colab": {
     "base_uri": "https://localhost:8080/",
     "height": 35
    },
    "executionInfo": {
     "elapsed": 14,
     "status": "ok",
     "timestamp": 1646715821500,
     "user": {
      "displayName": "소민호",
      "photoUrl": "https://lh3.googleusercontent.com/a-/AOh14GhLGRC49SI7WOuNBQAwvTUAj-ggmp6EPPCrjHhC=s64",
      "userId": "16551848544638359832"
     },
     "user_tz": -540
    },
    "id": "MpKxstDnT0VI",
    "outputId": "7b74b466-27ba-433f-e340-3a345952d87f"
   },
   "outputs": [
    {
     "data": {
      "application/vnd.google.colaboratory.intrinsic+json": {
       "type": "string"
      },
      "text/plain": [
       "'안녕하세요'"
      ]
     },
     "execution_count": 26,
     "metadata": {},
     "output_type": "execute_result"
    }
   ],
   "source": [
    "# start를 생략한 경우\n",
    "text[:5]"
   ]
  },
  {
   "cell_type": "code",
   "execution_count": 27,
   "metadata": {
    "colab": {
     "base_uri": "https://localhost:8080/",
     "height": 35
    },
    "executionInfo": {
     "elapsed": 15,
     "status": "ok",
     "timestamp": 1646715821500,
     "user": {
      "displayName": "소민호",
      "photoUrl": "https://lh3.googleusercontent.com/a-/AOh14GhLGRC49SI7WOuNBQAwvTUAj-ggmp6EPPCrjHhC=s64",
      "userId": "16551848544638359832"
     },
     "user_tz": -540
    },
    "id": "t1bn8J9ZT9ix",
    "outputId": "74fd6417-fc4e-4e3f-fd38-2d6d94da50a9"
   },
   "outputs": [
    {
     "data": {
      "application/vnd.google.colaboratory.intrinsic+json": {
       "type": "string"
      },
      "text/plain": [
       "'안녕하세요!반갑습니다'"
      ]
     },
     "execution_count": 27,
     "metadata": {},
     "output_type": "execute_result"
    }
   ],
   "source": [
    "text[:]"
   ]
  },
  {
   "cell_type": "code",
   "execution_count": 28,
   "metadata": {
    "colab": {
     "base_uri": "https://localhost:8080/",
     "height": 35
    },
    "executionInfo": {
     "elapsed": 15,
     "status": "ok",
     "timestamp": 1646715821502,
     "user": {
      "displayName": "소민호",
      "photoUrl": "https://lh3.googleusercontent.com/a-/AOh14GhLGRC49SI7WOuNBQAwvTUAj-ggmp6EPPCrjHhC=s64",
      "userId": "16551848544638359832"
     },
     "user_tz": -540
    },
    "id": "-b9au0vxUMtv",
    "outputId": "cac19230-75bc-48e7-c7a0-cae624c014b2"
   },
   "outputs": [
    {
     "data": {
      "application/vnd.google.colaboratory.intrinsic+json": {
       "type": "string"
      },
      "text/plain": [
       "'안녕하세요!'"
      ]
     },
     "execution_count": 28,
     "metadata": {},
     "output_type": "execute_result"
    }
   ],
   "source": [
    "text[:-5]"
   ]
  },
  {
   "cell_type": "code",
   "execution_count": 29,
   "metadata": {
    "colab": {
     "base_uri": "https://localhost:8080/",
     "height": 35
    },
    "executionInfo": {
     "elapsed": 15,
     "status": "ok",
     "timestamp": 1646715821503,
     "user": {
      "displayName": "소민호",
      "photoUrl": "https://lh3.googleusercontent.com/a-/AOh14GhLGRC49SI7WOuNBQAwvTUAj-ggmp6EPPCrjHhC=s64",
      "userId": "16551848544638359832"
     },
     "user_tz": -540
    },
    "id": "LTGPjH7OUhfi",
    "outputId": "2038cd07-d8d1-47ec-ee48-779b718ad1ed"
   },
   "outputs": [
    {
     "data": {
      "application/vnd.google.colaboratory.intrinsic+json": {
       "type": "string"
      },
      "text/plain": [
       "'반갑습니'"
      ]
     },
     "execution_count": 29,
     "metadata": {},
     "output_type": "execute_result"
    }
   ],
   "source": [
    "text[-5 : -1]"
   ]
  },
  {
   "cell_type": "code",
   "execution_count": 30,
   "metadata": {
    "colab": {
     "base_uri": "https://localhost:8080/",
     "height": 35
    },
    "executionInfo": {
     "elapsed": 4,
     "status": "ok",
     "timestamp": 1646715821752,
     "user": {
      "displayName": "소민호",
      "photoUrl": "https://lh3.googleusercontent.com/a-/AOh14GhLGRC49SI7WOuNBQAwvTUAj-ggmp6EPPCrjHhC=s64",
      "userId": "16551848544638359832"
     },
     "user_tz": -540
    },
    "id": "VAbpqoUsUqcJ",
    "outputId": "61b5fca9-be67-4665-add5-f92f19cdf475"
   },
   "outputs": [
    {
     "data": {
      "application/vnd.google.colaboratory.intrinsic+json": {
       "type": "string"
      },
      "text/plain": [
       "'my_profile_good_filtered'"
      ]
     },
     "execution_count": 30,
     "metadata": {},
     "output_type": "execute_result"
    }
   ],
   "source": [
    "# 음수 인덱스를 사용하는 것이 양수 인덱스 활용보다 효과적인 경우\n",
    "image_file_full_name = \"my_profile_good_filtered.jpg\"\n",
    "image_file_full_name[:-4]"
   ]
  },
  {
   "cell_type": "markdown",
   "metadata": {
    "id": "lwNetZrdVmr-"
   },
   "source": [
    "**step**\n",
    "* 지정한 숫자만큼 건너 뛰면서 슬라이싱\n",
    "* `step`을 생략하면 기본적으로 1이 주어진다.\n",
    "* 부호(양수, 음수)를 이용해서 방향 설정도 가능\n",
    "  - 양수 : 정방향(왼쪽에서 오른쪽)\n",
    "  - 음수 : 역방향(오른쪽에서 왼쪽)"
   ]
  },
  {
   "cell_type": "code",
   "execution_count": 31,
   "metadata": {
    "colab": {
     "base_uri": "https://localhost:8080/",
     "height": 35
    },
    "executionInfo": {
     "elapsed": 331,
     "status": "ok",
     "timestamp": 1646715822492,
     "user": {
      "displayName": "소민호",
      "photoUrl": "https://lh3.googleusercontent.com/a-/AOh14GhLGRC49SI7WOuNBQAwvTUAj-ggmp6EPPCrjHhC=s64",
      "userId": "16551848544638359832"
     },
     "user_tz": -540
    },
    "id": "gOuTNU4ZWVsv",
    "outputId": "13e62fb6-e39e-4fc1-8b13-00c36a04723f"
   },
   "outputs": [
    {
     "data": {
      "application/vnd.google.colaboratory.intrinsic+json": {
       "type": "string"
      },
      "text/plain": [
       "'안녕하세요!반갑습니다'"
      ]
     },
     "execution_count": 31,
     "metadata": {},
     "output_type": "execute_result"
    }
   ],
   "source": [
    "text[ : ] # start : 0, end : len(text), step : 1"
   ]
  },
  {
   "cell_type": "code",
   "execution_count": 32,
   "metadata": {
    "colab": {
     "base_uri": "https://localhost:8080/",
     "height": 35
    },
    "executionInfo": {
     "elapsed": 4,
     "status": "ok",
     "timestamp": 1646715822493,
     "user": {
      "displayName": "소민호",
      "photoUrl": "https://lh3.googleusercontent.com/a-/AOh14GhLGRC49SI7WOuNBQAwvTUAj-ggmp6EPPCrjHhC=s64",
      "userId": "16551848544638359832"
     },
     "user_tz": -540
    },
    "id": "WPHBvbdIWfDY",
    "outputId": "ba4043b0-f7f3-498c-f698-999c7e8bab86"
   },
   "outputs": [
    {
     "data": {
      "application/vnd.google.colaboratory.intrinsic+json": {
       "type": "string"
      },
      "text/plain": [
       "'안녕하세요!반갑습니다'"
      ]
     },
     "execution_count": 32,
     "metadata": {},
     "output_type": "execute_result"
    }
   ],
   "source": [
    "text[ : : ]"
   ]
  },
  {
   "cell_type": "code",
   "execution_count": 33,
   "metadata": {
    "colab": {
     "base_uri": "https://localhost:8080/",
     "height": 35
    },
    "executionInfo": {
     "elapsed": 4,
     "status": "ok",
     "timestamp": 1646715822802,
     "user": {
      "displayName": "소민호",
      "photoUrl": "https://lh3.googleusercontent.com/a-/AOh14GhLGRC49SI7WOuNBQAwvTUAj-ggmp6EPPCrjHhC=s64",
      "userId": "16551848544638359832"
     },
     "user_tz": -540
    },
    "id": "TWSuoDnHWjQg",
    "outputId": "5a5ad690-31d9-4ddf-d4a4-8d2af862fd2a"
   },
   "outputs": [
    {
     "data": {
      "application/vnd.google.colaboratory.intrinsic+json": {
       "type": "string"
      },
      "text/plain": [
       "'안하요반습다'"
      ]
     },
     "execution_count": 33,
     "metadata": {},
     "output_type": "execute_result"
    }
   ],
   "source": [
    "text[: : 2]"
   ]
  },
  {
   "cell_type": "code",
   "execution_count": 34,
   "metadata": {
    "colab": {
     "base_uri": "https://localhost:8080/",
     "height": 35
    },
    "executionInfo": {
     "elapsed": 3,
     "status": "ok",
     "timestamp": 1646715823161,
     "user": {
      "displayName": "소민호",
      "photoUrl": "https://lh3.googleusercontent.com/a-/AOh14GhLGRC49SI7WOuNBQAwvTUAj-ggmp6EPPCrjHhC=s64",
      "userId": "16551848544638359832"
     },
     "user_tz": -540
    },
    "id": "bW4augpkWq4g",
    "outputId": "c2701389-f4e3-4403-cbe7-b94fdb8ca0c1"
   },
   "outputs": [
    {
     "data": {
      "application/vnd.google.colaboratory.intrinsic+json": {
       "type": "string"
      },
      "text/plain": [
       "'안세반니'"
      ]
     },
     "execution_count": 34,
     "metadata": {},
     "output_type": "execute_result"
    }
   ],
   "source": [
    "text[: : 3]"
   ]
  },
  {
   "cell_type": "code",
   "execution_count": 36,
   "metadata": {
    "colab": {
     "base_uri": "https://localhost:8080/",
     "height": 35
    },
    "executionInfo": {
     "elapsed": 4,
     "status": "ok",
     "timestamp": 1646715823766,
     "user": {
      "displayName": "소민호",
      "photoUrl": "https://lh3.googleusercontent.com/a-/AOh14GhLGRC49SI7WOuNBQAwvTUAj-ggmp6EPPCrjHhC=s64",
      "userId": "16551848544638359832"
     },
     "user_tz": -540
    },
    "id": "LPWbfWQTXU6R",
    "outputId": "64915abe-08cb-45a2-95bc-43d728662c66"
   },
   "outputs": [
    {
     "data": {
      "application/vnd.google.colaboratory.intrinsic+json": {
       "type": "string"
      },
      "text/plain": [
       "'다니습갑반!요세하녕안'"
      ]
     },
     "execution_count": 36,
     "metadata": {},
     "output_type": "execute_result"
    }
   ],
   "source": [
    "# 음수 스텝\n",
    "text[::-1]"
   ]
  },
  {
   "cell_type": "markdown",
   "metadata": {
    "id": "UFfhWpnh6Wat"
   },
   "source": [
    "# 문자열 함수\n",
    "* 파이썬에는 문자열을 다루기 위한 여러 함수(기능)이 내장되어 있다."
   ]
  },
  {
   "cell_type": "code",
   "execution_count": 28,
   "metadata": {
    "executionInfo": {
     "elapsed": 276,
     "status": "ok",
     "timestamp": 1646715967672,
     "user": {
      "displayName": "소민호",
      "photoUrl": "https://lh3.googleusercontent.com/a-/AOh14GhLGRC49SI7WOuNBQAwvTUAj-ggmp6EPPCrjHhC=s64",
      "userId": "16551848544638359832"
     },
     "user_tz": -540
    },
    "id": "rKfpIIzC62fm"
   },
   "outputs": [],
   "source": [
    "text1 = \"hello\"\n",
    "text2 = \"world\""
   ]
  },
  {
   "cell_type": "code",
   "execution_count": 29,
   "metadata": {
    "colab": {
     "base_uri": "https://localhost:8080/"
    },
    "executionInfo": {
     "elapsed": 2,
     "status": "ok",
     "timestamp": 1646716009138,
     "user": {
      "displayName": "소민호",
      "photoUrl": "https://lh3.googleusercontent.com/a-/AOh14GhLGRC49SI7WOuNBQAwvTUAj-ggmp6EPPCrjHhC=s64",
      "userId": "16551848544638359832"
     },
     "user_tz": -540
    },
    "id": "3gfi7wdL6zyk",
    "outputId": "020d11a9-7bf4-45a2-b10b-a4fe44c4c138"
   },
   "outputs": [
    {
     "name": "stdout",
     "output_type": "stream",
     "text": [
      "helloworld\n"
     ]
    }
   ],
   "source": [
    "#  문자열 이어 붙이기\n",
    "print(text1 + text2)"
   ]
  },
  {
   "cell_type": "code",
   "execution_count": 30,
   "metadata": {
    "colab": {
     "base_uri": "https://localhost:8080/",
     "height": 174
    },
    "executionInfo": {
     "elapsed": 260,
     "status": "error",
     "timestamp": 1646716096541,
     "user": {
      "displayName": "소민호",
      "photoUrl": "https://lh3.googleusercontent.com/a-/AOh14GhLGRC49SI7WOuNBQAwvTUAj-ggmp6EPPCrjHhC=s64",
      "userId": "16551848544638359832"
     },
     "user_tz": -540
    },
    "id": "ujHOf03u7Ous",
    "outputId": "7d1a1eee-9696-4813-d05d-b1326a8bb9a3"
   },
   "outputs": [
    {
     "ename": "TypeError",
     "evalue": "can only concatenate str (not \"int\") to str",
     "output_type": "error",
     "traceback": [
      "\u001b[1;31m---------------------------------------------------------------------------\u001b[0m",
      "\u001b[1;31mTypeError\u001b[0m                                 Traceback (most recent call last)",
      "\u001b[1;32m~\\AppData\\Local\\Temp\\ipykernel_28208\\2579832081.py\u001b[0m in \u001b[0;36m<module>\u001b[1;34m\u001b[0m\n\u001b[0;32m      1\u001b[0m \u001b[1;31m# 문자열 끼리만 이어 붙일 수 있다\u001b[0m\u001b[1;33m\u001b[0m\u001b[1;33m\u001b[0m\u001b[0m\n\u001b[1;32m----> 2\u001b[1;33m \u001b[0mtext1\u001b[0m \u001b[1;33m+\u001b[0m \u001b[1;36m10\u001b[0m\u001b[1;33m\u001b[0m\u001b[1;33m\u001b[0m\u001b[0m\n\u001b[0m",
      "\u001b[1;31mTypeError\u001b[0m: can only concatenate str (not \"int\") to str"
     ]
    }
   ],
   "source": [
    "# 문자열 끼리만 이어 붙일 수 있다\n",
    "text1 + 10"
   ]
  },
  {
   "cell_type": "code",
   "execution_count": 31,
   "metadata": {
    "colab": {
     "base_uri": "https://localhost:8080/",
     "height": 35
    },
    "executionInfo": {
     "elapsed": 275,
     "status": "ok",
     "timestamp": 1646716145367,
     "user": {
      "displayName": "소민호",
      "photoUrl": "https://lh3.googleusercontent.com/a-/AOh14GhLGRC49SI7WOuNBQAwvTUAj-ggmp6EPPCrjHhC=s64",
      "userId": "16551848544638359832"
     },
     "user_tz": -540
    },
    "id": "QMhfFGzR7SIb",
    "outputId": "c803a0f5-1446-4575-8384-2ec0c10b3c3f"
   },
   "outputs": [
    {
     "data": {
      "text/plain": [
       "'hello10'"
      ]
     },
     "execution_count": 31,
     "metadata": {},
     "output_type": "execute_result"
    }
   ],
   "source": [
    "text1 + \"10\""
   ]
  },
  {
   "cell_type": "code",
   "execution_count": 33,
   "metadata": {
    "colab": {
     "base_uri": "https://localhost:8080/",
     "height": 35
    },
    "executionInfo": {
     "elapsed": 269,
     "status": "ok",
     "timestamp": 1646716379428,
     "user": {
      "displayName": "소민호",
      "photoUrl": "https://lh3.googleusercontent.com/a-/AOh14GhLGRC49SI7WOuNBQAwvTUAj-ggmp6EPPCrjHhC=s64",
      "userId": "16551848544638359832"
     },
     "user_tz": -540
    },
    "id": "pT4RSYW07ykr",
    "outputId": "b33c9af9-1779-4d63-b964-5d57eb97a8d0"
   },
   "outputs": [
    {
     "data": {
      "text/plain": [
       "'hello10'"
      ]
     },
     "execution_count": 33,
     "metadata": {},
     "output_type": "execute_result"
    }
   ],
   "source": [
    "# 정수를 문자열 형식으로 자료형을 바꿔줘야 한다.\n",
    "# 자료형을 바꾸는 것을 Type Casting이라고 한다.\n",
    "text1 + str(10)"
   ]
  },
  {
   "cell_type": "code",
   "execution_count": 34,
   "metadata": {
    "colab": {
     "base_uri": "https://localhost:8080/",
     "height": 35
    },
    "executionInfo": {
     "elapsed": 288,
     "status": "ok",
     "timestamp": 1646716509312,
     "user": {
      "displayName": "소민호",
      "photoUrl": "https://lh3.googleusercontent.com/a-/AOh14GhLGRC49SI7WOuNBQAwvTUAj-ggmp6EPPCrjHhC=s64",
      "userId": "16551848544638359832"
     },
     "user_tz": -540
    },
    "id": "VsZsKkMJ8xFG",
    "outputId": "f5326ac8-6ea3-44f6-fb83-b58d73c1bbea"
   },
   "outputs": [
    {
     "data": {
      "text/plain": [
       "'hellohellohellohellohellohellohellohellohellohello'"
      ]
     },
     "execution_count": 34,
     "metadata": {},
     "output_type": "execute_result"
    }
   ],
   "source": [
    "# 문자열 반복하기\n",
    "text1 * 10"
   ]
  },
  {
   "cell_type": "markdown",
   "metadata": {},
   "source": [
    "## 대소문자 함수"
   ]
  },
  {
   "cell_type": "code",
   "execution_count": 35,
   "metadata": {
    "colab": {
     "base_uri": "https://localhost:8080/",
     "height": 35
    },
    "executionInfo": {
     "elapsed": 244,
     "status": "ok",
     "timestamp": 1646716737252,
     "user": {
      "displayName": "소민호",
      "photoUrl": "https://lh3.googleusercontent.com/a-/AOh14GhLGRC49SI7WOuNBQAwvTUAj-ggmp6EPPCrjHhC=s64",
      "userId": "16551848544638359832"
     },
     "user_tz": -540
    },
    "id": "sLAmUscG9a5S",
    "outputId": "d0bf0bee-2859-42f9-dd8e-71c513576863"
   },
   "outputs": [
    {
     "data": {
      "text/plain": [
       "'WORLD'"
      ]
     },
     "execution_count": 35,
     "metadata": {},
     "output_type": "execute_result"
    }
   ],
   "source": [
    "# 모든 문자를 대문자로 만들기 - upper()\n",
    "text2.upper()"
   ]
  },
  {
   "cell_type": "code",
   "execution_count": 37,
   "metadata": {
    "colab": {
     "base_uri": "https://localhost:8080/",
     "height": 35
    },
    "executionInfo": {
     "elapsed": 279,
     "status": "ok",
     "timestamp": 1646716784465,
     "user": {
      "displayName": "소민호",
      "photoUrl": "https://lh3.googleusercontent.com/a-/AOh14GhLGRC49SI7WOuNBQAwvTUAj-ggmp6EPPCrjHhC=s64",
      "userId": "16551848544638359832"
     },
     "user_tz": -540
    },
    "id": "YGt9iwTX9iKr",
    "outputId": "74465c8a-d1de-4a6d-b1fb-960b3baf821a"
   },
   "outputs": [
    {
     "data": {
      "text/plain": [
       "'hello!!!!'"
      ]
     },
     "execution_count": 37,
     "metadata": {},
     "output_type": "execute_result"
    }
   ],
   "source": [
    "# 모든 문자를 소문자로 만들기 - lower()\n",
    "\"HELLO!!!!\".lower()"
   ]
  },
  {
   "cell_type": "markdown",
   "metadata": {
    "id": "mbHEMVuw-w25"
   },
   "source": [
    "## 문자열 치환\n",
    "치환 : A를 B로 바꾸는 것 (`replace`)"
   ]
  },
  {
   "cell_type": "code",
   "execution_count": 61,
   "metadata": {
    "colab": {
     "base_uri": "https://localhost:8080/",
     "height": 35
    },
    "executionInfo": {
     "elapsed": 277,
     "status": "ok",
     "timestamp": 1646717230949,
     "user": {
      "displayName": "소민호",
      "photoUrl": "https://lh3.googleusercontent.com/a-/AOh14GhLGRC49SI7WOuNBQAwvTUAj-ggmp6EPPCrjHhC=s64",
      "userId": "16551848544638359832"
     },
     "user_tz": -540
    },
    "id": "fRXfbzXA_e8y",
    "outputId": "5d75fffe-f16e-40cd-86ff-08e837e359b7"
   },
   "outputs": [
    {
     "data": {
      "application/vnd.google.colaboratory.intrinsic+json": {
       "type": "string"
      },
      "text/plain": [
       "'Jello World'"
      ]
     },
     "execution_count": 61,
     "metadata": {},
     "output_type": "execute_result"
    }
   ],
   "source": [
    "text = \"Hello World\"\n",
    "text.replace(\"H\", \"J\")"
   ]
  },
  {
   "cell_type": "markdown",
   "metadata": {
    "id": "lrxgPWFvAjm7"
   },
   "source": [
    "## 문자열 포매팅\n",
    "- 템플릿 만들기\n",
    "- 문자열 내의 특정한 값을 변수로 부터 동적으로 문자열을 생성"
   ]
  },
  {
   "cell_type": "code",
   "execution_count": 38,
   "metadata": {
    "colab": {
     "base_uri": "https://localhost:8080/"
    },
    "executionInfo": {
     "elapsed": 1,
     "status": "ok",
     "timestamp": 1646718258756,
     "user": {
      "displayName": "소민호",
      "photoUrl": "https://lh3.googleusercontent.com/a-/AOh14GhLGRC49SI7WOuNBQAwvTUAj-ggmp6EPPCrjHhC=s64",
      "userId": "16551848544638359832"
     },
     "user_tz": -540
    },
    "id": "LymO5QvtC_QD",
    "outputId": "be7a0490-44bd-4ff8-f98d-204a82fdd352"
   },
   "outputs": [
    {
     "name": "stdout",
     "output_type": "stream",
     "text": [
      "제 이름은 선헌석입니다. 나이는 25입니다.\n"
     ]
    }
   ],
   "source": [
    "name = \"선헌석\"\n",
    "age  = 25\n",
    "\n",
    "text = \"제 이름은 \" + name +'입니다. 나이는 ' + str(age) +\"입니다.\"\n",
    "print(text)"
   ]
  },
  {
   "cell_type": "code",
   "execution_count": 50,
   "metadata": {
    "colab": {
     "base_uri": "https://localhost:8080/"
    },
    "executionInfo": {
     "elapsed": 5,
     "status": "ok",
     "timestamp": 1646718310867,
     "user": {
      "displayName": "소민호",
      "photoUrl": "https://lh3.googleusercontent.com/a-/AOh14GhLGRC49SI7WOuNBQAwvTUAj-ggmp6EPPCrjHhC=s64",
      "userId": "16551848544638359832"
     },
     "user_tz": -540
    },
    "id": "89Hn_IzXDX06",
    "outputId": "fc09e753-7369-4657-a90c-57fca5d43373"
   },
   "outputs": [
    {
     "name": "stdout",
     "output_type": "stream",
     "text": [
      "제 이름은 {}입니다. 나이는 {}입니다.\n"
     ]
    }
   ],
   "source": [
    "# 문자열 포매팅 : 문자열의 형식을 미리 지정해 놓고, 필요할 때 특정 부분을 바꿔주는 것\n",
    "text = \"제 이름은 {}입니다. 나이는 {}입니다.\"\n",
    "print(text)"
   ]
  },
  {
   "cell_type": "code",
   "execution_count": 40,
   "metadata": {
    "colab": {
     "base_uri": "https://localhost:8080/",
     "height": 35
    },
    "executionInfo": {
     "elapsed": 278,
     "status": "ok",
     "timestamp": 1646718483676,
     "user": {
      "displayName": "소민호",
      "photoUrl": "https://lh3.googleusercontent.com/a-/AOh14GhLGRC49SI7WOuNBQAwvTUAj-ggmp6EPPCrjHhC=s64",
      "userId": "16551848544638359832"
     },
     "user_tz": -540
    },
    "id": "rutbgpOaD1WS",
    "outputId": "230c6d73-fac2-4efb-fc79-c8d91193eb5e"
   },
   "outputs": [
    {
     "data": {
      "text/plain": [
       "'제 이름은 선헌석입니다. 나이는 25입니다.'"
      ]
     },
     "execution_count": 40,
     "metadata": {},
     "output_type": "execute_result"
    }
   ],
   "source": [
    "text.format(name, age)"
   ]
  },
  {
   "cell_type": "code",
   "execution_count": 51,
   "metadata": {
    "colab": {
     "base_uri": "https://localhost:8080/",
     "height": 35
    },
    "executionInfo": {
     "elapsed": 3,
     "status": "ok",
     "timestamp": 1646718392176,
     "user": {
      "displayName": "소민호",
      "photoUrl": "https://lh3.googleusercontent.com/a-/AOh14GhLGRC49SI7WOuNBQAwvTUAj-ggmp6EPPCrjHhC=s64",
      "userId": "16551848544638359832"
     },
     "user_tz": -540
    },
    "id": "vhS2QAI_EE0C",
    "outputId": "d9f023ff-4e69-4a3e-f0a5-f52d8b7939f3"
   },
   "outputs": [
    {
     "data": {
      "text/plain": [
       "'제 이름은 경희대입니다. 나이는 100입니다.'"
      ]
     },
     "execution_count": 51,
     "metadata": {},
     "output_type": "execute_result"
    }
   ],
   "source": [
    "text.format(\"경희대\", 100)"
   ]
  },
  {
   "cell_type": "code",
   "execution_count": 52,
   "metadata": {
    "colab": {
     "base_uri": "https://localhost:8080/",
     "height": 35
    },
    "executionInfo": {
     "elapsed": 3,
     "status": "ok",
     "timestamp": 1646718558072,
     "user": {
      "displayName": "소민호",
      "photoUrl": "https://lh3.googleusercontent.com/a-/AOh14GhLGRC49SI7WOuNBQAwvTUAj-ggmp6EPPCrjHhC=s64",
      "userId": "16551848544638359832"
     },
     "user_tz": -540
    },
    "id": "QUFn_OyGEJVC",
    "outputId": "784ab871-caa0-47c5-d3c6-812359a17f39"
   },
   "outputs": [
    {
     "data": {
      "text/plain": [
       "'제 이름은 선헌석입니다. 나이는 25입니다.'"
      ]
     },
     "execution_count": 52,
     "metadata": {},
     "output_type": "execute_result"
    }
   ],
   "source": [
    "text = f\"제 이름은 {name}입니다. 나이는 {age}입니다.\"\n",
    "text"
   ]
  },
  {
   "cell_type": "markdown",
   "metadata": {
    "id": "2YAVouS-Exry"
   },
   "source": [
    "## 문자열 분리(split)\n",
    "- `slice` : 특정 부분을 인덱스를 활용해 잘라내기\n",
    "- `split` : 특정 구분자를 이용해서 문자열을 쪼개기"
   ]
  },
  {
   "cell_type": "code",
   "execution_count": 54,
   "metadata": {
    "colab": {
     "base_uri": "https://localhost:8080/"
    },
    "executionInfo": {
     "elapsed": 266,
     "status": "ok",
     "timestamp": 1646720171617,
     "user": {
      "displayName": "소민호",
      "photoUrl": "https://lh3.googleusercontent.com/a-/AOh14GhLGRC49SI7WOuNBQAwvTUAj-ggmp6EPPCrjHhC=s64",
      "userId": "16551848544638359832"
     },
     "user_tz": -540
    },
    "id": "i5TWozwgIKLy",
    "outputId": "9c6ae513-22c9-4704-8214-1ea8c3893b1e"
   },
   "outputs": [
    {
     "data": {
      "text/plain": [
       "['파이썬을', '공부하는', '것은', '재미가', '있습니다.']"
      ]
     },
     "execution_count": 54,
     "metadata": {},
     "output_type": "execute_result"
    }
   ],
   "source": [
    "text = \"파이썬을 공부하는 것은 재미가 있습니다.\"\n",
    "text.split(\" \")"
   ]
  },
  {
   "cell_type": "code",
   "execution_count": 56,
   "metadata": {
    "colab": {
     "base_uri": "https://localhost:8080/"
    },
    "executionInfo": {
     "elapsed": 266,
     "status": "ok",
     "timestamp": 1646719898484,
     "user": {
      "displayName": "소민호",
      "photoUrl": "https://lh3.googleusercontent.com/a-/AOh14GhLGRC49SI7WOuNBQAwvTUAj-ggmp6EPPCrjHhC=s64",
      "userId": "16551848544638359832"
     },
     "user_tz": -540
    },
    "id": "8Ywux2J6I9eo",
    "outputId": "e5ff2e5e-9c80-4a8b-e286-805550c186d4"
   },
   "outputs": [
    {
     "data": {
      "text/plain": [
       "['', '8시간', '하루종일', '파이썬', '하고있음']"
      ]
     },
     "execution_count": 56,
     "metadata": {},
     "output_type": "execute_result"
    }
   ],
   "source": [
    "text = \"#8시간#하루종일#파이썬#하고있음\"\n",
    "result = text.split(\"#\")\n",
    "result"
   ]
  },
  {
   "cell_type": "code",
   "execution_count": 57,
   "metadata": {
    "colab": {
     "base_uri": "https://localhost:8080/"
    },
    "executionInfo": {
     "elapsed": 292,
     "status": "ok",
     "timestamp": 1646720144947,
     "user": {
      "displayName": "소민호",
      "photoUrl": "https://lh3.googleusercontent.com/a-/AOh14GhLGRC49SI7WOuNBQAwvTUAj-ggmp6EPPCrjHhC=s64",
      "userId": "16551848544638359832"
     },
     "user_tz": -540
    },
    "id": "gALo_ayKJqzB",
    "outputId": "e151af9f-633a-4023-958d-6e585f0f4dfc"
   },
   "outputs": [
    {
     "data": {
      "text/plain": [
       "['8시간', '하루종일', '파이썬', '하고있음']"
      ]
     },
     "execution_count": 57,
     "metadata": {},
     "output_type": "execute_result"
    }
   ],
   "source": [
    "result2 = result[1:]\n",
    "result2"
   ]
  },
  {
   "cell_type": "markdown",
   "metadata": {
    "id": "RJoWvjl4LVE4"
   },
   "source": [
    "## 문자열의 좌우 공백 제거"
   ]
  },
  {
   "cell_type": "code",
   "execution_count": 70,
   "metadata": {
    "colab": {
     "base_uri": "https://localhost:8080/"
    },
    "executionInfo": {
     "elapsed": 2,
     "status": "ok",
     "timestamp": 1646720402877,
     "user": {
      "displayName": "소민호",
      "photoUrl": "https://lh3.googleusercontent.com/a-/AOh14GhLGRC49SI7WOuNBQAwvTUAj-ggmp6EPPCrjHhC=s64",
      "userId": "16551848544638359832"
     },
     "user_tz": -540
    },
    "id": "H8WKRnt7Ln3J",
    "outputId": "a525f9c6-a699-4bb7-e317-d0556c81988b"
   },
   "outputs": [
    {
     "name": "stdout",
     "output_type": "stream",
     "text": [
      "\n",
      "\n",
      "    과자 먹고 싶다 ... \n",
      "\n",
      "\n",
      "\n"
     ]
    }
   ],
   "source": [
    "text = \"\\n\\n    과자 먹고 싶다 ... \\n\\n\\n\"\n",
    "print(text)"
   ]
  },
  {
   "cell_type": "code",
   "execution_count": 72,
   "metadata": {
    "colab": {
     "base_uri": "https://localhost:8080/"
    },
    "executionInfo": {
     "elapsed": 258,
     "status": "ok",
     "timestamp": 1646720461688,
     "user": {
      "displayName": "소민호",
      "photoUrl": "https://lh3.googleusercontent.com/a-/AOh14GhLGRC49SI7WOuNBQAwvTUAj-ggmp6EPPCrjHhC=s64",
      "userId": "16551848544638359832"
     },
     "user_tz": -540
    },
    "id": "Uc2RJLdoL0Mq",
    "outputId": "b02945ae-e24f-4169-c6d8-e6d465e76abd"
   },
   "outputs": [
    {
     "name": "stdout",
     "output_type": "stream",
     "text": [
      "과자 먹고 싶다 ...\n"
     ]
    }
   ],
   "source": [
    "# 양쪽 공백 제거\n",
    "print(text.strip()) # lstrip(), rstrip(), 등 좌우 선택 제거 가능"
   ]
  },
  {
   "cell_type": "markdown",
   "metadata": {
    "id": "eRTLQ5uOL-Aw"
   },
   "source": [
    "## 문자열 합치기\n",
    "* `split`과 반대 개념\n",
    "* 특정 문자열을 기준으로 리스트에 들어있는 문자열들을 합쳐주는 역할"
   ]
  },
  {
   "cell_type": "code",
   "execution_count": 73,
   "metadata": {
    "colab": {
     "base_uri": "https://localhost:8080/"
    },
    "executionInfo": {
     "elapsed": 3,
     "status": "ok",
     "timestamp": 1646720584239,
     "user": {
      "displayName": "소민호",
      "photoUrl": "https://lh3.googleusercontent.com/a-/AOh14GhLGRC49SI7WOuNBQAwvTUAj-ggmp6EPPCrjHhC=s64",
      "userId": "16551848544638359832"
     },
     "user_tz": -540
    },
    "id": "zq8hguYyMRiU",
    "outputId": "d2dbbee2-8d5d-4423-aa41-1ffe889c2b2a"
   },
   "outputs": [
    {
     "data": {
      "text/plain": [
       "['과자', '먹고', '싶다', '...']"
      ]
     },
     "execution_count": 73,
     "metadata": {},
     "output_type": "execute_result"
    }
   ],
   "source": [
    "result = text.split()\n",
    "result"
   ]
  },
  {
   "cell_type": "code",
   "execution_count": 76,
   "metadata": {
    "colab": {
     "base_uri": "https://localhost:8080/",
     "height": 35
    },
    "executionInfo": {
     "elapsed": 251,
     "status": "ok",
     "timestamp": 1646720659166,
     "user": {
      "displayName": "소민호",
      "photoUrl": "https://lh3.googleusercontent.com/a-/AOh14GhLGRC49SI7WOuNBQAwvTUAj-ggmp6EPPCrjHhC=s64",
      "userId": "16551848544638359832"
     },
     "user_tz": -540
    },
    "id": "9hE_RGtGMgWo",
    "outputId": "0fe4f9e5-c222-49db-bfe1-f0de23e98deb"
   },
   "outputs": [
    {
     "data": {
      "text/plain": [
       "'과자#먹고#싶다#...'"
      ]
     },
     "execution_count": 76,
     "metadata": {},
     "output_type": "execute_result"
    }
   ],
   "source": [
    "# join()\n",
    "\"#\".join(result)"
   ]
  },
  {
   "cell_type": "code",
   "execution_count": 79,
   "metadata": {
    "colab": {
     "base_uri": "https://localhost:8080/",
     "height": 35
    },
    "executionInfo": {
     "elapsed": 2,
     "status": "ok",
     "timestamp": 1646720766145,
     "user": {
      "displayName": "소민호",
      "photoUrl": "https://lh3.googleusercontent.com/a-/AOh14GhLGRC49SI7WOuNBQAwvTUAj-ggmp6EPPCrjHhC=s64",
      "userId": "16551848544638359832"
     },
     "user_tz": -540
    },
    "id": "O8mYMZDpM-Og",
    "outputId": "44956c63-9ea3-456e-dfc0-46a9f2ed7802"
   },
   "outputs": [
    {
     "data": {
      "text/plain": [
       "'과자 먹고 싶다 ...'"
      ]
     },
     "execution_count": 79,
     "metadata": {},
     "output_type": "execute_result"
    }
   ],
   "source": [
    "# 제일 많이 사용되는 방법\n",
    "\" \".join(result)"
   ]
  },
  {
   "cell_type": "markdown",
   "metadata": {
    "id": "XJhxTTUrP0iY"
   },
   "source": [
    "# 형 변환(Type Casting)\n",
    "- 데이터의 자료형을 바꾸는 것\n",
    "-----\n",
    "\n",
    "- int : 정수\n",
    "- float : 실수\n",
    "- str : 문자열\n",
    "- bool : 논리"
   ]
  },
  {
   "cell_type": "code",
   "execution_count": 117,
   "metadata": {
    "colab": {
     "base_uri": "https://localhost:8080/"
    },
    "executionInfo": {
     "elapsed": 295,
     "status": "ok",
     "timestamp": 1646721987214,
     "user": {
      "displayName": "소민호",
      "photoUrl": "https://lh3.googleusercontent.com/a-/AOh14GhLGRC49SI7WOuNBQAwvTUAj-ggmp6EPPCrjHhC=s64",
      "userId": "16551848544638359832"
     },
     "user_tz": -540
    },
    "id": "JoUhmArZRolC",
    "outputId": "9512f80f-9bd7-4977-8571-4bddf159bc03"
   },
   "outputs": [
    {
     "data": {
      "text/plain": [
       "10.0"
      ]
     },
     "execution_count": 117,
     "metadata": {},
     "output_type": "execute_result"
    }
   ],
   "source": [
    "a = 10\n",
    "float(a)"
   ]
  },
  {
   "cell_type": "code",
   "execution_count": 118,
   "metadata": {
    "colab": {
     "base_uri": "https://localhost:8080/",
     "height": 35
    },
    "executionInfo": {
     "elapsed": 4,
     "status": "ok",
     "timestamp": 1646722001997,
     "user": {
      "displayName": "소민호",
      "photoUrl": "https://lh3.googleusercontent.com/a-/AOh14GhLGRC49SI7WOuNBQAwvTUAj-ggmp6EPPCrjHhC=s64",
      "userId": "16551848544638359832"
     },
     "user_tz": -540
    },
    "id": "3ip_GisqR26P",
    "outputId": "a2e13715-6271-4620-88f1-dfc8042cb5b8"
   },
   "outputs": [
    {
     "data": {
      "application/vnd.google.colaboratory.intrinsic+json": {
       "type": "string"
      },
      "text/plain": [
       "'10'"
      ]
     },
     "execution_count": 118,
     "metadata": {},
     "output_type": "execute_result"
    }
   ],
   "source": [
    "str(a)"
   ]
  },
  {
   "cell_type": "code",
   "execution_count": 119,
   "metadata": {
    "colab": {
     "base_uri": "https://localhost:8080/"
    },
    "executionInfo": {
     "elapsed": 2,
     "status": "ok",
     "timestamp": 1646722025334,
     "user": {
      "displayName": "소민호",
      "photoUrl": "https://lh3.googleusercontent.com/a-/AOh14GhLGRC49SI7WOuNBQAwvTUAj-ggmp6EPPCrjHhC=s64",
      "userId": "16551848544638359832"
     },
     "user_tz": -540
    },
    "id": "47SCVzmFR6pv",
    "outputId": "d56aec45-e5ae-4026-f2b2-77cf443bfa8e"
   },
   "outputs": [
    {
     "data": {
      "text/plain": [
       "True"
      ]
     },
     "execution_count": 119,
     "metadata": {},
     "output_type": "execute_result"
    }
   ],
   "source": [
    "bool(a)"
   ]
  },
  {
   "cell_type": "code",
   "execution_count": 120,
   "metadata": {
    "colab": {
     "base_uri": "https://localhost:8080/"
    },
    "executionInfo": {
     "elapsed": 277,
     "status": "ok",
     "timestamp": 1646722068643,
     "user": {
      "displayName": "소민호",
      "photoUrl": "https://lh3.googleusercontent.com/a-/AOh14GhLGRC49SI7WOuNBQAwvTUAj-ggmp6EPPCrjHhC=s64",
      "userId": "16551848544638359832"
     },
     "user_tz": -540
    },
    "id": "LYmdzj2QSAO3",
    "outputId": "42fd8007-8a03-44bb-b4f3-7f541303fed0"
   },
   "outputs": [
    {
     "data": {
      "text/plain": [
       "False"
      ]
     },
     "execution_count": 120,
     "metadata": {},
     "output_type": "execute_result"
    }
   ],
   "source": [
    "bool(0)"
   ]
  },
  {
   "cell_type": "code",
   "execution_count": 122,
   "metadata": {
    "colab": {
     "base_uri": "https://localhost:8080/"
    },
    "executionInfo": {
     "elapsed": 318,
     "status": "ok",
     "timestamp": 1646722147599,
     "user": {
      "displayName": "소민호",
      "photoUrl": "https://lh3.googleusercontent.com/a-/AOh14GhLGRC49SI7WOuNBQAwvTUAj-ggmp6EPPCrjHhC=s64",
      "userId": "16551848544638359832"
     },
     "user_tz": -540
    },
    "id": "nzQX71z6SKzZ",
    "outputId": "5505efa0-d757-4605-c1ac-7d13153e32a1"
   },
   "outputs": [
    {
     "data": {
      "text/plain": [
       "10"
      ]
     },
     "execution_count": 122,
     "metadata": {},
     "output_type": "execute_result"
    }
   ],
   "source": [
    "# 실수를 정수로\n",
    "a = 10.523132\n",
    "int(a)"
   ]
  },
  {
   "cell_type": "markdown",
   "metadata": {
    "id": "d21L5BwTScXI"
   },
   "source": [
    "# 파싱(Parsing) ★★★★★★\n",
    "- **문자열**을 다른 자료형으로 바꾸는 과정"
   ]
  },
  {
   "cell_type": "code",
   "execution_count": 89,
   "metadata": {
    "colab": {
     "base_uri": "https://localhost:8080/",
     "height": 193
    },
    "executionInfo": {
     "elapsed": 3,
     "status": "error",
     "timestamp": 1646724441967,
     "user": {
      "displayName": "소민호",
      "photoUrl": "https://lh3.googleusercontent.com/a-/AOh14GhLGRC49SI7WOuNBQAwvTUAj-ggmp6EPPCrjHhC=s64",
      "userId": "16551848544638359832"
     },
     "user_tz": -540
    },
    "id": "OmmC4TYuZyxW",
    "outputId": "0e6cae13-501f-44ea-89b4-39735ccc8041"
   },
   "outputs": [
    {
     "ename": "ValueError",
     "evalue": "could not convert string to float: '5.16점'",
     "output_type": "error",
     "traceback": [
      "\u001b[1;31m---------------------------------------------------------------------------\u001b[0m",
      "\u001b[1;31mValueError\u001b[0m                                Traceback (most recent call last)",
      "\u001b[1;32m~\\AppData\\Local\\Temp\\ipykernel_28208\\3509938919.py\u001b[0m in \u001b[0;36m<module>\u001b[1;34m\u001b[0m\n\u001b[0;32m      2\u001b[0m \u001b[1;31m# 문자열의 값 자체가 바꾸고자 하는 타입형식으로 이루어져 있어야 한다.\u001b[0m\u001b[1;33m\u001b[0m\u001b[1;33m\u001b[0m\u001b[0m\n\u001b[0;32m      3\u001b[0m \u001b[0mvenom\u001b[0m \u001b[1;33m=\u001b[0m \u001b[1;34m\"5.16점\"\u001b[0m\u001b[1;33m\u001b[0m\u001b[1;33m\u001b[0m\u001b[0m\n\u001b[1;32m----> 4\u001b[1;33m \u001b[0mfloat\u001b[0m\u001b[1;33m(\u001b[0m\u001b[0mvenom\u001b[0m\u001b[1;33m)\u001b[0m\u001b[1;33m\u001b[0m\u001b[1;33m\u001b[0m\u001b[0m\n\u001b[0m",
      "\u001b[1;31mValueError\u001b[0m: could not convert string to float: '5.16점'"
     ]
    }
   ],
   "source": [
    "# 문자열을 원하는 타입으로 파싱하기 위해서는\n",
    "# 문자열의 값 자체가 바꾸고자 하는 타입형식으로 이루어져 있어야 한다.\n",
    "venom = \"5.16점\"\n",
    "float(venom)"
   ]
  },
  {
   "cell_type": "code",
   "execution_count": 14,
   "metadata": {
    "colab": {
     "base_uri": "https://localhost:8080/"
    },
    "executionInfo": {
     "elapsed": 3,
     "status": "ok",
     "timestamp": 1646724551949,
     "user": {
      "displayName": "소민호",
      "photoUrl": "https://lh3.googleusercontent.com/a-/AOh14GhLGRC49SI7WOuNBQAwvTUAj-ggmp6EPPCrjHhC=s64",
      "userId": "16551848544638359832"
     },
     "user_tz": -540
    },
    "id": "V22I_yX6bORO",
    "outputId": "adf8707b-c069-4dde-9f09-66c45b9ceb36"
   },
   "outputs": [
    {
     "data": {
      "text/plain": [
       "5.16"
      ]
     },
     "execution_count": 14,
     "metadata": {},
     "output_type": "execute_result"
    }
   ],
   "source": [
    "venom_str_score = venom[:-1]\n",
    "float(venom_str_score)"
   ]
  },
  {
   "cell_type": "code",
   "execution_count": 90,
   "metadata": {
    "colab": {
     "base_uri": "https://localhost:8080/",
     "height": 35
    },
    "executionInfo": {
     "elapsed": 5,
     "status": "ok",
     "timestamp": 1646725255964,
     "user": {
      "displayName": "소민호",
      "photoUrl": "https://lh3.googleusercontent.com/a-/AOh14GhLGRC49SI7WOuNBQAwvTUAj-ggmp6EPPCrjHhC=s64",
      "userId": "16551848544638359832"
     },
     "user_tz": -540
    },
    "id": "Xl95__B2dtfW",
    "outputId": "4a5c1fb7-e4dd-4473-a2d2-96b9af0ec1b8"
   },
   "outputs": [
    {
     "data": {
      "text/plain": [
       "5"
      ]
     },
     "execution_count": 90,
     "metadata": {},
     "output_type": "execute_result"
    }
   ],
   "source": [
    "# venom에서 5만 (정수로) 뽑아보기\n",
    "venom_str_score = venom[:-1]\n",
    "int(float(venom_str_score))"
   ]
  },
  {
   "cell_type": "code",
   "execution_count": 85,
   "metadata": {
    "colab": {
     "base_uri": "https://localhost:8080/",
     "height": 174
    },
    "executionInfo": {
     "elapsed": 6,
     "status": "error",
     "timestamp": 1646725387227,
     "user": {
      "displayName": "소민호",
      "photoUrl": "https://lh3.googleusercontent.com/a-/AOh14GhLGRC49SI7WOuNBQAwvTUAj-ggmp6EPPCrjHhC=s64",
      "userId": "16551848544638359832"
     },
     "user_tz": -540
    },
    "id": "NJsQHR2MepBd",
    "outputId": "266553ec-ae9d-49e8-aefc-94e91c482003"
   },
   "outputs": [
    {
     "ename": "ValueError",
     "evalue": "invalid literal for int() with base 10: '10.123'",
     "output_type": "error",
     "traceback": [
      "\u001b[1;31m---------------------------------------------------------------------------\u001b[0m",
      "\u001b[1;31mValueError\u001b[0m                                Traceback (most recent call last)",
      "\u001b[1;32m~\\AppData\\Local\\Temp\\ipykernel_28208\\2069949970.py\u001b[0m in \u001b[0;36m<module>\u001b[1;34m\u001b[0m\n\u001b[0;32m      1\u001b[0m \u001b[1;31m# 주의 : 실수형식의 문자열을 바로 정수형으로 바꿀 수 없음\u001b[0m\u001b[1;33m\u001b[0m\u001b[1;33m\u001b[0m\u001b[0m\n\u001b[1;32m----> 2\u001b[1;33m \u001b[0mint\u001b[0m\u001b[1;33m(\u001b[0m\u001b[1;34m\"10.123\"\u001b[0m\u001b[1;33m)\u001b[0m\u001b[1;33m\u001b[0m\u001b[1;33m\u001b[0m\u001b[0m\n\u001b[0m",
      "\u001b[1;31mValueError\u001b[0m: invalid literal for int() with base 10: '10.123'"
     ]
    }
   ],
   "source": [
    "# 주의 : 실수형식의 문자열을 바로 정수형으로 바꿀 수 없다.\n",
    "int(\"10.123\")"
   ]
  },
  {
   "cell_type": "code",
   "execution_count": 84,
   "metadata": {
    "colab": {
     "base_uri": "https://localhost:8080/"
    },
    "executionInfo": {
     "elapsed": 275,
     "status": "ok",
     "timestamp": 1646725402552,
     "user": {
      "displayName": "소민호",
      "photoUrl": "https://lh3.googleusercontent.com/a-/AOh14GhLGRC49SI7WOuNBQAwvTUAj-ggmp6EPPCrjHhC=s64",
      "userId": "16551848544638359832"
     },
     "user_tz": -540
    },
    "id": "M0-v43eIe0_d",
    "outputId": "0aa3b3ac-9f53-4b46-e4bb-93a3999ff647"
   },
   "outputs": [
    {
     "data": {
      "text/plain": [
       "10.0"
      ]
     },
     "execution_count": 84,
     "metadata": {},
     "output_type": "execute_result"
    }
   ],
   "source": [
    "# 정수 형식의 문자열은 실수 형식으로 바꿀 수 있다.\n",
    "float(\"10\")"
   ]
  }
 ],
 "metadata": {
  "colab": {
   "authorship_tag": "ABX9TyP7czPIiKSxGV8ZBGEWfdl8",
   "collapsed_sections": [],
   "name": "03. 파이썬에서 문자열 다루기",
   "provenance": []
  },
  "kernelspec": {
   "display_name": "Python 3 (ipykernel)",
   "language": "python",
   "name": "python3"
  },
  "language_info": {
   "codemirror_mode": {
    "name": "ipython",
    "version": 3
   },
   "file_extension": ".py",
   "mimetype": "text/x-python",
   "name": "python",
   "nbconvert_exporter": "python",
   "pygments_lexer": "ipython3",
   "version": "3.9.13"
  }
 },
 "nbformat": 4,
 "nbformat_minor": 1
}
