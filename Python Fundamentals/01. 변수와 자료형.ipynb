{
 "cells": [
  {
   "cell_type": "markdown",
   "metadata": {
    "id": "g3DRvvmGxXp4"
   },
   "source": [
    "# 변수\n",
    "- 변수란 값이 저장될 수 있는 **공간**\n",
    "- 원할 때 마다 변수에 들어 있는 '값'을 언제든 바꿀 수 있다."
   ]
  },
  {
   "cell_type": "code",
   "execution_count": 1,
   "metadata": {
    "colab": {
     "base_uri": "https://localhost:8080/"
    },
    "executionInfo": {
     "elapsed": 4,
     "status": "ok",
     "timestamp": 1646630472324,
     "user": {
      "displayName": "소민호",
      "photoUrl": "https://lh3.googleusercontent.com/a-/AOh14GhLGRC49SI7WOuNBQAwvTUAj-ggmp6EPPCrjHhC=s64",
      "userId": "16551848544638359832"
     },
     "user_tz": -540
    },
    "id": "HDNc9_AuxTkm",
    "outputId": "4ba1e247-a5c5-47d1-96e9-a04180980fc9"
   },
   "outputs": [
    {
     "name": "stdout",
     "output_type": "stream",
     "text": [
      "1\n"
     ]
    }
   ],
   "source": [
    "a = 1\n",
    "print(a)"
   ]
  },
  {
   "cell_type": "code",
   "execution_count": 2,
   "metadata": {
    "colab": {
     "base_uri": "https://localhost:8080/"
    },
    "executionInfo": {
     "elapsed": 3,
     "status": "ok",
     "timestamp": 1646630702122,
     "user": {
      "displayName": "소민호",
      "photoUrl": "https://lh3.googleusercontent.com/a-/AOh14GhLGRC49SI7WOuNBQAwvTUAj-ggmp6EPPCrjHhC=s64",
      "userId": "16551848544638359832"
     },
     "user_tz": -540
    },
    "id": "4GOoJDsI0u5v",
    "outputId": "0b6cc368-7959-44fa-9184-cb6abc154f34"
   },
   "outputs": [
    {
     "name": "stdout",
     "output_type": "stream",
     "text": [
      "2\n"
     ]
    }
   ],
   "source": [
    "a = 2\n",
    "print(a)"
   ]
  },
  {
   "cell_type": "markdown",
   "metadata": {
    "id": "nirhukvq1oiY"
   },
   "source": [
    "# comment ( 주석 )\n",
    "- 코드에서 # 으로 시작하는 부분으로써, 실행이 되지 않는다.\n",
    "- 개발자가 어떠한 코드인지 코드상에 설명할 때 사용한다."
   ]
  },
  {
   "cell_type": "code",
   "execution_count": 1,
   "metadata": {
    "executionInfo": {
     "elapsed": 273,
     "status": "ok",
     "timestamp": 1646630834055,
     "user": {
      "displayName": "소민호",
      "photoUrl": "https://lh3.googleusercontent.com/a-/AOh14GhLGRC49SI7WOuNBQAwvTUAj-ggmp6EPPCrjHhC=s64",
      "userId": "16551848544638359832"
     },
     "user_tz": -540
    },
    "id": "fHVrQJ1F2DD3"
   },
   "outputs": [],
   "source": [
    "# 변수 a에 1을 집어 넣었다.\n",
    "a = 1"
   ]
  },
  {
   "cell_type": "markdown",
   "metadata": {
    "id": "XOL7Vnlo2IvX"
   },
   "source": [
    "# 변수에 값이 들어가는 과정\n",
    "1. 변수의 선언 (declaration)\n",
    "2. 변수에 값을 할당 (assignment)"
   ]
  },
  {
   "cell_type": "code",
   "execution_count": 4,
   "metadata": {
    "executionInfo": {
     "elapsed": 3,
     "status": "ok",
     "timestamp": 1646631062565,
     "user": {
      "displayName": "소민호",
      "photoUrl": "https://lh3.googleusercontent.com/a-/AOh14GhLGRC49SI7WOuNBQAwvTUAj-ggmp6EPPCrjHhC=s64",
      "userId": "16551848544638359832"
     },
     "user_tz": -540
    },
    "id": "qZ7oA6kA2sUU"
   },
   "outputs": [],
   "source": [
    "a = 1 # 변수 a를 선언 하고, 1을 할당했다."
   ]
  },
  {
   "cell_type": "markdown",
   "metadata": {
    "id": "E1cRU-vH3Aid"
   },
   "source": [
    "# 자료형( Data Type )\n",
    "파이썬은 기본적으로 4가지 자료형을 가지고 있다.\n",
    "- `int(Integer - 정수)` : `-1, -3, 0, 1, 3, 6, 2, 4, ...`\n",
    "- `float - 실수` : `3.14, 1.123, -6.1,, 30.10238, ...`\n",
    "    - `3.0`은 **실수**\n",
    "- `str(String - 문자열)` : 문자들이 열거 되어 있으면 문자열\n",
    "- `bool(Boolean - 논리)` : 참(`True`) / 거짓(`False`)"
   ]
  },
  {
   "cell_type": "code",
   "execution_count": 7,
   "metadata": {
    "colab": {
     "base_uri": "https://localhost:8080/"
    },
    "executionInfo": {
     "elapsed": 4,
     "status": "ok",
     "timestamp": 1646631953414,
     "user": {
      "displayName": "소민호",
      "photoUrl": "https://lh3.googleusercontent.com/a-/AOh14GhLGRC49SI7WOuNBQAwvTUAj-ggmp6EPPCrjHhC=s64",
      "userId": "16551848544638359832"
     },
     "user_tz": -540
    },
    "id": "4rWlp1zt3UeW",
    "outputId": "9227bca8-d9fb-47fd-a8d6-de1723299ec3"
   },
   "outputs": [
    {
     "data": {
      "text/plain": [
       "int"
      ]
     },
     "execution_count": 7,
     "metadata": {},
     "output_type": "execute_result"
    }
   ],
   "source": [
    "a = 1\n",
    "type(a)"
   ]
  },
  {
   "cell_type": "code",
   "execution_count": 8,
   "metadata": {
    "colab": {
     "base_uri": "https://localhost:8080/"
    },
    "executionInfo": {
     "elapsed": 282,
     "status": "ok",
     "timestamp": 1646631982813,
     "user": {
      "displayName": "소민호",
      "photoUrl": "https://lh3.googleusercontent.com/a-/AOh14GhLGRC49SI7WOuNBQAwvTUAj-ggmp6EPPCrjHhC=s64",
      "userId": "16551848544638359832"
     },
     "user_tz": -540
    },
    "id": "8J0_uEi86aBd",
    "outputId": "9ee9b6ad-84fd-44e7-b27a-31063e1b743b"
   },
   "outputs": [
    {
     "data": {
      "text/plain": [
       "float"
      ]
     },
     "execution_count": 8,
     "metadata": {},
     "output_type": "execute_result"
    }
   ],
   "source": [
    "a = 3.14\n",
    "type(a)"
   ]
  },
  {
   "cell_type": "code",
   "execution_count": 10,
   "metadata": {
    "colab": {
     "base_uri": "https://localhost:8080/"
    },
    "executionInfo": {
     "elapsed": 3,
     "status": "ok",
     "timestamp": 1646632144943,
     "user": {
      "displayName": "소민호",
      "photoUrl": "https://lh3.googleusercontent.com/a-/AOh14GhLGRC49SI7WOuNBQAwvTUAj-ggmp6EPPCrjHhC=s64",
      "userId": "16551848544638359832"
     },
     "user_tz": -540
    },
    "id": "jktN_Zey6hM2",
    "outputId": "93c68b50-8657-4dc0-96c5-1c64000a6b25"
   },
   "outputs": [
    {
     "data": {
      "text/plain": [
       "str"
      ]
     },
     "execution_count": 10,
     "metadata": {},
     "output_type": "execute_result"
    }
   ],
   "source": [
    "# 문자열을 만들 때는 작은 따옴표('') 또는 큰 따옴표(\"\")를 사용한다.\n",
    "a = \"Hello~!~!~!~!😊\"\n",
    "type(a)"
   ]
  },
  {
   "cell_type": "code",
   "execution_count": 2,
   "metadata": {
    "colab": {
     "base_uri": "https://localhost:8080/"
    },
    "executionInfo": {
     "elapsed": 6,
     "status": "ok",
     "timestamp": 1646632169000,
     "user": {
      "displayName": "소민호",
      "photoUrl": "https://lh3.googleusercontent.com/a-/AOh14GhLGRC49SI7WOuNBQAwvTUAj-ggmp6EPPCrjHhC=s64",
      "userId": "16551848544638359832"
     },
     "user_tz": -540
    },
    "id": "JI_VwkLO7GIH",
    "outputId": "12ec9f7c-bb61-4c1e-a076-28f01e8e42e7"
   },
   "outputs": [
    {
     "data": {
      "text/plain": [
       "str"
      ]
     },
     "execution_count": 2,
     "metadata": {},
     "output_type": "execute_result"
    }
   ],
   "source": [
    "a = \"제 이름은 선헌석입니다.\"\n",
    "type(a)"
   ]
  },
  {
   "cell_type": "code",
   "execution_count": 14,
   "metadata": {
    "colab": {
     "base_uri": "https://localhost:8080/"
    },
    "executionInfo": {
     "elapsed": 266,
     "status": "ok",
     "timestamp": 1646632234553,
     "user": {
      "displayName": "소민호",
      "photoUrl": "https://lh3.googleusercontent.com/a-/AOh14GhLGRC49SI7WOuNBQAwvTUAj-ggmp6EPPCrjHhC=s64",
      "userId": "16551848544638359832"
     },
     "user_tz": -540
    },
    "id": "WHwJisqt7Oo2",
    "outputId": "3159fb01-2e5a-4232-bb1f-284fb7684f5e"
   },
   "outputs": [
    {
     "name": "stdout",
     "output_type": "stream",
     "text": [
      "True\n"
     ]
    }
   ],
   "source": [
    "a = 3 > 2\n",
    "print(a)"
   ]
  },
  {
   "cell_type": "code",
   "execution_count": 15,
   "metadata": {
    "colab": {
     "base_uri": "https://localhost:8080/"
    },
    "executionInfo": {
     "elapsed": 2,
     "status": "ok",
     "timestamp": 1646632242735,
     "user": {
      "displayName": "소민호",
      "photoUrl": "https://lh3.googleusercontent.com/a-/AOh14GhLGRC49SI7WOuNBQAwvTUAj-ggmp6EPPCrjHhC=s64",
      "userId": "16551848544638359832"
     },
     "user_tz": -540
    },
    "id": "kwVSObJi7ZlH",
    "outputId": "d72f6d25-538b-4a03-97ba-b47884db15a0"
   },
   "outputs": [
    {
     "data": {
      "text/plain": [
       "bool"
      ]
     },
     "execution_count": 15,
     "metadata": {},
     "output_type": "execute_result"
    }
   ],
   "source": [
    "type(a)"
   ]
  },
  {
   "cell_type": "markdown",
   "metadata": {
    "id": "YZNTUUQt7gqt"
   },
   "source": [
    "# variable naming (변수 이름 규칙)\n",
    "- 변수의 이름을 지을 때의 관례\n",
    "- 지금은 지키지 않아도 상관이 없는데, 나중에 이 규칙을 지키지 않으면 **오류**가 나는 경우가 있다."
   ]
  },
  {
   "cell_type": "markdown",
   "metadata": {
    "id": "g8kSTTBg-2vZ"
   },
   "source": [
    "1. `snake_case`\n",
    "  * 단어와 단어 사이를 언더바(`_`)를 이용해서 이어준다.\n",
    "  * `student_name`\n",
    "\n",
    "2. `CamelCase`\n",
    "  * 단어와 단어를 이어줄 때 뒤에 오는 단어의 첫 글자를 대문자로 이어준다.\n",
    "  * `StudentName` or `studentName`\n",
    "    * 앞 글자부터 대문자 : `클래스(class)`이름을 지어줄 때\n",
    "    * 뒤 글자부터 대문자 : 변수의 이름을 지을 때\n",
    "\n",
    "3. `kebab-case`\n",
    "  * 단어와 단어 사이를 하이푼(`-`)을 이용해서 이어줍니다.\n",
    "  * `student-name`\n",
    "\n",
    "> 파이썬의 관례상 변수의 이름은  `snake_case`, 클래스의 이름은 `CamelCase`**"
   ]
  },
  {
   "cell_type": "code",
   "execution_count": 3,
   "metadata": {
    "executionInfo": {
     "elapsed": 3,
     "status": "ok",
     "timestamp": 1646633640480,
     "user": {
      "displayName": "소민호",
      "photoUrl": "https://lh3.googleusercontent.com/a-/AOh14GhLGRC49SI7WOuNBQAwvTUAj-ggmp6EPPCrjHhC=s64",
      "userId": "16551848544638359832"
     },
     "user_tz": -540
    },
    "id": "VAhnh8-9_YTM"
   },
   "outputs": [],
   "source": [
    "studentName = \"Sun\" # CamelCase\n",
    "student_name = \"Sun\" # snake_case 파이썬에서 변수를 만들 때 주로 사용한다."
   ]
  }
 ],
 "metadata": {
  "colab": {
   "authorship_tag": "ABX9TyNaHIeU/gBdNYBcQCviKNXC",
   "name": "01.  파이썬 변수와 자료형",
   "provenance": []
  },
  "kernelspec": {
   "display_name": "Python 3 (ipykernel)",
   "language": "python",
   "name": "python3"
  },
  "language_info": {
   "codemirror_mode": {
    "name": "ipython",
    "version": 3
   },
   "file_extension": ".py",
   "mimetype": "text/x-python",
   "name": "python",
   "nbconvert_exporter": "python",
   "pygments_lexer": "ipython3",
   "version": "3.9.13"
  }
 },
 "nbformat": 4,
 "nbformat_minor": 1
}
