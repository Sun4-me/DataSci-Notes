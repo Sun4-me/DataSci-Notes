{
 "cells": [
  {
   "cell_type": "markdown",
   "metadata": {
    "id": "LB6u3rcNluiE"
   },
   "source": [
    "# 제어문\n",
    "- 코드의 **흐름을** 제어하는 문법\n",
    "\n",
    "## 조건문 ( `Condition` )\n",
    "- 특정한 조건을 만족하면 ( `True` ) 코드를 실행\n",
    "- `if`, `elif`, `else`\n",
    "  * `if` : `만약에 ~라면 ~ 해라`\n",
    "  * `elif (else if의 약어)` : `그게 아니고 ~라면 ~ 해라`\n",
    "  * `else` : 그게 아니면 `~ 해라`\n",
    "\n",
    "### 조건문의 구조\n",
    "```python\n",
    "if [condition]:\n",
    "  code context\n",
    "elif [condition]:\n",
    "  code context\n",
    "elif [condition]:\n",
    "  code context\n",
    "...\n",
    "else:\n",
    "  code context\n",
    "```\n",
    "* 조건 부분에 bool 타입 데이터(True / False)가 온다.\n",
    "\n"
   ]
  },
  {
   "cell_type": "markdown",
   "metadata": {
    "id": "RfAbBpUKmF9r"
   },
   "source": [
    "### Code Context\n",
    "- Context : 코드 문맥\n",
    "- 특정한 상황에 실행해야 할 코드 뭉터기\n",
    "- 파이썬에서는 Context를 `indent(들여쓰기)`로 구분\n",
    "- `indent`는 공백 2칸이나 4칸으로 설정을 하는 것이 관례\n",
    "- 처음에 `indent`를 2칸으로 지정했으면 계속 2칸으로 쓰고, 4칸으로 지정했으면 계속 4칸으로 쓰면 된다.\n"
   ]
  },
  {
   "cell_type": "code",
   "execution_count": 1,
   "metadata": {
    "colab": {
     "base_uri": "https://localhost:8080/"
    },
    "executionInfo": {
     "elapsed": 391,
     "status": "ok",
     "timestamp": 1646964532988,
     "user": {
      "displayName": "소민호",
      "photoUrl": "https://lh3.googleusercontent.com/a-/AOh14GhLGRC49SI7WOuNBQAwvTUAj-ggmp6EPPCrjHhC=s64",
      "userId": "16551848544638359832"
     },
     "user_tz": -540
    },
    "id": "jijHZUHFqpwT",
    "outputId": "0b994333-d07e-4a10-c2b8-355494db8239"
   },
   "outputs": [
    {
     "name": "stdout",
     "output_type": "stream",
     "text": [
      "Hi\n",
      "Bye\n",
      "done\n"
     ]
    }
   ],
   "source": [
    "a = 3\n",
    "b = 2\n",
    "\n",
    "if a > b :     # 만약에 a가 b보다 작다면\n",
    "  print(\"Hi\")  # \"Hi\"를 출력\n",
    "  print(\"Bye\") # \"Bye\"를 출력\n",
    "\n",
    "print(\"done\")  # \"done\"을 출력"
   ]
  },
  {
   "cell_type": "code",
   "execution_count": 2,
   "metadata": {
    "colab": {
     "base_uri": "https://localhost:8080/"
    },
    "executionInfo": {
     "elapsed": 4,
     "status": "ok",
     "timestamp": 1646965956293,
     "user": {
      "displayName": "소민호",
      "photoUrl": "https://lh3.googleusercontent.com/a-/AOh14GhLGRC49SI7WOuNBQAwvTUAj-ggmp6EPPCrjHhC=s64",
      "userId": "16551848544638359832"
     },
     "user_tz": -540
    },
    "id": "U1sY2mJMx3CZ",
    "outputId": "64d08d32-b834-492b-f8ce-0eaf91789a5d"
   },
   "outputs": [
    {
     "name": "stdout",
     "output_type": "stream",
     "text": [
      "물 마시기\n"
     ]
    }
   ],
   "source": [
    "# Condition EX.\n",
    "money = 1000\n",
    "\n",
    "if money >= 10000:\n",
    "  print(\"자바칩 프라프치노 먹는다.\")\n",
    "elif money < 10000 and money >= 5000:\n",
    "  print(\"아메리카노 먹는다 (샷 추가).\")\n",
    "elif money < 5000 and money > 2500:\n",
    "  print(\"아메리카노 먹는다.\")\n",
    "else:\n",
    "  print(\"물 마시기\")"
   ]
  },
  {
   "cell_type": "markdown",
   "metadata": {
    "id": "3vEB16Gl4S7p"
   },
   "source": [
    "# 반복문( Loop )\n",
    "- `while` : 조건제 반복\n",
    "  - **~라면 Code Context를** 반복적으로 실행\n",
    "    - ex) `exit`을 입력 할 때 까지 코드를 반복\n",
    "- `for ~ in` : 컬렉션 반복\n",
    "  - 순회 가능한 컬렉션을 더 이상 순회 할 수 없을 때 까지 반복\n",
    "  - 순회(`iterable`) : 컬렉션 내의 `item`을 하나씩 접근 할 수 있다.\n",
    "    - `list`, `tuple`, `set`, `dict`\n",
    "  - `iterator` : 순회를 하게 하는 화살표"
   ]
  },
  {
   "cell_type": "markdown",
   "metadata": {
    "id": "xeF4ocU3Jbds"
   },
   "source": [
    "## `while`\n",
    "\n",
    "```python\n",
    "while [condition]:\n",
    "  code context\n",
    "```"
   ]
  },
  {
   "cell_type": "code",
   "execution_count": 3,
   "metadata": {
    "colab": {
     "base_uri": "https://localhost:8080/"
    },
    "executionInfo": {
     "elapsed": 661,
     "status": "ok",
     "timestamp": 1646971834687,
     "user": {
      "displayName": "소민호",
      "photoUrl": "https://lh3.googleusercontent.com/a-/AOh14GhLGRC49SI7WOuNBQAwvTUAj-ggmp6EPPCrjHhC=s64",
      "userId": "16551848544638359832"
     },
     "user_tz": -540
    },
    "id": "q2WA0oSyKYB1",
    "outputId": "f047a3e0-ecc2-4548-b489-b2fb43c966d2"
   },
   "outputs": [
    {
     "name": "stdout",
     "output_type": "stream",
     "text": [
      "Hello 3\n",
      "Hello 2\n",
      "Hello 1\n",
      "done\n"
     ]
    }
   ],
   "source": [
    "data = 3\n",
    "\n",
    "# data가 0이 아니면 반복해라\n",
    "while data != 0:\n",
    "  print(\"Hello\", data)\n",
    "  data -= 1\n",
    "\n",
    "print(\"done\")"
   ]
  },
  {
   "cell_type": "markdown",
   "metadata": {
    "id": "d0lx_KD0PY1W"
   },
   "source": [
    "#### 무한루프\n",
    "- `while`의 조건이 항상 `True`여서 반복이 무한하게 되는 현상\n",
    "- Control + c 로 벗어나기 가능"
   ]
  },
  {
   "cell_type": "markdown",
   "metadata": {
    "id": "RHnQDh-EQwLk"
   },
   "source": [
    "## `for`\n",
    "\n",
    "```python\n",
    "for <variable> in <iterable>:\n",
    "  code context\n",
    "```\n",
    "\n",
    "- `iterable` : 순회가 가능한 컬렉션\n",
    "- `variable` : `iterator`에 의해 순회되는 원소(`item`, 멤버)가 저장될 변수"
   ]
  },
  {
   "cell_type": "code",
   "execution_count": 5,
   "metadata": {
    "colab": {
     "base_uri": "https://localhost:8080/"
    },
    "executionInfo": {
     "elapsed": 388,
     "status": "ok",
     "timestamp": 1646975827969,
     "user": {
      "displayName": "소민호",
      "photoUrl": "https://lh3.googleusercontent.com/a-/AOh14GhLGRC49SI7WOuNBQAwvTUAj-ggmp6EPPCrjHhC=s64",
      "userId": "16551848544638359832"
     },
     "user_tz": -540
    },
    "id": "zmCPs4iVSYxU",
    "outputId": "34968aca-d4a3-4ebb-e5cf-5bb7e29e2651"
   },
   "outputs": [
    {
     "name": "stdout",
     "output_type": "stream",
     "text": [
      "Hello\n",
      "----------\n",
      "123\n",
      "----------\n",
      "Bye\n",
      "----------\n",
      "3.14\n",
      "----------\n",
      "done\n"
     ]
    }
   ],
   "source": [
    "lst = [\"Hello\", 123, \"Bye\", 3.14]\n",
    "\n",
    "for item in lst:\n",
    "  print(item)\n",
    "  print(\"-\"*10)\n",
    "\n",
    "print(\"done\")"
   ]
  },
  {
   "cell_type": "markdown",
   "metadata": {
    "id": "Y29FP1RPaLyE"
   },
   "source": [
    "### `zip` 함수\n",
    "\n",
    "여러 개의 컬렉션을 하나로 모아서 병렬로 순회가 가능하도록 함\n",
    "\n",
    "- 직렬 : 순서대로 하나씩 처리하는 것\n",
    "- 병렬 : 여러 개를 동시에 처리하는 것"
   ]
  },
  {
   "cell_type": "code",
   "execution_count": 6,
   "metadata": {
    "id": "NFiRDbsTbF_l"
   },
   "outputs": [],
   "source": [
    "student_name = [\"민호\", \"성현\", \"민석\"]\n",
    "score_list   = [   90,     87,     93]"
   ]
  },
  {
   "cell_type": "code",
   "execution_count": 7,
   "metadata": {
    "colab": {
     "base_uri": "https://localhost:8080/"
    },
    "executionInfo": {
     "elapsed": 546,
     "status": "ok",
     "timestamp": 1646976561101,
     "user": {
      "displayName": "소민호",
      "photoUrl": "https://lh3.googleusercontent.com/a-/AOh14GhLGRC49SI7WOuNBQAwvTUAj-ggmp6EPPCrjHhC=s64",
      "userId": "16551848544638359832"
     },
     "user_tz": -540
    },
    "id": "v2BJ0QwEbu5M",
    "outputId": "c47388e6-4a24-4c50-8860-f17c188122e3"
   },
   "outputs": [
    {
     "name": "stdout",
     "output_type": "stream",
     "text": [
      "민호의 점수는 90점\n",
      "성현의 점수는 87점\n",
      "민석의 점수는 93점\n"
     ]
    }
   ],
   "source": [
    "for name, score in zip([\"민호\", \"성현\", \"민석\"], [   90,     87,     93]):\n",
    "  print(f\"{name}의 점수는 {score}점\")"
   ]
  },
  {
   "cell_type": "markdown",
   "metadata": {
    "id": "xEtXlR0ndDAX"
   },
   "source": [
    "컬렉션의 크기가 다른 경우에는 크기가 작은 컬렉션이 기준이 된다."
   ]
  },
  {
   "cell_type": "code",
   "execution_count": 8,
   "metadata": {
    "colab": {
     "base_uri": "https://localhost:8080/"
    },
    "executionInfo": {
     "elapsed": 452,
     "status": "ok",
     "timestamp": 1646976702449,
     "user": {
      "displayName": "소민호",
      "photoUrl": "https://lh3.googleusercontent.com/a-/AOh14GhLGRC49SI7WOuNBQAwvTUAj-ggmp6EPPCrjHhC=s64",
      "userId": "16551848544638359832"
     },
     "user_tz": -540
    },
    "id": "h6CGAnSxdOFr",
    "outputId": "bf7f00b3-8e40-489a-9511-d5519e313564"
   },
   "outputs": [
    {
     "name": "stdout",
     "output_type": "stream",
     "text": [
      "10 A\n",
      "20 B\n",
      "30 C\n"
     ]
    }
   ],
   "source": [
    "lst1 = [10, 20, 30, 40]\n",
    "lst2 = [\"A\", \"B\", \"C\"]\n",
    "\n",
    "for item1, item2 in zip(lst1, lst2):\n",
    "  print(item1, item2)"
   ]
  },
  {
   "cell_type": "code",
   "execution_count": 9,
   "metadata": {
    "colab": {
     "base_uri": "https://localhost:8080/"
    },
    "executionInfo": {
     "elapsed": 376,
     "status": "ok",
     "timestamp": 1646977243181,
     "user": {
      "displayName": "소민호",
      "photoUrl": "https://lh3.googleusercontent.com/a-/AOh14GhLGRC49SI7WOuNBQAwvTUAj-ggmp6EPPCrjHhC=s64",
      "userId": "16551848544638359832"
     },
     "user_tz": -540
    },
    "id": "X9jVgCNQdzGq",
    "outputId": "625bf206-79e1-4db2-fc54-4f08432e53ab"
   },
   "outputs": [
    {
     "name": "stdout",
     "output_type": "stream",
     "text": [
      "국어는 100점\n",
      "수학는 80점\n",
      "영어는 85점\n"
     ]
    }
   ],
   "source": [
    "# dict를 활용한 응용\n",
    "score_dict = {\n",
    "    \"국어\": 100,\n",
    "    \"수학\": 80,\n",
    "    \"영어\": 85\n",
    "}\n",
    "\n",
    "subjects = score_dict.keys()\n",
    "scores = score_dict.values()\n",
    "\n",
    "for subject, score in zip(subjects, scores):\n",
    "  print(f\"{subject}는 {score}점\")"
   ]
  },
  {
   "cell_type": "markdown",
   "metadata": {
    "id": "aWB7OMakmnW5"
   },
   "source": [
    "### `range`\n",
    "- 정수 리스트를 만들기 위한 함수\n",
    "- `range(start : end : step)`\n",
    "- `start`부터 시작해서 `end-1`까지 `step`만큼 건너 뛰면서 정수를 만들어 낸다."
   ]
  },
  {
   "cell_type": "code",
   "execution_count": 11,
   "metadata": {
    "colab": {
     "base_uri": "https://localhost:8080/"
    },
    "executionInfo": {
     "elapsed": 479,
     "status": "ok",
     "timestamp": 1646979247928,
     "user": {
      "displayName": "소민호",
      "photoUrl": "https://lh3.googleusercontent.com/a-/AOh14GhLGRC49SI7WOuNBQAwvTUAj-ggmp6EPPCrjHhC=s64",
      "userId": "16551848544638359832"
     },
     "user_tz": -540
    },
    "id": "CzUiDcd_m48Y",
    "outputId": "04cf35f4-82fa-4e45-f419-680f77f4506c"
   },
   "outputs": [
    {
     "data": {
      "text/plain": [
       "range(0, 5)"
      ]
     },
     "execution_count": 11,
     "metadata": {},
     "output_type": "execute_result"
    }
   ],
   "source": [
    "range(5) # 0 ~ 4 까지 들어있는 정수"
   ]
  },
  {
   "cell_type": "code",
   "execution_count": 12,
   "metadata": {
    "colab": {
     "base_uri": "https://localhost:8080/"
    },
    "executionInfo": {
     "elapsed": 401,
     "status": "ok",
     "timestamp": 1646979260760,
     "user": {
      "displayName": "소민호",
      "photoUrl": "https://lh3.googleusercontent.com/a-/AOh14GhLGRC49SI7WOuNBQAwvTUAj-ggmp6EPPCrjHhC=s64",
      "userId": "16551848544638359832"
     },
     "user_tz": -540
    },
    "id": "GYsn-SmenOtj",
    "outputId": "aef2dcd7-47bb-48b8-d0d9-ad1863edaf36"
   },
   "outputs": [
    {
     "data": {
      "text/plain": [
       "[0, 1, 2, 3, 4]"
      ]
     },
     "execution_count": 12,
     "metadata": {},
     "output_type": "execute_result"
    }
   ],
   "source": [
    "list(range(5))"
   ]
  },
  {
   "cell_type": "code",
   "execution_count": 13,
   "metadata": {
    "colab": {
     "base_uri": "https://localhost:8080/"
    },
    "executionInfo": {
     "elapsed": 405,
     "status": "ok",
     "timestamp": 1646979280691,
     "user": {
      "displayName": "소민호",
      "photoUrl": "https://lh3.googleusercontent.com/a-/AOh14GhLGRC49SI7WOuNBQAwvTUAj-ggmp6EPPCrjHhC=s64",
      "userId": "16551848544638359832"
     },
     "user_tz": -540
    },
    "id": "GLB0FSocnR25",
    "outputId": "afdb0f4a-ebfe-44d9-c782-3414ccadafaa"
   },
   "outputs": [
    {
     "data": {
      "text/plain": [
       "[1, 2, 3, 4, 5, 6, 7, 8, 9]"
      ]
     },
     "execution_count": 13,
     "metadata": {},
     "output_type": "execute_result"
    }
   ],
   "source": [
    "list(range(1, 10))"
   ]
  },
  {
   "cell_type": "code",
   "execution_count": 14,
   "metadata": {
    "colab": {
     "base_uri": "https://localhost:8080/"
    },
    "executionInfo": {
     "elapsed": 387,
     "status": "ok",
     "timestamp": 1646979299685,
     "user": {
      "displayName": "소민호",
      "photoUrl": "https://lh3.googleusercontent.com/a-/AOh14GhLGRC49SI7WOuNBQAwvTUAj-ggmp6EPPCrjHhC=s64",
      "userId": "16551848544638359832"
     },
     "user_tz": -540
    },
    "id": "r1gmHT-TnWuh",
    "outputId": "dc38bcff-ea80-4bb1-dd55-510ce27fd19a"
   },
   "outputs": [
    {
     "data": {
      "text/plain": [
       "[1, 3, 5, 7, 9]"
      ]
     },
     "execution_count": 14,
     "metadata": {},
     "output_type": "execute_result"
    }
   ],
   "source": [
    "list(range(1, 10, 2))"
   ]
  },
  {
   "cell_type": "code",
   "execution_count": 15,
   "metadata": {
    "colab": {
     "base_uri": "https://localhost:8080/"
    },
    "executionInfo": {
     "elapsed": 384,
     "status": "ok",
     "timestamp": 1646979360736,
     "user": {
      "displayName": "소민호",
      "photoUrl": "https://lh3.googleusercontent.com/a-/AOh14GhLGRC49SI7WOuNBQAwvTUAj-ggmp6EPPCrjHhC=s64",
      "userId": "16551848544638359832"
     },
     "user_tz": -540
    },
    "id": "lpHfR4rInbXh",
    "outputId": "252c5bab-caeb-442e-c6df-85dd909e77cf"
   },
   "outputs": [
    {
     "name": "stdout",
     "output_type": "stream",
     "text": [
      "hello 0\n",
      "hello 1\n",
      "hello 2\n",
      "hello 3\n",
      "hello 4\n",
      "hello 5\n",
      "hello 6\n",
      "hello 7\n",
      "hello 8\n",
      "hello 9\n"
     ]
    }
   ],
   "source": [
    "for num in range(10):\n",
    "  print(\"hello\", num)"
   ]
  },
  {
   "cell_type": "markdown",
   "metadata": {
    "id": "xcDBLOhPuQSh"
   },
   "source": [
    "# `continue`, `break`\n",
    "- `continue` : 반복문에서 해당 반복을 중지하고 계속 이어서 반복 루틴을 수행\n",
    "- `break` : 반복문 자체를 중지\n"
   ]
  },
  {
   "cell_type": "code",
   "execution_count": 17,
   "metadata": {
    "colab": {
     "base_uri": "https://localhost:8080/"
    },
    "executionInfo": {
     "elapsed": 413,
     "status": "ok",
     "timestamp": 1646981591764,
     "user": {
      "displayName": "소민호",
      "photoUrl": "https://lh3.googleusercontent.com/a-/AOh14GhLGRC49SI7WOuNBQAwvTUAj-ggmp6EPPCrjHhC=s64",
      "userId": "16551848544638359832"
     },
     "user_tz": -540
    },
    "id": "4bVF9mzvupB4",
    "outputId": "8b58a26e-28fd-480a-9170-2415604cadff"
   },
   "outputs": [
    {
     "name": "stdout",
     "output_type": "stream",
     "text": [
      "Hello 0\n",
      "Hello 1\n"
     ]
    }
   ],
   "source": [
    "for item in range(5):\n",
    "  \n",
    "  if item == 2:\n",
    "    # continue\n",
    "    break\n",
    "  \n",
    "  print(\"Hello\", item)"
   ]
  },
  {
   "cell_type": "markdown",
   "metadata": {
    "id": "0K2HU__g-yAL"
   },
   "source": [
    "# 중첩된 제어문(nested)\n",
    "- 제어문 내에 제어문이 존재할 수 있다."
   ]
  },
  {
   "cell_type": "code",
   "execution_count": 18,
   "metadata": {
    "colab": {
     "base_uri": "https://localhost:8080/"
    },
    "executionInfo": {
     "elapsed": 5,
     "status": "ok",
     "timestamp": 1647216989160,
     "user": {
      "displayName": "소민호",
      "photoUrl": "https://lh3.googleusercontent.com/a-/AOh14GhLGRC49SI7WOuNBQAwvTUAj-ggmp6EPPCrjHhC=s64",
      "userId": "16551848544638359832"
     },
     "user_tz": -540
    },
    "id": "EMwNK70MxEiy",
    "outputId": "20508e93-3e82-4afd-fad3-16ddf4ae937a"
   },
   "outputs": [
    {
     "name": "stdout",
     "output_type": "stream",
     "text": [
      "10 A\n",
      "10 B\n",
      "10 C\n",
      "20 A\n",
      "20 B\n",
      "20 C\n",
      "30 A\n",
      "30 B\n",
      "30 C\n"
     ]
    }
   ],
   "source": [
    "lst1 = [10, 20, 30]\n",
    "lst2 = [\"A\", \"B\", \"C\"]\n",
    "\n",
    "for item1 in lst1:\n",
    "  for item2 in lst2:\n",
    "    print(item1, item2)"
   ]
  },
  {
   "cell_type": "code",
   "execution_count": 19,
   "metadata": {
    "colab": {
     "base_uri": "https://localhost:8080/"
    },
    "executionInfo": {
     "elapsed": 4,
     "status": "ok",
     "timestamp": 1647218188818,
     "user": {
      "displayName": "소민호",
      "photoUrl": "https://lh3.googleusercontent.com/a-/AOh14GhLGRC49SI7WOuNBQAwvTUAj-ggmp6EPPCrjHhC=s64",
      "userId": "16551848544638359832"
     },
     "user_tz": -540
    },
    "id": "wTS0SnFAyHyD",
    "outputId": "0181bc6f-395d-4e05-ca1f-d77031a5b022"
   },
   "outputs": [
    {
     "name": "stdout",
     "output_type": "stream",
     "text": [
      "홀\t짝\t홀\t짝\t홀\t짝\t홀\t짝\t홀\t짝\t홀\t짝\t홀\t짝\t홀\t짝\t홀\t짝\t홀\t짝\t홀\t짝\t홀\t짝\t홀\t짝\t홀\t짝\t홀\t짝\t홀\t짝\t홀\t짝\t홀\t짝\t홀\t짝\t홀\t짝\t홀\t짝\t홀\t짝\t홀\t짝\t홀\t짝\t홀\t짝\t홀\t짝\t홀\t짝\t홀\t짝\t홀\t짝\t홀\t짝\t홀\t짝\t홀\t짝\t홀\t짝\t홀\t짝\t홀\t짝\t홀\t짝\t홀\t짝\t홀\t짝\t홀\t짝\t홀\t짝\t홀\t짝\t홀\t짝\t홀\t짝\t홀\t짝\t홀\t짝\t홀\t짝\t홀\t짝\t홀\t짝\t홀\t짝\t홀\t"
     ]
    }
   ],
   "source": [
    "numbers = range(1, 100)\n",
    "\n",
    "for num in numbers:\n",
    "\n",
    "  if num % 2 == 0:\n",
    "    print(\"짝\", end=\"\\t\") # end 옵션 : 문자열 제일 마지막에 올 글자\n",
    "  else:\n",
    "    print(\"홀\", end='\\t')"
   ]
  },
  {
   "cell_type": "code",
   "execution_count": 20,
   "metadata": {
    "colab": {
     "base_uri": "https://localhost:8080/"
    },
    "executionInfo": {
     "elapsed": 241,
     "status": "ok",
     "timestamp": 1647218763319,
     "user": {
      "displayName": "소민호",
      "photoUrl": "https://lh3.googleusercontent.com/a-/AOh14GhLGRC49SI7WOuNBQAwvTUAj-ggmp6EPPCrjHhC=s64",
      "userId": "16551848544638359832"
     },
     "user_tz": -540
    },
    "id": "L8fbMKVC0ZeK",
    "outputId": "c447b923-8b42-4664-c8a6-78d39c68b1ec"
   },
   "outputs": [
    {
     "name": "stdout",
     "output_type": "stream",
     "text": [
      "===2단===\n",
      "2 x 1 = 2\n",
      "2 x 2 = 4\n",
      "2 x 3 = 6\n",
      "2 x 4 = 8\n",
      "2 x 5 = 10\n",
      "2 x 6 = 12\n",
      "2 x 7 = 14\n",
      "2 x 8 = 16\n",
      "2 x 9 = 18\n",
      "===3단===\n",
      "3 x 1 = 3\n",
      "3 x 2 = 6\n",
      "3 x 3 = 9\n",
      "3 x 4 = 12\n",
      "3 x 5 = 15\n",
      "3 x 6 = 18\n",
      "3 x 7 = 21\n",
      "3 x 8 = 24\n",
      "3 x 9 = 27\n",
      "===4단===\n",
      "4 x 1 = 4\n",
      "4 x 2 = 8\n",
      "4 x 3 = 12\n",
      "4 x 4 = 16\n",
      "4 x 5 = 20\n",
      "4 x 6 = 24\n",
      "4 x 7 = 28\n",
      "4 x 8 = 32\n",
      "4 x 9 = 36\n",
      "===5단===\n",
      "5 x 1 = 5\n",
      "5 x 2 = 10\n",
      "5 x 3 = 15\n",
      "5 x 4 = 20\n",
      "5 x 5 = 25\n",
      "5 x 6 = 30\n",
      "5 x 7 = 35\n",
      "5 x 8 = 40\n",
      "5 x 9 = 45\n",
      "===6단===\n",
      "6 x 1 = 6\n",
      "6 x 2 = 12\n",
      "6 x 3 = 18\n",
      "6 x 4 = 24\n",
      "6 x 5 = 30\n",
      "6 x 6 = 36\n",
      "6 x 7 = 42\n",
      "6 x 8 = 48\n",
      "6 x 9 = 54\n",
      "===7단===\n",
      "7 x 1 = 7\n",
      "7 x 2 = 14\n",
      "7 x 3 = 21\n",
      "7 x 4 = 28\n",
      "7 x 5 = 35\n",
      "7 x 6 = 42\n",
      "7 x 7 = 49\n",
      "7 x 8 = 56\n",
      "7 x 9 = 63\n",
      "===8단===\n",
      "8 x 1 = 8\n",
      "8 x 2 = 16\n",
      "8 x 3 = 24\n",
      "8 x 4 = 32\n",
      "8 x 5 = 40\n",
      "8 x 6 = 48\n",
      "8 x 7 = 56\n",
      "8 x 8 = 64\n",
      "8 x 9 = 72\n",
      "===9단===\n",
      "9 x 1 = 9\n",
      "9 x 2 = 18\n",
      "9 x 3 = 27\n",
      "9 x 4 = 36\n",
      "9 x 5 = 45\n",
      "9 x 6 = 54\n",
      "9 x 7 = 63\n",
      "9 x 8 = 72\n",
      "9 x 9 = 81\n"
     ]
    }
   ],
   "source": [
    "# 구구단\n",
    "# 1) 2단, 3단, 4단.... 9단\n",
    "# 2) 각 단별로 1 ~ 9 까지 곱한다.\n",
    "\n",
    "for dan in range(2, 10):\n",
    "  print(f\"==={dan}단===\")\n",
    "\n",
    "  for times in range(1, 10):\n",
    "    print(f\"{dan} x {times} = {dan * times}\")\n",
    "    "
   ]
  },
  {
   "cell_type": "markdown",
   "metadata": {
    "id": "cRQeIXLN8_rJ"
   },
   "source": [
    "## 삼항 연산자\n",
    "- 파이썬이 아닌 다른 언어들은 삼항연산자가 존재하지만, 파이썬에는 없다\n",
    "- `if`, `else`만 사용해서 삼항연산을 수행\n",
    "\n",
    "간단한 `if`, `else` 구문을 **한줄의 코드**로 표현할 수 있는 방법"
   ]
  },
  {
   "cell_type": "code",
   "execution_count": 21,
   "metadata": {
    "colab": {
     "base_uri": "https://localhost:8080/"
    },
    "executionInfo": {
     "elapsed": 7,
     "status": "ok",
     "timestamp": 1647220273936,
     "user": {
      "displayName": "소민호",
      "photoUrl": "https://lh3.googleusercontent.com/a-/AOh14GhLGRC49SI7WOuNBQAwvTUAj-ggmp6EPPCrjHhC=s64",
      "userId": "16551848544638359832"
     },
     "user_tz": -540
    },
    "id": "vPohUwOS95ar",
    "outputId": "f0f60e73-d380-4866-e821-6abc71101e91"
   },
   "outputs": [
    {
     "name": "stdout",
     "output_type": "stream",
     "text": [
      "Bye\n"
     ]
    }
   ],
   "source": [
    "result = None # 연산의 결과물을 저장할 변수\n",
    "\n",
    "a = 1\n",
    "b = 2\n",
    "\n",
    "# a와 b를 더한 결과를 result에 저장\n",
    "# result = a + b\n",
    "\n",
    "if a > b:\n",
    "  result = \"Hello\"\n",
    "else:\n",
    "  result = \"Bye\"\n",
    "\n",
    "print(result)"
   ]
  },
  {
   "cell_type": "markdown",
   "metadata": {
    "id": "WAqDG1yY-q-R"
   },
   "source": [
    "* 삼항연산 사용 방법\n",
    "```python\n",
    "<True 일 때 사용할 값> if [condition] else <False 일 때 사용할 값>\n",
    "```"
   ]
  },
  {
   "cell_type": "code",
   "execution_count": 23,
   "metadata": {
    "colab": {
     "base_uri": "https://localhost:8080/"
    },
    "executionInfo": {
     "elapsed": 2,
     "status": "ok",
     "timestamp": 1647220883809,
     "user": {
      "displayName": "소민호",
      "photoUrl": "https://lh3.googleusercontent.com/a-/AOh14GhLGRC49SI7WOuNBQAwvTUAj-ggmp6EPPCrjHhC=s64",
      "userId": "16551848544638359832"
     },
     "user_tz": -540
    },
    "id": "j1P5nc-X_DqJ",
    "outputId": "1f4b7f7a-d209-4ed4-9eb2-e7cd17dcb172"
   },
   "outputs": [
    {
     "name": "stdout",
     "output_type": "stream",
     "text": [
      "Bye\n"
     ]
    }
   ],
   "source": [
    "# 삼항연산 사용\n",
    "result = \"Hello\" if a > b else \"Bye\"\n",
    "print(result)"
   ]
  },
  {
   "cell_type": "markdown",
   "metadata": {
    "id": "mwtuwW_AAHd9"
   },
   "source": [
    "# 컴프리헨션\n",
    "- `list`, `set`, `dict`를 간단하게 만들기 위한 문법\n",
    "- `tuple`은 컴프리헨션으로 만들 수 없다.\n",
    "- 여러 전처리나 효과 없이 아주 단순하게 만들어진 데이터를 컬렉션에 추가(`append`)하고 싶을 때.\n",
    "- 한줄짜리 간단한 코드에 의한 아이템 추가"
   ]
  },
  {
   "cell_type": "code",
   "execution_count": 24,
   "metadata": {
    "colab": {
     "base_uri": "https://localhost:8080/"
    },
    "executionInfo": {
     "elapsed": 3,
     "status": "ok",
     "timestamp": 1647221637640,
     "user": {
      "displayName": "소민호",
      "photoUrl": "https://lh3.googleusercontent.com/a-/AOh14GhLGRC49SI7WOuNBQAwvTUAj-ggmp6EPPCrjHhC=s64",
      "userId": "16551848544638359832"
     },
     "user_tz": -540
    },
    "id": "YPu8dNoWCRuz",
    "outputId": "41e93793-2acb-4a42-8903-4602e97e9112"
   },
   "outputs": [
    {
     "name": "stdout",
     "output_type": "stream",
     "text": [
      "[1, 4, 9, 16, 25]\n"
     ]
    }
   ],
   "source": [
    "# 1 ~ 5 까지 각각의 정수에 제곱한 결과를 리스트에 담아놓기\n",
    "result = []\n",
    "\n",
    "for data in range(1, 6):\n",
    "  result.append( data ** 2 )\n",
    "print(result)"
   ]
  },
  {
   "cell_type": "markdown",
   "metadata": {
    "id": "gbGhUaiZDIpp"
   },
   "source": [
    "`list` 컴프리헨션\n",
    "```python\n",
    "[ <추가할 값에 대한 처리> for <값> in <collection> if <값에 대한 조건> ]\n",
    "\n",
    "<값에 대한 조건>이 True일 때 collection에 있는 아이템을 리스트에 추가\n",
    "if문은 있어도 되고 없어도 된다.\n",
    "```"
   ]
  },
  {
   "cell_type": "code",
   "execution_count": 26,
   "metadata": {
    "colab": {
     "base_uri": "https://localhost:8080/"
    },
    "executionInfo": {
     "elapsed": 364,
     "status": "ok",
     "timestamp": 1647222097578,
     "user": {
      "displayName": "소민호",
      "photoUrl": "https://lh3.googleusercontent.com/a-/AOh14GhLGRC49SI7WOuNBQAwvTUAj-ggmp6EPPCrjHhC=s64",
      "userId": "16551848544638359832"
     },
     "user_tz": -540
    },
    "id": "vQLWozmDD_wp",
    "outputId": "aceb48db-951b-4d39-b7a0-4b789db46797"
   },
   "outputs": [
    {
     "data": {
      "text/plain": [
       "[1, 4, 9, 16, 25]"
      ]
     },
     "execution_count": 26,
     "metadata": {},
     "output_type": "execute_result"
    }
   ],
   "source": [
    "# 컴프리헨션 사용\n",
    "result = [ data ** 2 for data in range(1, 6) ]\n",
    "result"
   ]
  },
  {
   "cell_type": "code",
   "execution_count": 27,
   "metadata": {
    "colab": {
     "base_uri": "https://localhost:8080/"
    },
    "executionInfo": {
     "elapsed": 238,
     "status": "ok",
     "timestamp": 1647222412300,
     "user": {
      "displayName": "소민호",
      "photoUrl": "https://lh3.googleusercontent.com/a-/AOh14GhLGRC49SI7WOuNBQAwvTUAj-ggmp6EPPCrjHhC=s64",
      "userId": "16551848544638359832"
     },
     "user_tz": -540
    },
    "id": "HieaZnm9FoOI",
    "outputId": "68a6d11f-d866-41f0-9918-0b2ce837d578"
   },
   "outputs": [
    {
     "name": "stdout",
     "output_type": "stream",
     "text": [
      "[1, 9, 25, 49, 81, 121, 169, 225, 289, 361, 441, 529, 625, 729, 841, 961, 1089, 1225, 1369, 1521, 1681, 1849, 2025, 2209, 2401, 2601, 2809, 3025, 3249, 3481, 3721, 3969, 4225, 4489, 4761, 5041, 5329, 5625, 5929, 6241, 6561, 6889, 7225, 7569, 7921, 8281, 8649, 9025, 9409, 9801]\n"
     ]
    }
   ],
   "source": [
    "# 1 ~ 100 까지 홀수인 정수에 대해서 제곱한 후 추가(홀수만 뽑기)\n",
    "result = [ data ** 2 for data in range(1, 101) if data % 2 == 1]\n",
    "print(result)"
   ]
  },
  {
   "cell_type": "code",
   "execution_count": 28,
   "metadata": {
    "colab": {
     "base_uri": "https://localhost:8080/"
    },
    "executionInfo": {
     "elapsed": 6633,
     "status": "ok",
     "timestamp": 1647223479946,
     "user": {
      "displayName": "소민호",
      "photoUrl": "https://lh3.googleusercontent.com/a-/AOh14GhLGRC49SI7WOuNBQAwvTUAj-ggmp6EPPCrjHhC=s64",
      "userId": "16551848544638359832"
     },
     "user_tz": -540
    },
    "id": "di7lK49_KzD-",
    "outputId": "0a6d2e9a-b1c3-4c2c-b04d-8ddd674ce494"
   },
   "outputs": [
    {
     "name": "stdout",
     "output_type": "stream",
     "text": [
      "28.7 ms ± 3.53 ms per loop (mean ± std. dev. of 7 runs, 10 loops each)\n"
     ]
    }
   ],
   "source": [
    "# 일반 for문의 시간\n",
    "%%timeit\n",
    "\n",
    "lst = []\n",
    "\n",
    "for data in range(1, 100001):\n",
    "  if data % 3 == 0:\n",
    "    lst.append(data)\n",
    "\n",
    "len(lst)"
   ]
  },
  {
   "cell_type": "code",
   "execution_count": 29,
   "metadata": {
    "colab": {
     "base_uri": "https://localhost:8080/"
    },
    "executionInfo": {
     "elapsed": 5512,
     "status": "ok",
     "timestamp": 1647223495511,
     "user": {
      "displayName": "소민호",
      "photoUrl": "https://lh3.googleusercontent.com/a-/AOh14GhLGRC49SI7WOuNBQAwvTUAj-ggmp6EPPCrjHhC=s64",
      "userId": "16551848544638359832"
     },
     "user_tz": -540
    },
    "id": "ijH0t5QuK4Im",
    "outputId": "ae347c2b-133e-46b7-e345-72cb97eedd52"
   },
   "outputs": [
    {
     "name": "stdout",
     "output_type": "stream",
     "text": [
      "24.4 ms ± 4.43 ms per loop (mean ± std. dev. of 7 runs, 10 loops each)\n"
     ]
    }
   ],
   "source": [
    "# 컴프리헨션은 일반 for문을 사용한 것 보다 빠르다!\n",
    "%%timeit\n",
    "lst = [data for data in range(1, 100001) if data % 3 == 0]\n",
    "len(lst)"
   ]
  },
  {
   "cell_type": "markdown",
   "metadata": {
    "id": "o0kzbYbaK8Nu"
   },
   "source": [
    "## `set`, `dict` 컴프리헨션"
   ]
  },
  {
   "cell_type": "code",
   "execution_count": 30,
   "metadata": {
    "colab": {
     "base_uri": "https://localhost:8080/"
    },
    "executionInfo": {
     "elapsed": 5,
     "status": "ok",
     "timestamp": 1647223667395,
     "user": {
      "displayName": "소민호",
      "photoUrl": "https://lh3.googleusercontent.com/a-/AOh14GhLGRC49SI7WOuNBQAwvTUAj-ggmp6EPPCrjHhC=s64",
      "userId": "16551848544638359832"
     },
     "user_tz": -540
    },
    "id": "S0Ad0DuULRLw",
    "outputId": "5ca492a5-c23d-4be6-b92e-e80524fe0f6d"
   },
   "outputs": [
    {
     "data": {
      "text/plain": [
       "{'a', 'b', 'c'}"
      ]
     },
     "execution_count": 30,
     "metadata": {},
     "output_type": "execute_result"
    }
   ],
   "source": [
    "text = \"aaabbbccc\"\n",
    "set(text)"
   ]
  },
  {
   "cell_type": "code",
   "execution_count": 31,
   "metadata": {
    "colab": {
     "base_uri": "https://localhost:8080/"
    },
    "executionInfo": {
     "elapsed": 245,
     "status": "ok",
     "timestamp": 1647223803294,
     "user": {
      "displayName": "소민호",
      "photoUrl": "https://lh3.googleusercontent.com/a-/AOh14GhLGRC49SI7WOuNBQAwvTUAj-ggmp6EPPCrjHhC=s64",
      "userId": "16551848544638359832"
     },
     "user_tz": -540
    },
    "id": "ySyCWRA1Lne_",
    "outputId": "8284b501-c24b-40e6-8ff4-dc96e89d5856"
   },
   "outputs": [
    {
     "name": "stdout",
     "output_type": "stream",
     "text": [
      "{'a 입니다.', 'c 입니다.', 'b 입니다.'}\n"
     ]
    }
   ],
   "source": [
    "# set 컴프리헨션\n",
    "result = { f\"{letter} 입니다.\" for letter in text }\n",
    "print(result)"
   ]
  },
  {
   "cell_type": "code",
   "execution_count": 32,
   "metadata": {
    "colab": {
     "base_uri": "https://localhost:8080/"
    },
    "executionInfo": {
     "elapsed": 247,
     "status": "ok",
     "timestamp": 1647224129249,
     "user": {
      "displayName": "소민호",
      "photoUrl": "https://lh3.googleusercontent.com/a-/AOh14GhLGRC49SI7WOuNBQAwvTUAj-ggmp6EPPCrjHhC=s64",
      "userId": "16551848544638359832"
     },
     "user_tz": -540
    },
    "id": "vtxu9148MEFg",
    "outputId": "e922298c-0fe4-48b8-ee80-3666b63dd6ca"
   },
   "outputs": [
    {
     "name": "stdout",
     "output_type": "stream",
     "text": [
      "{'아침': '유부초밥', '점심': '유부초밥', '저녁': '훈제오리'}\n"
     ]
    }
   ],
   "source": [
    "# dict 컴프리헨션\n",
    "a = [\"아침\", \"점심\", \"저녁\"]\n",
    "b = [\"유부초밥\", \"유부초밥\", \"훈제오리\"]\n",
    "\n",
    "result = { meal : food for meal, food in zip(a, b)}\n",
    "print(result)"
   ]
  }
 ],
 "metadata": {
  "colab": {
   "authorship_tag": "ABX9TyMWpfcETuiBkKcwI24NYho/",
   "collapsed_sections": [],
   "name": "06. Condition과 Loop",
   "provenance": []
  },
  "kernelspec": {
   "display_name": "Python 3 (ipykernel)",
   "language": "python",
   "name": "python3"
  },
  "language_info": {
   "codemirror_mode": {
    "name": "ipython",
    "version": 3
   },
   "file_extension": ".py",
   "mimetype": "text/x-python",
   "name": "python",
   "nbconvert_exporter": "python",
   "pygments_lexer": "ipython3",
   "version": "3.9.13"
  }
 },
 "nbformat": 4,
 "nbformat_minor": 1
}
