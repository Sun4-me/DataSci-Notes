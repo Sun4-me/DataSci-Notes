{
 "cells": [
  {
   "cell_type": "markdown",
   "metadata": {
    "id": "WCcGYYa_9qms"
   },
   "source": [
    "# 모듈(Module), 패키지(Package)\n",
    "- 모듈 : 변수, 함수, 클래스를 모아놓은 `.py` 확장자 파일\n",
    "  - `.py` 파일 : 마크다운이나 셀 같은 정보는 없고, 순수한 파이썬 코드만 존재\n",
    "  - `.ipynb` 파일 : 마크다운 및 시각화 등 여러 정보를 예쁘게 볼 수 있도록 꾸며진 파일\n",
    "- 패키지 : 모듈의 기능을 디렉토리(폴더) 별로 정리해 놓은 개념\n"
   ]
  },
  {
   "cell_type": "markdown",
   "metadata": {
    "id": "eA1nr8UU-pbL"
   },
   "source": [
    "1. `%%writefile [filepath]` : `[filepath]` 경로에 `.py` 파일을 작성"
   ]
  },
  {
   "cell_type": "code",
   "execution_count": 1,
   "metadata": {
    "colab": {
     "base_uri": "https://localhost:8080/"
    },
    "executionInfo": {
     "elapsed": 852,
     "status": "ok",
     "timestamp": 1647908654085,
     "user": {
      "displayName": "소민호",
      "photoUrl": "https://lh3.googleusercontent.com/a-/AOh14GhLGRC49SI7WOuNBQAwvTUAj-ggmp6EPPCrjHhC=s64",
      "userId": "16551848544638359832"
     },
     "user_tz": -540
    },
    "id": "-zsRPd8f_ayg",
    "outputId": "6eaa76cd-c29a-4a90-d143-0fd1cc7b748a"
   },
   "outputs": [
    {
     "name": "stdout",
     "output_type": "stream",
     "text": [
      "Writing demo.py\n"
     ]
    }
   ],
   "source": [
    "%%writefile demo.py\n",
    "\n",
    "num = 10\n",
    "\n",
    "def foo(msg):\n",
    "  print(f\"foo() => {msg}\")\n",
    "\n",
    "def goo(num1, num2):\n",
    "  # 여러 개의 리턴 값을 튜플로 묶어서 리턴\n",
    "  return num1+num2, num1-num2, num1*num2, num1/num2\n",
    "\n",
    "class DemoCalc:\n",
    "  def sum_all(self, *args):\n",
    "    return sum(args)"
   ]
  },
  {
   "cell_type": "markdown",
   "metadata": {
    "id": "ltCNTgsNBItR"
   },
   "source": [
    "## 모듈 불러오기\n",
    "`import 모듈명` : 모듈을 불러오는 키워드"
   ]
  },
  {
   "cell_type": "code",
   "execution_count": 3,
   "metadata": {
    "executionInfo": {
     "elapsed": 219,
     "status": "ok",
     "timestamp": 1647908910364,
     "user": {
      "displayName": "소민호",
      "photoUrl": "https://lh3.googleusercontent.com/a-/AOh14GhLGRC49SI7WOuNBQAwvTUAj-ggmp6EPPCrjHhC=s64",
      "userId": "16551848544638359832"
     },
     "user_tz": -540
    },
    "id": "L6vLqXTtBhCU"
   },
   "outputs": [],
   "source": [
    "import demo"
   ]
  },
  {
   "cell_type": "code",
   "execution_count": 4,
   "metadata": {
    "colab": {
     "base_uri": "https://localhost:8080/"
    },
    "executionInfo": {
     "elapsed": 216,
     "status": "ok",
     "timestamp": 1647908953911,
     "user": {
      "displayName": "소민호",
      "photoUrl": "https://lh3.googleusercontent.com/a-/AOh14GhLGRC49SI7WOuNBQAwvTUAj-ggmp6EPPCrjHhC=s64",
      "userId": "16551848544638359832"
     },
     "user_tz": -540
    },
    "id": "PEv-MMzJBnHt",
    "outputId": "4140c36e-920a-4b60-eddf-2a6110ddea1b"
   },
   "outputs": [
    {
     "data": {
      "text/plain": [
       "10"
      ]
     },
     "execution_count": 4,
     "metadata": {},
     "output_type": "execute_result"
    }
   ],
   "source": [
    "demo.num"
   ]
  },
  {
   "cell_type": "code",
   "execution_count": 5,
   "metadata": {
    "colab": {
     "base_uri": "https://localhost:8080/"
    },
    "executionInfo": {
     "elapsed": 238,
     "status": "ok",
     "timestamp": 1647908993167,
     "user": {
      "displayName": "소민호",
      "photoUrl": "https://lh3.googleusercontent.com/a-/AOh14GhLGRC49SI7WOuNBQAwvTUAj-ggmp6EPPCrjHhC=s64",
      "userId": "16551848544638359832"
     },
     "user_tz": -540
    },
    "id": "2pUuo-gOBxwe",
    "outputId": "7da15256-cb5d-4bdc-dd44-8fa71496ff0f"
   },
   "outputs": [
    {
     "name": "stdout",
     "output_type": "stream",
     "text": [
      "foo() => Hello\n"
     ]
    }
   ],
   "source": [
    "demo.foo(\"Hello\")"
   ]
  },
  {
   "cell_type": "code",
   "execution_count": 6,
   "metadata": {
    "colab": {
     "base_uri": "https://localhost:8080/"
    },
    "executionInfo": {
     "elapsed": 2,
     "status": "ok",
     "timestamp": 1647909001363,
     "user": {
      "displayName": "소민호",
      "photoUrl": "https://lh3.googleusercontent.com/a-/AOh14GhLGRC49SI7WOuNBQAwvTUAj-ggmp6EPPCrjHhC=s64",
      "userId": "16551848544638359832"
     },
     "user_tz": -540
    },
    "id": "KMrFzcWvB7VI",
    "outputId": "0a010014-7a90-45ed-f663-88f273c5d462"
   },
   "outputs": [
    {
     "data": {
      "text/plain": [
       "(30, -10, 200, 0.5)"
      ]
     },
     "execution_count": 6,
     "metadata": {},
     "output_type": "execute_result"
    }
   ],
   "source": [
    "demo.goo(10, 20)"
   ]
  },
  {
   "cell_type": "code",
   "execution_count": 7,
   "metadata": {
    "colab": {
     "base_uri": "https://localhost:8080/"
    },
    "executionInfo": {
     "elapsed": 2,
     "status": "ok",
     "timestamp": 1647909043504,
     "user": {
      "displayName": "소민호",
      "photoUrl": "https://lh3.googleusercontent.com/a-/AOh14GhLGRC49SI7WOuNBQAwvTUAj-ggmp6EPPCrjHhC=s64",
      "userId": "16551848544638359832"
     },
     "user_tz": -540
    },
    "id": "v1Xx6ndEB9YB",
    "outputId": "df6ed691-ad10-4c96-e9fb-325d159c669b"
   },
   "outputs": [
    {
     "data": {
      "text/plain": [
       "55"
      ]
     },
     "execution_count": 7,
     "metadata": {},
     "output_type": "execute_result"
    }
   ],
   "source": [
    "calc = demo.DemoCalc()\n",
    "calc.sum_all(1,2,3,4,5,6,7,8,9,10)"
   ]
  },
  {
   "cell_type": "markdown",
   "metadata": {
    "id": "nWU9dhcfCHn7"
   },
   "source": [
    "**모듈 내에 있는 함수, 변수, 클래스를 따로 따로 불러오기**\n",
    "- `from 모듈명 import [변수명 또는 함수명 또는 클래스명]`"
   ]
  },
  {
   "cell_type": "code",
   "execution_count": 8,
   "metadata": {
    "executionInfo": {
     "elapsed": 234,
     "status": "ok",
     "timestamp": 1647909323968,
     "user": {
      "displayName": "소민호",
      "photoUrl": "https://lh3.googleusercontent.com/a-/AOh14GhLGRC49SI7WOuNBQAwvTUAj-ggmp6EPPCrjHhC=s64",
      "userId": "16551848544638359832"
     },
     "user_tz": -540
    },
    "id": "_Sj1GoCkDD7q"
   },
   "outputs": [],
   "source": [
    "from demo import num, goo"
   ]
  },
  {
   "cell_type": "code",
   "execution_count": 9,
   "metadata": {
    "colab": {
     "base_uri": "https://localhost:8080/"
    },
    "executionInfo": {
     "elapsed": 3,
     "status": "ok",
     "timestamp": 1647909341877,
     "user": {
      "displayName": "소민호",
      "photoUrl": "https://lh3.googleusercontent.com/a-/AOh14GhLGRC49SI7WOuNBQAwvTUAj-ggmp6EPPCrjHhC=s64",
      "userId": "16551848544638359832"
     },
     "user_tz": -540
    },
    "id": "yPsRYU-3DMFZ",
    "outputId": "b074414d-eede-4c1d-a72d-2d4a53088e86"
   },
   "outputs": [
    {
     "name": "stdout",
     "output_type": "stream",
     "text": [
      "10\n"
     ]
    }
   ],
   "source": [
    "print(num)"
   ]
  },
  {
   "cell_type": "code",
   "execution_count": 10,
   "metadata": {
    "colab": {
     "base_uri": "https://localhost:8080/"
    },
    "executionInfo": {
     "elapsed": 380,
     "status": "ok",
     "timestamp": 1647909353627,
     "user": {
      "displayName": "소민호",
      "photoUrl": "https://lh3.googleusercontent.com/a-/AOh14GhLGRC49SI7WOuNBQAwvTUAj-ggmp6EPPCrjHhC=s64",
      "userId": "16551848544638359832"
     },
     "user_tz": -540
    },
    "id": "tR9Y6g_FDQha",
    "outputId": "7a2ea8ce-9fb5-495f-9c47-2c3b29ea1267"
   },
   "outputs": [
    {
     "data": {
      "text/plain": [
       "(6, -4, 5, 0.2)"
      ]
     },
     "execution_count": 10,
     "metadata": {},
     "output_type": "execute_result"
    }
   ],
   "source": [
    "goo(1, 5)"
   ]
  },
  {
   "cell_type": "markdown",
   "metadata": {
    "id": "Opcf1ccZDTV7"
   },
   "source": [
    "**모듈을 불러올 때 별명 지어주기(alias)**\n",
    "- `import 모듈명 as 별명`"
   ]
  },
  {
   "cell_type": "code",
   "execution_count": 11,
   "metadata": {
    "colab": {
     "base_uri": "https://localhost:8080/"
    },
    "executionInfo": {
     "elapsed": 227,
     "status": "ok",
     "timestamp": 1647909538481,
     "user": {
      "displayName": "소민호",
      "photoUrl": "https://lh3.googleusercontent.com/a-/AOh14GhLGRC49SI7WOuNBQAwvTUAj-ggmp6EPPCrjHhC=s64",
      "userId": "16551848544638359832"
     },
     "user_tz": -540
    },
    "id": "gOxHH5PiDq-7",
    "outputId": "674f756d-d205-4eb5-c301-fdad6ea2be49"
   },
   "outputs": [
    {
     "name": "stdout",
     "output_type": "stream",
     "text": [
      "foo() => 하이하이\n"
     ]
    }
   ],
   "source": [
    "import demo as dm\n",
    "\n",
    "dm.foo(\"하이하이\")"
   ]
  },
  {
   "cell_type": "markdown",
   "metadata": {
    "id": "lqKcxodbEAeF"
   },
   "source": [
    "**모듈 내의 모든 항목 불러오기**\n"
   ]
  },
  {
   "cell_type": "code",
   "execution_count": 12,
   "metadata": {
    "executionInfo": {
     "elapsed": 252,
     "status": "ok",
     "timestamp": 1647909642247,
     "user": {
      "displayName": "소민호",
      "photoUrl": "https://lh3.googleusercontent.com/a-/AOh14GhLGRC49SI7WOuNBQAwvTUAj-ggmp6EPPCrjHhC=s64",
      "userId": "16551848544638359832"
     },
     "user_tz": -540
    },
    "id": "BwA27J2cEMwx"
   },
   "outputs": [],
   "source": [
    "from demo import *"
   ]
  },
  {
   "cell_type": "code",
   "execution_count": 13,
   "metadata": {
    "colab": {
     "base_uri": "https://localhost:8080/"
    },
    "executionInfo": {
     "elapsed": 4,
     "status": "ok",
     "timestamp": 1647909758798,
     "user": {
      "displayName": "소민호",
      "photoUrl": "https://lh3.googleusercontent.com/a-/AOh14GhLGRC49SI7WOuNBQAwvTUAj-ggmp6EPPCrjHhC=s64",
      "userId": "16551848544638359832"
     },
     "user_tz": -540
    },
    "id": "nUufsmX_EZy0",
    "outputId": "e29ba3f8-75e3-425c-85a8-f9802a49e6ba"
   },
   "outputs": [
    {
     "name": "stdout",
     "output_type": "stream",
     "text": [
      "foo() => 헬로우\n"
     ]
    }
   ],
   "source": [
    "foo(\"헬로우\")"
   ]
  },
  {
   "cell_type": "code",
   "execution_count": 14,
   "metadata": {
    "colab": {
     "base_uri": "https://localhost:8080/"
    },
    "executionInfo": {
     "elapsed": 2,
     "status": "ok",
     "timestamp": 1647909819590,
     "user": {
      "displayName": "소민호",
      "photoUrl": "https://lh3.googleusercontent.com/a-/AOh14GhLGRC49SI7WOuNBQAwvTUAj-ggmp6EPPCrjHhC=s64",
      "userId": "16551848544638359832"
     },
     "user_tz": -540
    },
    "id": "qTNGt4CvE2Vm",
    "outputId": "26bb4eaa-112c-42a9-e5e1-3a178637a67c"
   },
   "outputs": [
    {
     "data": {
      "text/plain": [
       "15"
      ]
     },
     "execution_count": 14,
     "metadata": {},
     "output_type": "execute_result"
    }
   ],
   "source": [
    "calc = DemoCalc()\n",
    "calc.sum_all(1,2,3,4,5)"
   ]
  },
  {
   "cell_type": "markdown",
   "metadata": {
    "id": "ZspcnAAQFFKM"
   },
   "source": [
    "## 패키지(Package)\n",
    "- 패키지 생성\n",
    "  - 디렉토리(폴더)를 만든 것과 비슷한 작업\n",
    "- 패키지 호출"
   ]
  },
  {
   "cell_type": "markdown",
   "metadata": {
    "id": "eEkFRXFwFbgb"
   },
   "source": [
    "`!mkdir [directory path]` : `directory path` 경로에 디렉토리를 생성합니다."
   ]
  },
  {
   "cell_type": "code",
   "execution_count": 15,
   "metadata": {
    "executionInfo": {
     "elapsed": 230,
     "status": "ok",
     "timestamp": 1647910060394,
     "user": {
      "displayName": "소민호",
      "photoUrl": "https://lh3.googleusercontent.com/a-/AOh14GhLGRC49SI7WOuNBQAwvTUAj-ggmp6EPPCrjHhC=s64",
      "userId": "16551848544638359832"
     },
     "user_tz": -540
    },
    "id": "b5LA3pt0Fo8-"
   },
   "outputs": [],
   "source": [
    "!mkdir -p mc_pkg/pkg1"
   ]
  },
  {
   "cell_type": "code",
   "execution_count": 16,
   "metadata": {
    "executionInfo": {
     "elapsed": 238,
     "status": "ok",
     "timestamp": 1647910111431,
     "user": {
      "displayName": "소민호",
      "photoUrl": "https://lh3.googleusercontent.com/a-/AOh14GhLGRC49SI7WOuNBQAwvTUAj-ggmp6EPPCrjHhC=s64",
      "userId": "16551848544638359832"
     },
     "user_tz": -540
    },
    "id": "KrehTHLHF_4a"
   },
   "outputs": [],
   "source": [
    "!mkdir -p mc_pkg/pkg2"
   ]
  },
  {
   "cell_type": "code",
   "execution_count": 17,
   "metadata": {
    "colab": {
     "base_uri": "https://localhost:8080/"
    },
    "executionInfo": {
     "elapsed": 6381,
     "status": "ok",
     "timestamp": 1647910182125,
     "user": {
      "displayName": "소민호",
      "photoUrl": "https://lh3.googleusercontent.com/a-/AOh14GhLGRC49SI7WOuNBQAwvTUAj-ggmp6EPPCrjHhC=s64",
      "userId": "16551848544638359832"
     },
     "user_tz": -540
    },
    "id": "UW4ldD41GMWS",
    "outputId": "16b7ac16-f2b0-434b-e9ce-1126f2669ed5"
   },
   "outputs": [
    {
     "name": "stdout",
     "output_type": "stream",
     "text": [
      "Reading package lists... Done\n",
      "Building dependency tree       \n",
      "Reading state information... Done\n",
      "The following NEW packages will be installed:\n",
      "  tree\n",
      "0 upgraded, 1 newly installed, 0 to remove and 39 not upgraded.\n",
      "Need to get 40.7 kB of archives.\n",
      "After this operation, 105 kB of additional disk space will be used.\n",
      "Get:1 http://archive.ubuntu.com/ubuntu bionic/universe amd64 tree amd64 1.7.0-5 [40.7 kB]\n",
      "Fetched 40.7 kB in 0s (242 kB/s)\n",
      "Selecting previously unselected package tree.\n",
      "(Reading database ... 155335 files and directories currently installed.)\n",
      "Preparing to unpack .../tree_1.7.0-5_amd64.deb ...\n",
      "Unpacking tree (1.7.0-5) ...\n",
      "Setting up tree (1.7.0-5) ...\n",
      "Processing triggers for man-db (2.8.3-2ubuntu0.1) ...\n"
     ]
    }
   ],
   "source": [
    "!apt-get install tree"
   ]
  },
  {
   "cell_type": "code",
   "execution_count": 18,
   "metadata": {
    "colab": {
     "base_uri": "https://localhost:8080/"
    },
    "executionInfo": {
     "elapsed": 220,
     "status": "ok",
     "timestamp": 1647910212065,
     "user": {
      "displayName": "소민호",
      "photoUrl": "https://lh3.googleusercontent.com/a-/AOh14GhLGRC49SI7WOuNBQAwvTUAj-ggmp6EPPCrjHhC=s64",
      "userId": "16551848544638359832"
     },
     "user_tz": -540
    },
    "id": "MCOl6mhXGcGy",
    "outputId": "ae58966f-965d-43f7-a5a2-b55eee4539d7"
   },
   "outputs": [
    {
     "name": "stdout",
     "output_type": "stream",
     "text": [
      "mc_pkg\n",
      "├── pkg1\n",
      "└── pkg2\n",
      "\n",
      "2 directories, 0 files\n"
     ]
    }
   ],
   "source": [
    "!tree mc_pkg"
   ]
  },
  {
   "cell_type": "code",
   "execution_count": 19,
   "metadata": {
    "colab": {
     "base_uri": "https://localhost:8080/"
    },
    "executionInfo": {
     "elapsed": 224,
     "status": "ok",
     "timestamp": 1647911151485,
     "user": {
      "displayName": "소민호",
      "photoUrl": "https://lh3.googleusercontent.com/a-/AOh14GhLGRC49SI7WOuNBQAwvTUAj-ggmp6EPPCrjHhC=s64",
      "userId": "16551848544638359832"
     },
     "user_tz": -540
    },
    "id": "AoEmeIWkGk6o",
    "outputId": "aa783b43-3df8-4093-a4dd-b77df88aed42"
   },
   "outputs": [
    {
     "name": "stdout",
     "output_type": "stream",
     "text": [
      "Writing mc_pkg/pkg1/my_module.py\n"
     ]
    }
   ],
   "source": [
    "%%writefile mc_pkg/pkg1/my_module.py\n",
    "\n",
    "def my_func(msg):\n",
    "  print(\"Here is pkg1.my_module\")\n",
    "  print(\"Good bye\")"
   ]
  },
  {
   "cell_type": "code",
   "execution_count": 20,
   "metadata": {
    "colab": {
     "base_uri": "https://localhost:8080/"
    },
    "executionInfo": {
     "elapsed": 234,
     "status": "ok",
     "timestamp": 1647911267984,
     "user": {
      "displayName": "소민호",
      "photoUrl": "https://lh3.googleusercontent.com/a-/AOh14GhLGRC49SI7WOuNBQAwvTUAj-ggmp6EPPCrjHhC=s64",
      "userId": "16551848544638359832"
     },
     "user_tz": -540
    },
    "id": "kVl6RpZjKKRI",
    "outputId": "f451a4d3-360b-4c06-cfb6-23434aa604b5"
   },
   "outputs": [
    {
     "name": "stdout",
     "output_type": "stream",
     "text": [
      "Writing mc_pkg/pkg2/your_module.py\n"
     ]
    }
   ],
   "source": [
    "%%writefile mc_pkg/pkg2/your_module.py\n",
    "\n",
    "def your_func():\n",
    "  print(\"여기는 pkg2의 your_module 입니다.\")\n",
    "  print(\"Hi~\")"
   ]
  },
  {
   "cell_type": "code",
   "execution_count": 21,
   "metadata": {
    "colab": {
     "base_uri": "https://localhost:8080/"
    },
    "executionInfo": {
     "elapsed": 221,
     "status": "ok",
     "timestamp": 1647911341644,
     "user": {
      "displayName": "소민호",
      "photoUrl": "https://lh3.googleusercontent.com/a-/AOh14GhLGRC49SI7WOuNBQAwvTUAj-ggmp6EPPCrjHhC=s64",
      "userId": "16551848544638359832"
     },
     "user_tz": -540
    },
    "id": "THLguMPBKmtm",
    "outputId": "2e406fe3-3a49-4224-df0e-b229276b6a91"
   },
   "outputs": [
    {
     "name": "stdout",
     "output_type": "stream",
     "text": [
      "Writing mc_pkg/pkg2/hello.py\n"
     ]
    }
   ],
   "source": [
    "%%writefile mc_pkg/pkg2/hello.py\n",
    "\n",
    "def hello_func():\n",
    "  print(\"Hello~\")"
   ]
  },
  {
   "cell_type": "code",
   "execution_count": 22,
   "metadata": {
    "colab": {
     "base_uri": "https://localhost:8080/"
    },
    "executionInfo": {
     "elapsed": 224,
     "status": "ok",
     "timestamp": 1647911393481,
     "user": {
      "displayName": "소민호",
      "photoUrl": "https://lh3.googleusercontent.com/a-/AOh14GhLGRC49SI7WOuNBQAwvTUAj-ggmp6EPPCrjHhC=s64",
      "userId": "16551848544638359832"
     },
     "user_tz": -540
    },
    "id": "xu-FKc9ZK4r-",
    "outputId": "7546c9f7-6648-442f-e9bb-4a28632b8ab0"
   },
   "outputs": [
    {
     "name": "stdout",
     "output_type": "stream",
     "text": [
      "mc_pkg\n",
      "├── pkg1\n",
      "│   └── my_module.py\n",
      "└── pkg2\n",
      "    ├── hello.py\n",
      "    └── your_module.py\n",
      "\n",
      "2 directories, 3 files\n"
     ]
    }
   ],
   "source": [
    "!tree mc_pkg"
   ]
  },
  {
   "cell_type": "code",
   "execution_count": 23,
   "metadata": {
    "executionInfo": {
     "elapsed": 215,
     "status": "ok",
     "timestamp": 1647911478690,
     "user": {
      "displayName": "소민호",
      "photoUrl": "https://lh3.googleusercontent.com/a-/AOh14GhLGRC49SI7WOuNBQAwvTUAj-ggmp6EPPCrjHhC=s64",
      "userId": "16551848544638359832"
     },
     "user_tz": -540
    },
    "id": "tQyzahv0LFWg"
   },
   "outputs": [],
   "source": [
    "# 패키지 ~ 모듈 까지를 불러오기\n",
    "import mc_pkg.pkg2.hello"
   ]
  },
  {
   "cell_type": "code",
   "execution_count": 24,
   "metadata": {
    "colab": {
     "base_uri": "https://localhost:8080/"
    },
    "executionInfo": {
     "elapsed": 230,
     "status": "ok",
     "timestamp": 1647911555579,
     "user": {
      "displayName": "소민호",
      "photoUrl": "https://lh3.googleusercontent.com/a-/AOh14GhLGRC49SI7WOuNBQAwvTUAj-ggmp6EPPCrjHhC=s64",
      "userId": "16551848544638359832"
     },
     "user_tz": -540
    },
    "id": "BVazYQOfLaJ3",
    "outputId": "e6795365-ad46-4d3a-f661-217d3d238732"
   },
   "outputs": [
    {
     "name": "stdout",
     "output_type": "stream",
     "text": [
      "Hello~\n"
     ]
    }
   ],
   "source": [
    "# 사용하기\n",
    "mc_pkg.pkg2.hello.hello_func()"
   ]
  },
  {
   "cell_type": "code",
   "execution_count": 25,
   "metadata": {
    "colab": {
     "base_uri": "https://localhost:8080/"
    },
    "executionInfo": {
     "elapsed": 4,
     "status": "ok",
     "timestamp": 1647911645655,
     "user": {
      "displayName": "소민호",
      "photoUrl": "https://lh3.googleusercontent.com/a-/AOh14GhLGRC49SI7WOuNBQAwvTUAj-ggmp6EPPCrjHhC=s64",
      "userId": "16551848544638359832"
     },
     "user_tz": -540
    },
    "id": "uSBAzHUfLs7g",
    "outputId": "a34f2750-3306-4a10-f6df-88c7b292c34e"
   },
   "outputs": [
    {
     "name": "stdout",
     "output_type": "stream",
     "text": [
      "Hello~\n"
     ]
    }
   ],
   "source": [
    "# alias 사용하기\n",
    "import mc_pkg.pkg2.hello as hi\n",
    "\n",
    "hi.hello_func()"
   ]
  },
  {
   "cell_type": "code",
   "execution_count": 26,
   "metadata": {
    "colab": {
     "base_uri": "https://localhost:8080/"
    },
    "executionInfo": {
     "elapsed": 252,
     "status": "ok",
     "timestamp": 1647911770913,
     "user": {
      "displayName": "소민호",
      "photoUrl": "https://lh3.googleusercontent.com/a-/AOh14GhLGRC49SI7WOuNBQAwvTUAj-ggmp6EPPCrjHhC=s64",
      "userId": "16551848544638359832"
     },
     "user_tz": -540
    },
    "id": "JSF0c6y5MC8o",
    "outputId": "c1576680-b56f-48c1-b19b-d42e1f7ebf93"
   },
   "outputs": [
    {
     "name": "stdout",
     "output_type": "stream",
     "text": [
      "Here is pkg1.my_module\n",
      "Good bye\n"
     ]
    }
   ],
   "source": [
    "from mc_pkg.pkg1.my_module import my_func\n",
    "\n",
    "my_func(\"하이하이\")"
   ]
  }
 ],
 "metadata": {
  "colab": {
   "authorship_tag": "ABX9TyO4lqyE4SURcbcjLgdDs9bR",
   "collapsed_sections": [],
   "name": "10. 모듈과 패키지",
   "provenance": []
  },
  "kernelspec": {
   "display_name": "Python 3 (ipykernel)",
   "language": "python",
   "name": "python3"
  },
  "language_info": {
   "codemirror_mode": {
    "name": "ipython",
    "version": 3
   },
   "file_extension": ".py",
   "mimetype": "text/x-python",
   "name": "python",
   "nbconvert_exporter": "python",
   "pygments_lexer": "ipython3",
   "version": "3.9.13"
  }
 },
 "nbformat": 4,
 "nbformat_minor": 1
}
