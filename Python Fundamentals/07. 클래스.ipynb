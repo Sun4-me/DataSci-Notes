{
 "cells": [
  {
   "cell_type": "markdown",
   "metadata": {
    "id": "WrNmjILuauqm"
   },
   "source": [
    "# 클래스( Class )\n",
    "- 변수와 함수를 묶어 놓은 **개념**\n",
    "  - 데이터와 기능을 함께 **표현**\n",
    "- 현실 세상에 존재하는 모든 것들을 **표현** 한다."
   ]
  },
  {
   "cell_type": "markdown",
   "metadata": {
    "id": "KXktAqmfd61s"
   },
   "source": [
    "## 클래스의 구조\n",
    "- 변수, 메소드(함수)\n",
    "  - 변수 : 데이터\n",
    "  - 메소드 : 기능\n",
    "- `Car` 클래스를 만드려면?\n",
    "  - `Car`의 데이터 : 브랜드, 배기량, 가격, 중량, 색상 등등등....\n",
    "  - `Car`의 기능 : 에어컨 켜기, 전진, 후진, 음악 재생, 라디오 등등..."
   ]
  },
  {
   "cell_type": "code",
   "execution_count": 36,
   "metadata": {
    "id": "tBgtkDG6vfIy"
   },
   "outputs": [],
   "source": [
    "# 클래스의 이름은 CamelCase\n",
    "class Car:\n",
    "    \n",
    "  # 멤버 변수 선언\n",
    "  brand = \"Audi\"\n",
    "  price = 8000\n",
    "\n",
    "  # 메소드 선언 부분\n",
    "  def drive(self):\n",
    "    print(\"차가 앞으로 갑니다.\")\n",
    "  \n",
    "  def brake(self):\n",
    "    print(\"차가 멈춥니다.\")"
   ]
  },
  {
   "cell_type": "code",
   "execution_count": 37,
   "metadata": {
    "colab": {
     "base_uri": "https://localhost:8080/"
    },
    "executionInfo": {
     "elapsed": 7,
     "status": "ok",
     "timestamp": 1647317536621,
     "user": {
      "displayName": "소민호",
      "photoUrl": "https://lh3.googleusercontent.com/a-/AOh14GhLGRC49SI7WOuNBQAwvTUAj-ggmp6EPPCrjHhC=s64",
      "userId": "16551848544638359832"
     },
     "user_tz": -540
    },
    "id": "TRqlQadDxPuL",
    "outputId": "cf491d9a-f569-4585-f25e-bc244157a8ca"
   },
   "outputs": [
    {
     "name": "stdout",
     "output_type": "stream",
     "text": [
      "Audi 8000\n"
     ]
    }
   ],
   "source": [
    "car = Car()\n",
    "\n",
    "print(car.brand, car.price)"
   ]
  },
  {
   "cell_type": "code",
   "execution_count": 38,
   "metadata": {
    "colab": {
     "base_uri": "https://localhost:8080/"
    },
    "executionInfo": {
     "elapsed": 348,
     "status": "ok",
     "timestamp": 1647317578979,
     "user": {
      "displayName": "소민호",
      "photoUrl": "https://lh3.googleusercontent.com/a-/AOh14GhLGRC49SI7WOuNBQAwvTUAj-ggmp6EPPCrjHhC=s64",
      "userId": "16551848544638359832"
     },
     "user_tz": -540
    },
    "id": "sZsYcNJRxswi",
    "outputId": "9c25d311-9380-4dc4-f360-9d0f5f24b998"
   },
   "outputs": [
    {
     "name": "stdout",
     "output_type": "stream",
     "text": [
      "차가 앞으로 갑니다.\n",
      "차가 멈춥니다.\n"
     ]
    }
   ],
   "source": [
    "car.drive()\n",
    "car.brake()"
   ]
  },
  {
   "cell_type": "markdown",
   "metadata": {
    "id": "fC1HFt4cx3H4"
   },
   "source": [
    "# 객체(Object), 인스턴스(instance)\n",
    "- 인스턴스 : 실체화된 객체(object)\n",
    "- 객체 : 클래스를 이용해서 만들 수 있는, 사용할 수 있는 것을 개념적으로 부르는 말"
   ]
  },
  {
   "cell_type": "code",
   "execution_count": 40,
   "metadata": {
    "id": "Ix19bJ4F2UhB"
   },
   "outputs": [],
   "source": [
    "# Car 클래스를 이용해서 객체를 만들었다.\n",
    "# Car 인스턴스를 2개 만들었다.\n",
    "철수 = Car()\n",
    "헌석 = Car()"
   ]
  },
  {
   "cell_type": "code",
   "execution_count": 41,
   "metadata": {
    "colab": {
     "base_uri": "https://localhost:8080/"
    },
    "executionInfo": {
     "elapsed": 1,
     "status": "ok",
     "timestamp": 1647319680047,
     "user": {
      "displayName": "소민호",
      "photoUrl": "https://lh3.googleusercontent.com/a-/AOh14GhLGRC49SI7WOuNBQAwvTUAj-ggmp6EPPCrjHhC=s64",
      "userId": "16551848544638359832"
     },
     "user_tz": -540
    },
    "id": "psXF70h-4F7Q",
    "outputId": "f18e6c27-d6a3-421c-dd24-eb1e8eb9a4b1"
   },
   "outputs": [
    {
     "data": {
      "text/plain": [
       "False"
      ]
     },
     "execution_count": 41,
     "metadata": {},
     "output_type": "execute_result"
    }
   ],
   "source": [
    "# 동일성 비교\n",
    "\n",
    "# 내 차랑 니 차가 동일한 차야?\n",
    "철수 == 헌석 # False"
   ]
  },
  {
   "cell_type": "code",
   "execution_count": 42,
   "metadata": {
    "colab": {
     "base_uri": "https://localhost:8080/"
    },
    "executionInfo": {
     "elapsed": 286,
     "status": "ok",
     "timestamp": 1647319673320,
     "user": {
      "displayName": "소민호",
      "photoUrl": "https://lh3.googleusercontent.com/a-/AOh14GhLGRC49SI7WOuNBQAwvTUAj-ggmp6EPPCrjHhC=s64",
      "userId": "16551848544638359832"
     },
     "user_tz": -540
    },
    "id": "YkkBDkZu5DGw",
    "outputId": "96a297b4-9afa-4ebd-95da-022052a98c17"
   },
   "outputs": [
    {
     "data": {
      "text/plain": [
       "True"
      ]
     },
     "execution_count": 42,
     "metadata": {},
     "output_type": "execute_result"
    }
   ],
   "source": [
    "# Car 인스턴스를 1개 만듦\n",
    "헌석 = Car() # 헌석의 차가 0x100\n",
    "헌석 = 철수  # 철수의 차도 0x100\n",
    "\n",
    "# 철수의 차는 헌석의 차와 같은 차야?\n",
    "철수 == 헌석"
   ]
  },
  {
   "cell_type": "markdown",
   "metadata": {
    "id": "f6b9EPyc5UDY"
   },
   "source": [
    "# 객체가 만들어지는 과정\n",
    "- `__init__` 메소드 : 생성자( `Constructor` )\n",
    "- 객체의 초기화를 담당\n",
    "  - 초기화(`initialization`) : 변수 및 객체가 만들어 질 때 **최초**로 값이 세팅되는 것\n",
    "- 객체가 처음 만들어 질 때 벌어지는 일들을 `__init__` 메소드에 작성한다.\n",
    "  - 보통 하는 일은 멤버 변수 초기화"
   ]
  },
  {
   "cell_type": "code",
   "execution_count": 7,
   "metadata": {
    "id": "mxoUn7bH9AAw"
   },
   "outputs": [],
   "source": [
    "# 변수의 초기화 - 처음 만들어진 변수에 값을 처음 할당 하는 것\n",
    "num = 10 # num이라는 변수를 선언하고 초기화"
   ]
  },
  {
   "cell_type": "code",
   "execution_count": 8,
   "metadata": {
    "id": "M77-99TM9kpo"
   },
   "outputs": [],
   "source": [
    "num = 2 # 초기화 x. 만들어진 변수 num에 2를 할당"
   ]
  },
  {
   "cell_type": "code",
   "execution_count": 9,
   "metadata": {
    "id": "S47u4JEN-DF2"
   },
   "outputs": [],
   "source": [
    "class Car:\n",
    "  # 생성자 정의하기\n",
    "  # 보통은 클래스가 객체가 되었을 때 사용해야 할 변수들(멤버 변수)을 만들 때 사용한다.\n",
    "\n",
    "  def __init__(self):\n",
    "    print(\"자동차가 만들어 집니다.\")\n",
    "    self.brand = \"Audi\"\n",
    "    self.price = 8000"
   ]
  },
  {
   "cell_type": "code",
   "execution_count": 10,
   "metadata": {
    "colab": {
     "base_uri": "https://localhost:8080/"
    },
    "executionInfo": {
     "elapsed": 291,
     "status": "ok",
     "timestamp": 1647321201627,
     "user": {
      "displayName": "소민호",
      "photoUrl": "https://lh3.googleusercontent.com/a-/AOh14GhLGRC49SI7WOuNBQAwvTUAj-ggmp6EPPCrjHhC=s64",
      "userId": "16551848544638359832"
     },
     "user_tz": -540
    },
    "id": "VwrG1Jmi_j9A",
    "outputId": "6cfefcc3-8b0c-49d5-9693-d36706e615e7"
   },
   "outputs": [
    {
     "name": "stdout",
     "output_type": "stream",
     "text": [
      "자동차가 만들어 집니다.\n"
     ]
    }
   ],
   "source": [
    "car = Car() # 클래스 이름() -> __init__을 호출해서 객체를 생성하는 코드"
   ]
  },
  {
   "cell_type": "code",
   "execution_count": 11,
   "metadata": {
    "id": "_umrMSB2_rkv"
   },
   "outputs": [],
   "source": [
    "class Car:\n",
    "\n",
    "  # 원하는 값으로 멤버 변수 초기화가 불가능\n",
    "  brand = \"Audi\"\n",
    "  price = 8000"
   ]
  },
  {
   "cell_type": "code",
   "execution_count": 12,
   "metadata": {
    "id": "1-ChQduCAq4n"
   },
   "outputs": [],
   "source": [
    "class Car:\n",
    "  def __init__(self, brand, price):\n",
    "    print(\"자동차가 만들어 집니다.\")\n",
    "    self.brand = brand\n",
    "    self.price = price"
   ]
  },
  {
   "cell_type": "code",
   "execution_count": 13,
   "metadata": {
    "colab": {
     "base_uri": "https://localhost:8080/"
    },
    "executionInfo": {
     "elapsed": 532,
     "status": "ok",
     "timestamp": 1647321672535,
     "user": {
      "displayName": "소민호",
      "photoUrl": "https://lh3.googleusercontent.com/a-/AOh14GhLGRC49SI7WOuNBQAwvTUAj-ggmp6EPPCrjHhC=s64",
      "userId": "16551848544638359832"
     },
     "user_tz": -540
    },
    "id": "j7tzbCcJBLKZ",
    "outputId": "7482bea0-4da7-4e4b-ab84-d18e8a95782f"
   },
   "outputs": [
    {
     "name": "stdout",
     "output_type": "stream",
     "text": [
      "자동차가 만들어 집니다.\n"
     ]
    }
   ],
   "source": [
    "# __init__ 메소드의 Parameter를 설정하여 원하는 값으로 객체의 멤버 변수들을 초기화 할 수있다.\n",
    "car = Car(\"현대\", 2500)"
   ]
  },
  {
   "cell_type": "code",
   "execution_count": 14,
   "metadata": {
    "colab": {
     "base_uri": "https://localhost:8080/"
    },
    "executionInfo": {
     "elapsed": 303,
     "status": "ok",
     "timestamp": 1647321688564,
     "user": {
      "displayName": "소민호",
      "photoUrl": "https://lh3.googleusercontent.com/a-/AOh14GhLGRC49SI7WOuNBQAwvTUAj-ggmp6EPPCrjHhC=s64",
      "userId": "16551848544638359832"
     },
     "user_tz": -540
    },
    "id": "6VXS0MO0Beev",
    "outputId": "7bcf7a20-19fe-4d77-a473-de00751a5d42"
   },
   "outputs": [
    {
     "name": "stdout",
     "output_type": "stream",
     "text": [
      "현대\n",
      "2500\n"
     ]
    }
   ],
   "source": [
    "print(car.brand)\n",
    "print(car.price)"
   ]
  },
  {
   "cell_type": "markdown",
   "metadata": {
    "id": "IVKPh2ISBuNX"
   },
   "source": [
    "# 객체 사용하기"
   ]
  },
  {
   "cell_type": "code",
   "execution_count": 17,
   "metadata": {
    "id": "BIiG8oCDFVSm"
   },
   "outputs": [],
   "source": [
    "class Car:\n",
    "\n",
    "  def __init__(self, brand, price):\n",
    "    print(\"자동차가 만들어 집니다.\")\n",
    "    self.brand = brand # 나의 brand에 파라미터 brand를 할당\n",
    "    self.price = price\n",
    "\n",
    "  def drive(self):\n",
    "    print(\"차가 앞으로 갑니다.\")\n",
    "\n",
    "  def print_car_info(self):\n",
    "    print(f\"이 차는 {self.brand}이고, 가격은 {self.price} 입니다.\")"
   ]
  },
  {
   "cell_type": "code",
   "execution_count": 18,
   "metadata": {
    "colab": {
     "base_uri": "https://localhost:8080/"
    },
    "executionInfo": {
     "elapsed": 2,
     "status": "ok",
     "timestamp": 1647324188599,
     "user": {
      "displayName": "소민호",
      "photoUrl": "https://lh3.googleusercontent.com/a-/AOh14GhLGRC49SI7WOuNBQAwvTUAj-ggmp6EPPCrjHhC=s64",
      "userId": "16551848544638359832"
     },
     "user_tz": -540
    },
    "id": "VnlvnBs5F7AV",
    "outputId": "806681fa-6eea-4feb-8314-641655aae856"
   },
   "outputs": [
    {
     "name": "stdout",
     "output_type": "stream",
     "text": [
      "자동차가 만들어 집니다.\n",
      "차가 앞으로 갑니다.\n"
     ]
    }
   ],
   "source": [
    "car = Car(\"BMW\", 8000)\n",
    "\n",
    "car.drive()"
   ]
  },
  {
   "cell_type": "code",
   "execution_count": 19,
   "metadata": {
    "colab": {
     "base_uri": "https://localhost:8080/"
    },
    "executionInfo": {
     "elapsed": 2,
     "status": "ok",
     "timestamp": 1647324189265,
     "user": {
      "displayName": "소민호",
      "photoUrl": "https://lh3.googleusercontent.com/a-/AOh14GhLGRC49SI7WOuNBQAwvTUAj-ggmp6EPPCrjHhC=s64",
      "userId": "16551848544638359832"
     },
     "user_tz": -540
    },
    "id": "Df7Omt7HGf3u",
    "outputId": "32bba925-5ec0-441f-8e63-e8931c52c941"
   },
   "outputs": [
    {
     "name": "stdout",
     "output_type": "stream",
     "text": [
      "이 차는 BMW이고, 가격은 8000 입니다.\n"
     ]
    }
   ],
   "source": [
    "car.print_car_info()"
   ]
  },
  {
   "cell_type": "markdown",
   "metadata": {
    "id": "W7hVuBnDLRvO"
   },
   "source": [
    "# self\n",
    "- 객체 자기 자신을 참조하는 키워드\n",
    "- **멤버 메소드(메소드)**의 제일 앞에 있는 Parameter\n",
    "\n",
    "- 멤버 변수나, 멤버 메소드\n",
    "  - **반드시** 객체가 만들어 져야만 사용 할 수 있는 것들\n",
    "\n",
    "`self` : 나의 ~~~"
   ]
  },
  {
   "cell_type": "code",
   "execution_count": 43,
   "metadata": {
    "id": "_6HjNUYAK8r2"
   },
   "outputs": [],
   "source": [
    "class Person:\n",
    "  def __init__(self, name, job):\n",
    "    self.name = name\n",
    "    self.job  = job\n",
    "\n",
    "  def print_info(self, param):\n",
    "    print(id(self))\n",
    "    print(param)\n",
    "    print(f\"{self.name}은 {self.job} 입니다.\")"
   ]
  },
  {
   "cell_type": "code",
   "execution_count": 44,
   "metadata": {
    "id": "XAr0eSMsLewP"
   },
   "outputs": [],
   "source": [
    "p1 = Person(\"철수\", \"선생님\")"
   ]
  },
  {
   "cell_type": "code",
   "execution_count": 46,
   "metadata": {
    "colab": {
     "base_uri": "https://localhost:8080/"
    },
    "executionInfo": {
     "elapsed": 383,
     "status": "ok",
     "timestamp": 1647326634197,
     "user": {
      "displayName": "소민호",
      "photoUrl": "https://lh3.googleusercontent.com/a-/AOh14GhLGRC49SI7WOuNBQAwvTUAj-ggmp6EPPCrjHhC=s64",
      "userId": "16551848544638359832"
     },
     "user_tz": -540
    },
    "id": "dzFVvJiASSgF",
    "outputId": "557254bf-2fa7-4231-a284-b08e3032a9be"
   },
   "outputs": [
    {
     "name": "stdout",
     "output_type": "stream",
     "text": [
      "1855804936736\n",
      "Hi\n",
      "철수은 선생님 입니다.\n"
     ]
    }
   ],
   "source": [
    "p1.print_info(\"Hi\")"
   ]
  },
  {
   "cell_type": "code",
   "execution_count": 24,
   "metadata": {
    "id": "Bbcx3tQaSTdl"
   },
   "outputs": [],
   "source": [
    "class Foo:\n",
    "\n",
    "  def foo1(self):\n",
    "    print(\"foo1\")\n",
    "\n",
    "  def foo2(self):\n",
    "    print(\"foo2\")\n",
    "    # 나의 foo1을 실행해라\n",
    "    self.foo1()  "
   ]
  },
  {
   "cell_type": "code",
   "execution_count": 25,
   "metadata": {
    "colab": {
     "base_uri": "https://localhost:8080/"
    },
    "executionInfo": {
     "elapsed": 742,
     "status": "ok",
     "timestamp": 1647326273175,
     "user": {
      "displayName": "소민호",
      "photoUrl": "https://lh3.googleusercontent.com/a-/AOh14GhLGRC49SI7WOuNBQAwvTUAj-ggmp6EPPCrjHhC=s64",
      "userId": "16551848544638359832"
     },
     "user_tz": -540
    },
    "id": "19dOwLI3S7gm",
    "outputId": "f68028a2-e69a-4efd-bbf8-4d09dc681603"
   },
   "outputs": [
    {
     "name": "stdout",
     "output_type": "stream",
     "text": [
      "foo2\n",
      "foo1\n"
     ]
    }
   ],
   "source": [
    "f = Foo()\n",
    "f.foo2()"
   ]
  },
  {
   "cell_type": "markdown",
   "metadata": {
    "id": "kl_kyQuQW54E"
   },
   "source": [
    "# 상속\n",
    "- 클래스의 기능을 가져다가 그 기능을 수정하거나, 추가 할 때 사용하는 방법\n",
    "- **확장**의 개념"
   ]
  },
  {
   "cell_type": "code",
   "execution_count": 28,
   "metadata": {
    "id": "QkSScTTXE0MQ"
   },
   "outputs": [],
   "source": [
    "class A:\n",
    "  \n",
    "  def __init__(self):\n",
    "    self.msg = \"Here is A\"\n",
    "\n",
    "  def foo(self):\n",
    "    print(f\"foo() => {self.msg}\")"
   ]
  },
  {
   "cell_type": "code",
   "execution_count": 29,
   "metadata": {
    "id": "qfkfXIykHRoA"
   },
   "outputs": [],
   "source": [
    "# A 클래스를 상속한 B 클래스 생성\n",
    "class B(A):\n",
    "  def goo(self):\n",
    "    print(\"Here is B\")"
   ]
  },
  {
   "cell_type": "code",
   "execution_count": 30,
   "metadata": {
    "colab": {
     "base_uri": "https://localhost:8080/"
    },
    "executionInfo": {
     "elapsed": 11,
     "status": "ok",
     "timestamp": 1647390863013,
     "user": {
      "displayName": "소민호",
      "photoUrl": "https://lh3.googleusercontent.com/a-/AOh14GhLGRC49SI7WOuNBQAwvTUAj-ggmp6EPPCrjHhC=s64",
      "userId": "16551848544638359832"
     },
     "user_tz": -540
    },
    "id": "kANRdscTHk_P",
    "outputId": "38f4759d-07c9-4c73-a056-1f3b9df52883"
   },
   "outputs": [
    {
     "name": "stdout",
     "output_type": "stream",
     "text": [
      "Here is B\n"
     ]
    }
   ],
   "source": [
    "b = B()\n",
    "b.goo()"
   ]
  },
  {
   "cell_type": "code",
   "execution_count": 31,
   "metadata": {
    "colab": {
     "base_uri": "https://localhost:8080/"
    },
    "executionInfo": {
     "elapsed": 7,
     "status": "ok",
     "timestamp": 1647390889936,
     "user": {
      "displayName": "소민호",
      "photoUrl": "https://lh3.googleusercontent.com/a-/AOh14GhLGRC49SI7WOuNBQAwvTUAj-ggmp6EPPCrjHhC=s64",
      "userId": "16551848544638359832"
     },
     "user_tz": -540
    },
    "id": "wJux0RKoJasH",
    "outputId": "4911f9ec-4748-4492-8066-f988e13a3bd4"
   },
   "outputs": [
    {
     "name": "stdout",
     "output_type": "stream",
     "text": [
      "foo() => Here is A\n"
     ]
    }
   ],
   "source": [
    "# A의 기능인 foo()를 B에서도 사용이 가능\n",
    "b.foo()"
   ]
  },
  {
   "cell_type": "code",
   "execution_count": 32,
   "metadata": {
    "colab": {
     "base_uri": "https://localhost:8080/",
     "height": 35
    },
    "executionInfo": {
     "elapsed": 302,
     "status": "ok",
     "timestamp": 1647390918531,
     "user": {
      "displayName": "소민호",
      "photoUrl": "https://lh3.googleusercontent.com/a-/AOh14GhLGRC49SI7WOuNBQAwvTUAj-ggmp6EPPCrjHhC=s64",
      "userId": "16551848544638359832"
     },
     "user_tz": -540
    },
    "id": "0-lbZAzVJhT9",
    "outputId": "5160d5b1-bf43-4671-d0f4-5a2a1fdefb4e"
   },
   "outputs": [
    {
     "data": {
      "text/plain": [
       "'Here is A'"
      ]
     },
     "execution_count": 32,
     "metadata": {},
     "output_type": "execute_result"
    }
   ],
   "source": [
    "b.msg"
   ]
  },
  {
   "cell_type": "code",
   "execution_count": 33,
   "metadata": {
    "colab": {
     "base_uri": "https://localhost:8080/"
    },
    "executionInfo": {
     "elapsed": 9,
     "status": "ok",
     "timestamp": 1647390972000,
     "user": {
      "displayName": "소민호",
      "photoUrl": "https://lh3.googleusercontent.com/a-/AOh14GhLGRC49SI7WOuNBQAwvTUAj-ggmp6EPPCrjHhC=s64",
      "userId": "16551848544638359832"
     },
     "user_tz": -540
    },
    "id": "KgIgZCuTJoPH",
    "outputId": "73f6b274-6e31-4423-b1f2-67ed3ee0e9ab"
   },
   "outputs": [
    {
     "name": "stdout",
     "output_type": "stream",
     "text": [
      "foo() => Here is A\n"
     ]
    }
   ],
   "source": [
    "a = A()\n",
    "a.foo() # 문제 X\n",
    "        # a.goo() 는 안된다."
   ]
  },
  {
   "cell_type": "markdown",
   "metadata": {
    "id": "VOov6eLGJ7WF"
   },
   "source": [
    "핸드폰 만들어 보기\n",
    "- 기초(부모) 클래스에서는? : 파생 클래스의 공통적인 기능, 데이터를 정의한다.\n",
    "- 파생(자식) 클래스에서는? : 부모클래스로 부터 받아온 기능, 데이터를 자식 클래스에 맞게 수정하거나 기능을 추가"
   ]
  },
  {
   "cell_type": "code",
   "execution_count": 47,
   "metadata": {
    "id": "KSax56X8KHhX"
   },
   "outputs": [],
   "source": [
    "# 스마트폰의 기능 - 전화 걸기, 인터넷\n",
    "class SmartPhone:\n",
    "\n",
    "  def call(self):\n",
    "    print(\"전화를 겁니다.\")\n",
    "\n",
    "  def do_internet(self):\n",
    "    print(\"인터넷을 합니다.\")"
   ]
  },
  {
   "cell_type": "code",
   "execution_count": 48,
   "metadata": {
    "id": "sAZhZJmXK1MW"
   },
   "outputs": [],
   "source": [
    "# 갤럭시는 스마트폰이다. - 통화 녹음, 삼성페이\n",
    "class Galaxy(SmartPhone):\n",
    "  def record(self):\n",
    "    print(\"통화 녹음을 합니다.\")\n",
    "  def samsung_pay(self):\n",
    "    print(\"삼성페이로 결제를 합니다.\")\n",
    "\n",
    "# 아이폰은 스마트폰이다. - 앱스토어, 애플뮤직, 에어드랍\n",
    "class IPhone(SmartPhone):\n",
    "  def app_store(self):\n",
    "    print(\"어플 다운로드 하기\")\n",
    "  def air_drop(self):\n",
    "    print(\"에어드랍으로 사진 보내기\")"
   ]
  },
  {
   "cell_type": "code",
   "execution_count": 49,
   "metadata": {
    "colab": {
     "base_uri": "https://localhost:8080/"
    },
    "executionInfo": {
     "elapsed": 3,
     "status": "ok",
     "timestamp": 1647391710079,
     "user": {
      "displayName": "소민호",
      "photoUrl": "https://lh3.googleusercontent.com/a-/AOh14GhLGRC49SI7WOuNBQAwvTUAj-ggmp6EPPCrjHhC=s64",
      "userId": "16551848544638359832"
     },
     "user_tz": -540
    },
    "id": "kOZ8UlteMSG-",
    "outputId": "7e20c2b4-02cb-4d02-a8c3-961337adf913",
    "scrolled": true
   },
   "outputs": [
    {
     "name": "stdout",
     "output_type": "stream",
     "text": [
      "전화를 겁니다.\n",
      "인터넷을 합니다.\n",
      "통화 녹음을 합니다.\n",
      "삼성페이로 결제를 합니다.\n"
     ]
    }
   ],
   "source": [
    "gal = Galaxy()\n",
    "gal.call()        # 스마트폰의 공통 기능\n",
    "gal.do_internet() # 스마트폰의 공통 기능\n",
    "\n",
    "gal.record()      # 갤럭시만의 기능\n",
    "gal.samsung_pay() # 갤럭시만의 기능"
   ]
  },
  {
   "cell_type": "markdown",
   "metadata": {},
   "source": [
    "# 오버라이딩(override)\n",
    "- 부모로부터 받는 메소드를 **수정**하고 싶을 때 사용한다.\n",
    "- 자식클래스에서 부모클래스로부터 물려받은 메소드를 **재정의**\n",
    "\n",
    "## 오버라이딩의 규칙\n",
    "  - 부모클래스의 메소드 형식(이름, 파라미터 등)을 자식클래스에서 똑같이 따라해야 한다."
   ]
  },
  {
   "cell_type": "code",
   "execution_count": 52,
   "metadata": {
    "id": "69C1uHGXPeew"
   },
   "outputs": [],
   "source": [
    "class Animal:\n",
    "\n",
    "  def eat(self):\n",
    "    print(\"동물이 먹이를 먹습니다.\")\n",
    "\n",
    "  def sleep(self):\n",
    "    print(\"동물이 잠에 들었습니다.\")\n",
    "\n",
    "class Lion(Animal):\n",
    "\n",
    "  def hunt(self):\n",
    "    print(\"사자가 사냥을 합니다.\")\n",
    "\n",
    "class Bird(Animal):\n",
    "\n",
    "  def fly(self):\n",
    "    print(\"새가 날아다닙니다.\")"
   ]
  },
  {
   "cell_type": "code",
   "execution_count": 53,
   "metadata": {
    "colab": {
     "base_uri": "https://localhost:8080/"
    },
    "executionInfo": {
     "elapsed": 6,
     "status": "ok",
     "timestamp": 1647393275316,
     "user": {
      "displayName": "소민호",
      "photoUrl": "https://lh3.googleusercontent.com/a-/AOh14GhLGRC49SI7WOuNBQAwvTUAj-ggmp6EPPCrjHhC=s64",
      "userId": "16551848544638359832"
     },
     "user_tz": -540
    },
    "id": "vtIwxkPoSOme",
    "outputId": "d3fbba96-e3ea-4f67-98e2-f03b18df8e54"
   },
   "outputs": [
    {
     "name": "stdout",
     "output_type": "stream",
     "text": [
      "동물이 먹이를 먹습니다.\n"
     ]
    }
   ],
   "source": [
    "lion = Lion()\n",
    "lion.eat()"
   ]
  },
  {
   "cell_type": "code",
   "execution_count": 56,
   "metadata": {
    "id": "vEZBdRylTPOt"
   },
   "outputs": [],
   "source": [
    "# 사자는 eat()을 할 때 \"사자는 고기를 먹습니다.\"\n",
    "class Lion2(Animal):\n",
    "\n",
    "  def hunt(self):\n",
    "    print(\"사자가 사냥을 합니다.\")\n",
    "\n",
    "  # eat을 오버라이딩\n",
    "  def eat(self):\n",
    "    print(\"사자가 고기를 먹습니다.\")"
   ]
  },
  {
   "cell_type": "code",
   "execution_count": 57,
   "metadata": {
    "colab": {
     "base_uri": "https://localhost:8080/"
    },
    "executionInfo": {
     "elapsed": 2,
     "status": "ok",
     "timestamp": 1647393706973,
     "user": {
      "displayName": "소민호",
      "photoUrl": "https://lh3.googleusercontent.com/a-/AOh14GhLGRC49SI7WOuNBQAwvTUAj-ggmp6EPPCrjHhC=s64",
      "userId": "16551848544638359832"
     },
     "user_tz": -540
    },
    "id": "rE1b2ZcTUCLF",
    "outputId": "3577b4b9-7da3-4ab5-fff2-72bb907eba64"
   },
   "outputs": [
    {
     "name": "stdout",
     "output_type": "stream",
     "text": [
      "사자가 고기를 먹습니다.\n"
     ]
    }
   ],
   "source": [
    "lion2 = Lion2()\n",
    "lion2.eat()"
   ]
  },
  {
   "cell_type": "markdown",
   "metadata": {
    "id": "ZS_FRh4CUPLd"
   },
   "source": [
    "# 상속의 법칙\n",
    "- 자식클래스의 객체를 생성하면 부모클래스의 객체가 먼저 만들어 진다."
   ]
  },
  {
   "cell_type": "code",
   "execution_count": 58,
   "metadata": {
    "id": "1JoCuXnkWEs7"
   },
   "outputs": [],
   "source": [
    "class Animal:\n",
    "\n",
    "  def __init__(self, name):\n",
    "    print(\"동물 객체가 만들어 집니다.\")\n",
    "    self.name = name\n",
    "  \n",
    "  def eat(self):\n",
    "    print(f\"{self.name}이(가) 먹이를 먹습니다.\")"
   ]
  },
  {
   "cell_type": "code",
   "execution_count": 59,
   "metadata": {
    "id": "LX_rR2DPXFDt"
   },
   "outputs": [],
   "source": [
    "class Lion3(Animal):\n",
    "\n",
    "  # 부모클래스의 생성자에 name을 넣어줘야 한다.\n",
    "  # 자식클래스가 부모클래스 생성자의 Argument를 책임진다.\n",
    "  def __init__(self, name):\n",
    "    # 멤버 변수 오버라이딩 - 하지 말 것.\n",
    "    # self.name = name\n",
    "\n",
    "    # 자식 클래스에서 받아온 name 파라미터를 부모클래스로 올려주기\n",
    "    super(Lion3, self).__init__(name) # 부모클래스의 생성자를 자식 클래스에서 직접 호출해 주는 코드\n",
    "\n",
    "  def hunt(self):\n",
    "    print(\"사자가 사냥을 합니다\")"
   ]
  },
  {
   "cell_type": "code",
   "execution_count": 60,
   "metadata": {
    "colab": {
     "base_uri": "https://localhost:8080/"
    },
    "executionInfo": {
     "elapsed": 3,
     "status": "ok",
     "timestamp": 1647395844023,
     "user": {
      "displayName": "소민호",
      "photoUrl": "https://lh3.googleusercontent.com/a-/AOh14GhLGRC49SI7WOuNBQAwvTUAj-ggmp6EPPCrjHhC=s64",
      "userId": "16551848544638359832"
     },
     "user_tz": -540
    },
    "id": "vjs6QtfUXVLV",
    "outputId": "f41ad67a-4df9-4532-9646-ce37baaff2b6"
   },
   "outputs": [
    {
     "name": "stdout",
     "output_type": "stream",
     "text": [
      "동물 객체가 만들어 집니다.\n",
      "사자가 사냥을 합니다\n",
      "심바이(가) 먹이를 먹습니다.\n"
     ]
    }
   ],
   "source": [
    "lion3 = Lion3(\"심바\")\n",
    "lion3.hunt()\n",
    "lion3.eat()"
   ]
  },
  {
   "cell_type": "markdown",
   "metadata": {
    "id": "ByX-ZZ8Hkc4T"
   },
   "source": [
    "# getter & setter\n",
    "- 멤버 변수에 접근할 때 특정 **로직**을 거쳐서 접근시키는 방법"
   ]
  },
  {
   "cell_type": "code",
   "execution_count": 61,
   "metadata": {
    "id": "Zt7ETIaHlQT1"
   },
   "outputs": [],
   "source": [
    "class User1:\n",
    "\n",
    "  def __init__(self, name):\n",
    "    # 글자 수가 3글자 이상이 되어야만 회원이름이 등록이 된다.\n",
    "    if len(name) >= 3:\n",
    "      self.name = name\n",
    "    else:\n",
    "      self.name = None\n",
    "      print(\"길이가 짧습니다.\")"
   ]
  },
  {
   "cell_type": "code",
   "execution_count": 62,
   "metadata": {
    "colab": {
     "base_uri": "https://localhost:8080/"
    },
    "executionInfo": {
     "elapsed": 302,
     "status": "ok",
     "timestamp": 1647398446136,
     "user": {
      "displayName": "소민호",
      "photoUrl": "https://lh3.googleusercontent.com/a-/AOh14GhLGRC49SI7WOuNBQAwvTUAj-ggmp6EPPCrjHhC=s64",
      "userId": "16551848544638359832"
     },
     "user_tz": -540
    },
    "id": "K1sPVSL-mEaC",
    "outputId": "d6927e69-35a9-47ea-bd3e-4a1c6b2cb280"
   },
   "outputs": [
    {
     "name": "stdout",
     "output_type": "stream",
     "text": [
      "길이가 짧습니다.\n"
     ]
    }
   ],
   "source": [
    "user1 = User1(\"a\")\n",
    "user1.name"
   ]
  },
  {
   "cell_type": "code",
   "execution_count": 63,
   "metadata": {
    "id": "EfPm-1zcmQ_a"
   },
   "outputs": [],
   "source": [
    "class User2:\n",
    "\n",
    "  def __init__(self, first_name):\n",
    "    self.first_name = first_name\n",
    "\n",
    "  # 멤버 변수 first_name에 \"값이 들어갈 때 수행\"되는 메소드\n",
    "  def setter(self, first_name):\n",
    "    print(\"Set First Name\")\n",
    "\n",
    "    if len(first_name) >= 3:\n",
    "      print(\"Set first name success\")\n",
    "      self.first_name = first_name\n",
    "    else:\n",
    "      print(\"get first name failed\")\n",
    "      self.first_name = None\n",
    "  \n",
    "  # 멤버 변수 first_name을 \"가져 올 때\" 수행되는 메소드\n",
    "  def getter(self):\n",
    "    print(\"Get first name UPPER\")\n",
    "    return self.first_name.upper()\n",
    "\n",
    "\n",
    "  # setter, getter를 등록하기\n",
    "  name = property(getter, setter)"
   ]
  },
  {
   "cell_type": "code",
   "execution_count": 70,
   "metadata": {
    "colab": {
     "base_uri": "https://localhost:8080/"
    },
    "executionInfo": {
     "elapsed": 11,
     "status": "ok",
     "timestamp": 1647420512854,
     "user": {
      "displayName": "소민호",
      "photoUrl": "https://lh3.googleusercontent.com/a-/AOh14GhLGRC49SI7WOuNBQAwvTUAj-ggmp6EPPCrjHhC=s64",
      "userId": "16551848544638359832"
     },
     "user_tz": -540
    },
    "id": "Gqsy3heh80gP",
    "outputId": "3f496524-8c41-4a92-e07c-b14d1710562e"
   },
   "outputs": [
    {
     "name": "stdout",
     "output_type": "stream",
     "text": [
      "Set First Name\n",
      "get first name failed\n"
     ]
    }
   ],
   "source": [
    "# 대입 연산이 일어날 때 setter가 자동으로 작동\n",
    "user2.name = \"s\""
   ]
  },
  {
   "cell_type": "code",
   "execution_count": 71,
   "metadata": {
    "colab": {
     "base_uri": "https://localhost:8080/"
    },
    "executionInfo": {
     "elapsed": 282,
     "status": "ok",
     "timestamp": 1647404720959,
     "user": {
      "displayName": "소민호",
      "photoUrl": "https://lh3.googleusercontent.com/a-/AOh14GhLGRC49SI7WOuNBQAwvTUAj-ggmp6EPPCrjHhC=s64",
      "userId": "16551848544638359832"
     },
     "user_tz": -540
    },
    "id": "7HeyqYMT9Cnp",
    "outputId": "8b9f444a-fce6-403c-b09c-ca3b89e541a4"
   },
   "outputs": [
    {
     "name": "stdout",
     "output_type": "stream",
     "text": [
      "Set First Name\n",
      "Set first name success\n"
     ]
    }
   ],
   "source": [
    "user2.name = \"sun\" # setter를 호출함 => user2.setter(\"sun\")\n",
    "# user2.first_name"
   ]
  },
  {
   "cell_type": "code",
   "execution_count": 72,
   "metadata": {
    "colab": {
     "base_uri": "https://localhost:8080/"
    },
    "executionInfo": {
     "elapsed": 272,
     "status": "ok",
     "timestamp": 1647404503640,
     "user": {
      "displayName": "소민호",
      "photoUrl": "https://lh3.googleusercontent.com/a-/AOh14GhLGRC49SI7WOuNBQAwvTUAj-ggmp6EPPCrjHhC=s64",
      "userId": "16551848544638359832"
     },
     "user_tz": -540
    },
    "id": "YPoZoCQi9VvP",
    "outputId": "25ce32a2-5e45-4f34-d2c0-f338e85d91ae"
   },
   "outputs": [
    {
     "name": "stdout",
     "output_type": "stream",
     "text": [
      "Get first name UPPER\n",
      "SUN\n"
     ]
    }
   ],
   "source": [
    "# 변수에 들어있는 값을 사용 할 때 getter가 자동으로 작동\n",
    "print(user2.name)"
   ]
  },
  {
   "cell_type": "code",
   "execution_count": 73,
   "metadata": {
    "colab": {
     "base_uri": "https://localhost:8080/",
     "height": 35
    },
    "executionInfo": {
     "elapsed": 277,
     "status": "ok",
     "timestamp": 1647404567789,
     "user": {
      "displayName": "소민호",
      "photoUrl": "https://lh3.googleusercontent.com/a-/AOh14GhLGRC49SI7WOuNBQAwvTUAj-ggmp6EPPCrjHhC=s64",
      "userId": "16551848544638359832"
     },
     "user_tz": -540
    },
    "id": "U9bSDxuD9c_H",
    "outputId": "5d895914-ab51-46c8-d1eb-b516c5a04168"
   },
   "outputs": [
    {
     "data": {
      "text/plain": [
       "'s'"
      ]
     },
     "execution_count": 73,
     "metadata": {},
     "output_type": "execute_result"
    }
   ],
   "source": [
    "# 맘에 안드는 것 - 위험하다.\n",
    "user2.first_name = \"s\"\n",
    "user2.first_name"
   ]
  },
  {
   "cell_type": "markdown",
   "metadata": {
    "id": "EOOxUJ489spX"
   },
   "source": [
    "# non public ( private화 )\n",
    "- `private` : 클래스의 멤버 변수를 클래스 내부에서만 사용하게 하는 것\n",
    "- `first_name`은 `getter`와 `setter`를 거쳐서 값을 집어 넣고, 가져오기로 했기 때문에\n",
    "- 바깥에서( 클래스 내부가 아닌 곳 ) 사용이 불가능 하도록 설정\n",
    "- **맹글링(mangling)** 기법을 이용해서 외부에서 직접적으로 변수나 메소드에 접근하는 것을 막을 수 있다."
   ]
  },
  {
   "cell_type": "code",
   "execution_count": 75,
   "metadata": {
    "id": "W88N76Bk-_Li"
   },
   "outputs": [],
   "source": [
    "class User3:\n",
    "\n",
    "  def __init__(self, first_name, age):\n",
    "\n",
    "    # 맹글링이란?\n",
    "    # 멤버 변수, 메소드의 이름 앞에 언더바 두번(__) 붙여서 짓는 기법\n",
    "    \n",
    "    self.__first_name = first_name # first_name은 맹글링이 된 상태\n",
    "    self.age = age # age는 맹글링이 되지 않은 상태\n",
    "\n",
    "  # 맹글링 된 변수는 클래스 내부에서는 언제든지 사용할 수 있다.\n",
    "  def getter(self):\n",
    "    return self.__first_name\n",
    "\n",
    "  def setter(self, first_name):\n",
    "    \n",
    "    if len(first_name) >= 3:\n",
    "      print(\"[Success] Set First name\")\n",
    "      self.__first_name = first_name\n",
    "    else:\n",
    "      print(\"[Error] Set First name\")\n",
    "      self.__first_name = None\n",
    "  \n",
    "  name = property(getter, setter)"
   ]
  },
  {
   "cell_type": "code",
   "execution_count": 76,
   "metadata": {
    "id": "K_CTkcOOAJZn"
   },
   "outputs": [],
   "source": [
    "user3 = User3(\"Sun\", 30)"
   ]
  },
  {
   "cell_type": "code",
   "execution_count": 85,
   "metadata": {
    "colab": {
     "base_uri": "https://localhost:8080/"
    },
    "executionInfo": {
     "elapsed": 6,
     "status": "ok",
     "timestamp": 1647405815888,
     "user": {
      "displayName": "소민호",
      "photoUrl": "https://lh3.googleusercontent.com/a-/AOh14GhLGRC49SI7WOuNBQAwvTUAj-ggmp6EPPCrjHhC=s64",
      "userId": "16551848544638359832"
     },
     "user_tz": -540
    },
    "id": "iY1yTUaOB3bO",
    "outputId": "62456ec0-de67-4200-8625-1befd8f246e8"
   },
   "outputs": [
    {
     "name": "stdout",
     "output_type": "stream",
     "text": [
      "[Error] Set First name\n"
     ]
    }
   ],
   "source": [
    "user3.name = \"s\""
   ]
  },
  {
   "cell_type": "code",
   "execution_count": 87,
   "metadata": {
    "colab": {
     "base_uri": "https://localhost:8080/"
    },
    "executionInfo": {
     "elapsed": 3,
     "status": "ok",
     "timestamp": 1647405816880,
     "user": {
      "displayName": "소민호",
      "photoUrl": "https://lh3.googleusercontent.com/a-/AOh14GhLGRC49SI7WOuNBQAwvTUAj-ggmp6EPPCrjHhC=s64",
      "userId": "16551848544638359832"
     },
     "user_tz": -540
    },
    "id": "4NPyWmNzCDgW",
    "outputId": "2d01e8cc-ee79-4a70-83c7-067efefddb1e"
   },
   "outputs": [
    {
     "name": "stdout",
     "output_type": "stream",
     "text": [
      "[Success] Set First name\n"
     ]
    }
   ],
   "source": [
    "user3.name = \"Sun\""
   ]
  },
  {
   "cell_type": "code",
   "execution_count": 81,
   "metadata": {
    "id": "OLZpFMMPDC3n"
   },
   "outputs": [],
   "source": [
    "user3.__first_name = \"아무거나 집어 넣기\""
   ]
  },
  {
   "cell_type": "code",
   "execution_count": 82,
   "metadata": {
    "colab": {
     "base_uri": "https://localhost:8080/",
     "height": 35
    },
    "executionInfo": {
     "elapsed": 266,
     "status": "ok",
     "timestamp": 1647406026547,
     "user": {
      "displayName": "소민호",
      "photoUrl": "https://lh3.googleusercontent.com/a-/AOh14GhLGRC49SI7WOuNBQAwvTUAj-ggmp6EPPCrjHhC=s64",
      "userId": "16551848544638359832"
     },
     "user_tz": -540
    },
    "id": "RNwycI7UDPLJ",
    "outputId": "c4fd8c0a-2f3e-4751-f772-3988c74e57cc"
   },
   "outputs": [
    {
     "data": {
      "text/plain": [
       "'아무거나 집어 넣기'"
      ]
     },
     "execution_count": 82,
     "metadata": {},
     "output_type": "execute_result"
    }
   ],
   "source": [
    "user3.__first_name"
   ]
  },
  {
   "cell_type": "code",
   "execution_count": 88,
   "metadata": {
    "colab": {
     "base_uri": "https://localhost:8080/",
     "height": 35
    },
    "executionInfo": {
     "elapsed": 4,
     "status": "ok",
     "timestamp": 1647406036562,
     "user": {
      "displayName": "소민호",
      "photoUrl": "https://lh3.googleusercontent.com/a-/AOh14GhLGRC49SI7WOuNBQAwvTUAj-ggmp6EPPCrjHhC=s64",
      "userId": "16551848544638359832"
     },
     "user_tz": -540
    },
    "id": "bF5WiE2iDQyu",
    "outputId": "af9a2977-6a79-4ec7-8fd6-e4a46b88bc33"
   },
   "outputs": [
    {
     "data": {
      "text/plain": [
       "'Sun'"
      ]
     },
     "execution_count": 88,
     "metadata": {},
     "output_type": "execute_result"
    }
   ],
   "source": [
    "user3.name"
   ]
  },
  {
   "cell_type": "code",
   "execution_count": 84,
   "metadata": {
    "colab": {
     "base_uri": "https://localhost:8080/"
    },
    "executionInfo": {
     "elapsed": 349,
     "status": "ok",
     "timestamp": 1647406096866,
     "user": {
      "displayName": "소민호",
      "photoUrl": "https://lh3.googleusercontent.com/a-/AOh14GhLGRC49SI7WOuNBQAwvTUAj-ggmp6EPPCrjHhC=s64",
      "userId": "16551848544638359832"
     },
     "user_tz": -540
    },
    "id": "M4DVnHwZDTOm",
    "outputId": "d8e49854-1b65-44f8-adcb-dca8e7cdfe81"
   },
   "outputs": [
    {
     "data": {
      "text/plain": [
       "30"
      ]
     },
     "execution_count": 84,
     "metadata": {},
     "output_type": "execute_result"
    }
   ],
   "source": [
    "# age는 맹글링이 되어있지 않기 때문에 아무데서나 접근이 가능하다\n",
    "user3.age"
   ]
  },
  {
   "cell_type": "markdown",
   "metadata": {
    "id": "rZCobe03GcpW"
   },
   "source": [
    "# 메소드 맹글링"
   ]
  },
  {
   "cell_type": "code",
   "execution_count": 89,
   "metadata": {
    "id": "Srte-7PsGo3I"
   },
   "outputs": [],
   "source": [
    "class User4:\n",
    "\n",
    "  def __init__(self, first_name, age):\n",
    "\n",
    "    # setter를 이용해서 초기화\n",
    "    self.set_first_name(first_name)\n",
    "    self.set_age(age)\n",
    "\n",
    "  # first_name에 대한 setter\n",
    "  def set_first_name(self, first_name):\n",
    "\n",
    "    if len(first_name) >= 3:\n",
    "      self.__first_name = first_name\n",
    "    else:\n",
    "      self.__first_name = None\n",
    "\n",
    "  # age에 대한 setter\n",
    "  def set_age(self, age):\n",
    "\n",
    "    if age > 0 :\n",
    "      self.__age = age\n",
    "    else:\n",
    "      self.__age = None\n",
    "  \n",
    "  # first_name에 대한 getter\n",
    "  def get_first_name(self):\n",
    "    # 이름 중간의 모든 글자가 *로 표시 될 수 있도록\n",
    "    first_char = self.__first_name[0]\n",
    "    last_char  = self.__first_name[-1]\n",
    "    star_len   = len(self.__first_name)-2\n",
    "    stars      = \"*\" * star_len\n",
    "\n",
    "    return f\"{first_char}{stars}{last_char}\"\n",
    "\n",
    "  # age에 대한 getter\n",
    "  def get_age(self):\n",
    "    return self.__age\n",
    "  \n",
    "  # 사람의 정보를 표기하기 위한 문자열을 만드는 메소드를 구현\n",
    "  def __make_user_info(self):\n",
    "    return f\"{self.get_first_name()}의 나이는 {self.get_age()}\"\n",
    "\n",
    "  def print_user_info(self):\n",
    "    user_info_text = self.__make_user_info()\n",
    "    print(\"😁\", user_info_text, \"😊\")\n",
    "\n",
    "  # getter & setter 등록\n",
    "  first_name = property(get_first_name, set_first_name)\n",
    "  age = property(get_age, set_age)"
   ]
  },
  {
   "cell_type": "code",
   "execution_count": 92,
   "metadata": {
    "id": "k33UfWlbMz1m"
   },
   "outputs": [],
   "source": [
    "user4 = User4(\"sun\", 25)"
   ]
  },
  {
   "cell_type": "code",
   "execution_count": 93,
   "metadata": {
    "colab": {
     "base_uri": "https://localhost:8080/"
    },
    "executionInfo": {
     "elapsed": 261,
     "status": "ok",
     "timestamp": 1647408715199,
     "user": {
      "displayName": "소민호",
      "photoUrl": "https://lh3.googleusercontent.com/a-/AOh14GhLGRC49SI7WOuNBQAwvTUAj-ggmp6EPPCrjHhC=s64",
      "userId": "16551848544638359832"
     },
     "user_tz": -540
    },
    "id": "83HPnCmzNZXe",
    "outputId": "63758886-b50c-4aab-8d2b-fa9b8616390e"
   },
   "outputs": [
    {
     "name": "stdout",
     "output_type": "stream",
     "text": [
      "😁 s*n의 나이는 25 😊\n"
     ]
    }
   ],
   "source": [
    "user4.print_user_info()"
   ]
  },
  {
   "cell_type": "code",
   "execution_count": 95,
   "metadata": {
    "colab": {
     "base_uri": "https://localhost:8080/",
     "height": 171
    },
    "executionInfo": {
     "elapsed": 4,
     "status": "error",
     "timestamp": 1647408737526,
     "user": {
      "displayName": "소민호",
      "photoUrl": "https://lh3.googleusercontent.com/a-/AOh14GhLGRC49SI7WOuNBQAwvTUAj-ggmp6EPPCrjHhC=s64",
      "userId": "16551848544638359832"
     },
     "user_tz": -540
    },
    "id": "Iy4qq2Z5Nd0N",
    "outputId": "775d70b0-8bc1-4e52-e463-49be92143418"
   },
   "outputs": [],
   "source": [
    "# user4.__make_user_info()\n",
    "# 접근 불가능"
   ]
  },
  {
   "cell_type": "markdown",
   "metadata": {
    "id": "rQ_nd169PCPU"
   },
   "source": [
    "# 클래스의 관계"
   ]
  },
  {
   "cell_type": "markdown",
   "metadata": {
    "id": "sVH3jItRP5Km"
   },
   "source": [
    "## `is - a` 관계\n",
    "- `A is a B` : **클래스 A는 클래스 B이다** 라는 명제가 성립하는 관계\n",
    "  - A : 자식클래스, B : 부모클래스\n",
    "- **상속**에 의해 구현 된다.\n",
    "```python\n",
    "class Animal:\n",
    "    pass\n",
    "```\n",
    "```python\n",
    "class Lion(Animal): # Lion is a Animal\n",
    "    pass\n",
    "```\n",
    "\n"
   ]
  },
  {
   "cell_type": "markdown",
   "metadata": {
    "id": "20vovjPOQDbU"
   },
   "source": [
    "### 상속을 잘못 사용하는 경우\n",
    "- 클래스 하나 구현 해 놓고 돌려가면서 쓰고 싶을 때,\n",
    "- 메소드나 변수를 만들어 놓고 여러 클래스가 돌려가면서 쓰고 싶을 때\n",
    "\n",
    "EX : 오토바이랑 자동차를 만들고 싶다. 오토바이도 엔진을 이용해서 시동을 켜고, 자동차도 엔진을 이용해서 시동을 켜야 한다.\n",
    "Engine 클래스를 만들어서 자동차, 오토바이 클래스에 각각 상속 시키면 되지 않을까?"
   ]
  },
  {
   "cell_type": "code",
   "execution_count": 96,
   "metadata": {
    "id": "1FE37KiUVl3V"
   },
   "outputs": [],
   "source": [
    "class Engine:\n",
    "  def turn_on(self):\n",
    "    print(\"엔진 시동을 걸었습니다.\")\n",
    "  def turn_off(self):\n",
    "    print(\"엔진 시동을 껐습니다.\")"
   ]
  },
  {
   "cell_type": "code",
   "execution_count": 97,
   "metadata": {
    "id": "yv-SrphyWfSE"
   },
   "outputs": [],
   "source": [
    "class Car(Engine): # 자동차는 엔진입니다. - 성립하지 않는 명제\n",
    "\n",
    "  def drive(self):\n",
    "    self.turn_on()\n",
    "    print(\"자동차가 앞으로 갑니다.\")\n",
    "\n",
    "  def stop(self):\n",
    "    print(\"자동차가 멈췄습니다.\")\n",
    "    self.turn_off()\n",
    "\n",
    "# 명제가 틀리기 때문에 상속으로 설계하면 안된다."
   ]
  },
  {
   "cell_type": "markdown",
   "metadata": {
    "id": "qemCYZ5eX54j"
   },
   "source": [
    "## `Has a` 관계\n",
    "- `A has a B` : 클래스 A는 클래스 B를 갖는다.\n",
    "- A 클래스의 **멤버 변수**로 B 클래스의 객체를 가지고 있으면 된다."
   ]
  },
  {
   "cell_type": "code",
   "execution_count": 112,
   "metadata": {
    "id": "actfOSCDYWMK"
   },
   "outputs": [],
   "source": [
    "# `자동차`는 `엔진`을 소유하는 것.\n",
    "class Car:\n",
    "  def __init__(self):\n",
    "    # 엔진이 강결합된 상태 : 무조건 람보르기니 엔진만 갖다가 쓰고 싶다.\n",
    "    self.engine = Engine(\"람보르기니\") # 소유관계 has a 관계\n",
    "\n",
    "  def drive(self):\n",
    "    # 내 부품 중에 하나인 engine의 시동을 켠다.\n",
    "    self.engine.turn_on()\n",
    "    print(\"자동차가 앞으로 갑니다.\")"
   ]
  },
  {
   "cell_type": "code",
   "execution_count": 119,
   "metadata": {
    "id": "W_KOK2qwZlyE"
   },
   "outputs": [],
   "source": [
    "class Car:\n",
    "  def __init__(self, engine):\n",
    "    # 엔진이 약결합된 상태 : 자동차를 만들 때 엔진을 교체 해가면서 쓰고 싶다.\n",
    "    self.engine = engine # 소유관계 has a 관계\n",
    "\n",
    "  def drive(self):\n",
    "    # 내 부품 중에 하나인 engine의 시동을 켠다.\n",
    "    self.engine.turn_on()\n",
    "    print(\"자동차가 앞으로 갑니다.\")"
   ]
  },
  {
   "cell_type": "code",
   "execution_count": 103,
   "metadata": {
    "id": "XgxlQlW4YZkz"
   },
   "outputs": [],
   "source": [
    "class Engine:\n",
    "  def __init__(self, name):\n",
    "    self.name = name\n",
    "  def turn_on(self):\n",
    "    print(f\"{self.name} 엔진 시동을 걸었습니다.\")\n",
    "  def turn_off(self):\n",
    "    print(f\"{self.name} 엔진 시동을 껐습니다.\")"
   ]
  },
  {
   "cell_type": "code",
   "execution_count": 120,
   "metadata": {
    "colab": {
     "base_uri": "https://localhost:8080/"
    },
    "executionInfo": {
     "elapsed": 2,
     "status": "ok",
     "timestamp": 1647411742876,
     "user": {
      "displayName": "소민호",
      "photoUrl": "https://lh3.googleusercontent.com/a-/AOh14GhLGRC49SI7WOuNBQAwvTUAj-ggmp6EPPCrjHhC=s64",
      "userId": "16551848544638359832"
     },
     "user_tz": -540
    },
    "id": "yiRk4LARYueM",
    "outputId": "4f9cb3d6-ed90-4faf-b1c5-c0d76f2f296c"
   },
   "outputs": [
    {
     "name": "stdout",
     "output_type": "stream",
     "text": [
      "람보르기니 엔진 시동을 걸었습니다.\n",
      "자동차가 앞으로 갑니다.\n"
     ]
    }
   ],
   "source": [
    "lambo_engine = Engine(\"람보르기니\")\n",
    "\n",
    "car = Car(lambo_engine)\n",
    "car.drive()"
   ]
  },
  {
   "cell_type": "code",
   "execution_count": 121,
   "metadata": {
    "colab": {
     "base_uri": "https://localhost:8080/"
    },
    "executionInfo": {
     "elapsed": 1,
     "status": "ok",
     "timestamp": 1647411764266,
     "user": {
      "displayName": "소민호",
      "photoUrl": "https://lh3.googleusercontent.com/a-/AOh14GhLGRC49SI7WOuNBQAwvTUAj-ggmp6EPPCrjHhC=s64",
      "userId": "16551848544638359832"
     },
     "user_tz": -540
    },
    "id": "5h7E_ctKZDQ0",
    "outputId": "de0618c6-5566-453a-d922-0263dfbe09e1"
   },
   "outputs": [
    {
     "name": "stdout",
     "output_type": "stream",
     "text": [
      "봉고 엔진 시동을 걸었습니다.\n",
      "자동차가 앞으로 갑니다.\n"
     ]
    }
   ],
   "source": [
    "bongo_engine = Engine(\"봉고\")\n",
    "\n",
    "car = Car(bongo_engine)\n",
    "car.drive()"
   ]
  },
  {
   "cell_type": "markdown",
   "metadata": {
    "id": "My5u2KoZZJgD"
   },
   "source": [
    "## `Use A` 관계\n",
    "- `A use a B` : A가 B를 사용하는 관계\n",
    "- 부품은 아니지만, A 클래스 특정 **메소드**를 사용할 때 B 객체를 넣어야 하는 관계"
   ]
  },
  {
   "cell_type": "code",
   "execution_count": 122,
   "metadata": {
    "id": "NbdofCX2aW_p"
   },
   "outputs": [],
   "source": [
    "class Car:\n",
    "  def drive_through(self, food):\n",
    "    print(\"드라이브 쓰루하면서\")\n",
    "    food.eat()"
   ]
  },
  {
   "cell_type": "code",
   "execution_count": 123,
   "metadata": {
    "id": "evru2mAXanY7"
   },
   "outputs": [],
   "source": [
    "class Hamburger:\n",
    "  def eat(self):\n",
    "    print(\"참깨빵 위에~~~~특별한 소스 양상추까지~ 빨빠빠밤\")"
   ]
  },
  {
   "cell_type": "code",
   "execution_count": 124,
   "metadata": {
    "colab": {
     "base_uri": "https://localhost:8080/"
    },
    "executionInfo": {
     "elapsed": 295,
     "status": "ok",
     "timestamp": 1647412191077,
     "user": {
      "displayName": "소민호",
      "photoUrl": "https://lh3.googleusercontent.com/a-/AOh14GhLGRC49SI7WOuNBQAwvTUAj-ggmp6EPPCrjHhC=s64",
      "userId": "16551848544638359832"
     },
     "user_tz": -540
    },
    "id": "Bb_KwAlaavTr",
    "outputId": "fca03997-cd70-4080-f4b5-cc2c5708fa50"
   },
   "outputs": [
    {
     "name": "stdout",
     "output_type": "stream",
     "text": [
      "드라이브 쓰루하면서\n",
      "참깨빵 위에~~~~특별한 소스 양상추까지~ 빨빠빠밤\n"
     ]
    }
   ],
   "source": [
    "h = Hamburger()\n",
    "c = Car()\n",
    "\n",
    "# 자동차로 드라이브 쓰루를 하면서 햄버거를 먹는것\n",
    "c.drive_through(h)"
   ]
  }
 ],
 "metadata": {
  "colab": {
   "authorship_tag": "ABX9TyM9H+DbMDisbIxzkr31WhE/",
   "collapsed_sections": [],
   "name": "09. 클래스( Class )",
   "provenance": []
  },
  "kernelspec": {
   "display_name": "Python 3 (ipykernel)",
   "language": "python",
   "name": "python3"
  },
  "language_info": {
   "codemirror_mode": {
    "name": "ipython",
    "version": 3
   },
   "file_extension": ".py",
   "mimetype": "text/x-python",
   "name": "python",
   "nbconvert_exporter": "python",
   "pygments_lexer": "ipython3",
   "version": "3.9.13"
  }
 },
 "nbformat": 4,
 "nbformat_minor": 1
}
