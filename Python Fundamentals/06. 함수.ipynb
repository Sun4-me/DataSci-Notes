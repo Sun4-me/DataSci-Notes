{
 "cells": [
  {
   "cell_type": "markdown",
   "metadata": {
    "id": "9QLAf-5rzMfN"
   },
   "source": [
    "# 함수(function)\n",
    "- (재사용 할)코드의 묶음"
   ]
  },
  {
   "cell_type": "code",
   "execution_count": 1,
   "metadata": {
    "colab": {
     "base_uri": "https://localhost:8080/"
    },
    "executionInfo": {
     "elapsed": 421,
     "status": "ok",
     "timestamp": 1647235464459,
     "user": {
      "displayName": "소민호",
      "photoUrl": "https://lh3.googleusercontent.com/a-/AOh14GhLGRC49SI7WOuNBQAwvTUAj-ggmp6EPPCrjHhC=s64",
      "userId": "16551848544638359832"
     },
     "user_tz": -540
    },
    "id": "UxYk2qw-135Q",
    "outputId": "d2c08ed4-3441-4eca-e094-417438ff6810"
   },
   "outputs": [
    {
     "name": "stdout",
     "output_type": "stream",
     "text": [
      "B\n"
     ]
    }
   ],
   "source": [
    "# 반복적인 기능을 하는 코드 뭉치(code context)를 정의해 놓고 필요 할 때 마다 사용\n",
    "# 정의 : def\n",
    "# 사용(호출) : call\n",
    "\n",
    "# print_grade라는 함수를 정의\n",
    "def print_grade(score):\n",
    "  if score >= 90:\n",
    "    print(\"A\")\n",
    "  elif score >= 80:\n",
    "    print(\"B\")\n",
    "  elif score >=70 :\n",
    "    print(\"C\")\n",
    "  elif score >= 60:\n",
    "    print(\"D\")\n",
    "  else:\n",
    "    print(\"F\")\n",
    "\n",
    "# print_grade 함수를 호출\n",
    "print_grade(80)"
   ]
  },
  {
   "cell_type": "code",
   "execution_count": 2,
   "metadata": {
    "colab": {
     "base_uri": "https://localhost:8080/"
    },
    "executionInfo": {
     "elapsed": 2,
     "status": "ok",
     "timestamp": 1647235470844,
     "user": {
      "displayName": "소민호",
      "photoUrl": "https://lh3.googleusercontent.com/a-/AOh14GhLGRC49SI7WOuNBQAwvTUAj-ggmp6EPPCrjHhC=s64",
      "userId": "16551848544638359832"
     },
     "user_tz": -540
    },
    "id": "9aZEVpFM4QJm",
    "outputId": "20c44f5f-16c1-4544-cca8-5f547bef9e83"
   },
   "outputs": [
    {
     "name": "stdout",
     "output_type": "stream",
     "text": [
      "A\n",
      "C\n",
      "A\n",
      "D\n"
     ]
    }
   ],
   "source": [
    "print_grade(90)\n",
    "print_grade(75)\n",
    "print_grade(100)\n",
    "print_grade(60)"
   ]
  },
  {
   "cell_type": "code",
   "execution_count": 3,
   "metadata": {
    "colab": {
     "base_uri": "https://localhost:8080/"
    },
    "executionInfo": {
     "elapsed": 3,
     "status": "ok",
     "timestamp": 1647235572022,
     "user": {
      "displayName": "소민호",
      "photoUrl": "https://lh3.googleusercontent.com/a-/AOh14GhLGRC49SI7WOuNBQAwvTUAj-ggmp6EPPCrjHhC=s64",
      "userId": "16551848544638359832"
     },
     "user_tz": -540
    },
    "id": "Jsbes9E9459A",
    "outputId": "ed659281-29af-4d06-c0af-534c3b85c53e"
   },
   "outputs": [
    {
     "data": {
      "text/plain": [
       "<function __main__.print_grade(score)>"
      ]
     },
     "execution_count": 3,
     "metadata": {},
     "output_type": "execute_result"
    }
   ],
   "source": [
    "print_grade"
   ]
  },
  {
   "cell_type": "markdown",
   "metadata": {
    "id": "PeayreKC5Bw5"
   },
   "source": [
    "# 함수의 정의 방법\n",
    "```python\n",
    "def <function_name>([paramter1, parameter2, ...]):\n",
    "  ...\n",
    "  code context\n",
    "  ...\n",
    "```\n",
    "* 파라미터(Parameter) : 함수를 **정의**할 때 호출하는 곳에서 입력해주는 **데이터를 저장할 변수**\n",
    "* 아규먼트(Argument) : 함수를 호출하는 곳에서 함수에 넣어주는 **데이터**"
   ]
  },
  {
   "cell_type": "code",
   "execution_count": 4,
   "metadata": {
    "colab": {
     "base_uri": "https://localhost:8080/"
    },
    "executionInfo": {
     "elapsed": 9,
     "status": "ok",
     "timestamp": 1647236806084,
     "user": {
      "displayName": "소민호",
      "photoUrl": "https://lh3.googleusercontent.com/a-/AOh14GhLGRC49SI7WOuNBQAwvTUAj-ggmp6EPPCrjHhC=s64",
      "userId": "16551848544638359832"
     },
     "user_tz": -540
    },
    "id": "fDEWoEvC77cJ",
    "outputId": "a4a85d72-e8d3-44d3-9aa2-de3827d973cf"
   },
   "outputs": [
    {
     "name": "stdout",
     "output_type": "stream",
     "text": [
      "Here is foo\n",
      "Paramter X, Return X\n"
     ]
    }
   ],
   "source": [
    "# 1. Parameter X, Return X\n",
    "\n",
    "def foo(): # Paramter가 없음!\n",
    "  print(\"Here is foo\")\n",
    "  print(\"Paramter X, Return X\")\n",
    "\n",
    "# Paramter가 없으니까 Argument를 안 넣어 준다.\n",
    "foo()"
   ]
  },
  {
   "cell_type": "code",
   "execution_count": 5,
   "metadata": {
    "colab": {
     "base_uri": "https://localhost:8080/"
    },
    "executionInfo": {
     "elapsed": 5,
     "status": "ok",
     "timestamp": 1647237030994,
     "user": {
      "displayName": "소민호",
      "photoUrl": "https://lh3.googleusercontent.com/a-/AOh14GhLGRC49SI7WOuNBQAwvTUAj-ggmp6EPPCrjHhC=s64",
      "userId": "16551848544638359832"
     },
     "user_tz": -540
    },
    "id": "DcFicgB79vCZ",
    "outputId": "e00519e4-eb48-4d21-babf-21638f9e5c99"
   },
   "outputs": [
    {
     "name": "stdout",
     "output_type": "stream",
     "text": [
      "SMALL\n",
      "BIG\n"
     ]
    }
   ],
   "source": [
    "# 2. Paramter O, Return X\n",
    "#   대표적으로 print가 있다.\n",
    "\n",
    "def goo(num1, num2): # num1, num2 Parameter가 있다.\n",
    "  if num1 + num2 > 10:\n",
    "    print(\"BIG\")\n",
    "  else:\n",
    "    print(\"SMALL\")\n",
    "\n",
    "goo(1, 2) # 1, 2는 goo 함수의 Argument가 된다.\n",
    "goo(10, 20) # 10, 20은 goo 함수의 Argument가 된다."
   ]
  },
  {
   "cell_type": "code",
   "execution_count": 6,
   "metadata": {
    "colab": {
     "base_uri": "https://localhost:8080/"
    },
    "executionInfo": {
     "elapsed": 2,
     "status": "ok",
     "timestamp": 1647237067368,
     "user": {
      "displayName": "소민호",
      "photoUrl": "https://lh3.googleusercontent.com/a-/AOh14GhLGRC49SI7WOuNBQAwvTUAj-ggmp6EPPCrjHhC=s64",
      "userId": "16551848544638359832"
     },
     "user_tz": -540
    },
    "id": "upI6phq2-mDJ",
    "outputId": "8b902eb2-a8a3-4dc0-9c19-c5b82dc1934f"
   },
   "outputs": [
    {
     "name": "stdout",
     "output_type": "stream",
     "text": [
      "BIG\n",
      "None\n"
     ]
    }
   ],
   "source": [
    "# return이 없다?\n",
    "result = goo(10, 20) # goo의 결과는 아무것도 없다!\n",
    "print(result) # None 출력"
   ]
  },
  {
   "cell_type": "code",
   "execution_count": 7,
   "metadata": {
    "colab": {
     "base_uri": "https://localhost:8080/"
    },
    "executionInfo": {
     "elapsed": 378,
     "status": "ok",
     "timestamp": 1647238598685,
     "user": {
      "displayName": "소민호",
      "photoUrl": "https://lh3.googleusercontent.com/a-/AOh14GhLGRC49SI7WOuNBQAwvTUAj-ggmp6EPPCrjHhC=s64",
      "userId": "16551848544638359832"
     },
     "user_tz": -540
    },
    "id": "rRj0euyW_T9Z",
    "outputId": "3d98edc9-e2ac-418c-8de6-2d3b52af9553"
   },
   "outputs": [
    {
     "ename": "IndentationError",
     "evalue": "unexpected indent (2810811906.py, line 7)",
     "output_type": "error",
     "traceback": [
      "\u001b[1;36m  File \u001b[1;32m\"C:\\Users\\Sun\\AppData\\Local\\Temp\\ipykernel_21292\\2810811906.py\"\u001b[1;36m, line \u001b[1;32m7\u001b[0m\n\u001b[1;33m    return total  # return 값이 존재한다.\u001b[0m\n\u001b[1;37m    ^\u001b[0m\n\u001b[1;31mIndentationError\u001b[0m\u001b[1;31m:\u001b[0m unexpected indent\n"
     ]
    }
   ],
   "source": [
    "# 3. Parameter X, Return O\n",
    "def moo(): # Parameter가 없다.\n",
    "  print(\"moo is called\")\n",
    "  lst = [1, 3, 5, 7, 9]\n",
    "total = sum(lst)\n",
    "\n",
    "  return total  # return 값이 존재한다.\n",
    "\n",
    "moo_result = moo() # 함수 moo는 값을 반환(return)한다. 따라서 리턴값을 변수로 받아 낼 수 있다.\n",
    "print(moo_result)"
   ]
  },
  {
   "cell_type": "code",
   "execution_count": 8,
   "metadata": {
    "colab": {
     "base_uri": "https://localhost:8080/"
    },
    "executionInfo": {
     "elapsed": 4,
     "status": "ok",
     "timestamp": 1647238776557,
     "user": {
      "displayName": "소민호",
      "photoUrl": "https://lh3.googleusercontent.com/a-/AOh14GhLGRC49SI7WOuNBQAwvTUAj-ggmp6EPPCrjHhC=s64",
      "userId": "16551848544638359832"
     },
     "user_tz": -540
    },
    "id": "tHg1aswDDNB4",
    "outputId": "a33ab0de-7883-41da-d305-9ae64de37d1b"
   },
   "outputs": [
    {
     "name": "stdout",
     "output_type": "stream",
     "text": [
      "hoo is called\n",
      "30\n"
     ]
    }
   ],
   "source": [
    "# 4. Parameter O, Return O\n",
    "def hoo(num1, num2):\n",
    "  print(\"hoo is called\")\n",
    "  return num1 + num2 # num1과 num2를 더해서 그 결과를 리턴\n",
    "\n",
    "a = 10\n",
    "b = 20\n",
    "hoo_result = hoo(a, b)\n",
    "\n",
    "print(hoo_result)"
   ]
  },
  {
   "cell_type": "markdown",
   "metadata": {
    "id": "Ht49Pm5BF2c3"
   },
   "source": [
    "# 파라미터를 정의하는 3가지 방법\n",
    "1. `default parameter`\n",
    "2. 여러 아규먼트를 한꺼번에 묶어서 동시에 포함 시키기\n",
    "  - `*args`\n",
    "  - `print` 함수에서 사용되고 있음\n",
    "3. 여러 아규먼트를 `dict` 형태로 받기\n",
    "  - `**kwargs`\n"
   ]
  },
  {
   "cell_type": "markdown",
   "metadata": {
    "id": "yG7tZDF3G3e3"
   },
   "source": [
    "## Default Parameter\n",
    "- 함수를 호출 할 때 Argument를 넣어주지 않아도 기본적으로 파라미터가 가지고 있어야 할 값을 지정"
   ]
  },
  {
   "cell_type": "code",
   "execution_count": 9,
   "metadata": {
    "colab": {
     "base_uri": "https://localhost:8080/"
    },
    "executionInfo": {
     "elapsed": 2,
     "status": "ok",
     "timestamp": 1647239463310,
     "user": {
      "displayName": "소민호",
      "photoUrl": "https://lh3.googleusercontent.com/a-/AOh14GhLGRC49SI7WOuNBQAwvTUAj-ggmp6EPPCrjHhC=s64",
      "userId": "16551848544638359832"
     },
     "user_tz": -540
    },
    "id": "lFdORYjZHljH",
    "outputId": "3b1d3f15-1827-44e9-a48c-f0e8d8bbe94a"
   },
   "outputs": [
    {
     "name": "stdout",
     "output_type": "stream",
     "text": [
      "Hello 30 5.1212112\n"
     ]
    }
   ],
   "source": [
    "def noo(a, b, c):\n",
    "  print(a, b, c)\n",
    "\n",
    "# `noo`를 호출하기 위해서는 Argument가 3개가 되어야 한다\n",
    "noo(\"Hello\", 30, 5.1212112)"
   ]
  },
  {
   "cell_type": "code",
   "execution_count": 10,
   "metadata": {
    "colab": {
     "base_uri": "https://localhost:8080/"
    },
    "executionInfo": {
     "elapsed": 4,
     "status": "ok",
     "timestamp": 1647239763216,
     "user": {
      "displayName": "소민호",
      "photoUrl": "https://lh3.googleusercontent.com/a-/AOh14GhLGRC49SI7WOuNBQAwvTUAj-ggmp6EPPCrjHhC=s64",
      "userId": "16551848544638359832"
     },
     "user_tz": -540
    },
    "id": "apH7wvjLIJwf",
    "outputId": "56f0c858-d62d-4a17-d57b-a2dffd5aa416"
   },
   "outputs": [
    {
     "name": "stdout",
     "output_type": "stream",
     "text": [
      "10 20 30\n"
     ]
    }
   ],
   "source": [
    "# 파라미터 c에 기본적으로 30을 넣어준다\n",
    "# default parameter\n",
    "def koo(a, b, c=30):\n",
    "  print(a, b, c)\n",
    "\n",
    "koo(10, 20) # 파라미터 c의 기본값이 30으로 지정 되었기 때문에 c에 대한 Argument를 넣지 않아도 koo가 호출이 된다."
   ]
  },
  {
   "cell_type": "code",
   "execution_count": 11,
   "metadata": {
    "colab": {
     "base_uri": "https://localhost:8080/"
    },
    "executionInfo": {
     "elapsed": 3,
     "status": "ok",
     "timestamp": 1647239826136,
     "user": {
      "displayName": "소민호",
      "photoUrl": "https://lh3.googleusercontent.com/a-/AOh14GhLGRC49SI7WOuNBQAwvTUAj-ggmp6EPPCrjHhC=s64",
      "userId": "16551848544638359832"
     },
     "user_tz": -540
    },
    "id": "vVdNzKAZJBCY",
    "outputId": "ddd971d3-f2c8-4f80-c497-6f38576f7df1"
   },
   "outputs": [
    {
     "name": "stdout",
     "output_type": "stream",
     "text": [
      "10 20 Hello\n"
     ]
    }
   ],
   "source": [
    "koo(10, 20, \"Hello\") # c의 위치에 \"Hello\"가 들어갔으니까 30이 아닌 \"Hello\"가 들어간다."
   ]
  },
  {
   "cell_type": "markdown",
   "metadata": {
    "id": "c_6UFSdqJQiI"
   },
   "source": [
    "잘못된 default parameter 설정"
   ]
  },
  {
   "cell_type": "code",
   "execution_count": 12,
   "metadata": {
    "colab": {
     "base_uri": "https://localhost:8080/",
     "height": 135
    },
    "executionInfo": {
     "elapsed": 8,
     "status": "error",
     "timestamp": 1647239974904,
     "user": {
      "displayName": "소민호",
      "photoUrl": "https://lh3.googleusercontent.com/a-/AOh14GhLGRC49SI7WOuNBQAwvTUAj-ggmp6EPPCrjHhC=s64",
      "userId": "16551848544638359832"
     },
     "user_tz": -540
    },
    "id": "TkZCEs8QJj0X",
    "outputId": "908f6757-056f-4240-c494-2eb185efb7fa"
   },
   "outputs": [
    {
     "ename": "SyntaxError",
     "evalue": "non-default argument follows default argument (2287177399.py, line 1)",
     "output_type": "error",
     "traceback": [
      "\u001b[1;36m  File \u001b[1;32m\"C:\\Users\\Sun\\AppData\\Local\\Temp\\ipykernel_21292\\2287177399.py\"\u001b[1;36m, line \u001b[1;32m1\u001b[0m\n\u001b[1;33m    def roo(a, b=20, c):\u001b[0m\n\u001b[1;37m                      ^\u001b[0m\n\u001b[1;31mSyntaxError\u001b[0m\u001b[1;31m:\u001b[0m non-default argument follows default argument\n"
     ]
    }
   ],
   "source": [
    "def roo(a, b=20, c):\n",
    "  print(a, b, c)\n",
    "\n",
    "roo(10, 30) # 30이 b에 들어갈지, c에 들어갈지 알 수 없다."
   ]
  },
  {
   "cell_type": "markdown",
   "metadata": {
    "id": "Dvxk0PqUJ0zv"
   },
   "source": [
    "default parameter는 항상 오른쪽부터 채워야 한다."
   ]
  },
  {
   "cell_type": "code",
   "execution_count": 14,
   "metadata": {
    "colab": {
     "base_uri": "https://localhost:8080/"
    },
    "executionInfo": {
     "elapsed": 7,
     "status": "ok",
     "timestamp": 1647240062247,
     "user": {
      "displayName": "소민호",
      "photoUrl": "https://lh3.googleusercontent.com/a-/AOh14GhLGRC49SI7WOuNBQAwvTUAj-ggmp6EPPCrjHhC=s64",
      "userId": "16551848544638359832"
     },
     "user_tz": -540
    },
    "id": "PqazrPV_J4VP",
    "outputId": "0e091a2e-8aab-4362-a644-92aa636423b9"
   },
   "outputs": [
    {
     "name": "stdout",
     "output_type": "stream",
     "text": [
      "Hello 20 30\n"
     ]
    }
   ],
   "source": [
    "def woo(a, b=20, c=30):\n",
    "  print(a, b, c)\n",
    "\n",
    "# woo의 default parameter가 2개니까 argument를 1개만 집어 넣어도 호출 가능\n",
    "woo(\"Hello\")"
   ]
  },
  {
   "cell_type": "markdown",
   "metadata": {
    "id": "3A9QaB4ZK9Fo"
   },
   "source": [
    "# `*args`\n",
    "- 함수를 정의하면서 Argument가 `n`개가 들어 갈 수 있다!\n",
    "- `*`을 `asterisk`라고 함"
   ]
  },
  {
   "cell_type": "code",
   "execution_count": 15,
   "metadata": {
    "colab": {
     "base_uri": "https://localhost:8080/"
    },
    "executionInfo": {
     "elapsed": 3,
     "status": "ok",
     "timestamp": 1647241422303,
     "user": {
      "displayName": "소민호",
      "photoUrl": "https://lh3.googleusercontent.com/a-/AOh14GhLGRC49SI7WOuNBQAwvTUAj-ggmp6EPPCrjHhC=s64",
      "userId": "16551848544638359832"
     },
     "user_tz": -540
    },
    "id": "nvNnS_RMLmaf",
    "outputId": "97995047-c2dc-4f73-c828-f483a1056256"
   },
   "outputs": [
    {
     "name": "stdout",
     "output_type": "stream",
     "text": [
      "30\n"
     ]
    }
   ],
   "source": [
    "# 2개의 파라미터를 직접 정의\n",
    "def add_ver1(a, b):\n",
    "  total = a + b\n",
    "  print(total)\n",
    "\n",
    "add_ver1(10, 20)"
   ]
  },
  {
   "cell_type": "code",
   "execution_count": 16,
   "metadata": {
    "colab": {
     "base_uri": "https://localhost:8080/"
    },
    "executionInfo": {
     "elapsed": 6,
     "status": "ok",
     "timestamp": 1647241481876,
     "user": {
      "displayName": "소민호",
      "photoUrl": "https://lh3.googleusercontent.com/a-/AOh14GhLGRC49SI7WOuNBQAwvTUAj-ggmp6EPPCrjHhC=s64",
      "userId": "16551848544638359832"
     },
     "user_tz": -540
    },
    "id": "V9NtFqeaPWFP",
    "outputId": "ab671c7b-70d6-4a43-c6df-4a9b4eb83c96"
   },
   "outputs": [
    {
     "name": "stdout",
     "output_type": "stream",
     "text": [
      "60\n"
     ]
    }
   ],
   "source": [
    "# 3개의 파라미터를 직접 정의\n",
    "def add_ver2(a, b, c):\n",
    "  total = a + b + c\n",
    "  print(total)\n",
    "\n",
    "add_ver2(10, 20, 30)"
   ]
  },
  {
   "cell_type": "markdown",
   "metadata": {
    "id": "LcxMZgAUPksP"
   },
   "source": [
    "`N`개의 Argument를 받아서 더하고 싶다? `*args`"
   ]
  },
  {
   "cell_type": "code",
   "execution_count": 17,
   "metadata": {
    "colab": {
     "base_uri": "https://localhost:8080/"
    },
    "executionInfo": {
     "elapsed": 374,
     "status": "ok",
     "timestamp": 1647241705535,
     "user": {
      "displayName": "소민호",
      "photoUrl": "https://lh3.googleusercontent.com/a-/AOh14GhLGRC49SI7WOuNBQAwvTUAj-ggmp6EPPCrjHhC=s64",
      "userId": "16551848544638359832"
     },
     "user_tz": -540
    },
    "id": "Fi05t0fNPvlG",
    "outputId": "ef71ffca-9bf5-4934-d064-a170da0ad670"
   },
   "outputs": [
    {
     "name": "stdout",
     "output_type": "stream",
     "text": [
      "(1, 2, 3, 5, 6, 7, 8, 9, 10, 11, 12, 101)\n",
      "175\n"
     ]
    }
   ],
   "source": [
    "# 파라미터를 *args로 만들면 입력되는 Argument의 튜플을 생성한다.\n",
    "def add_ver3(*args):\n",
    "  print(args)\n",
    "  total = sum(args)\n",
    "  print(total)\n",
    "\n",
    "add_ver3(1,2,3,5,6,7,8,9,10,11,12,101)"
   ]
  },
  {
   "cell_type": "code",
   "execution_count": 18,
   "metadata": {
    "id": "h8J5nWy-Q_d-"
   },
   "outputs": [],
   "source": [
    "# 하나의 함수에서 여러 개의 `*args`를 사용 할 수 없다.\n",
    "# Error\n",
    "# def qoo(*args1, *args2):\n",
    "#   print(args1, args2)"
   ]
  },
  {
   "cell_type": "markdown",
   "metadata": {
    "id": "TdSnbxLKRd7H"
   },
   "source": [
    "`Positional Argument`와 `*args` 같이 사용하기\n",
    "- Positional Argument는 Parameter의 위치에 맞게 들어가는 Argument"
   ]
  },
  {
   "cell_type": "code",
   "execution_count": 19,
   "metadata": {
    "colab": {
     "base_uri": "https://localhost:8080/"
    },
    "executionInfo": {
     "elapsed": 390,
     "status": "ok",
     "timestamp": 1647242087993,
     "user": {
      "displayName": "소민호",
      "photoUrl": "https://lh3.googleusercontent.com/a-/AOh14GhLGRC49SI7WOuNBQAwvTUAj-ggmp6EPPCrjHhC=s64",
      "userId": "16551848544638359832"
     },
     "user_tz": -540
    },
    "id": "EKTvC1IIRnom",
    "outputId": "5eca0e56-cb2f-403a-f2f3-2c69880d0688"
   },
   "outputs": [
    {
     "name": "stdout",
     "output_type": "stream",
     "text": [
      "1\n",
      "2\n",
      "(3, 4, 5, 6, 7, 8, 9)\n"
     ]
    }
   ],
   "source": [
    "def qoo(a, b, *args):\n",
    "  print(a)\n",
    "  print(b)\n",
    "  print(args)\n",
    "\n",
    "qoo(1, 2, 3,4,5,6,7,8,9)"
   ]
  },
  {
   "cell_type": "code",
   "execution_count": 20,
   "metadata": {
    "id": "DZ4z5NENRuQW"
   },
   "outputs": [],
   "source": [
    "# *args는 가운데에 위치할 수 없다.\n",
    "def eoo(a, *args, b):\n",
    "  print(a)\n",
    "  print(args)\n",
    "  print(b)"
   ]
  },
  {
   "cell_type": "code",
   "execution_count": 21,
   "metadata": {
    "colab": {
     "base_uri": "https://localhost:8080/",
     "height": 171
    },
    "executionInfo": {
     "elapsed": 629,
     "status": "error",
     "timestamp": 1647242333400,
     "user": {
      "displayName": "소민호",
      "photoUrl": "https://lh3.googleusercontent.com/a-/AOh14GhLGRC49SI7WOuNBQAwvTUAj-ggmp6EPPCrjHhC=s64",
      "userId": "16551848544638359832"
     },
     "user_tz": -540
    },
    "id": "33dUNSF-SOW-",
    "outputId": "8fc40070-9613-4885-8118-1fc558a87a24"
   },
   "outputs": [
    {
     "ename": "TypeError",
     "evalue": "eoo() missing 1 required keyword-only argument: 'b'",
     "output_type": "error",
     "traceback": [
      "\u001b[1;31m---------------------------------------------------------------------------\u001b[0m",
      "\u001b[1;31mTypeError\u001b[0m                                 Traceback (most recent call last)",
      "\u001b[1;32m~\\AppData\\Local\\Temp\\ipykernel_21292\\2467605019.py\u001b[0m in \u001b[0;36m<module>\u001b[1;34m\u001b[0m\n\u001b[1;32m----> 1\u001b[1;33m \u001b[0meoo\u001b[0m\u001b[1;33m(\u001b[0m\u001b[1;36m1\u001b[0m\u001b[1;33m,\u001b[0m \u001b[1;36m2\u001b[0m\u001b[1;33m,\u001b[0m\u001b[1;36m3\u001b[0m\u001b[1;33m,\u001b[0m\u001b[1;36m4\u001b[0m\u001b[1;33m,\u001b[0m\u001b[1;36m5\u001b[0m\u001b[1;33m,\u001b[0m\u001b[1;36m6\u001b[0m\u001b[1;33m,\u001b[0m\u001b[1;36m7\u001b[0m\u001b[1;33m,\u001b[0m\u001b[1;36m8\u001b[0m\u001b[1;33m,\u001b[0m \u001b[1;36m9\u001b[0m\u001b[1;33m)\u001b[0m\u001b[1;33m\u001b[0m\u001b[1;33m\u001b[0m\u001b[0m\n\u001b[0m",
      "\u001b[1;31mTypeError\u001b[0m: eoo() missing 1 required keyword-only argument: 'b'"
     ]
    }
   ],
   "source": [
    "eoo(1, 2,3,4,5,6,7,8, 9)"
   ]
  },
  {
   "cell_type": "code",
   "execution_count": 22,
   "metadata": {
    "colab": {
     "base_uri": "https://localhost:8080/"
    },
    "executionInfo": {
     "elapsed": 5,
     "status": "ok",
     "timestamp": 1647242445207,
     "user": {
      "displayName": "소민호",
      "photoUrl": "https://lh3.googleusercontent.com/a-/AOh14GhLGRC49SI7WOuNBQAwvTUAj-ggmp6EPPCrjHhC=s64",
      "userId": "16551848544638359832"
     },
     "user_tz": -540
    },
    "id": "0tGWDYa9SnYf",
    "outputId": "26b931dc-52de-48f3-fb06-81fddb0d1a6a"
   },
   "outputs": [
    {
     "name": "stdout",
     "output_type": "stream",
     "text": [
      "1\n",
      "(2, 3, 4, 5, 6, 7, 8, 9)\n",
      "Hello\n"
     ]
    }
   ],
   "source": [
    "# keyword Argument 활용해서 b에 값을 명시적으로 넣어주기\n",
    "eoo(1, 2,3,4,5,6,7,8,9, b=\"Hello\")"
   ]
  },
  {
   "cell_type": "markdown",
   "metadata": {
    "id": "Kg-zzcdPTP0G"
   },
   "source": [
    "## Keyword Argument?\n",
    "- 파라미터에 값을 넣어줄 때 파라미터의 변수명을 **직접** 기입하는 것"
   ]
  },
  {
   "cell_type": "code",
   "execution_count": 23,
   "metadata": {
    "colab": {
     "base_uri": "https://localhost:8080/"
    },
    "executionInfo": {
     "elapsed": 390,
     "status": "ok",
     "timestamp": 1647242684980,
     "user": {
      "displayName": "소민호",
      "photoUrl": "https://lh3.googleusercontent.com/a-/AOh14GhLGRC49SI7WOuNBQAwvTUAj-ggmp6EPPCrjHhC=s64",
      "userId": "16551848544638359832"
     },
     "user_tz": -540
    },
    "id": "tzngxH1gTff3",
    "outputId": "dbf9632b-5881-4d6e-c21c-2c28bac38eec"
   },
   "outputs": [
    {
     "name": "stdout",
     "output_type": "stream",
     "text": [
      "10 20 30\n",
      "10 20 30\n",
      "10 20 30\n"
     ]
    }
   ],
   "source": [
    "def too(a, b, c):\n",
    "  print(a, b, c)\n",
    "\n",
    "too(10, 20, 30) # 파라미터 a, b, c의 순서에 맞춰서 아규먼트를 집어 넣는 것 - Positional Argument\n",
    "too(b=20, c=30, a=10) # 파라미터의 이름을 기입해서 아규먼트를 집어 넣는 것 - Keyword Argument\n",
    "too(10, c=30, b=20) # 10은 Positional Argument로 a에 들어가고, 나머지 b,c는 keyword argument로 들어간다."
   ]
  },
  {
   "cell_type": "markdown",
   "metadata": {
    "id": "Z3ByfD_aT-Mm"
   },
   "source": [
    "## `**kwargs`\n",
    "- 직접 정의해서 만드는 경우는 많이 없으나, 알아두면 좋다.\n",
    "- 입력된 Keyword Argument들을 `dict`로 정리"
   ]
  },
  {
   "cell_type": "code",
   "execution_count": 24,
   "metadata": {
    "id": "BEm-Es1XVOQI"
   },
   "outputs": [],
   "source": [
    "def yoo(a, b, **kwargs):\n",
    "  print(a)\n",
    "  print(b)\n",
    "  print(kwargs)"
   ]
  },
  {
   "cell_type": "code",
   "execution_count": 25,
   "metadata": {
    "colab": {
     "base_uri": "https://localhost:8080/"
    },
    "executionInfo": {
     "elapsed": 5,
     "status": "ok",
     "timestamp": 1647243085928,
     "user": {
      "displayName": "소민호",
      "photoUrl": "https://lh3.googleusercontent.com/a-/AOh14GhLGRC49SI7WOuNBQAwvTUAj-ggmp6EPPCrjHhC=s64",
      "userId": "16551848544638359832"
     },
     "user_tz": -540
    },
    "id": "Oi80vkdxVX8W",
    "outputId": "18da7475-3c03-4dea-98a4-8c9d2dceaa26"
   },
   "outputs": [
    {
     "name": "stdout",
     "output_type": "stream",
     "text": [
      "10\n",
      "20\n",
      "{'c': 30, 'hihi': 40, 'byebye': 50}\n"
     ]
    }
   ],
   "source": [
    "yoo(10, 20, c=30, hihi=40, byebye=50)"
   ]
  },
  {
   "cell_type": "markdown",
   "metadata": {
    "id": "lLkmdcgCVsVN"
   },
   "source": [
    "keyword argument의 변수명이 `Key`로, 값이 `value`로 들어간다."
   ]
  },
  {
   "cell_type": "code",
   "execution_count": 26,
   "metadata": {
    "id": "mMmkaZb2WKyF"
   },
   "outputs": [],
   "source": [
    "def aoo(a, b, *args, **kwargs):\n",
    "  print(a)\n",
    "  print(b)\n",
    "  print(args)\n",
    "  print(kwargs)"
   ]
  },
  {
   "cell_type": "code",
   "execution_count": 27,
   "metadata": {
    "colab": {
     "base_uri": "https://localhost:8080/"
    },
    "executionInfo": {
     "elapsed": 5,
     "status": "ok",
     "timestamp": 1647243373658,
     "user": {
      "displayName": "소민호",
      "photoUrl": "https://lh3.googleusercontent.com/a-/AOh14GhLGRC49SI7WOuNBQAwvTUAj-ggmp6EPPCrjHhC=s64",
      "userId": "16551848544638359832"
     },
     "user_tz": -540
    },
    "id": "8uxS9U-ZWW2W",
    "outputId": "c7706050-904b-4af6-a580-17c045bf71a1"
   },
   "outputs": [
    {
     "name": "stdout",
     "output_type": "stream",
     "text": [
      "1\n",
      "2\n",
      "(3, 4, 5, 6, 7, 8)\n",
      "{}\n"
     ]
    }
   ],
   "source": [
    "aoo(1,2,3,4,5,6,7,8)"
   ]
  },
  {
   "cell_type": "code",
   "execution_count": 28,
   "metadata": {
    "colab": {
     "base_uri": "https://localhost:8080/"
    },
    "executionInfo": {
     "elapsed": 2,
     "status": "ok",
     "timestamp": 1647243440053,
     "user": {
      "displayName": "소민호",
      "photoUrl": "https://lh3.googleusercontent.com/a-/AOh14GhLGRC49SI7WOuNBQAwvTUAj-ggmp6EPPCrjHhC=s64",
      "userId": "16551848544638359832"
     },
     "user_tz": -540
    },
    "id": "TA4K4Eh-Wyet",
    "outputId": "35b49438-fba8-46da-fecc-1292b67cf619"
   },
   "outputs": [
    {
     "name": "stdout",
     "output_type": "stream",
     "text": [
      "1\n",
      "2\n",
      "(3, 4, 5, 6, 7, 8)\n",
      "{'c': 'hi', 'd': 'bye'}\n"
     ]
    }
   ],
   "source": [
    "aoo(1,2,3,4,5,6,7,8,c=\"hi\", d=\"bye\")"
   ]
  },
  {
   "cell_type": "code",
   "execution_count": 29,
   "metadata": {
    "colab": {
     "base_uri": "https://localhost:8080/",
     "height": 135
    },
    "executionInfo": {
     "elapsed": 8,
     "status": "error",
     "timestamp": 1647243549030,
     "user": {
      "displayName": "소민호",
      "photoUrl": "https://lh3.googleusercontent.com/a-/AOh14GhLGRC49SI7WOuNBQAwvTUAj-ggmp6EPPCrjHhC=s64",
      "userId": "16551848544638359832"
     },
     "user_tz": -540
    },
    "id": "_-l3J9xRXCpF",
    "outputId": "85a4f851-f270-4dce-8d1e-7535fc96d363"
   },
   "outputs": [
    {
     "ename": "SyntaxError",
     "evalue": "positional argument follows keyword argument (2929398157.py, line 1)",
     "output_type": "error",
     "traceback": [
      "\u001b[1;36m  File \u001b[1;32m\"C:\\Users\\Sun\\AppData\\Local\\Temp\\ipykernel_21292\\2929398157.py\"\u001b[1;36m, line \u001b[1;32m1\u001b[0m\n\u001b[1;33m    aoo(1,2,3, a=10, 5,6,7) # keyword argument도 항상 오른쪽 부터 채운다\u001b[0m\n\u001b[1;37m                          ^\u001b[0m\n\u001b[1;31mSyntaxError\u001b[0m\u001b[1;31m:\u001b[0m positional argument follows keyword argument\n"
     ]
    }
   ],
   "source": [
    "aoo(1,2,3, a=10, 5,6,7) # keyword argument도 항상 오른쪽 부터 채운다"
   ]
  },
  {
   "cell_type": "markdown",
   "metadata": {
    "id": "uTOc5VSzZWGd"
   },
   "source": [
    "# 람다 함수\n",
    "- 삼항연산 또는 컴프리헨션과 흡사하게 만들어지는 함수\n",
    "- 한줄 짜리 간단한 함수를 만들 때 사용\n",
    "- 1회용 함수를 만들 때 많이 사용"
   ]
  },
  {
   "cell_type": "code",
   "execution_count": 30,
   "metadata": {
    "colab": {
     "base_uri": "https://localhost:8080/"
    },
    "executionInfo": {
     "elapsed": 8,
     "status": "ok",
     "timestamp": 1647303558205,
     "user": {
      "displayName": "소민호",
      "photoUrl": "https://lh3.googleusercontent.com/a-/AOh14GhLGRC49SI7WOuNBQAwvTUAj-ggmp6EPPCrjHhC=s64",
      "userId": "16551848544638359832"
     },
     "user_tz": -540
    },
    "id": "WTJ55nff7XW5",
    "outputId": "c0b8dcee-14da-4c06-837c-cf0701b9b462"
   },
   "outputs": [
    {
     "data": {
      "text/plain": [
       "3"
      ]
     },
     "execution_count": 30,
     "metadata": {},
     "output_type": "execute_result"
    }
   ],
   "source": [
    "add_lambda = lambda num1, num2 : num1 + num2\n",
    "add_lambda(1, 2)"
   ]
  },
  {
   "cell_type": "code",
   "execution_count": 31,
   "metadata": {
    "colab": {
     "base_uri": "https://localhost:8080/"
    },
    "executionInfo": {
     "elapsed": 6,
     "status": "ok",
     "timestamp": 1647303817404,
     "user": {
      "displayName": "소민호",
      "photoUrl": "https://lh3.googleusercontent.com/a-/AOh14GhLGRC49SI7WOuNBQAwvTUAj-ggmp6EPPCrjHhC=s64",
      "userId": "16551848544638359832"
     },
     "user_tz": -540
    },
    "id": "NDAPOi198zqH",
    "outputId": "d25692d4-f7f4-43f8-a87e-bae62f0ebc6e"
   },
   "outputs": [
    {
     "data": {
      "text/plain": [
       "25"
      ]
     },
     "execution_count": 31,
     "metadata": {},
     "output_type": "execute_result"
    }
   ],
   "source": [
    "# x라는 정수를 받아서 x의 제곱을 리턴하는 람다 함수 \n",
    "square = lambda x : x ** 2\n",
    "square(5)"
   ]
  },
  {
   "cell_type": "markdown",
   "metadata": {
    "id": "ogfIeEtx9XRB"
   },
   "source": [
    "# Scope 범위\n",
    "- 제어문(`if, for, while 등`) 및 함수의 내부에서 선언되는 변수와 밖에서 선언되는 변수의 **사용범위(scope)**가 다르다\n",
    "  - 파이썬에서는 제어문은 해당이 안된다.\n",
    "- `global`(전역), `local`(지역)\n"
   ]
  },
  {
   "cell_type": "code",
   "execution_count": 32,
   "metadata": {
    "colab": {
     "base_uri": "https://localhost:8080/"
    },
    "executionInfo": {
     "elapsed": 4,
     "status": "ok",
     "timestamp": 1647304483188,
     "user": {
      "displayName": "소민호",
      "photoUrl": "https://lh3.googleusercontent.com/a-/AOh14GhLGRC49SI7WOuNBQAwvTUAj-ggmp6EPPCrjHhC=s64",
      "userId": "16551848544638359832"
     },
     "user_tz": -540
    },
    "id": "FDUAfNK2-fZ-",
    "outputId": "2f569cf3-3f05-4d4b-ea5b-67a25b7fde4c"
   },
   "outputs": [
    {
     "name": "stdout",
     "output_type": "stream",
     "text": [
      "10\n"
     ]
    }
   ],
   "source": [
    "# 전역 변수 - 어디에서든 접근이 가능\n",
    "gv = 10\n",
    "\n",
    "def foo():\n",
    "  print(gv)\n",
    "\n",
    "foo()"
   ]
  },
  {
   "cell_type": "code",
   "execution_count": 33,
   "metadata": {
    "colab": {
     "base_uri": "https://localhost:8080/"
    },
    "executionInfo": {
     "elapsed": 3,
     "status": "ok",
     "timestamp": 1647304738717,
     "user": {
      "displayName": "소민호",
      "photoUrl": "https://lh3.googleusercontent.com/a-/AOh14GhLGRC49SI7WOuNBQAwvTUAj-ggmp6EPPCrjHhC=s64",
      "userId": "16551848544638359832"
     },
     "user_tz": -540
    },
    "id": "xlDnXKlr_5lI",
    "outputId": "c330a577-224f-4ede-b3af-6aefad02267e"
   },
   "outputs": [
    {
     "name": "stdout",
     "output_type": "stream",
     "text": [
      "100\n",
      "10\n"
     ]
    }
   ],
   "source": [
    "# 전역변수 gv\n",
    "gv = 10\n",
    "\n",
    "# 함수 내부에서 만들어진 변수를 해당 함수의 지역 변수라 한다.\n",
    "def goo():\n",
    "  # 지역 gv\n",
    "  gv = 100\n",
    "  print(gv)\n",
    "\n",
    "goo()\n",
    "print(gv)\n"
   ]
  },
  {
   "cell_type": "markdown",
   "metadata": {
    "id": "wDjpFPneA2jR"
   },
   "source": [
    "전역 변수와 지역 변수의 이름이 같으면 변수의 의미가 애매모호 해줄 수 있다.\n",
    "\n",
    "함수 내에서 명시적으로 전역 변수를 사용할 수 있게 해주면 된다."
   ]
  },
  {
   "cell_type": "code",
   "execution_count": 34,
   "metadata": {
    "colab": {
     "base_uri": "https://localhost:8080/"
    },
    "executionInfo": {
     "elapsed": 13,
     "status": "ok",
     "timestamp": 1647306123887,
     "user": {
      "displayName": "소민호",
      "photoUrl": "https://lh3.googleusercontent.com/a-/AOh14GhLGRC49SI7WOuNBQAwvTUAj-ggmp6EPPCrjHhC=s64",
      "userId": "16551848544638359832"
     },
     "user_tz": -540
    },
    "id": "lj2WqhCHB18Q",
    "outputId": "9569eab8-8bdb-4cc4-925b-156438293cee"
   },
   "outputs": [
    {
     "name": "stdout",
     "output_type": "stream",
     "text": [
      "100\n",
      "100\n"
     ]
    }
   ],
   "source": [
    "gv = 10\n",
    "\n",
    "def hoo():\n",
    "  # 명시적으로 gv를 전역 영역에 있는 변수로 설정한다.\n",
    "  global gv\n",
    "  gv = 100\n",
    "  print(gv)\n",
    "\n",
    "hoo()\n",
    "print(gv)"
   ]
  },
  {
   "cell_type": "code",
   "execution_count": 35,
   "metadata": {
    "colab": {
     "base_uri": "https://localhost:8080/",
     "height": 225
    },
    "executionInfo": {
     "elapsed": 414,
     "status": "error",
     "timestamp": 1647305296389,
     "user": {
      "displayName": "소민호",
      "photoUrl": "https://lh3.googleusercontent.com/a-/AOh14GhLGRC49SI7WOuNBQAwvTUAj-ggmp6EPPCrjHhC=s64",
      "userId": "16551848544638359832"
     },
     "user_tz": -540
    },
    "id": "OYDxtvDKCj_x",
    "outputId": "74baa146-7975-47ab-d3a2-80f85a7ac937"
   },
   "outputs": [
    {
     "name": "stdout",
     "output_type": "stream",
     "text": [
      "10\n"
     ]
    },
    {
     "ename": "NameError",
     "evalue": "name 'lv_moo' is not defined",
     "output_type": "error",
     "traceback": [
      "\u001b[1;31m---------------------------------------------------------------------------\u001b[0m",
      "\u001b[1;31mNameError\u001b[0m                                 Traceback (most recent call last)",
      "\u001b[1;32m~\\AppData\\Local\\Temp\\ipykernel_21292\\2265536630.py\u001b[0m in \u001b[0;36m<module>\u001b[1;34m\u001b[0m\n\u001b[0;32m      5\u001b[0m \u001b[1;33m\u001b[0m\u001b[0m\n\u001b[0;32m      6\u001b[0m \u001b[0mmoo\u001b[0m\u001b[1;33m(\u001b[0m\u001b[1;33m)\u001b[0m\u001b[1;33m\u001b[0m\u001b[1;33m\u001b[0m\u001b[0m\n\u001b[1;32m----> 7\u001b[1;33m \u001b[0mprint\u001b[0m\u001b[1;33m(\u001b[0m\u001b[0mlv_moo\u001b[0m\u001b[1;33m)\u001b[0m\u001b[1;33m\u001b[0m\u001b[1;33m\u001b[0m\u001b[0m\n\u001b[0m",
      "\u001b[1;31mNameError\u001b[0m: name 'lv_moo' is not defined"
     ]
    }
   ],
   "source": [
    "# 지역 변수는 해당 변수가 만들어진 code context를 벗어나면 사라진다.\n",
    "def moo():\n",
    "  lv_moo = 10\n",
    "  print(lv_moo)\n",
    "\n",
    "moo()\n",
    "print(lv_moo)"
   ]
  },
  {
   "cell_type": "markdown",
   "metadata": {
    "id": "htRRtyflC8oI"
   },
   "source": [
    "- 함수 밖에서 만들어진 전역 변수는 어디에서든 사용이 가능하다.\n",
    "- 함수 내부에서 만들어진 지역 변수는 함수 내에서만 사용이 가능하다.\n",
    "  - 지역 변수에 해당하는 것 : 함수 내에서 선언된 변수, 파라미터"
   ]
  },
  {
   "cell_type": "markdown",
   "metadata": {
    "id": "fDMFn8mhDoeQ"
   },
   "source": [
    "# 지역 함수(내부 함수)\n",
    "- 함수 내부에 또 다른 함수가 정의 되는 것"
   ]
  },
  {
   "cell_type": "code",
   "execution_count": 36,
   "metadata": {
    "colab": {
     "base_uri": "https://localhost:8080/"
    },
    "executionInfo": {
     "elapsed": 797,
     "status": "ok",
     "timestamp": 1647306631652,
     "user": {
      "displayName": "소민호",
      "photoUrl": "https://lh3.googleusercontent.com/a-/AOh14GhLGRC49SI7WOuNBQAwvTUAj-ggmp6EPPCrjHhC=s64",
      "userId": "16551848544638359832"
     },
     "user_tz": -540
    },
    "id": "FOnSgmPrHAdg",
    "outputId": "ed18ef11-8403-4c03-a14e-38b10a4e6f4c"
   },
   "outputs": [
    {
     "name": "stdout",
     "output_type": "stream",
     "text": [
      "Here is Outer\n",
      "Here is inner\n",
      "30\n"
     ]
    }
   ],
   "source": [
    "def outer(a, b):\n",
    "  print(\"Here is Outer\")\n",
    "\n",
    "  def inner(c, d):\n",
    "    print(\"Here is inner\")\n",
    "    return c + d\n",
    "\n",
    "  return inner(a, b)\n",
    "\n",
    "# inner 함수의 호출 시점 : outer의 호출 시점\n",
    "# outer가 호출이 되어야 inner가 호출이 된다.\n",
    "\n",
    "inner_result = outer(10, 20)\n",
    "print(inner_result)"
   ]
  },
  {
   "cell_type": "code",
   "execution_count": 37,
   "metadata": {
    "executionInfo": {
     "elapsed": 10,
     "status": "ok",
     "timestamp": 1647333316773,
     "user": {
      "displayName": "소민호",
      "photoUrl": "https://lh3.googleusercontent.com/a-/AOh14GhLGRC49SI7WOuNBQAwvTUAj-ggmp6EPPCrjHhC=s64",
      "userId": "16551848544638359832"
     },
     "user_tz": -540
    },
    "id": "ouw0f9tDIBEJ"
   },
   "outputs": [],
   "source": [
    "# outer에서 만들어진 함수를 당장 호출하는게 아니고, 내가 원하는 시점에 호출하고 싶으면?\n",
    "def outer(a, b):\n",
    "  print('Here is Outer')\n",
    "\n",
    "  def inner():\n",
    "    print(\"Here is Inner\")\n",
    "    return a + b\n",
    "\n",
    "  return inner # 함수 자체를 리턴"
   ]
  },
  {
   "cell_type": "code",
   "execution_count": 38,
   "metadata": {
    "colab": {
     "base_uri": "https://localhost:8080/"
    },
    "executionInfo": {
     "elapsed": 3,
     "status": "ok",
     "timestamp": 1647333317202,
     "user": {
      "displayName": "소민호",
      "photoUrl": "https://lh3.googleusercontent.com/a-/AOh14GhLGRC49SI7WOuNBQAwvTUAj-ggmp6EPPCrjHhC=s64",
      "userId": "16551848544638359832"
     },
     "user_tz": -540
    },
    "id": "E8j9J49PI1cv",
    "outputId": "df4dc7b6-dc06-446f-de3f-78efae19f63c"
   },
   "outputs": [
    {
     "name": "stdout",
     "output_type": "stream",
     "text": [
      "Here is Outer\n"
     ]
    },
    {
     "data": {
      "text/plain": [
       "<function __main__.outer.<locals>.inner()>"
      ]
     },
     "execution_count": 38,
     "metadata": {},
     "output_type": "execute_result"
    }
   ],
   "source": [
    "# 값을 미리 받아 놓고 (a, b)\n",
    "inner_func = outer(10, 20)\n",
    "inner_func"
   ]
  },
  {
   "cell_type": "code",
   "execution_count": 39,
   "metadata": {
    "colab": {
     "base_uri": "https://localhost:8080/"
    },
    "executionInfo": {
     "elapsed": 386,
     "status": "ok",
     "timestamp": 1647307009087,
     "user": {
      "displayName": "소민호",
      "photoUrl": "https://lh3.googleusercontent.com/a-/AOh14GhLGRC49SI7WOuNBQAwvTUAj-ggmp6EPPCrjHhC=s64",
      "userId": "16551848544638359832"
     },
     "user_tz": -540
    },
    "id": "HbvBWjdEJMe_",
    "outputId": "d6eb01b3-c91a-4fe4-ecbd-6cd1e79a1ad4"
   },
   "outputs": [
    {
     "name": "stdout",
     "output_type": "stream",
     "text": [
      "Here is Inner\n"
     ]
    },
    {
     "data": {
      "text/plain": [
       "30"
      ]
     },
     "execution_count": 39,
     "metadata": {},
     "output_type": "execute_result"
    }
   ],
   "source": [
    "# 원할 때 계산 수행\n",
    "inner_func()"
   ]
  },
  {
   "cell_type": "markdown",
   "metadata": {
    "id": "R31_W1AkJXIO"
   },
   "source": [
    "# Callback Function\n",
    "- 함수의 Argument로 함수가 넘어가는 것\n",
    "- 함수 Argument를 받는 Parameter를 Callback Function 이라고 한다."
   ]
  },
  {
   "cell_type": "code",
   "execution_count": 40,
   "metadata": {
    "id": "aGcSI4ZjLDGm"
   },
   "outputs": [],
   "source": [
    "# foo : 값 두개를 받아서 제곱한 다음 \"어떠한 연산\"을 하는 함수\n",
    "# 추상적이다 한다(abstract)\n",
    "\n",
    "def foo(callback, a, b):\n",
    "  a **= 2 # a = a ** 2\n",
    "  b **= 2\n",
    "\n",
    "  return callback(a, b)\n",
    "\n",
    "def add_func(num1, num2):\n",
    "  return num1 + num2\n",
    "\n",
    "def sub_func(num1, num2):\n",
    "  return num1 - num2"
   ]
  },
  {
   "cell_type": "code",
   "execution_count": 41,
   "metadata": {
    "colab": {
     "base_uri": "https://localhost:8080/"
    },
    "executionInfo": {
     "elapsed": 4,
     "status": "ok",
     "timestamp": 1647308631294,
     "user": {
      "displayName": "소민호",
      "photoUrl": "https://lh3.googleusercontent.com/a-/AOh14GhLGRC49SI7WOuNBQAwvTUAj-ggmp6EPPCrjHhC=s64",
      "userId": "16551848544638359832"
     },
     "user_tz": -540
    },
    "id": "0-iJsYu1Lex-",
    "outputId": "7b5b8fc9-829e-4bc9-fcaf-11492c3fcd51"
   },
   "outputs": [
    {
     "data": {
      "text/plain": [
       "-30000"
      ]
     },
     "execution_count": 41,
     "metadata": {},
     "output_type": "execute_result"
    }
   ],
   "source": [
    "foo(sub_func, 100, 200)"
   ]
  },
  {
   "cell_type": "code",
   "execution_count": 42,
   "metadata": {
    "colab": {
     "base_uri": "https://localhost:8080/"
    },
    "executionInfo": {
     "elapsed": 2,
     "status": "ok",
     "timestamp": 1647308112665,
     "user": {
      "displayName": "소민호",
      "photoUrl": "https://lh3.googleusercontent.com/a-/AOh14GhLGRC49SI7WOuNBQAwvTUAj-ggmp6EPPCrjHhC=s64",
      "userId": "16551848544638359832"
     },
     "user_tz": -540
    },
    "id": "GpLZv3AnNtCN",
    "outputId": "d53b0636-9b63-454f-a001-01ce4a52531e"
   },
   "outputs": [
    {
     "data": {
      "text/plain": [
       "130000"
      ]
     },
     "execution_count": 42,
     "metadata": {},
     "output_type": "execute_result"
    }
   ],
   "source": [
    "foo(add_func, 200, 300)"
   ]
  },
  {
   "cell_type": "code",
   "execution_count": 43,
   "metadata": {
    "colab": {
     "base_uri": "https://localhost:8080/"
    },
    "executionInfo": {
     "elapsed": 477,
     "status": "ok",
     "timestamp": 1647308162708,
     "user": {
      "displayName": "소민호",
      "photoUrl": "https://lh3.googleusercontent.com/a-/AOh14GhLGRC49SI7WOuNBQAwvTUAj-ggmp6EPPCrjHhC=s64",
      "userId": "16551848544638359832"
     },
     "user_tz": -540
    },
    "id": "g9M97Vu6Nv82",
    "outputId": "9b713708-d2fc-42c2-cbb3-b413638b8d59"
   },
   "outputs": [
    {
     "data": {
      "text/plain": [
       "400000000"
      ]
     },
     "execution_count": 43,
     "metadata": {},
     "output_type": "execute_result"
    }
   ],
   "source": [
    "foo(lambda a, b : a * b, 100, 200)"
   ]
  },
  {
   "cell_type": "markdown",
   "metadata": {
    "id": "SItMXZOwN78u"
   },
   "source": [
    "# Decorator\n",
    "코드를 바꾸지 않고 기능을 추가하거나 수정하고 싶을 때 사용하는 문법"
   ]
  },
  {
   "cell_type": "code",
   "execution_count": 44,
   "metadata": {
    "id": "1IR7U1y4QD1f"
   },
   "outputs": [],
   "source": [
    "def bus(name):\n",
    "  print(\"카드를 찍고 타야한다.\")\n",
    "  print(f\"{name}이 버스를 탔습니다.\")\n",
    "  print(\"카드를 찍고 내립니다.\")\n",
    "\n",
    "def subway(name):\n",
    "  print(\"카드를 찍고 타야한다.\")\n",
    "  print(f\"{name}이 지하철를 탔습니다.\")\n",
    "  print(\"카드를 찍고 내립니다.\")"
   ]
  },
  {
   "cell_type": "code",
   "execution_count": 45,
   "metadata": {
    "id": "unRpwleUULn2"
   },
   "outputs": [],
   "source": [
    "# 카드를 찍은 다음 타고, 찍은 다음 내리는 메인 로직을 꾸며주는 부가적인 로직\n",
    "def tag_card(callback): # 수행할 메인 로직 (버스나, 지하철을 타는 로직)\n",
    "  # 메인 로직을 꾸며줄 함수를 작성.\n",
    "  # 메인 로직을 꾸며주는 로직으로 감싸야 한다.\n",
    "\n",
    "  # 메인 로직을 꾸며내면서 실행. 메인로직에 들어가는 Argument들은\n",
    "  # wrapper 함수에서 책임을 지어준다.( wrapper 함수가 대신 받아줌 )\n",
    "  def wrapper(*args, **kwargs):\n",
    "    print(\"카드를 찍고 탑니다.\")\n",
    "    callback(*args, **kwargs) # *를 붙여서 Argument를 넣어주면 알아서 다 풀려서 들어간다.\n",
    "    print(\"카드를 찍고 내립니다.\")\n",
    "\n",
    "  return wrapper"
   ]
  },
  {
   "cell_type": "code",
   "execution_count": 46,
   "metadata": {
    "colab": {
     "base_uri": "https://localhost:8080/"
    },
    "executionInfo": {
     "elapsed": 4,
     "status": "ok",
     "timestamp": 1647310616739,
     "user": {
      "displayName": "소민호",
      "photoUrl": "https://lh3.googleusercontent.com/a-/AOh14GhLGRC49SI7WOuNBQAwvTUAj-ggmp6EPPCrjHhC=s64",
      "userId": "16551848544638359832"
     },
     "user_tz": -540
    },
    "id": "FIMMiPhHW2_u",
    "outputId": "9ff0e6dc-faa7-416a-bda9-d354c7e07826"
   },
   "outputs": [
    {
     "name": "stdout",
     "output_type": "stream",
     "text": [
      "카드를 찍고 탑니다.\n",
      "1250를 내고 버스를 탑니다.\n",
      "카드를 찍고 내립니다.\n"
     ]
    }
   ],
   "source": [
    "# Decorator\n",
    "@tag_card\n",
    "def bus(fee):\n",
    "  ###\n",
    "  # 어떠한 복잡한 로직이 있더라도 메인 로직만 신경 쓰면 된다.\n",
    "  ###\n",
    "  print(f\"{fee}를 내고 버스를 탑니다.\")\n",
    "\n",
    "bus(1250)"
   ]
  },
  {
   "cell_type": "code",
   "execution_count": 47,
   "metadata": {
    "colab": {
     "base_uri": "https://localhost:8080/"
    },
    "executionInfo": {
     "elapsed": 917,
     "status": "ok",
     "timestamp": 1647310678743,
     "user": {
      "displayName": "소민호",
      "photoUrl": "https://lh3.googleusercontent.com/a-/AOh14GhLGRC49SI7WOuNBQAwvTUAj-ggmp6EPPCrjHhC=s64",
      "userId": "16551848544638359832"
     },
     "user_tz": -540
    },
    "id": "_yxa31EMXTO0",
    "outputId": "268abd76-a6f5-4af1-84d7-a700ab233232"
   },
   "outputs": [
    {
     "name": "stdout",
     "output_type": "stream",
     "text": [
      "카드를 찍고 탑니다.\n",
      "1250를 내고 지하철을 탑니다.\n",
      "카드를 찍고 내립니다.\n"
     ]
    }
   ],
   "source": [
    "def subway(fee):\n",
    "  print(f\"{fee}를 내고 지하철을 탑니다.\")\n",
    "wrapper = tag_card(subway)\n",
    "wrapper(1250)"
   ]
  },
  {
   "cell_type": "code",
   "execution_count": null,
   "metadata": {
    "id": "pBVb4InyXaOM"
   },
   "outputs": [],
   "source": []
  }
 ],
 "metadata": {
  "colab": {
   "authorship_tag": "ABX9TyM5NzE4rBq5Pxmvqq/3IGWi",
   "collapsed_sections": [
    "Ht49Pm5BF2c3",
    "yG7tZDF3G3e3",
    "3A9QaB4ZK9Fo",
    "Kg-zzcdPTP0G",
    "Z3ByfD_aT-Mm",
    "uTOc5VSzZWGd",
    "ogfIeEtx9XRB",
    "fDMFn8mhDoeQ",
    "SItMXZOwN78u"
   ],
   "name": "08. 함수(function)",
   "provenance": []
  },
  "kernelspec": {
   "display_name": "Python 3 (ipykernel)",
   "language": "python",
   "name": "python3"
  },
  "language_info": {
   "codemirror_mode": {
    "name": "ipython",
    "version": 3
   },
   "file_extension": ".py",
   "mimetype": "text/x-python",
   "name": "python",
   "nbconvert_exporter": "python",
   "pygments_lexer": "ipython3",
   "version": "3.9.13"
  }
 },
 "nbformat": 4,
 "nbformat_minor": 1
}
