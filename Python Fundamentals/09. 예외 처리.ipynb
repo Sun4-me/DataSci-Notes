{
 "cells": [
  {
   "cell_type": "markdown",
   "metadata": {
    "id": "jZ3pdgKSN4Yn"
   },
   "source": [
    "# 오류(Error)와 예외(Exception)\n",
    "- 프로그램 구동 중 `예외( Exception )`을 만나면 무조건 프로그램이 종료\n",
    "- 아주 작은 예외인데 이거 때문에 프로그램이 꺼지면... 불편하다."
   ]
  },
  {
   "cell_type": "code",
   "execution_count": null,
   "metadata": {
    "colab": {
     "base_uri": "https://localhost:8080/",
     "height": 135
    },
    "executionInfo": {
     "elapsed": 6,
     "status": "error",
     "timestamp": 1650328170102,
     "user": {
      "displayName": "소민호",
      "userId": "16551848544638359832"
     },
     "user_tz": -540
    },
    "id": "BabK-YW_OD2i",
    "outputId": "9f53a550-caf8-4e20-95b3-316c45bf32c2"
   },
   "outputs": [
    {
     "ename": "SyntaxError",
     "evalue": "ignored",
     "output_type": "error",
     "traceback": [
      "\u001b[0;36m  File \u001b[0;32m\"<ipython-input-1-828ec4a4fd72>\"\u001b[0;36m, line \u001b[0;32m1\u001b[0m\n\u001b[0;31m    a =\u001b[0m\n\u001b[0m        ^\u001b[0m\n\u001b[0;31mSyntaxError\u001b[0m\u001b[0;31m:\u001b[0m invalid syntax\n"
     ]
    }
   ],
   "source": [
    "a = "
   ]
  },
  {
   "cell_type": "code",
   "execution_count": null,
   "metadata": {
    "colab": {
     "base_uri": "https://localhost:8080/",
     "height": 171
    },
    "executionInfo": {
     "elapsed": 10,
     "status": "error",
     "timestamp": 1650328499207,
     "user": {
      "displayName": "소민호",
      "userId": "16551848544638359832"
     },
     "user_tz": -540
    },
    "id": "VJjzLi0ZPWji",
    "outputId": "2a6cb173-e372-46e7-ec91-19b91468fe21"
   },
   "outputs": [
    {
     "ename": "ZeroDivisionError",
     "evalue": "ignored",
     "output_type": "error",
     "traceback": [
      "\u001b[0;31m---------------------------------------------------------------------------\u001b[0m",
      "\u001b[0;31mZeroDivisionError\u001b[0m                         Traceback (most recent call last)",
      "\u001b[0;32m<ipython-input-2-bc757c3fda29>\u001b[0m in \u001b[0;36m<module>\u001b[0;34m()\u001b[0m\n\u001b[0;32m----> 1\u001b[0;31m \u001b[0;36m1\u001b[0m \u001b[0;34m/\u001b[0m \u001b[0;36m0\u001b[0m\u001b[0;34m\u001b[0m\u001b[0;34m\u001b[0m\u001b[0m\n\u001b[0m",
      "\u001b[0;31mZeroDivisionError\u001b[0m: division by zero"
     ]
    }
   ],
   "source": [
    "1 / 0"
   ]
  },
  {
   "cell_type": "code",
   "execution_count": null,
   "metadata": {
    "colab": {
     "base_uri": "https://localhost:8080/",
     "height": 189
    },
    "executionInfo": {
     "elapsed": 5,
     "status": "error",
     "timestamp": 1650328565215,
     "user": {
      "displayName": "소민호",
      "userId": "16551848544638359832"
     },
     "user_tz": -540
    },
    "id": "UUnjoEOMPnBo",
    "outputId": "b3a568cc-bd2b-434e-d84c-2fcf68fd5d58"
   },
   "outputs": [
    {
     "ename": "IndexError",
     "evalue": "ignored",
     "output_type": "error",
     "traceback": [
      "\u001b[0;31m---------------------------------------------------------------------------\u001b[0m",
      "\u001b[0;31mIndexError\u001b[0m                                Traceback (most recent call last)",
      "\u001b[0;32m<ipython-input-3-8ade92dfe8da>\u001b[0m in \u001b[0;36m<module>\u001b[0;34m()\u001b[0m\n\u001b[1;32m      1\u001b[0m \u001b[0mls\u001b[0m \u001b[0;34m=\u001b[0m \u001b[0;34m[\u001b[0m\u001b[0;36m1\u001b[0m\u001b[0;34m,\u001b[0m \u001b[0;36m2\u001b[0m\u001b[0;34m,\u001b[0m \u001b[0;36m3\u001b[0m\u001b[0;34m]\u001b[0m\u001b[0;34m\u001b[0m\u001b[0;34m\u001b[0m\u001b[0m\n\u001b[0;32m----> 2\u001b[0;31m \u001b[0mprint\u001b[0m\u001b[0;34m(\u001b[0m\u001b[0mls\u001b[0m\u001b[0;34m[\u001b[0m\u001b[0;36m3\u001b[0m\u001b[0;34m]\u001b[0m\u001b[0;34m)\u001b[0m\u001b[0;34m\u001b[0m\u001b[0;34m\u001b[0m\u001b[0m\n\u001b[0m",
      "\u001b[0;31mIndexError\u001b[0m: list index out of range"
     ]
    }
   ],
   "source": [
    "ls = [1, 2, 3]\n",
    "print(ls[3])"
   ]
  },
  {
   "cell_type": "markdown",
   "metadata": {
    "id": "tZU9sTpyP3Iy"
   },
   "source": [
    "- `try` : 예외가 일어날만한 코드가 들어가는 구간 (일반적인 코드)\n",
    "- `except` : `try`에서 일어난 예외를 처리하는 구간 (예외처리 코드)\n",
    "- `finally` : `try`, `except` 구문이 실행 된 후 실행할 코드\n",
    "- `raise` : 특정 상황에서 개발자가 일부러 예외를 발생 시키기 위한 코드"
   ]
  },
  {
   "cell_type": "code",
   "execution_count": null,
   "metadata": {
    "colab": {
     "base_uri": "https://localhost:8080/"
    },
    "executionInfo": {
     "elapsed": 360,
     "status": "ok",
     "timestamp": 1650329299412,
     "user": {
      "displayName": "소민호",
      "userId": "16551848544638359832"
     },
     "user_tz": -540
    },
    "id": "sBvEsSqvQhRR",
    "outputId": "b0b34d31-8bbb-466e-cb1c-29f4a67cd3b8"
   },
   "outputs": [
    {
     "name": "stdout",
     "output_type": "stream",
     "text": [
      "Hello\n",
      "Error 입니다~!\n"
     ]
    }
   ],
   "source": [
    "ls = [1, 2, 3]\n",
    "\n",
    "try:\n",
    "  print(\"Hello\")\n",
    "  print(ls[3])\n",
    "  print(\"Bye\")\n",
    "except:\n",
    "  print(\"Error 입니다~!\")"
   ]
  },
  {
   "cell_type": "code",
   "execution_count": null,
   "metadata": {
    "colab": {
     "base_uri": "https://localhost:8080/"
    },
    "executionInfo": {
     "elapsed": 261,
     "status": "ok",
     "timestamp": 1650329495077,
     "user": {
      "displayName": "소민호",
      "userId": "16551848544638359832"
     },
     "user_tz": -540
    },
    "id": "d7wgxjUCR-Xh",
    "outputId": "9fff0cfc-f417-43f9-bfcd-a78d6f178297"
   },
   "outputs": [
    {
     "name": "stdout",
     "output_type": "stream",
     "text": [
      "Hello\n",
      "Error 발생!\n",
      "list index out of range\n",
      "Done\n"
     ]
    }
   ],
   "source": [
    "try:\n",
    "  print(\"Hello\")\n",
    "  print(ls[3])\n",
    "  print(\"Bye\")\n",
    "except Exception as e:\n",
    "  print(\"Error 발생!\")\n",
    "  print(e)\n",
    "\n",
    "print(\"Done\")"
   ]
  },
  {
   "cell_type": "code",
   "execution_count": null,
   "metadata": {
    "colab": {
     "base_uri": "https://localhost:8080/"
    },
    "executionInfo": {
     "elapsed": 282,
     "status": "ok",
     "timestamp": 1650330839449,
     "user": {
      "displayName": "소민호",
      "userId": "16551848544638359832"
     },
     "user_tz": -540
    },
    "id": "0-cCtAknSv-d",
    "outputId": "67a997a7-11f3-4133-db8b-0a5de22f9957"
   },
   "outputs": [
    {
     "name": "stdout",
     "output_type": "stream",
     "text": [
      "Hello\n",
      "2\n",
      "Bye\n",
      "Done\n"
     ]
    }
   ],
   "source": [
    "try:\n",
    "  print(\"Hello\")\n",
    "  print(ls[1])\n",
    "  print(\"Bye\")\n",
    "except Exception as e:\n",
    "  print(\"Error 발생!\")\n",
    "  print(e)\n",
    "finally:\n",
    "  print(\"Done\")"
   ]
  },
  {
   "cell_type": "code",
   "execution_count": null,
   "metadata": {
    "colab": {
     "base_uri": "https://localhost:8080/"
    },
    "executionInfo": {
     "elapsed": 280,
     "status": "ok",
     "timestamp": 1650331333335,
     "user": {
      "displayName": "소민호",
      "userId": "16551848544638359832"
     },
     "user_tz": -540
    },
    "id": "ShploEv3WdLH",
    "outputId": "c8f5069e-30a3-472e-b931-f09185a949df"
   },
   "outputs": [
    {
     "name": "stdout",
     "output_type": "stream",
     "text": [
      "10.0\n",
      "Error!!! \n",
      "Done\n"
     ]
    }
   ],
   "source": [
    "num = 10\n",
    "\n",
    "try:\n",
    "  print(num / 1)\n",
    "  raise(ZeroDivisionError())\n",
    "except Exception as e:\n",
    "  print('Error!!!')\n",
    "\n",
    "print(\"Done\")"
   ]
  },
  {
   "cell_type": "code",
   "execution_count": null,
   "metadata": {
    "id": "egokPmA8Z1gz"
   },
   "outputs": [],
   "source": [
    "# 나이 예외 클래스\n",
    "class AgeException(Exception):\n",
    "\n",
    "  def __init__(self, age):\n",
    "    self.age = age\n",
    "\n",
    "  def __str__(self):\n",
    "    return \"나이 값이 올바르지 않습니다. {}\".format(self.age)"
   ]
  },
  {
   "cell_type": "code",
   "execution_count": null,
   "metadata": {
    "id": "8P6X0ZfdbtPb"
   },
   "outputs": [],
   "source": [
    "def set_age(age):\n",
    "  if age < 0:\n",
    "    raise AgeException(age)\n",
    "\n",
    "  print(age)"
   ]
  },
  {
   "cell_type": "code",
   "execution_count": null,
   "metadata": {
    "colab": {
     "base_uri": "https://localhost:8080/",
     "height": 297
    },
    "executionInfo": {
     "elapsed": 3,
     "status": "error",
     "timestamp": 1650331994761,
     "user": {
      "displayName": "소민호",
      "userId": "16551848544638359832"
     },
     "user_tz": -540
    },
    "id": "GkEm1YsGcIX5",
    "outputId": "ab98a1dc-d660-4138-d0b2-77f51b1119bc"
   },
   "outputs": [
    {
     "ename": "AgeException",
     "evalue": "ignored",
     "output_type": "error",
     "traceback": [
      "\u001b[0;31m---------------------------------------------------------------------------\u001b[0m",
      "\u001b[0;31mAgeException\u001b[0m                              Traceback (most recent call last)",
      "\u001b[0;32m<ipython-input-30-dc0bc2543ed3>\u001b[0m in \u001b[0;36m<module>\u001b[0;34m()\u001b[0m\n\u001b[0;32m----> 1\u001b[0;31m \u001b[0mset_age\u001b[0m\u001b[0;34m(\u001b[0m\u001b[0;34m-\u001b[0m\u001b[0;36m10\u001b[0m\u001b[0;34m)\u001b[0m\u001b[0;34m\u001b[0m\u001b[0;34m\u001b[0m\u001b[0m\n\u001b[0m",
      "\u001b[0;32m<ipython-input-29-9f80dd02fbfb>\u001b[0m in \u001b[0;36mset_age\u001b[0;34m(age)\u001b[0m\n\u001b[1;32m      1\u001b[0m \u001b[0;32mdef\u001b[0m \u001b[0mset_age\u001b[0m\u001b[0;34m(\u001b[0m\u001b[0mage\u001b[0m\u001b[0;34m)\u001b[0m\u001b[0;34m:\u001b[0m\u001b[0;34m\u001b[0m\u001b[0;34m\u001b[0m\u001b[0m\n\u001b[1;32m      2\u001b[0m   \u001b[0;32mif\u001b[0m \u001b[0mage\u001b[0m \u001b[0;34m<\u001b[0m \u001b[0;36m0\u001b[0m\u001b[0;34m:\u001b[0m\u001b[0;34m\u001b[0m\u001b[0;34m\u001b[0m\u001b[0m\n\u001b[0;32m----> 3\u001b[0;31m     \u001b[0;32mraise\u001b[0m\u001b[0;34m(\u001b[0m\u001b[0mAgeException\u001b[0m\u001b[0;34m(\u001b[0m\u001b[0mage\u001b[0m\u001b[0;34m)\u001b[0m\u001b[0;34m)\u001b[0m\u001b[0;34m\u001b[0m\u001b[0;34m\u001b[0m\u001b[0m\n\u001b[0m\u001b[1;32m      4\u001b[0m \u001b[0;34m\u001b[0m\u001b[0m\n\u001b[1;32m      5\u001b[0m   \u001b[0mprint\u001b[0m\u001b[0;34m(\u001b[0m\u001b[0mage\u001b[0m\u001b[0;34m)\u001b[0m\u001b[0;34m\u001b[0m\u001b[0;34m\u001b[0m\u001b[0m\n",
      "\u001b[0;31mAgeException\u001b[0m: 나이 값이 올바르지 않습니다. -10"
     ]
    }
   ],
   "source": [
    "set_age(-10)"
   ]
  },
  {
   "cell_type": "code",
   "execution_count": null,
   "metadata": {
    "id": "uBHsP1ePcKX5"
   },
   "outputs": [],
   "source": []
  }
 ],
 "metadata": {
  "colab": {
   "authorship_tag": "ABX9TyPruZn5yQGe1XVBgmkFyFFD",
   "collapsed_sections": [],
   "name": "11. 예외 처리",
   "provenance": []
  },
  "kernelspec": {
   "display_name": "Python 3 (ipykernel)",
   "language": "python",
   "name": "python3"
  },
  "language_info": {
   "codemirror_mode": {
    "name": "ipython",
    "version": 3
   },
   "file_extension": ".py",
   "mimetype": "text/x-python",
   "name": "python",
   "nbconvert_exporter": "python",
   "pygments_lexer": "ipython3",
   "version": "3.9.13"
  }
 },
 "nbformat": 4,
 "nbformat_minor": 1
}
