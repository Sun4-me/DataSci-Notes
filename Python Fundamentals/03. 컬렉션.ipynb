{
 "cells": [
  {
   "cell_type": "markdown",
   "metadata": {
    "id": "V6HfWHyNKaT3"
   },
   "source": [
    "# 컬렉션\n",
    "- 무엇인가를 모은 것\n",
    "- 파이썬의 컬렉션은 **파이썬에 존재하는 모든 것을** 모을 수 있다.\n",
    "  - 문법적인 요소들 빼고는 모두 다 모을 수 있다.\n",
    "  - 데이터, 변수, 함수, 클래스, 오브젝트\n",
    "- 어떠한 데이터를 모아낸 **구조**\n",
    "  - **자료구조**\n",
    "  \n",
    "## 컬렉션의 종류\n",
    "- `list`\n",
    "  - `Sequence` 자료형\n",
    "  - `Mutable` 자료형\n",
    "    - 추가된 데이터가 바뀔 수 있다.\n",
    "  - 중복 데이터 저장이 가능하다.\n",
    "  - `[]` 또는  `list()` 를 이용해서 만들 수 있다.\n",
    "  \n",
    "- `tuple`\n",
    "  - `Sequence` 자료형\n",
    "  - `Immutable` 자료형\n",
    "    - 추가된 데이터가 바뀔 수 없다.\n",
    "    - `str` 형식의 데이터도 `Immutable`\n",
    "  - 중복 데이터 저장이 가능하다.\n",
    "  - `()`를 활용해서 만든다.\n",
    "  \n",
    "- `set`\n",
    "  - `Non-Sequence` 자료형\n",
    "    - 데이터 저장의 순서를 보장하지 않는다.\n",
    "  - 중복 데이터의 저장도 허용하지 않는다.\n",
    "  - **집합**의 개념\n",
    "  \n",
    "- **`dict`**\n",
    "  - `Non-Sequence` 자료형\n",
    "  - `Key-Value` 구조 자료형"
   ]
  },
  {
   "cell_type": "markdown",
   "metadata": {
    "id": "OPO6TiSlL376"
   },
   "source": [
    "## `list`\n",
    "- `append()`\n",
    "  - 리스트의 제일 뒤에 값을 추가한다.\n",
    "- `sort()`\n",
    "  - 기본적으로 오름차순 정렬\n",
    "  - `reverse=True` 설정하면 내림차순 정렬\n",
    "- `pop()`\n",
    "  - 제일 뒤에 있는 데이터를 **꺼내고** 삭제"
   ]
  },
  {
   "cell_type": "code",
   "execution_count": 1,
   "metadata": {
    "colab": {
     "base_uri": "https://localhost:8080/"
    },
    "executionInfo": {
     "elapsed": 3,
     "status": "ok",
     "timestamp": 1646872615715,
     "user": {
      "displayName": "소민호",
      "photoUrl": "https://lh3.googleusercontent.com/a-/AOh14GhLGRC49SI7WOuNBQAwvTUAj-ggmp6EPPCrjHhC=s64",
      "userId": "16551848544638359832"
     },
     "user_tz": -540
    },
    "id": "IkgLFqGKP79Z",
    "outputId": "a85d739f-37d6-42d1-acee-20e10f79c92b"
   },
   "outputs": [
    {
     "data": {
      "text/plain": [
       "[1, 2, 3, 'four', [5, 6], 7.0, True]"
      ]
     },
     "execution_count": 1,
     "metadata": {},
     "output_type": "execute_result"
    }
   ],
   "source": [
    "list1 = [1, 2, 3, \"four\", [5, 6], 7.0, True]\n",
    "list1"
   ]
  },
  {
   "cell_type": "code",
   "execution_count": 2,
   "metadata": {
    "colab": {
     "base_uri": "https://localhost:8080/"
    },
    "executionInfo": {
     "elapsed": 2,
     "status": "ok",
     "timestamp": 1646872768282,
     "user": {
      "displayName": "소민호",
      "photoUrl": "https://lh3.googleusercontent.com/a-/AOh14GhLGRC49SI7WOuNBQAwvTUAj-ggmp6EPPCrjHhC=s64",
      "userId": "16551848544638359832"
     },
     "user_tz": -540
    },
    "id": "jHn2ctEdQcOr",
    "outputId": "6432c969-41aa-4c31-d1db-62db94194e53"
   },
   "outputs": [
    {
     "data": {
      "text/plain": [
       "7"
      ]
     },
     "execution_count": 2,
     "metadata": {},
     "output_type": "execute_result"
    }
   ],
   "source": [
    "len(list1)"
   ]
  },
  {
   "cell_type": "code",
   "execution_count": 3,
   "metadata": {
    "colab": {
     "base_uri": "https://localhost:8080/"
    },
    "executionInfo": {
     "elapsed": 7,
     "status": "ok",
     "timestamp": 1646872917850,
     "user": {
      "displayName": "소민호",
      "photoUrl": "https://lh3.googleusercontent.com/a-/AOh14GhLGRC49SI7WOuNBQAwvTUAj-ggmp6EPPCrjHhC=s64",
      "userId": "16551848544638359832"
     },
     "user_tz": -540
    },
    "id": "8dpyBsCPRCyi",
    "outputId": "e0c8f200-396b-433c-b87c-cd7bc5cc8948"
   },
   "outputs": [
    {
     "name": "stdout",
     "output_type": "stream",
     "text": [
      "four\n",
      "3\n",
      "[5, 6]\n"
     ]
    }
   ],
   "source": [
    "# list, tuple은 Sequence기 때문에 index를 사용할 수 있다.\n",
    "\n",
    "print(list1[3])\n",
    "print(list1[2])\n",
    "print(list1[4])"
   ]
  },
  {
   "cell_type": "code",
   "execution_count": 4,
   "metadata": {
    "colab": {
     "base_uri": "https://localhost:8080/"
    },
    "executionInfo": {
     "elapsed": 2,
     "status": "ok",
     "timestamp": 1646872972614,
     "user": {
      "displayName": "소민호",
      "photoUrl": "https://lh3.googleusercontent.com/a-/AOh14GhLGRC49SI7WOuNBQAwvTUAj-ggmp6EPPCrjHhC=s64",
      "userId": "16551848544638359832"
     },
     "user_tz": -540
    },
    "id": "Xt3_xmybRnOz",
    "outputId": "c2682bb4-e1c6-4df6-ab14-ba856bdc98c5"
   },
   "outputs": [
    {
     "name": "stdout",
     "output_type": "stream",
     "text": [
      "6\n"
     ]
    }
   ],
   "source": [
    "print(list1[4][1])"
   ]
  },
  {
   "cell_type": "code",
   "execution_count": 5,
   "metadata": {
    "executionInfo": {
     "elapsed": 2,
     "status": "ok",
     "timestamp": 1646874361371,
     "user": {
      "displayName": "소민호",
      "photoUrl": "https://lh3.googleusercontent.com/a-/AOh14GhLGRC49SI7WOuNBQAwvTUAj-ggmp6EPPCrjHhC=s64",
      "userId": "16551848544638359832"
     },
     "user_tz": -540
    },
    "id": "W-__DiMfW1Kj"
   },
   "outputs": [
    {
     "data": {
      "text/plain": [
       "[1, 2, 3]"
      ]
     },
     "execution_count": 5,
     "metadata": {},
     "output_type": "execute_result"
    }
   ],
   "source": [
    "list2 = [1, 2]\n",
    "list2.append(3) # 리스트 내에 아이템을 제일 뒤에 추가\n",
    "list2"
   ]
  },
  {
   "cell_type": "code",
   "execution_count": 6,
   "metadata": {
    "executionInfo": {
     "elapsed": 257,
     "status": "ok",
     "timestamp": 1646874727635,
     "user": {
      "displayName": "소민호",
      "photoUrl": "https://lh3.googleusercontent.com/a-/AOh14GhLGRC49SI7WOuNBQAwvTUAj-ggmp6EPPCrjHhC=s64",
      "userId": "16551848544638359832"
     },
     "user_tz": -540
    },
    "id": "7uwSiiZgYGCZ"
   },
   "outputs": [
    {
     "data": {
      "text/plain": [
       "[1, 2, 3, 4, 5, 6, 7]"
      ]
     },
     "execution_count": 6,
     "metadata": {},
     "output_type": "execute_result"
    }
   ],
   "source": [
    "list3 = [5, 1, 4, 7, 2, 3, 6]\n",
    "list3.sort() # 오름차순 정렬\n",
    "list3"
   ]
  },
  {
   "cell_type": "code",
   "execution_count": 7,
   "metadata": {
    "colab": {
     "base_uri": "https://localhost:8080/"
    },
    "executionInfo": {
     "elapsed": 2,
     "status": "ok",
     "timestamp": 1646874809694,
     "user": {
      "displayName": "소민호",
      "photoUrl": "https://lh3.googleusercontent.com/a-/AOh14GhLGRC49SI7WOuNBQAwvTUAj-ggmp6EPPCrjHhC=s64",
      "userId": "16551848544638359832"
     },
     "user_tz": -540
    },
    "id": "m9UTWuv4Yln5",
    "outputId": "b69d9796-7eb0-4966-fbfe-e7686654e628"
   },
   "outputs": [
    {
     "data": {
      "text/plain": [
       "[7, 6, 5, 4, 3, 2, 1]"
      ]
     },
     "execution_count": 7,
     "metadata": {},
     "output_type": "execute_result"
    }
   ],
   "source": [
    "list3.sort(reverse=True) # reverse 옵션을 True로 주면 내림차순\n",
    "list3"
   ]
  },
  {
   "cell_type": "code",
   "execution_count": 8,
   "metadata": {
    "executionInfo": {
     "elapsed": 271,
     "status": "ok",
     "timestamp": 1646875562186,
     "user": {
      "displayName": "소민호",
      "photoUrl": "https://lh3.googleusercontent.com/a-/AOh14GhLGRC49SI7WOuNBQAwvTUAj-ggmp6EPPCrjHhC=s64",
      "userId": "16551848544638359832"
     },
     "user_tz": -540
    },
    "id": "Tu29S0X5bMeS"
   },
   "outputs": [
    {
     "name": "stdout",
     "output_type": "stream",
     "text": [
      "True  /  [1, 2, 3, 'four', [5, 6], 7.0]\n"
     ]
    }
   ],
   "source": [
    "# .pop() : 제일 뒤에 있는 데이터를 꺼내고 삭제\n",
    "list1 = [1, 2, 3, \"four\", [5, 6], 7.0, True]\n",
    "item = list1.pop()\n",
    "\n",
    "print(item, \" / \", list1)"
   ]
  },
  {
   "cell_type": "code",
   "execution_count": 9,
   "metadata": {
    "executionInfo": {
     "elapsed": 1,
     "status": "ok",
     "timestamp": 1646877077170,
     "user": {
      "displayName": "소민호",
      "photoUrl": "https://lh3.googleusercontent.com/a-/AOh14GhLGRC49SI7WOuNBQAwvTUAj-ggmp6EPPCrjHhC=s64",
      "userId": "16551848544638359832"
     },
     "user_tz": -540
    },
    "id": "-_ra8kxCfu0X"
   },
   "outputs": [],
   "source": [
    "pokemon1 = ['피카츄', '라이츄']\n",
    "pokemon2 = ['꼬부기', '파이리']\n",
    "\n",
    "# pokemon1.append(pokemon2) # pokemon1 맨 뒤에 pokemon2를 추가\n",
    "# pokemon1"
   ]
  },
  {
   "cell_type": "code",
   "execution_count": 10,
   "metadata": {
    "colab": {
     "base_uri": "https://localhost:8080/"
    },
    "executionInfo": {
     "elapsed": 2,
     "status": "ok",
     "timestamp": 1646877077432,
     "user": {
      "displayName": "소민호",
      "photoUrl": "https://lh3.googleusercontent.com/a-/AOh14GhLGRC49SI7WOuNBQAwvTUAj-ggmp6EPPCrjHhC=s64",
      "userId": "16551848544638359832"
     },
     "user_tz": -540
    },
    "id": "dAIAmBZphLpR",
    "outputId": "130dfd44-d582-4780-f3bf-12f390be6c6b"
   },
   "outputs": [
    {
     "data": {
      "text/plain": [
       "['피카츄', '라이츄', '꼬부기', '파이리']"
      ]
     },
     "execution_count": 10,
     "metadata": {},
     "output_type": "execute_result"
    }
   ],
   "source": [
    "pokemon1 + pokemon2 # pokemon1의 아이템과 pokemon2의 아이템을 합쳐준다.(확장)\n",
    "\n",
    "# 확장된 새로운 리스트가 만들어 진다."
   ]
  },
  {
   "cell_type": "markdown",
   "metadata": {
    "id": "PLxnlHnDiUmA"
   },
   "source": [
    "## `tuple`\n",
    "- 리스트와 매우 흡사하지만 변경(추가, 삭제, 수정)이 불가\n",
    "- 튜플은 리스트보다 같은 데이터를 가졌을 때 공간을 적게 사용"
   ]
  },
  {
   "cell_type": "code",
   "execution_count": 11,
   "metadata": {
    "colab": {
     "base_uri": "https://localhost:8080/"
    },
    "executionInfo": {
     "elapsed": 2,
     "status": "ok",
     "timestamp": 1646878143814,
     "user": {
      "displayName": "소민호",
      "photoUrl": "https://lh3.googleusercontent.com/a-/AOh14GhLGRC49SI7WOuNBQAwvTUAj-ggmp6EPPCrjHhC=s64",
      "userId": "16551848544638359832"
     },
     "user_tz": -540
    },
    "id": "qg_qQkv5lI6P",
    "outputId": "e85ef3cd-5d0a-4ddc-cfd3-27b103de11c8"
   },
   "outputs": [
    {
     "name": "stdout",
     "output_type": "stream",
     "text": [
      "[1, 2, 3]\n",
      "[1, '리스트는 수정이 가능', 3]\n"
     ]
    }
   ],
   "source": [
    "# 리스트는 아이템의 수정이 가능하다.\n",
    "lst = [1, 2, 3]\n",
    "print(lst)\n",
    "lst[1] = \"리스트는 수정이 가능\" # 1번 인덱스 아이템을 수정\n",
    "print(lst)"
   ]
  },
  {
   "cell_type": "code",
   "execution_count": 12,
   "metadata": {
    "colab": {
     "base_uri": "https://localhost:8080/"
    },
    "executionInfo": {
     "elapsed": 2,
     "status": "ok",
     "timestamp": 1646878201040,
     "user": {
      "displayName": "소민호",
      "photoUrl": "https://lh3.googleusercontent.com/a-/AOh14GhLGRC49SI7WOuNBQAwvTUAj-ggmp6EPPCrjHhC=s64",
      "userId": "16551848544638359832"
     },
     "user_tz": -540
    },
    "id": "yxTK_2BQlZTX",
    "outputId": "b09b2218-17e2-41e5-da86-3a7c083862ae"
   },
   "outputs": [
    {
     "ename": "TypeError",
     "evalue": "'tuple' object does not support item assignment",
     "output_type": "error",
     "traceback": [
      "\u001b[1;31m---------------------------------------------------------------------------\u001b[0m",
      "\u001b[1;31mTypeError\u001b[0m                                 Traceback (most recent call last)",
      "\u001b[1;32m~\\AppData\\Local\\Temp\\ipykernel_51416\\1836437757.py\u001b[0m in \u001b[0;36m<module>\u001b[1;34m\u001b[0m\n\u001b[0;32m      1\u001b[0m \u001b[1;31m# 튜플은 아이템 수정이 불가능\u001b[0m\u001b[1;33m\u001b[0m\u001b[1;33m\u001b[0m\u001b[0m\n\u001b[0;32m      2\u001b[0m \u001b[0mtup\u001b[0m \u001b[1;33m=\u001b[0m \u001b[1;33m(\u001b[0m\u001b[1;36m1\u001b[0m\u001b[1;33m,\u001b[0m \u001b[1;36m2\u001b[0m\u001b[1;33m,\u001b[0m \u001b[1;36m3\u001b[0m\u001b[1;33m)\u001b[0m\u001b[1;33m\u001b[0m\u001b[1;33m\u001b[0m\u001b[0m\n\u001b[1;32m----> 3\u001b[1;33m \u001b[0mtup\u001b[0m\u001b[1;33m[\u001b[0m\u001b[1;36m1\u001b[0m\u001b[1;33m]\u001b[0m \u001b[1;33m=\u001b[0m \u001b[1;34m\"hahahaha\"\u001b[0m\u001b[1;33m\u001b[0m\u001b[1;33m\u001b[0m\u001b[0m\n\u001b[0m\u001b[0;32m      4\u001b[0m \u001b[0mprint\u001b[0m\u001b[1;33m(\u001b[0m\u001b[0mtup\u001b[0m\u001b[1;33m)\u001b[0m\u001b[1;33m\u001b[0m\u001b[1;33m\u001b[0m\u001b[0m\n",
      "\u001b[1;31mTypeError\u001b[0m: 'tuple' object does not support item assignment"
     ]
    }
   ],
   "source": [
    "# 튜플은 아이템 수정이 불가능\n",
    "tup = (1, 2, 3)\n",
    "tup[1] = \"hahahaha\"\n",
    "print(tup)"
   ]
  },
  {
   "cell_type": "code",
   "execution_count": 13,
   "metadata": {},
   "outputs": [
    {
     "name": "stdout",
     "output_type": "stream",
     "text": [
      "2\n"
     ]
    }
   ],
   "source": [
    "# 인덱싱은 가능하다.\n",
    "print(tup[1])"
   ]
  },
  {
   "cell_type": "code",
   "execution_count": 14,
   "metadata": {
    "colab": {
     "base_uri": "https://localhost:8080/",
     "height": 207
    },
    "executionInfo": {
     "elapsed": 6,
     "status": "error",
     "timestamp": 1646878565436,
     "user": {
      "displayName": "소민호",
      "photoUrl": "https://lh3.googleusercontent.com/a-/AOh14GhLGRC49SI7WOuNBQAwvTUAj-ggmp6EPPCrjHhC=s64",
      "userId": "16551848544638359832"
     },
     "user_tz": -540
    },
    "id": "RUlpGbPjmr9v",
    "outputId": "247ca66a-e9f5-4aa8-dd51-61817f575443"
   },
   "outputs": [
    {
     "ename": "TypeError",
     "evalue": "'str' object does not support item assignment",
     "output_type": "error",
     "traceback": [
      "\u001b[1;31m---------------------------------------------------------------------------\u001b[0m",
      "\u001b[1;31mTypeError\u001b[0m                                 Traceback (most recent call last)",
      "\u001b[1;32m~\\AppData\\Local\\Temp\\ipykernel_51416\\2624547977.py\u001b[0m in \u001b[0;36m<module>\u001b[1;34m\u001b[0m\n\u001b[0;32m      2\u001b[0m \u001b[1;31m# str 도 Immutable\u001b[0m\u001b[1;33m\u001b[0m\u001b[1;33m\u001b[0m\u001b[0m\n\u001b[0;32m      3\u001b[0m \u001b[0mtext\u001b[0m \u001b[1;33m=\u001b[0m \u001b[1;34m\"abcd\"\u001b[0m\u001b[1;33m\u001b[0m\u001b[1;33m\u001b[0m\u001b[0m\n\u001b[1;32m----> 4\u001b[1;33m \u001b[0mtext\u001b[0m\u001b[1;33m[\u001b[0m\u001b[1;36m1\u001b[0m\u001b[1;33m]\u001b[0m \u001b[1;33m=\u001b[0m \u001b[1;34m\"f\"\u001b[0m \u001b[1;31m# Error\u001b[0m\u001b[1;33m\u001b[0m\u001b[1;33m\u001b[0m\u001b[0m\n\u001b[0m",
      "\u001b[1;31mTypeError\u001b[0m: 'str' object does not support item assignment"
     ]
    }
   ],
   "source": [
    "# tuple은 아이템 변경이 불가능한 Immutable 자료형\n",
    "# str 도 Immutable\n",
    "text = \"abcd\"\n",
    "text[1] = \"f\" # Error"
   ]
  },
  {
   "cell_type": "markdown",
   "metadata": {
    "id": "X3FonVr_pXqu"
   },
   "source": [
    "## 패킹(Packing), 언패킹(UnPacking)\n",
    "- 패킹 : 데이터를 모아내는 작업\n",
    "- 언패킹 : 모아낸 데이터를 풀어 놓는 작업"
   ]
  },
  {
   "cell_type": "code",
   "execution_count": 15,
   "metadata": {
    "colab": {
     "base_uri": "https://localhost:8080/"
    },
    "executionInfo": {
     "elapsed": 278,
     "status": "ok",
     "timestamp": 1646879478256,
     "user": {
      "displayName": "소민호",
      "photoUrl": "https://lh3.googleusercontent.com/a-/AOh14GhLGRC49SI7WOuNBQAwvTUAj-ggmp6EPPCrjHhC=s64",
      "userId": "16551848544638359832"
     },
     "user_tz": -540
    },
    "id": "wCAWsrX0p_tA",
    "outputId": "c0448936-4077-4832-e1d6-4302ccf6e95c"
   },
   "outputs": [
    {
     "name": "stdout",
     "output_type": "stream",
     "text": [
      "1\n",
      "3\n",
      "two\n"
     ]
    }
   ],
   "source": [
    "# 패킹\n",
    "tup = ( 1, \"two\", 3 )\n",
    "\n",
    "# 언패킹\n",
    "item1, item2, item3 = ( 1, \"two\", 3 )\n",
    "\n",
    "print(item1)\n",
    "print(item3)\n",
    "print(item2)"
   ]
  },
  {
   "cell_type": "code",
   "execution_count": 16,
   "metadata": {
    "executionInfo": {
     "elapsed": 2,
     "status": "ok",
     "timestamp": 1646880244793,
     "user": {
      "displayName": "소민호",
      "photoUrl": "https://lh3.googleusercontent.com/a-/AOh14GhLGRC49SI7WOuNBQAwvTUAj-ggmp6EPPCrjHhC=s64",
      "userId": "16551848544638359832"
     },
     "user_tz": -540
    },
    "id": "ITZ8SiK7tHDN"
   },
   "outputs": [],
   "source": [
    "# 1, 3만 언패킹 하고 싶을 때\n",
    "tup = (1, 2, 3, 4)\n",
    "\n",
    "item1, _, item2, _ = tup"
   ]
  },
  {
   "cell_type": "markdown",
   "metadata": {
    "id": "j1s2QWi1gRbm"
   },
   "source": [
    "## `set`(집합)\n",
    "- `{}`"
   ]
  },
  {
   "cell_type": "code",
   "execution_count": 17,
   "metadata": {
    "colab": {
     "base_uri": "https://localhost:8080/"
    },
    "executionInfo": {
     "elapsed": 8,
     "status": "ok",
     "timestamp": 1646895861735,
     "user": {
      "displayName": "소민호",
      "photoUrl": "https://lh3.googleusercontent.com/a-/AOh14GhLGRC49SI7WOuNBQAwvTUAj-ggmp6EPPCrjHhC=s64",
      "userId": "16551848544638359832"
     },
     "user_tz": -540
    },
    "id": "AXl98Wy7oof8",
    "outputId": "a3a4b340-f6f6-4213-9513-391e1d0c1e8c"
   },
   "outputs": [
    {
     "name": "stdout",
     "output_type": "stream",
     "text": [
      "{1, 3, 4, 5, 6, 8, 9}\n",
      "[1, 1, 1, 1, 1, 1, 3, 3, 3, 3, 3, 3, 4, 4, 4, 4, 4, 4, 5, 5, 5, 5, 5, 5, 5, 6, 6, 6, 6, 6, 9, 9, 9, 9, 9, 9, 8, 8, 8, 8, 8, 8]\n"
     ]
    }
   ],
   "source": [
    "# set은 중복 저장이 안된다.\n",
    "set1 = {1,1,1,1,1,1,3,3,3,3,3,3,4,4,4,4,4,4,5,5,5,5,5,5,5,6,6,6,6,6,9,9,9,9,9,9,8,8,8,8,8,8}\n",
    "lst1 = [1,1,1,1,1,1,3,3,3,3,3,3,4,4,4,4,4,4,5,5,5,5,5,5,5,6,6,6,6,6,9,9,9,9,9,9,8,8,8,8,8,8]\n",
    "\n",
    "print(set1)\n",
    "print(lst1)"
   ]
  },
  {
   "cell_type": "code",
   "execution_count": 18,
   "metadata": {
    "colab": {
     "base_uri": "https://localhost:8080/"
    },
    "executionInfo": {
     "elapsed": 3,
     "status": "ok",
     "timestamp": 1646895928863,
     "user": {
      "displayName": "소민호",
      "photoUrl": "https://lh3.googleusercontent.com/a-/AOh14GhLGRC49SI7WOuNBQAwvTUAj-ggmp6EPPCrjHhC=s64",
      "userId": "16551848544638359832"
     },
     "user_tz": -540
    },
    "id": "YUHVXu-CpIv1",
    "outputId": "c04d2d0f-1c50-4402-84bf-2a70c0f52ebb"
   },
   "outputs": [
    {
     "name": "stdout",
     "output_type": "stream",
     "text": [
      "{'apple', 'orange', 'cherry', 'mango', 'banana'}\n",
      "['apple', 'banana', 'mango', 'cherry', 'orange']\n"
     ]
    }
   ],
   "source": [
    "# set은 순서 보장이 안된다.\n",
    "set2 = {\"apple\", \"banana\", \"mango\", \"cherry\", \"orange\"}\n",
    "lst2 = [\"apple\", \"banana\", \"mango\", \"cherry\", \"orange\"]\n",
    "\n",
    "print(set2)\n",
    "print(lst2)"
   ]
  },
  {
   "cell_type": "markdown",
   "metadata": {
    "id": "2o-r8Rp_pZJE"
   },
   "source": [
    "수학에서의 **집합**과 동일한 개념\n",
    "- 교집합 : `intersection`\n",
    "- 합집합 : `union`\n",
    "- 차집합 : `difference`\n",
    "- 부분집합 : `issubset`"
   ]
  },
  {
   "cell_type": "code",
   "execution_count": 20,
   "metadata": {
    "executionInfo": {
     "elapsed": 303,
     "status": "ok",
     "timestamp": 1646896286279,
     "user": {
      "displayName": "소민호",
      "photoUrl": "https://lh3.googleusercontent.com/a-/AOh14GhLGRC49SI7WOuNBQAwvTUAj-ggmp6EPPCrjHhC=s64",
      "userId": "16551848544638359832"
     },
     "user_tz": -540
    },
    "id": "oABATcyIqWUj"
   },
   "outputs": [],
   "source": [
    "A = {1, 2, 3}\n",
    "B = {2, 3, 4}"
   ]
  },
  {
   "cell_type": "code",
   "execution_count": 21,
   "metadata": {
    "colab": {
     "base_uri": "https://localhost:8080/"
    },
    "executionInfo": {
     "elapsed": 311,
     "status": "ok",
     "timestamp": 1646896312217,
     "user": {
      "displayName": "소민호",
      "photoUrl": "https://lh3.googleusercontent.com/a-/AOh14GhLGRC49SI7WOuNBQAwvTUAj-ggmp6EPPCrjHhC=s64",
      "userId": "16551848544638359832"
     },
     "user_tz": -540
    },
    "id": "Vrm-2y9EqwY1",
    "outputId": "ce52d31a-07d9-46a0-f910-eb5501fe1bb1"
   },
   "outputs": [
    {
     "data": {
      "text/plain": [
       "{2, 3}"
      ]
     },
     "execution_count": 21,
     "metadata": {},
     "output_type": "execute_result"
    }
   ],
   "source": [
    "A.intersection(B) # A와 B의 교집합"
   ]
  },
  {
   "cell_type": "code",
   "execution_count": 22,
   "metadata": {
    "colab": {
     "base_uri": "https://localhost:8080/"
    },
    "executionInfo": {
     "elapsed": 305,
     "status": "ok",
     "timestamp": 1646896352098,
     "user": {
      "displayName": "소민호",
      "photoUrl": "https://lh3.googleusercontent.com/a-/AOh14GhLGRC49SI7WOuNBQAwvTUAj-ggmp6EPPCrjHhC=s64",
      "userId": "16551848544638359832"
     },
     "user_tz": -540
    },
    "id": "14hJaoHpq2uP",
    "outputId": "c0f4049a-81ff-4d0b-acf6-30c8bd9f66cc"
   },
   "outputs": [
    {
     "data": {
      "text/plain": [
       "{1, 2, 3, 4}"
      ]
     },
     "execution_count": 22,
     "metadata": {},
     "output_type": "execute_result"
    }
   ],
   "source": [
    "A.union(B) # A와 B의 합집합"
   ]
  },
  {
   "cell_type": "code",
   "execution_count": 23,
   "metadata": {
    "colab": {
     "base_uri": "https://localhost:8080/"
    },
    "executionInfo": {
     "elapsed": 282,
     "status": "ok",
     "timestamp": 1646896436959,
     "user": {
      "displayName": "소민호",
      "photoUrl": "https://lh3.googleusercontent.com/a-/AOh14GhLGRC49SI7WOuNBQAwvTUAj-ggmp6EPPCrjHhC=s64",
      "userId": "16551848544638359832"
     },
     "user_tz": -540
    },
    "id": "elAMv-b4rAd8",
    "outputId": "3ce03d4c-ca7e-4b13-b0e9-fa0b0edbafe6"
   },
   "outputs": [
    {
     "data": {
      "text/plain": [
       "{1}"
      ]
     },
     "execution_count": 23,
     "metadata": {},
     "output_type": "execute_result"
    }
   ],
   "source": [
    "A.difference(B) # A와 B의 차집합"
   ]
  },
  {
   "cell_type": "code",
   "execution_count": 24,
   "metadata": {
    "executionInfo": {
     "elapsed": 274,
     "status": "ok",
     "timestamp": 1646896514861,
     "user": {
      "displayName": "소민호",
      "photoUrl": "https://lh3.googleusercontent.com/a-/AOh14GhLGRC49SI7WOuNBQAwvTUAj-ggmp6EPPCrjHhC=s64",
      "userId": "16551848544638359832"
     },
     "user_tz": -540
    },
    "id": "uKq3DggOrNfs"
   },
   "outputs": [],
   "source": [
    "# 부분집합 - True / False\n",
    "C = {2, 3}"
   ]
  },
  {
   "cell_type": "code",
   "execution_count": 25,
   "metadata": {
    "colab": {
     "base_uri": "https://localhost:8080/"
    },
    "executionInfo": {
     "elapsed": 3,
     "status": "ok",
     "timestamp": 1646896521762,
     "user": {
      "displayName": "소민호",
      "photoUrl": "https://lh3.googleusercontent.com/a-/AOh14GhLGRC49SI7WOuNBQAwvTUAj-ggmp6EPPCrjHhC=s64",
      "userId": "16551848544638359832"
     },
     "user_tz": -540
    },
    "id": "AuDBK9k8roM7",
    "outputId": "5d4f8efd-6a64-4a2e-a626-8dd15b30f81f"
   },
   "outputs": [
    {
     "data": {
      "text/plain": [
       "True"
      ]
     },
     "execution_count": 25,
     "metadata": {},
     "output_type": "execute_result"
    }
   ],
   "source": [
    "C.issubset(A)"
   ]
  },
  {
   "cell_type": "code",
   "execution_count": 26,
   "metadata": {
    "colab": {
     "base_uri": "https://localhost:8080/"
    },
    "executionInfo": {
     "elapsed": 4,
     "status": "ok",
     "timestamp": 1646896531432,
     "user": {
      "displayName": "소민호",
      "photoUrl": "https://lh3.googleusercontent.com/a-/AOh14GhLGRC49SI7WOuNBQAwvTUAj-ggmp6EPPCrjHhC=s64",
      "userId": "16551848544638359832"
     },
     "user_tz": -540
    },
    "id": "-7yewCsurp4b",
    "outputId": "a4aed446-2c15-4281-985e-ac6f6b35cc29"
   },
   "outputs": [
    {
     "data": {
      "text/plain": [
       "True"
      ]
     },
     "execution_count": 26,
     "metadata": {},
     "output_type": "execute_result"
    }
   ],
   "source": [
    "C.issubset(B)"
   ]
  },
  {
   "cell_type": "code",
   "execution_count": 27,
   "metadata": {
    "colab": {
     "base_uri": "https://localhost:8080/"
    },
    "executionInfo": {
     "elapsed": 5,
     "status": "ok",
     "timestamp": 1646896558266,
     "user": {
      "displayName": "소민호",
      "photoUrl": "https://lh3.googleusercontent.com/a-/AOh14GhLGRC49SI7WOuNBQAwvTUAj-ggmp6EPPCrjHhC=s64",
      "userId": "16551848544638359832"
     },
     "user_tz": -540
    },
    "id": "eaqFX7P5rsUT",
    "outputId": "99e3f27e-7d5e-4ed2-f793-2a680c9fa071"
   },
   "outputs": [
    {
     "data": {
      "text/plain": [
       "False"
      ]
     },
     "execution_count": 27,
     "metadata": {},
     "output_type": "execute_result"
    }
   ],
   "source": [
    "B.issubset(A)"
   ]
  },
  {
   "cell_type": "code",
   "execution_count": 28,
   "metadata": {
    "colab": {
     "base_uri": "https://localhost:8080/",
     "height": 171
    },
    "executionInfo": {
     "elapsed": 9,
     "status": "error",
     "timestamp": 1646896650504,
     "user": {
      "displayName": "소민호",
      "photoUrl": "https://lh3.googleusercontent.com/a-/AOh14GhLGRC49SI7WOuNBQAwvTUAj-ggmp6EPPCrjHhC=s64",
      "userId": "16551848544638359832"
     },
     "user_tz": -540
    },
    "id": "v15hZxu-sG_N",
    "outputId": "202c257f-cb4c-4f58-b5e2-a29472603b10"
   },
   "outputs": [
    {
     "ename": "TypeError",
     "evalue": "'set' object is not subscriptable",
     "output_type": "error",
     "traceback": [
      "\u001b[1;31m---------------------------------------------------------------------------\u001b[0m",
      "\u001b[1;31mTypeError\u001b[0m                                 Traceback (most recent call last)",
      "\u001b[1;32m~\\AppData\\Local\\Temp\\ipykernel_51416\\1982235087.py\u001b[0m in \u001b[0;36m<module>\u001b[1;34m\u001b[0m\n\u001b[0;32m      1\u001b[0m \u001b[1;31m# set은 Non-Sequence이기 때문에 인덱스 사용이 불가\u001b[0m\u001b[1;33m\u001b[0m\u001b[1;33m\u001b[0m\u001b[0m\n\u001b[1;32m----> 2\u001b[1;33m \u001b[0mA\u001b[0m\u001b[1;33m[\u001b[0m\u001b[1;36m0\u001b[0m\u001b[1;33m]\u001b[0m\u001b[1;33m\u001b[0m\u001b[1;33m\u001b[0m\u001b[0m\n\u001b[0m",
      "\u001b[1;31mTypeError\u001b[0m: 'set' object is not subscriptable"
     ]
    }
   ],
   "source": [
    "# set은 Non-Sequence이기 때문에 인덱스 사용이 불가\n",
    "A[0]"
   ]
  },
  {
   "cell_type": "markdown",
   "metadata": {
    "id": "8ZM5INl8sJTs"
   },
   "source": [
    "## `dict`\n",
    "- `{key : value}`\n",
    "  - `{key1 : value1, key2 : value2, key3 : value1}`\n",
    "- `key`의 특징\n",
    "  - 정수와 문자열로만 설정이 가능하다.\n",
    "- `value`의 특징\n",
    "  - 중복 저장 허용한다.\n",
    "  - 파이썬에 존재하는 모든 데이터 타입이 저장 될 수 있다."
   ]
  },
  {
   "cell_type": "code",
   "execution_count": 29,
   "metadata": {
    "executionInfo": {
     "elapsed": 306,
     "status": "ok",
     "timestamp": 1646897315262,
     "user": {
      "displayName": "소민호",
      "photoUrl": "https://lh3.googleusercontent.com/a-/AOh14GhLGRC49SI7WOuNBQAwvTUAj-ggmp6EPPCrjHhC=s64",
      "userId": "16551848544638359832"
     },
     "user_tz": -540
    },
    "id": "5oNrDcn5sYRL"
   },
   "outputs": [
    {
     "name": "stdout",
     "output_type": "stream",
     "text": [
      "{'Korea': 'Seoul', 'Japan': 'Tokyo', 'Canada': 'Ottawa'}\n"
     ]
    }
   ],
   "source": [
    "city = {\n",
    "    \"Korea\" : \"Seoul\",\n",
    "    \"Japan\" : \"Tokyo\",\n",
    "    \"Canada\" : \"Ottawa\"\n",
    "}\n",
    "print(city)"
   ]
  },
  {
   "cell_type": "code",
   "execution_count": 30,
   "metadata": {
    "colab": {
     "base_uri": "https://localhost:8080/",
     "height": 35
    },
    "executionInfo": {
     "elapsed": 4,
     "status": "ok",
     "timestamp": 1646897315935,
     "user": {
      "displayName": "소민호",
      "photoUrl": "https://lh3.googleusercontent.com/a-/AOh14GhLGRC49SI7WOuNBQAwvTUAj-ggmp6EPPCrjHhC=s64",
      "userId": "16551848544638359832"
     },
     "user_tz": -540
    },
    "id": "UxJejxd7tyRs",
    "outputId": "b39f86c7-af3d-4e86-eb1c-3df672d43389"
   },
   "outputs": [
    {
     "data": {
      "text/plain": [
       "'Tokyo'"
      ]
     },
     "execution_count": 30,
     "metadata": {},
     "output_type": "execute_result"
    }
   ],
   "source": [
    "# dict에서 데이터를 가지고 올 때는 key를 활용한다.\n",
    "city[\"Japan\"]"
   ]
  },
  {
   "cell_type": "code",
   "execution_count": 31,
   "metadata": {
    "colab": {
     "base_uri": "https://localhost:8080/"
    },
    "executionInfo": {
     "elapsed": 289,
     "status": "ok",
     "timestamp": 1646897562227,
     "user": {
      "displayName": "소민호",
      "photoUrl": "https://lh3.googleusercontent.com/a-/AOh14GhLGRC49SI7WOuNBQAwvTUAj-ggmp6EPPCrjHhC=s64",
      "userId": "16551848544638359832"
     },
     "user_tz": -540
    },
    "id": "nDsqgna5viDU",
    "outputId": "1385a7e0-c6ae-42f5-d665-daa0067c4440"
   },
   "outputs": [
    {
     "data": {
      "text/plain": [
       "{'Korea': 'Seoul', 'Japan': 'Tokyo', 'Canada': 'Ottawa', 'China': 'Beijing'}"
      ]
     },
     "execution_count": 31,
     "metadata": {},
     "output_type": "execute_result"
    }
   ],
   "source": [
    "# 추가\n",
    "city[\"China\"] = \"Beijing\"\n",
    "city"
   ]
  },
  {
   "cell_type": "code",
   "execution_count": 32,
   "metadata": {
    "colab": {
     "base_uri": "https://localhost:8080/"
    },
    "executionInfo": {
     "elapsed": 2,
     "status": "ok",
     "timestamp": 1646897670901,
     "user": {
      "displayName": "소민호",
      "photoUrl": "https://lh3.googleusercontent.com/a-/AOh14GhLGRC49SI7WOuNBQAwvTUAj-ggmp6EPPCrjHhC=s64",
      "userId": "16551848544638359832"
     },
     "user_tz": -540
    },
    "id": "DbG8o74_vn5t",
    "outputId": "a4b13cdc-d752-4eee-f7ee-4766437ed079"
   },
   "outputs": [
    {
     "data": {
      "text/plain": [
       "{'Korea': 'Seoul', 'Japan': 'Kyoto', 'Canada': 'Ottawa', 'China': 'Beijing'}"
      ]
     },
     "execution_count": 32,
     "metadata": {},
     "output_type": "execute_result"
    }
   ],
   "source": [
    "# 변경\n",
    "city[\"Japan\"] = \"Kyoto\"\n",
    "city"
   ]
  },
  {
   "cell_type": "code",
   "execution_count": 33,
   "metadata": {
    "colab": {
     "base_uri": "https://localhost:8080/"
    },
    "executionInfo": {
     "elapsed": 2,
     "status": "ok",
     "timestamp": 1646897723629,
     "user": {
      "displayName": "소민호",
      "photoUrl": "https://lh3.googleusercontent.com/a-/AOh14GhLGRC49SI7WOuNBQAwvTUAj-ggmp6EPPCrjHhC=s64",
      "userId": "16551848544638359832"
     },
     "user_tz": -540
    },
    "id": "VdokqAthwF6n",
    "outputId": "a25b48b9-6585-4a4e-a3cf-f6ba1d04b58d"
   },
   "outputs": [
    {
     "data": {
      "text/plain": [
       "{'Korea': 'Seoul', 'Canada': 'Ottawa', 'China': 'Beijing'}"
      ]
     },
     "execution_count": 33,
     "metadata": {},
     "output_type": "execute_result"
    }
   ],
   "source": [
    "# 삭제\n",
    "del city[\"Japan\"] # city 딕셔너리에서 키가 Japan인 원소를 삭제\n",
    "city"
   ]
  },
  {
   "cell_type": "code",
   "execution_count": 34,
   "metadata": {
    "colab": {
     "base_uri": "https://localhost:8080/"
    },
    "executionInfo": {
     "elapsed": 304,
     "status": "ok",
     "timestamp": 1646897803039,
     "user": {
      "displayName": "소민호",
      "photoUrl": "https://lh3.googleusercontent.com/a-/AOh14GhLGRC49SI7WOuNBQAwvTUAj-ggmp6EPPCrjHhC=s64",
      "userId": "16551848544638359832"
     },
     "user_tz": -540
    },
    "id": "yDaj7Jyrwcir",
    "outputId": "7208d264-73c3-4fda-aa04-04d989691436"
   },
   "outputs": [
    {
     "data": {
      "text/plain": [
       "dict_keys(['Korea', 'Canada', 'China'])"
      ]
     },
     "execution_count": 34,
     "metadata": {},
     "output_type": "execute_result"
    }
   ],
   "source": [
    "# keys() : 딕셔너리 내의 전체 키를 확인\n",
    "city.keys()"
   ]
  },
  {
   "cell_type": "code",
   "execution_count": 35,
   "metadata": {
    "colab": {
     "base_uri": "https://localhost:8080/"
    },
    "executionInfo": {
     "elapsed": 4,
     "status": "ok",
     "timestamp": 1646897825626,
     "user": {
      "displayName": "소민호",
      "photoUrl": "https://lh3.googleusercontent.com/a-/AOh14GhLGRC49SI7WOuNBQAwvTUAj-ggmp6EPPCrjHhC=s64",
      "userId": "16551848544638359832"
     },
     "user_tz": -540
    },
    "id": "OIw6Im_VwiwL",
    "outputId": "232eea72-5afc-4660-8f48-0ec287de51c5"
   },
   "outputs": [
    {
     "data": {
      "text/plain": [
       "dict_values(['Seoul', 'Ottawa', 'Beijing'])"
      ]
     },
     "execution_count": 35,
     "metadata": {},
     "output_type": "execute_result"
    }
   ],
   "source": [
    "# values() : 딕셔너리 내의 전체 value를 확인\n",
    "city.values()"
   ]
  },
  {
   "cell_type": "code",
   "execution_count": 36,
   "metadata": {
    "colab": {
     "base_uri": "https://localhost:8080/"
    },
    "executionInfo": {
     "elapsed": 297,
     "status": "ok",
     "timestamp": 1646898120521,
     "user": {
      "displayName": "소민호",
      "photoUrl": "https://lh3.googleusercontent.com/a-/AOh14GhLGRC49SI7WOuNBQAwvTUAj-ggmp6EPPCrjHhC=s64",
      "userId": "16551848544638359832"
     },
     "user_tz": -540
    },
    "id": "PTJfHt2_woPy",
    "outputId": "34c2359b-20c4-4824-fcf2-1d05588fcd09"
   },
   "outputs": [
    {
     "data": {
      "text/plain": [
       "dict_items([('Korea', 'Seoul'), ('Canada', 'Ottawa'), ('China', 'Beijing')])"
      ]
     },
     "execution_count": 36,
     "metadata": {},
     "output_type": "execute_result"
    }
   ],
   "source": [
    "# items() : 딕셔너리 내의 전체 key, value를 튜플 형태로 확인\n",
    "city.items()"
   ]
  },
  {
   "cell_type": "markdown",
   "metadata": {
    "id": "w1bRFjNMxLSr"
   },
   "source": [
    "## 컬렉션 간의 타입 캐스팅"
   ]
  },
  {
   "cell_type": "code",
   "execution_count": 37,
   "metadata": {
    "colab": {
     "base_uri": "https://localhost:8080/"
    },
    "executionInfo": {
     "elapsed": 4,
     "status": "ok",
     "timestamp": 1646898183741,
     "user": {
      "displayName": "소민호",
      "photoUrl": "https://lh3.googleusercontent.com/a-/AOh14GhLGRC49SI7WOuNBQAwvTUAj-ggmp6EPPCrjHhC=s64",
      "userId": "16551848544638359832"
     },
     "user_tz": -540
    },
    "id": "rLkaVYYpx6vD",
    "outputId": "abd73635-92fc-4e77-a8e0-8d6a94ec1f51"
   },
   "outputs": [
    {
     "data": {
      "text/plain": [
       "(1, 2, 3)"
      ]
     },
     "execution_count": 37,
     "metadata": {},
     "output_type": "execute_result"
    }
   ],
   "source": [
    "# list -> tuple\n",
    "lst = [1, 2, 3]\n",
    "tuple(lst)"
   ]
  },
  {
   "cell_type": "code",
   "execution_count": 38,
   "metadata": {
    "colab": {
     "base_uri": "https://localhost:8080/"
    },
    "executionInfo": {
     "elapsed": 2,
     "status": "ok",
     "timestamp": 1646898205948,
     "user": {
      "displayName": "소민호",
      "photoUrl": "https://lh3.googleusercontent.com/a-/AOh14GhLGRC49SI7WOuNBQAwvTUAj-ggmp6EPPCrjHhC=s64",
      "userId": "16551848544638359832"
     },
     "user_tz": -540
    },
    "id": "38Hej5H6x_tb",
    "outputId": "dc1fc627-51f7-4c05-d8a5-a8aed5cf51b4"
   },
   "outputs": [
    {
     "data": {
      "text/plain": [
       "[1, 2, 3]"
      ]
     },
     "execution_count": 38,
     "metadata": {},
     "output_type": "execute_result"
    }
   ],
   "source": [
    "# tuple -> list\n",
    "tup = (1, 2, 3)\n",
    "list(tup)"
   ]
  },
  {
   "cell_type": "code",
   "execution_count": 39,
   "metadata": {
    "colab": {
     "base_uri": "https://localhost:8080/"
    },
    "executionInfo": {
     "elapsed": 322,
     "status": "ok",
     "timestamp": 1646898230415,
     "user": {
      "displayName": "소민호",
      "photoUrl": "https://lh3.googleusercontent.com/a-/AOh14GhLGRC49SI7WOuNBQAwvTUAj-ggmp6EPPCrjHhC=s64",
      "userId": "16551848544638359832"
     },
     "user_tz": -540
    },
    "id": "YGC63zbdyFIj",
    "outputId": "15baf919-4580-403f-c810-7f96c8a7512a"
   },
   "outputs": [
    {
     "data": {
      "text/plain": [
       "{1, 2, 3, 4, 6}"
      ]
     },
     "execution_count": 39,
     "metadata": {},
     "output_type": "execute_result"
    }
   ],
   "source": [
    "# list -> set\n",
    "lst = [1, 1, 2, 3, 4, 4, 6, 6]\n",
    "set(lst)"
   ]
  },
  {
   "cell_type": "code",
   "execution_count": 40,
   "metadata": {
    "colab": {
     "base_uri": "https://localhost:8080/"
    },
    "executionInfo": {
     "elapsed": 2,
     "status": "ok",
     "timestamp": 1646898263526,
     "user": {
      "displayName": "소민호",
      "photoUrl": "https://lh3.googleusercontent.com/a-/AOh14GhLGRC49SI7WOuNBQAwvTUAj-ggmp6EPPCrjHhC=s64",
      "userId": "16551848544638359832"
     },
     "user_tz": -540
    },
    "id": "GnRVTVksyLCC",
    "outputId": "6eff9b0f-6950-4fff-bb41-ee4ae8e73bb8"
   },
   "outputs": [
    {
     "data": {
      "text/plain": [
       "['Apple', 'Mango', 'Banana']"
      ]
     },
     "execution_count": 40,
     "metadata": {},
     "output_type": "execute_result"
    }
   ],
   "source": [
    "# set -> list\n",
    "set1 = {\"Apple\", \"Banana\", \"Mango\"}\n",
    "list(set1)"
   ]
  },
  {
   "cell_type": "code",
   "execution_count": 41,
   "metadata": {
    "colab": {
     "base_uri": "https://localhost:8080/"
    },
    "executionInfo": {
     "elapsed": 2,
     "status": "ok",
     "timestamp": 1646898280772,
     "user": {
      "displayName": "소민호",
      "photoUrl": "https://lh3.googleusercontent.com/a-/AOh14GhLGRC49SI7WOuNBQAwvTUAj-ggmp6EPPCrjHhC=s64",
      "userId": "16551848544638359832"
     },
     "user_tz": -540
    },
    "id": "EbORPmUoyTOz",
    "outputId": "03f93fbe-1e6f-4ab1-ae4e-e121d1820460"
   },
   "outputs": [
    {
     "data": {
      "text/plain": [
       "['Korea', 'Japan', 'Canada']"
      ]
     },
     "execution_count": 41,
     "metadata": {},
     "output_type": "execute_result"
    }
   ],
   "source": [
    "# 딕셔너리를 리스트로 바꾸면 키만 나온다.\n",
    "city = {\n",
    "    \"Korea\" : \"Seoul\",\n",
    "    \"Japan\" : \"Tokyo\",\n",
    "    \"Canada\" : \"Ottawa\"\n",
    "}\n",
    "list(city)"
   ]
  },
  {
   "cell_type": "code",
   "execution_count": 42,
   "metadata": {
    "colab": {
     "base_uri": "https://localhost:8080/"
    },
    "executionInfo": {
     "elapsed": 288,
     "status": "ok",
     "timestamp": 1646898499272,
     "user": {
      "displayName": "소민호",
      "photoUrl": "https://lh3.googleusercontent.com/a-/AOh14GhLGRC49SI7WOuNBQAwvTUAj-ggmp6EPPCrjHhC=s64",
      "userId": "16551848544638359832"
     },
     "user_tz": -540
    },
    "id": "IsP0si98ypO1",
    "outputId": "cabbc8d9-8559-40f3-8e92-97f0e95378b6"
   },
   "outputs": [
    {
     "data": {
      "text/plain": [
       "['h', 'e', 'l', 'l', 'o']"
      ]
     },
     "execution_count": 42,
     "metadata": {},
     "output_type": "execute_result"
    }
   ],
   "source": [
    "# 문자열 -> list\n",
    "text = \"hello\"\n",
    "list(text)"
   ]
  }
 ],
 "metadata": {
  "colab": {
   "authorship_tag": "ABX9TyPRbJ4sCwE0z7lR+Cseb34u",
   "name": "04. 컬렉션 데이터 타입",
   "provenance": []
  },
  "kernelspec": {
   "display_name": "Python 3 (ipykernel)",
   "language": "python",
   "name": "python3"
  },
  "language_info": {
   "codemirror_mode": {
    "name": "ipython",
    "version": 3
   },
   "file_extension": ".py",
   "mimetype": "text/x-python",
   "name": "python",
   "nbconvert_exporter": "python",
   "pygments_lexer": "ipython3",
   "version": "3.9.13"
  }
 },
 "nbformat": 4,
 "nbformat_minor": 1
}
