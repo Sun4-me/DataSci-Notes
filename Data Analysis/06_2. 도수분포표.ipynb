{
 "cells": [
  {
   "cell_type": "markdown",
   "id": "0b3e3567",
   "metadata": {},
   "source": [
    "# 도수분포표의 개념\n",
    "- 특정 데이터 집합에서 각 값이 나타나는 빈도수를 요약한 표, 주로 통계학에서 사용\n",
    "- 여러개의 열로 구성, 첫번째 열은 데이터의 범위를 나타냄, 이후 열은 데이터의 빈도수를 나타냄\n",
    "- 데이터의 분포를 이해하고 분석하는데 유용, 시각화에도 도움이 되는 도구\n",
    "- 데이터의 중심 경향성, 분산, 이상치 등 파악 가능\n",
    "- 시각화의 경우, 히스토그램을 통해 데이터의 분포를 시각화할 수 있음"
   ]
  },
  {
   "cell_type": "markdown",
   "id": "795887f6",
   "metadata": {},
   "source": [
    "## 도수분포표 시각화"
   ]
  },
  {
   "cell_type": "code",
   "execution_count": 2,
   "id": "32724162",
   "metadata": {},
   "outputs": [],
   "source": [
    "import pandas as pd\n",
    "import matplotlib.pyplot as plt\n",
    "import numpy as np\n",
    "import random"
   ]
  },
  {
   "cell_type": "code",
   "execution_count": 7,
   "id": "5318b656",
   "metadata": {},
   "outputs": [
    {
     "data": {
      "text/plain": [
       "[76,\n",
       " 63,\n",
       " 86,\n",
       " 87,\n",
       " 87,\n",
       " 69,\n",
       " 86,\n",
       " 78,\n",
       " 80,\n",
       " 87,\n",
       " 89,\n",
       " 73,\n",
       " 65,\n",
       " 89,\n",
       " 79,\n",
       " 91,\n",
       " 81,\n",
       " 94,\n",
       " 92,\n",
       " 69,\n",
       " 73,\n",
       " 83,\n",
       " 98,\n",
       " 76,\n",
       " 100,\n",
       " 99,\n",
       " 90,\n",
       " 68,\n",
       " 75,\n",
       " 92,\n",
       " 60,\n",
       " 76,\n",
       " 76,\n",
       " 94,\n",
       " 93,\n",
       " 97,\n",
       " 69,\n",
       " 72,\n",
       " 69,\n",
       " 80,\n",
       " 81,\n",
       " 88,\n",
       " 96,\n",
       " 84,\n",
       " 96,\n",
       " 91,\n",
       " 62,\n",
       " 73,\n",
       " 77,\n",
       " 67,\n",
       " 69,\n",
       " 65,\n",
       " 96,\n",
       " 73,\n",
       " 91,\n",
       " 79,\n",
       " 85,\n",
       " 97,\n",
       " 80,\n",
       " 60,\n",
       " 72,\n",
       " 98,\n",
       " 87,\n",
       " 75,\n",
       " 88,\n",
       " 74,\n",
       " 70,\n",
       " 67,\n",
       " 62,\n",
       " 65,\n",
       " 89,\n",
       " 62,\n",
       " 85,\n",
       " 62,\n",
       " 61,\n",
       " 78,\n",
       " 100,\n",
       " 95,\n",
       " 81,\n",
       " 66,\n",
       " 87,\n",
       " 96,\n",
       " 68,\n",
       " 80,\n",
       " 87,\n",
       " 85,\n",
       " 89,\n",
       " 87,\n",
       " 63,\n",
       " 93,\n",
       " 84,\n",
       " 98,\n",
       " 74,\n",
       " 68,\n",
       " 67,\n",
       " 80,\n",
       " 61,\n",
       " 66,\n",
       " 98,\n",
       " 87]"
      ]
     },
     "execution_count": 7,
     "metadata": {},
     "output_type": "execute_result"
    }
   ],
   "source": [
    "# 데이터 생성\n",
    "math_scores = random.choices(range(60, 101), k=100)\n",
    "math_scores"
   ]
  },
  {
   "cell_type": "code",
   "execution_count": 8,
   "id": "5a222a0b",
   "metadata": {},
   "outputs": [
    {
     "name": "stdout",
     "output_type": "stream",
     "text": [
      "             Frequency\n",
      "Score Range           \n",
      "(85, 90]            17\n",
      "(65, 70]            14\n",
      "(75, 80]            14\n",
      "(95, 100]           13\n",
      "(60, 65]            11\n",
      "(70, 75]            10\n",
      "(90, 95]            10\n",
      "(80, 85]             9\n"
     ]
    }
   ],
   "source": [
    "bins = np.arange(60, 101, 5)\n",
    "freq = pd.cut(pd.Series(math_scores), bins=bins).value_counts() # pd.Series() 함수로 시리즈 객체로 변환, pd.cut() 함수로 구간 나눈 후 빈도수 계산\n",
    "freq_table = pd.DataFrame({'Frequency': freq.values}, index=freq.index)\n",
    "freq_table.index.name = 'Score Range'\n",
    "print(freq_table)"
   ]
  },
  {
   "cell_type": "code",
   "execution_count": 9,
   "id": "463901c7",
   "metadata": {},
   "outputs": [
    {
     "data": {
      "image/png": "[encoded data removed]",
      "text/plain": [
       "<Figure size 640x480 with 1 Axes>"
      ]
     },
     "metadata": {},
     "output_type": "display_data"
    }
   ],
   "source": [
    "plt.hist(math_scores, bins=bins, edgecolor='black')\n",
    "plt.xticks(bins)\n",
    "plt.xlabel('Score Range')\n",
    "plt.ylabel('Frequency')\n",
    "plt.title('Math Scores')\n",
    "plt.show()"
   ]
  },
  {
   "cell_type": "code",
   "execution_count": null,
   "id": "d994b938",
   "metadata": {},
   "outputs": [],
   "source": []
  }
 ],
 "metadata": {
  "kernelspec": {
   "display_name": "Python 3 (ipykernel)",
   "language": "python",
   "name": "python3"
  },
  "language_info": {
   "codemirror_mode": {
    "name": "ipython",
    "version": 3
   },
   "file_extension": ".py",
   "mimetype": "text/x-python",
   "name": "python",
   "nbconvert_exporter": "python",
   "pygments_lexer": "ipython3",
   "version": "3.9.13"
  }
 },
 "nbformat": 4,
 "nbformat_minor": 5
}
