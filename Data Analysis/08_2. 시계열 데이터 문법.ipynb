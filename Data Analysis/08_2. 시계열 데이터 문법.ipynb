{
 "cells": [
  {
   "cell_type": "code",
   "execution_count": 37,
   "id": "4b220cfc",
   "metadata": {},
   "outputs": [
    {
     "name": "stdout",
     "output_type": "stream",
     "text": [
      "            Value\n",
      "2023-01-01     10\n",
      "2023-01-02     15\n",
      "2023-01-03     12\n",
      "2023-01-04      8\n",
      "2023-01-05      9\n",
      "2023-01-06     13\n",
      "2023-01-07     11\n"
     ]
    }
   ],
   "source": [
    "import pandas as pd\n",
    "\n",
    "# 임의의 날짜 범위 생성\n",
    "dates = pd.date_range(start='2023-01-01', end='2023-01-07')\n",
    "\n",
    "# 임의의 데이터 값 생성\n",
    "data = [10, 15, 12, 8, 9, 13, 11]\n",
    "\n",
    "# 데이터프레임 생성\n",
    "df = pd.DataFrame(data, index=dates, columns=['Value'])\n",
    "\n",
    "# 데이터프레임 출력\n",
    "print(df)"
   ]
  },
  {
   "cell_type": "markdown",
   "id": "370fadf6",
   "metadata": {},
   "source": [
    "# first\n",
    "- 첫 번째 날짜"
   ]
  },
  {
   "cell_type": "code",
   "execution_count": 41,
   "id": "31128de5",
   "metadata": {},
   "outputs": [
    {
     "name": "stdout",
     "output_type": "stream",
     "text": [
      "2023-01-01 00:00:00\n"
     ]
    }
   ],
   "source": [
    "first_date = df.index[0]\n",
    "print(first_date)"
   ]
  },
  {
   "cell_type": "markdown",
   "id": "fe089d37",
   "metadata": {},
   "source": [
    "# last\n",
    "- 마지막 날짜"
   ]
  },
  {
   "cell_type": "code",
   "execution_count": 42,
   "id": "8c92c38d",
   "metadata": {},
   "outputs": [
    {
     "name": "stdout",
     "output_type": "stream",
     "text": [
      "2023-01-07 00:00:00\n"
     ]
    }
   ],
   "source": [
    "last_date = df.index[-1]\n",
    "print(last_date)"
   ]
  },
  {
   "cell_type": "markdown",
   "id": "87d0b586",
   "metadata": {},
   "source": [
    "# first business day of the month\n",
    "- 월의 첫 영업일 "
   ]
  },
  {
   "cell_type": "code",
   "execution_count": 43,
   "id": "2483f4c6",
   "metadata": {},
   "outputs": [
    {
     "name": "stdout",
     "output_type": "stream",
     "text": [
      "DatetimeIndex(['2023-01-02', '2023-02-01', '2023-02-01', '2023-02-01',\n",
      "               '2023-02-01', '2023-02-01', '2023-02-01'],\n",
      "              dtype='datetime64[ns]', freq=None)\n"
     ]
    }
   ],
   "source": [
    "from pandas.tseries.offsets import BMonthBegin\n",
    "\n",
    "first_business_day = df.index + BMonthBegin()\n",
    "print(first_business_day)"
   ]
  },
  {
   "cell_type": "markdown",
   "id": "2be0eb05",
   "metadata": {},
   "source": [
    "# last business day of the year\n",
    "- 해의 마지막 영업일"
   ]
  },
  {
   "cell_type": "code",
   "execution_count": 44,
   "id": "aad40275",
   "metadata": {},
   "outputs": [
    {
     "name": "stdout",
     "output_type": "stream",
     "text": [
      "DatetimeIndex(['2023-12-29', '2023-12-29', '2023-12-29', '2023-12-29',\n",
      "               '2023-12-29', '2023-12-29', '2023-12-29'],\n",
      "              dtype='datetime64[ns]', freq=None)\n"
     ]
    }
   ],
   "source": [
    "from pandas.tseries.offsets import BYearEnd\n",
    "\n",
    "last_business_day = df.index + BYearEnd()\n",
    "print(last_business_day)"
   ]
  },
  {
   "cell_type": "markdown",
   "id": "6f9444e5",
   "metadata": {},
   "source": [
    "# resample\n",
    "- 재샘플링: 예시 - 주 단위로 평균 계산"
   ]
  },
  {
   "cell_type": "code",
   "execution_count": 45,
   "id": "f5c3498a",
   "metadata": {},
   "outputs": [
    {
     "data": {
      "text/html": [
       "<div>\n",
       "<style scoped>\n",
       "    .dataframe tbody tr th:only-of-type {\n",
       "        vertical-align: middle;\n",
       "    }\n",
       "\n",
       "    .dataframe tbody tr th {\n",
       "        vertical-align: top;\n",
       "    }\n",
       "\n",
       "    .dataframe thead th {\n",
       "        text-align: right;\n",
       "    }\n",
       "</style>\n",
       "<table border=\"1\" class=\"dataframe\">\n",
       "  <thead>\n",
       "    <tr style=\"text-align: right;\">\n",
       "      <th></th>\n",
       "      <th>Value</th>\n",
       "    </tr>\n",
       "  </thead>\n",
       "  <tbody>\n",
       "    <tr>\n",
       "      <th>2023-01-01</th>\n",
       "      <td>10.000000</td>\n",
       "    </tr>\n",
       "    <tr>\n",
       "      <th>2023-01-08</th>\n",
       "      <td>11.333333</td>\n",
       "    </tr>\n",
       "  </tbody>\n",
       "</table>\n",
       "</div>"
      ],
      "text/plain": [
       "                Value\n",
       "2023-01-01  10.000000\n",
       "2023-01-08  11.333333"
      ]
     },
     "execution_count": 45,
     "metadata": {},
     "output_type": "execute_result"
    }
   ],
   "source": [
    "df.resample('W').mean()"
   ]
  }
 ],
 "metadata": {
  "kernelspec": {
   "display_name": "Python 3 (ipykernel)",
   "language": "python",
   "name": "python3"
  },
  "language_info": {
   "codemirror_mode": {
    "name": "ipython",
    "version": 3
   },
   "file_extension": ".py",
   "mimetype": "text/x-python",
   "name": "python",
   "nbconvert_exporter": "python",
   "pygments_lexer": "ipython3",
   "version": "3.9.13"
  }
 },
 "nbformat": 4,
 "nbformat_minor": 5
}
