{
 "cells": [
  {
   "cell_type": "code",
   "execution_count": 5,
   "id": "5d9a5942",
   "metadata": {},
   "outputs": [],
   "source": [
    "from selenium import webdriver"
   ]
  },
  {
   "cell_type": "code",
   "execution_count": 6,
   "id": "c68fb46d",
   "metadata": {},
   "outputs": [
    {
     "name": "stderr",
     "output_type": "stream",
     "text": [
      "C:\\Users\\Sun\\AppData\\Local\\Temp\\ipykernel_20060\\2299280398.py:1: DeprecationWarning: executable_path has been deprecated, please pass in a Service object\n",
      "  driver = webdriver.Chrome('./chromedriver')\n"
     ]
    }
   ],
   "source": [
    "driver = webdriver.Chrome('./chromedriver')"
   ]
  },
  {
   "cell_type": "code",
   "execution_count": 10,
   "id": "2031a288",
   "metadata": {},
   "outputs": [],
   "source": [
    "# driver 객체를 통해 테스트 브라우저 컨트롤 하기\n",
    "driver.get(\"https://www.naver.com\")"
   ]
  },
  {
   "cell_type": "code",
   "execution_count": 12,
   "id": "ccc8b6dc",
   "metadata": {},
   "outputs": [],
   "source": [
    "# Element 제어하려면 정보가 필요하다.\n",
    "# Element의 정보 : 태그명, 선택자, 속성 등..\n",
    "from selenium.webdriver.common.by import By"
   ]
  },
  {
   "cell_type": "code",
   "execution_count": 13,
   "id": "cb21a408",
   "metadata": {},
   "outputs": [
    {
     "data": {
      "text/plain": [
       "<selenium.webdriver.remote.webelement.WebElement (session=\"09eb815219cc0c22dc71cca2fc47274d\", element=\"febed375-cd69-45b0-8ddb-500fb170483f\")>"
      ]
     },
     "execution_count": 13,
     "metadata": {},
     "output_type": "execute_result"
    }
   ],
   "source": [
    "query_elem = driver.find_element(\n",
    "    By.CSS_SELECTOR,\n",
    "    \"#query\"\n",
    ")\n",
    "query_elem"
   ]
  },
  {
   "cell_type": "code",
   "execution_count": 22,
   "id": "368c6024",
   "metadata": {},
   "outputs": [],
   "source": [
    "# 파이썬 코드를 통해 element에 어떤 값을 입력 - send_keys\n",
    "query_elem.send_keys(\"뉴진스\")"
   ]
  },
  {
   "cell_type": "code",
   "execution_count": 21,
   "id": "0f1a3a94",
   "metadata": {},
   "outputs": [],
   "source": [
    "# 원래 있던 값 삭제\n",
    "query_elem.clear()"
   ]
  },
  {
   "cell_type": "code",
   "execution_count": 24,
   "id": "4cd992f3",
   "metadata": {},
   "outputs": [
    {
     "data": {
      "text/plain": [
       "<selenium.webdriver.remote.webelement.WebElement (session=\"09eb815219cc0c22dc71cca2fc47274d\", element=\"04a0002d-b6d1-4009-951a-d00613941354\")>"
      ]
     },
     "execution_count": 24,
     "metadata": {},
     "output_type": "execute_result"
    }
   ],
   "source": [
    "# 검색 버튼 누르기\n",
    "search_btn_elem = driver.find_element(\n",
    "    By.CSS_SELECTOR,\n",
    "    \"#search_btn\"\n",
    ")\n",
    "search_btn_elem"
   ]
  },
  {
   "cell_type": "code",
   "execution_count": 25,
   "id": "1dee1b40",
   "metadata": {},
   "outputs": [],
   "source": [
    "search_btn_elem.click()"
   ]
  },
  {
   "cell_type": "code",
   "execution_count": 26,
   "id": "f18f9ca8",
   "metadata": {},
   "outputs": [],
   "source": [
    "# 브라우저 창(window) 크기 조절\n",
    "driver.set_window_size(300, 800)"
   ]
  },
  {
   "cell_type": "code",
   "execution_count": 29,
   "id": "586c30db",
   "metadata": {},
   "outputs": [],
   "source": [
    "# 스크롤 위치 조절 -javascript 활용\n",
    "# 자바스크립트를 문자열로 작성해서 실행\n",
    "driver.execute_script(\"window.scrollTo(150, 600)\")"
   ]
  },
  {
   "cell_type": "code",
   "execution_count": 30,
   "id": "46c6df44",
   "metadata": {},
   "outputs": [],
   "source": [
    "# 사용이 끝났으면 quit\n",
    "# 주의) driver.quit()으로 종료하지 않으면 테스트 브라우저가 메모리에 상주 할 수도 있음\n",
    "driver.quit()"
   ]
  }
 ],
 "metadata": {
  "kernelspec": {
   "display_name": "Python 3 (ipykernel)",
   "language": "python",
   "name": "python3"
  },
  "language_info": {
   "codemirror_mode": {
    "name": "ipython",
    "version": 3
   },
   "file_extension": ".py",
   "mimetype": "text/x-python",
   "name": "python",
   "nbconvert_exporter": "python",
   "pygments_lexer": "ipython3",
   "version": "3.9.13"
  }
 },
 "nbformat": 4,
 "nbformat_minor": 5
}
