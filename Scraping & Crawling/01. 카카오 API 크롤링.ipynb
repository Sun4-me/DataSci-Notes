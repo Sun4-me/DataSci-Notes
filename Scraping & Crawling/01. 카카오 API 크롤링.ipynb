{
 "cells": [
  {
   "cell_type": "code",
   "execution_count": 1,
   "id": "8709db40",
   "metadata": {},
   "outputs": [],
   "source": [
    "KAKAO_API_KEY = \"401095245d93844d1975a476e9979948\"\n",
    "KAKAO_WEB_SEARCH_URL = \"https://dapi.kakao.com/v2/search/web?query={}\""
   ]
  },
  {
   "cell_type": "code",
   "execution_count": 2,
   "id": "0eadc46f",
   "metadata": {},
   "outputs": [
    {
     "data": {
      "text/plain": [
       "{'Authorization': 'KakaoAK 401095245d93844d1975a476e9979948'}"
      ]
     },
     "execution_count": 2,
     "metadata": {},
     "output_type": "execute_result"
    }
   ],
   "source": [
    "header = {\n",
    "    \"Authorization\": \"KakaoAK {}\".format(KAKAO_API_KEY)\n",
    "}\n",
    "\n",
    "header"
   ]
  },
  {
   "cell_type": "markdown",
   "id": "008d0731",
   "metadata": {},
   "source": [
    "# 파이썬 프로그램으로 요청\n",
    "- urllib\n",
    "- requests"
   ]
  },
  {
   "cell_type": "code",
   "execution_count": 3,
   "id": "eb699677",
   "metadata": {},
   "outputs": [
    {
     "data": {
      "text/plain": [
       "<Response [200]>"
      ]
     },
     "execution_count": 3,
     "metadata": {},
     "output_type": "execute_result"
    }
   ],
   "source": [
    "import requests\n",
    "\n",
    "response = requests.get(\n",
    "    KAKAO_WEB_SEARCH_URL.format(\"chat GPT\"),\n",
    "    headers = header\n",
    ")\n",
    "\n",
    "response"
   ]
  },
  {
   "cell_type": "code",
   "execution_count": 4,
   "id": "dfdaac2d",
   "metadata": {},
   "outputs": [
    {
     "data": {
      "text/plain": [
       "200"
      ]
     },
     "execution_count": 4,
     "metadata": {},
     "output_type": "execute_result"
    }
   ],
   "source": [
    "response.status_code"
   ]
  },
  {
   "cell_type": "code",
   "execution_count": 5,
   "id": "83d3b955",
   "metadata": {},
   "outputs": [],
   "source": [
    "# response.content : html&css&js 같은 페이지 코드를 가져올 때 사용\n",
    "# response.json() : 시리얼라이즈 된 json데이터를 자동으로 디시얼리라이즈 해줌\n",
    "\n",
    "datas = response.json()"
   ]
  },
  {
   "cell_type": "code",
   "execution_count": 6,
   "id": "c37a4994",
   "metadata": {},
   "outputs": [
    {
     "data": {
      "text/plain": [
       "dict_keys(['documents', 'meta'])"
      ]
     },
     "execution_count": 6,
     "metadata": {},
     "output_type": "execute_result"
    }
   ],
   "source": [
    "datas.keys()"
   ]
  },
  {
   "cell_type": "code",
   "execution_count": 7,
   "id": "e6d5cff0",
   "metadata": {
    "scrolled": true
   },
   "outputs": [
    {
     "data": {
      "text/plain": [
       "[{'contents': '회계 배운 적 없는디 공기업 재무분석하려니까 넘 막막한거여... 그래서 <b>chat</b> <b>gpt</b>한테 이것저것 물어보면서 하는데 개쩐다.. 그냥 내가 구글 검색해서 찾은 개념 이해했는지 확인하는 용도만으로도 개쩜',\n",
       "  'datetime': '2023-03-28T21:57:26.000+09:00',\n",
       "  'title': '<b>chat</b> <b>GPT</b> 개쩌는데?',\n",
       "  'url': 'http://web.humoruniv.com/board/humor/read.html?table=sns&pg=0&number=699108'},\n",
       " {'contents': '간단한 중학교 3학년 수준의 수리영역 문제입니다. 일단 저 문제의 정답은 50분입니다. 둘의 <b>GPT</b> 모델은 똑같이 <b>Chat</b>-<b>GPT</b> 4 빌드이고 Bing AI 경우 &#34;정확함&#34; 민감도로 설정하였습니다. <b>Chat</b> <b>GPT</b>는 민감도 설정이...',\n",
       "  'datetime': '2023-04-15T16:03:34.000+09:00',\n",
       "  'title': '<b>Chat</b> <b>GPT</b> &amp; Bing <b>Chat</b> 각각 철수와 영희 문제를 내보았습니다.',\n",
       "  'url': 'https://gigglehd.com/gg/soft/14094574'},\n",
       " {'contents': '인도 Indian Express 기사 : Access <b>GPT</b>-4 for free: Forefront <b>chat</b>, developed by US-based AI start-up, offers instant response https://indianexpress.com/article/technology/artificial-intelligence/...',\n",
       "  'datetime': '2023-04-23T13:39:05.000+09:00',\n",
       "  'title': '미국 AI 스타트업이 개발한 Forefront <b>Chat</b>, <b>GPT</b>-4 무료 제공',\n",
       "  'url': 'https://www.clien.net/service/board/news/18041344'},\n",
       " {'contents': 'AI 교육, <b>Chat</b>-<b>GPT</b> 이후를 준비해야… ‘인공지능 교육’의 개념 점검, AI 활용 폭 넓힐 수 있어 2023.04.10 09:00 김현정 리포터 생성형 AI의 본격적 등장. 아마도 AI라는 용어가 처음 등장한 1956년 이후...',\n",
       "  'datetime': '2023-04-10T00:00:00.000+09:00',\n",
       "  'title': 'AI 교육, <b>Chat</b>-<b>GPT</b> 이후를 준비해야… – Sciencetimes',\n",
       "  'url': 'https://www.sciencetimes.co.kr/news/ai-%ea%b5%90%ec%9c%a1-chat-gpt-%ec%9d%b4%ed%9b%84%eb%a5%bc-%ec%a4%80%eb%b9%84%ed%95%b4%ec%95%bc/'},\n",
       " {'contents': 'https://www.pixiv.net/novel/show.php?id=19640995 #ウマ娘プリティーダービー #愛が重馬場 <b>Chat</b> <b>GPT</b>と喧嘩するグラスワンダー - hevenの小説 - pixiv 『トレーナーさんと付き合う方法は？』 『トレーナーさん...',\n",
       "  'datetime': '2023-04-15T03:19:58.000+09:00',\n",
       "  'title': '[괴문서/핫산] <b>Chat</b> <b>GPT</b>와 싸우는 그래스 원더',\n",
       "  'url': 'https://gall.dcinside.com/mgallery/board/view/?id=umamusme&no=1639309'},\n",
       " {'contents': 'http://www.impacton.net/news/articleView.html?idxno=6313 유럽 AI 프라이버시 규칙 설정 시작, 챗(<b>Chat</b>)<b>GPT</b> 규제 TF 결성 유럽의 국가 프라이버시 감시단의 통합 기구가 인공지능에 대한 프라이버시 규칙을...',\n",
       "  'datetime': '2023-04-17T16:16:22.000+09:00',\n",
       "  'title': '유럽 AI 프라이버시 규칙 설정 시작, 챗(<b>Chat</b>)<b>GPT</b> 규제 TF 결',\n",
       "  'url': 'https://gall.dcinside.com/mini/board/view/?id=drawing&no=42209'},\n",
       " {'contents': '<b>Chat</b> -<b>GPT</b> 를 활용해서 열심히 협업중입니다. (진행율 0%) 파이썬 언어를 아무리 공부해도 잘 이해가 되지않는 감성형 문과형 인간입니다. 삼성 SW 프로그래머 강의나 시험같은거 봤을때 나는 가능성이 1...',\n",
       "  'datetime': '2023-04-14T11:32:47.000+09:00',\n",
       "  'title': '<b>Chat</b> <b>GPT</b> 활용해서 앱개발을 진행중입니다. 비전공자 코드에대한 이해 0%에서 시작중 : 클리앙',\n",
       "  'url': 'https://www.clien.net/service/board/kin/18023308'},\n",
       " {'contents': '(역수한 모바일) 있는데 문제는 우선적으로 <b>Chat</b> <b>GPT</b>가 영원히 무료가 아니라는 점 <b>Chat</b> <b>GPT</b>를 영리적으로 개인이 상품 내서 판매가 어렵다는 점 현재 그나마 기술적으로 적용한게 현재 중국 게임중에 넷이즈의...',\n",
       "  'datetime': '2023-04-06T03:41:00.000+09:00',\n",
       "  'title': '언리얼 엔진 라이브러리에 <b>Chat</b> <b>GPT</b>를 적용한 라이브러리는 있는걸로 앎 - PC/콘솔 게임 - 에펨코리아',\n",
       "  'url': 'https://www.fmkorea.com/5651467296'},\n",
       " {'contents': '사람들이 댓글로 반박을 한다? 이러면 이기기 상당히 어려운데, 이기는 방법이 있습니다. AI인 <b>CHAT</b> <b>GPT</b>를 사용하는 겁니다. 쉽게 활용할 수 있습니다. 예를 들어 A라는 분야에 대한 글이라고 가정하겠습니다...',\n",
       "  'datetime': '2023-03-13T16:16:00.000+09:00',\n",
       "  'title': 'IT(<b>CHAT</b> <b>GPT</b> 활용) 댓글 싸움에서 대부분 사람을 이기는 방법',\n",
       "  'url': 'https://mlbpark.donga.com/mp/b.php?p=1&b=bullpen&id=202303130079019670&select=&query=&user=&site=donga.com&reply=&source=&pos=&sig=h6jLGYtYghTRKfX2h3a9Gf-ghhlq'},\n",
       " {'contents': '불가능했으나, 이후에는 대한민국 포함 미국 외 다른 나라도 가능하다. ChatGPT가 화제가 되면서, <b>Chat</b> <b>GPT</b>에게 해병문학 교육을 진행한 글이 등장했다. 이렇게 정상적인 AI에게 해병 세뇌를 진행해서 1q2w3e4r...',\n",
       "  'datetime': '2023-04-25T00:00:00.000+09:00',\n",
       "  'title': 'ChatGPT - 나무위키',\n",
       "  'url': 'https://namu.wiki/w/ChatGPT'}]"
      ]
     },
     "execution_count": 7,
     "metadata": {},
     "output_type": "execute_result"
    }
   ],
   "source": [
    "# JSON 데이터를 여러 개 나열한 JSONArray\n",
    "documents = datas['documents']\n",
    "documents"
   ]
  },
  {
   "cell_type": "code",
   "execution_count": 8,
   "id": "e844df56",
   "metadata": {},
   "outputs": [
    {
     "data": {
      "text/html": [
       "<div>\n",
       "<style scoped>\n",
       "    .dataframe tbody tr th:only-of-type {\n",
       "        vertical-align: middle;\n",
       "    }\n",
       "\n",
       "    .dataframe tbody tr th {\n",
       "        vertical-align: top;\n",
       "    }\n",
       "\n",
       "    .dataframe thead th {\n",
       "        text-align: right;\n",
       "    }\n",
       "</style>\n",
       "<table border=\"1\" class=\"dataframe\">\n",
       "  <thead>\n",
       "    <tr style=\"text-align: right;\">\n",
       "      <th></th>\n",
       "      <th>contents</th>\n",
       "      <th>datetime</th>\n",
       "      <th>title</th>\n",
       "      <th>url</th>\n",
       "    </tr>\n",
       "  </thead>\n",
       "  <tbody>\n",
       "    <tr>\n",
       "      <th>0</th>\n",
       "      <td>회계 배운 적 없는디 공기업 재무분석하려니까 넘 막막한거여... 그래서 &lt;b&gt;cha...</td>\n",
       "      <td>2023-03-28T21:57:26.000+09:00</td>\n",
       "      <td>&lt;b&gt;chat&lt;/b&gt; &lt;b&gt;GPT&lt;/b&gt; 개쩌는데?</td>\n",
       "      <td>http://web.humoruniv.com/board/humor/read.html...</td>\n",
       "    </tr>\n",
       "    <tr>\n",
       "      <th>1</th>\n",
       "      <td>간단한 중학교 3학년 수준의 수리영역 문제입니다. 일단 저 문제의 정답은 50분입니...</td>\n",
       "      <td>2023-04-15T16:03:34.000+09:00</td>\n",
       "      <td>&lt;b&gt;Chat&lt;/b&gt; &lt;b&gt;GPT&lt;/b&gt; &amp;amp; Bing &lt;b&gt;Chat&lt;/b&gt; ...</td>\n",
       "      <td>https://gigglehd.com/gg/soft/14094574</td>\n",
       "    </tr>\n",
       "    <tr>\n",
       "      <th>2</th>\n",
       "      <td>인도 Indian Express 기사 : Access &lt;b&gt;GPT&lt;/b&gt;-4 for...</td>\n",
       "      <td>2023-04-23T13:39:05.000+09:00</td>\n",
       "      <td>미국 AI 스타트업이 개발한 Forefront &lt;b&gt;Chat&lt;/b&gt;, &lt;b&gt;GPT&lt;...</td>\n",
       "      <td>https://www.clien.net/service/board/news/18041344</td>\n",
       "    </tr>\n",
       "    <tr>\n",
       "      <th>3</th>\n",
       "      <td>AI 교육, &lt;b&gt;Chat&lt;/b&gt;-&lt;b&gt;GPT&lt;/b&gt; 이후를 준비해야… ‘인공지능 ...</td>\n",
       "      <td>2023-04-10T00:00:00.000+09:00</td>\n",
       "      <td>AI 교육, &lt;b&gt;Chat&lt;/b&gt;-&lt;b&gt;GPT&lt;/b&gt; 이후를 준비해야… – Scie...</td>\n",
       "      <td>https://www.sciencetimes.co.kr/news/ai-%ea%b5%...</td>\n",
       "    </tr>\n",
       "    <tr>\n",
       "      <th>4</th>\n",
       "      <td>https://www.pixiv.net/novel/show.php?id=196409...</td>\n",
       "      <td>2023-04-15T03:19:58.000+09:00</td>\n",
       "      <td>[괴문서/핫산] &lt;b&gt;Chat&lt;/b&gt; &lt;b&gt;GPT&lt;/b&gt;와 싸우는 그래스 원더</td>\n",
       "      <td>https://gall.dcinside.com/mgallery/board/view/...</td>\n",
       "    </tr>\n",
       "    <tr>\n",
       "      <th>5</th>\n",
       "      <td>http://www.impacton.net/news/articleView.html?...</td>\n",
       "      <td>2023-04-17T16:16:22.000+09:00</td>\n",
       "      <td>유럽 AI 프라이버시 규칙 설정 시작, 챗(&lt;b&gt;Chat&lt;/b&gt;)&lt;b&gt;GPT&lt;/b&gt;...</td>\n",
       "      <td>https://gall.dcinside.com/mini/board/view/?id=...</td>\n",
       "    </tr>\n",
       "    <tr>\n",
       "      <th>6</th>\n",
       "      <td>&lt;b&gt;Chat&lt;/b&gt; -&lt;b&gt;GPT&lt;/b&gt; 를 활용해서 열심히 협업중입니다. (진행...</td>\n",
       "      <td>2023-04-14T11:32:47.000+09:00</td>\n",
       "      <td>&lt;b&gt;Chat&lt;/b&gt; &lt;b&gt;GPT&lt;/b&gt; 활용해서 앱개발을 진행중입니다. 비전공자 ...</td>\n",
       "      <td>https://www.clien.net/service/board/kin/18023308</td>\n",
       "    </tr>\n",
       "    <tr>\n",
       "      <th>7</th>\n",
       "      <td>(역수한 모바일) 있는데 문제는 우선적으로 &lt;b&gt;Chat&lt;/b&gt; &lt;b&gt;GPT&lt;/b&gt;...</td>\n",
       "      <td>2023-04-06T03:41:00.000+09:00</td>\n",
       "      <td>언리얼 엔진 라이브러리에 &lt;b&gt;Chat&lt;/b&gt; &lt;b&gt;GPT&lt;/b&gt;를 적용한 라이브러...</td>\n",
       "      <td>https://www.fmkorea.com/5651467296</td>\n",
       "    </tr>\n",
       "    <tr>\n",
       "      <th>8</th>\n",
       "      <td>사람들이 댓글로 반박을 한다? 이러면 이기기 상당히 어려운데, 이기는 방법이 있습니...</td>\n",
       "      <td>2023-03-13T16:16:00.000+09:00</td>\n",
       "      <td>IT(&lt;b&gt;CHAT&lt;/b&gt; &lt;b&gt;GPT&lt;/b&gt; 활용) 댓글 싸움에서 대부분 사람을 ...</td>\n",
       "      <td>https://mlbpark.donga.com/mp/b.php?p=1&amp;b=bullp...</td>\n",
       "    </tr>\n",
       "    <tr>\n",
       "      <th>9</th>\n",
       "      <td>불가능했으나, 이후에는 대한민국 포함 미국 외 다른 나라도 가능하다. ChatGPT...</td>\n",
       "      <td>2023-04-25T00:00:00.000+09:00</td>\n",
       "      <td>ChatGPT - 나무위키</td>\n",
       "      <td>https://namu.wiki/w/ChatGPT</td>\n",
       "    </tr>\n",
       "  </tbody>\n",
       "</table>\n",
       "</div>"
      ],
      "text/plain": [
       "                                            contents  \\\n",
       "0  회계 배운 적 없는디 공기업 재무분석하려니까 넘 막막한거여... 그래서 <b>cha...   \n",
       "1  간단한 중학교 3학년 수준의 수리영역 문제입니다. 일단 저 문제의 정답은 50분입니...   \n",
       "2  인도 Indian Express 기사 : Access <b>GPT</b>-4 for...   \n",
       "3  AI 교육, <b>Chat</b>-<b>GPT</b> 이후를 준비해야… ‘인공지능 ...   \n",
       "4  https://www.pixiv.net/novel/show.php?id=196409...   \n",
       "5  http://www.impacton.net/news/articleView.html?...   \n",
       "6  <b>Chat</b> -<b>GPT</b> 를 활용해서 열심히 협업중입니다. (진행...   \n",
       "7  (역수한 모바일) 있는데 문제는 우선적으로 <b>Chat</b> <b>GPT</b>...   \n",
       "8  사람들이 댓글로 반박을 한다? 이러면 이기기 상당히 어려운데, 이기는 방법이 있습니...   \n",
       "9  불가능했으나, 이후에는 대한민국 포함 미국 외 다른 나라도 가능하다. ChatGPT...   \n",
       "\n",
       "                        datetime  \\\n",
       "0  2023-03-28T21:57:26.000+09:00   \n",
       "1  2023-04-15T16:03:34.000+09:00   \n",
       "2  2023-04-23T13:39:05.000+09:00   \n",
       "3  2023-04-10T00:00:00.000+09:00   \n",
       "4  2023-04-15T03:19:58.000+09:00   \n",
       "5  2023-04-17T16:16:22.000+09:00   \n",
       "6  2023-04-14T11:32:47.000+09:00   \n",
       "7  2023-04-06T03:41:00.000+09:00   \n",
       "8  2023-03-13T16:16:00.000+09:00   \n",
       "9  2023-04-25T00:00:00.000+09:00   \n",
       "\n",
       "                                               title  \\\n",
       "0                       <b>chat</b> <b>GPT</b> 개쩌는데?   \n",
       "1  <b>Chat</b> <b>GPT</b> &amp; Bing <b>Chat</b> ...   \n",
       "2  미국 AI 스타트업이 개발한 Forefront <b>Chat</b>, <b>GPT<...   \n",
       "3  AI 교육, <b>Chat</b>-<b>GPT</b> 이후를 준비해야… – Scie...   \n",
       "4        [괴문서/핫산] <b>Chat</b> <b>GPT</b>와 싸우는 그래스 원더   \n",
       "5  유럽 AI 프라이버시 규칙 설정 시작, 챗(<b>Chat</b>)<b>GPT</b>...   \n",
       "6  <b>Chat</b> <b>GPT</b> 활용해서 앱개발을 진행중입니다. 비전공자 ...   \n",
       "7  언리얼 엔진 라이브러리에 <b>Chat</b> <b>GPT</b>를 적용한 라이브러...   \n",
       "8  IT(<b>CHAT</b> <b>GPT</b> 활용) 댓글 싸움에서 대부분 사람을 ...   \n",
       "9                                     ChatGPT - 나무위키   \n",
       "\n",
       "                                                 url  \n",
       "0  http://web.humoruniv.com/board/humor/read.html...  \n",
       "1              https://gigglehd.com/gg/soft/14094574  \n",
       "2  https://www.clien.net/service/board/news/18041344  \n",
       "3  https://www.sciencetimes.co.kr/news/ai-%ea%b5%...  \n",
       "4  https://gall.dcinside.com/mgallery/board/view/...  \n",
       "5  https://gall.dcinside.com/mini/board/view/?id=...  \n",
       "6   https://www.clien.net/service/board/kin/18023308  \n",
       "7                 https://www.fmkorea.com/5651467296  \n",
       "8  https://mlbpark.donga.com/mp/b.php?p=1&b=bullp...  \n",
       "9                        https://namu.wiki/w/ChatGPT  "
      ]
     },
     "execution_count": 8,
     "metadata": {},
     "output_type": "execute_result"
    }
   ],
   "source": [
    "# JSONArray를 Pandas 데이터 프레임으로 만들기\n",
    "import pandas as pd\n",
    "\n",
    "pd.DataFrame(documents)"
   ]
  }
 ],
 "metadata": {
  "kernelspec": {
   "display_name": "Python 3 (ipykernel)",
   "language": "python",
   "name": "python3"
  },
  "language_info": {
   "codemirror_mode": {
    "name": "ipython",
    "version": 3
   },
   "file_extension": ".py",
   "mimetype": "text/x-python",
   "name": "python",
   "nbconvert_exporter": "python",
   "pygments_lexer": "ipython3",
   "version": "3.9.13"
  }
 },
 "nbformat": 4,
 "nbformat_minor": 5
}
