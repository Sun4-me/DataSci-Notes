{
 "cells": [
  {
   "cell_type": "code",
   "execution_count": 1,
   "id": "112be59f",
   "metadata": {},
   "outputs": [
    {
     "data": {
      "text/plain": [
       "<Response [200]>"
      ]
     },
     "execution_count": 1,
     "metadata": {},
     "output_type": "execute_result"
    }
   ],
   "source": [
    "import requests\n",
    "\n",
    "#무신사 접속해보기\n",
    "MUSINSA_COAT_LIST_URL=\"https://www.musinsa.com/categories/item/002008\"\n",
    "response = requests.get(MUSINSA_COAT_LIST_URL)\n",
    "response"
   ]
  },
  {
   "cell_type": "code",
   "execution_count": 2,
   "id": "1ec58764",
   "metadata": {},
   "outputs": [
    {
     "data": {
      "text/plain": [
       "<Response [403]>"
      ]
     },
     "execution_count": 2,
     "metadata": {},
     "output_type": "execute_result"
    }
   ],
   "source": [
    "MUSINSA_COAT_DETAIL_URL=\"https://www.musinsa.com/app/goods/709189\"\n",
    "response = requests.get(MUSINSA_COAT_DETAIL_URL)\n",
    "response"
   ]
  },
  {
   "cell_type": "code",
   "execution_count": 22,
   "id": "e933e34a",
   "metadata": {},
   "outputs": [],
   "source": [
    "# 403 에러 : 권한 때문에 거절됨\n",
    "# ->  pip install fake_useragent"
   ]
  },
  {
   "cell_type": "code",
   "execution_count": 21,
   "id": "527f3088",
   "metadata": {},
   "outputs": [
    {
     "data": {
      "text/plain": [
       "{'User-agent': 'Mozilla/5.0 (Windows NT 5.1) AppleWebKit/535.11 (KHTML, like Gecko) Chrome/17.0.963.66 Safari/535.11'}"
      ]
     },
     "execution_count": 21,
     "metadata": {},
     "output_type": "execute_result"
    }
   ],
   "source": [
    "from fake_useragent import UserAgent\n",
    "\n",
    "headers = {'User-agent': UserAgent().chrome}\n",
    "headers"
   ]
  },
  {
   "cell_type": "code",
   "execution_count": 23,
   "id": "990b7298",
   "metadata": {
    "scrolled": true
   },
   "outputs": [
    {
     "data": {
      "text/plain": [
       "<Response [200]>"
      ]
     },
     "execution_count": 23,
     "metadata": {},
     "output_type": "execute_result"
    }
   ],
   "source": [
    "response = requests.get(MUSINSA_COAT_DETAIL_URL, headers = headers)\n",
    "response"
   ]
  },
  {
   "cell_type": "code",
   "execution_count": 24,
   "id": "978d9242",
   "metadata": {},
   "outputs": [],
   "source": [
    "# 셀레니움 옵션"
   ]
  },
  {
   "cell_type": "code",
   "execution_count": 28,
   "id": "fea3fb41",
   "metadata": {},
   "outputs": [],
   "source": [
    "from selenium import webdriver\n",
    "from selenium.webdriver.chrome.service import Service\n",
    "from webdriver_manager.chrome import ChromeDriverManager\n",
    "\n",
    "# usergent를 임의로 설정할 수 있는 driver 생성 함수\n",
    "def get_chrome_driver_useragent():\n",
    "    agent = UserAgent().chrome\n",
    "    chrome_options = webdriver.ChromeOptions()\n",
    "    chrome_options.add_argument(\"user-agent={}\".format(UserAgent().chrome))\n",
    "    \n",
    "    \n",
    "    \n",
    "    driver = webdriver.Chrome(\n",
    "        service=Service(ChromeDriverManager().install()),\n",
    "        options=chrome_options\n",
    "    )\n",
    "    \n",
    "    return driver"
   ]
  },
  {
   "cell_type": "code",
   "execution_count": 29,
   "id": "5e2a44bc",
   "metadata": {},
   "outputs": [],
   "source": [
    "driver = get_chrome_driver_useragent()"
   ]
  },
  {
   "cell_type": "code",
   "execution_count": 32,
   "id": "636f49ba",
   "metadata": {},
   "outputs": [
    {
     "data": {
      "text/plain": [
       "'Mozilla/5.0 (Windows NT 10.0; Win64; x64) AppleWebKit/537.36 (KHTML, like Gecko) Chrome/111.0.0.0 Safari/537.36'"
      ]
     },
     "execution_count": 32,
     "metadata": {},
     "output_type": "execute_result"
    }
   ],
   "source": [
    "# 어떤 agent로 돌아갔는가?\n",
    "driver.execute_script(\"return navigator.userAgent;\")"
   ]
  },
  {
   "cell_type": "code",
   "execution_count": 33,
   "id": "d44f6682",
   "metadata": {},
   "outputs": [],
   "source": [
    "driver.quit()"
   ]
  },
  {
   "cell_type": "code",
   "execution_count": 34,
   "id": "f2cdddca",
   "metadata": {},
   "outputs": [],
   "source": [
    "# 메모리를 아끼기 위한 headless 옵션\n",
    "def get_chrome_driver_headless():\n",
    "    chrome_options = webdriver.ChromeOptions()\n",
    "    chrome_options.add_argument(\"headless\")\n",
    "    \n",
    "    driver = webdriver.Chrome(\n",
    "        service=Service(ChromeDriverManager().install()),\n",
    "        options=chrome_options\n",
    "    )\n",
    "    \n",
    "    return driver"
   ]
  },
  {
   "cell_type": "code",
   "execution_count": 35,
   "id": "09d99c64",
   "metadata": {},
   "outputs": [],
   "source": [
    "# 실행은 되지만 창이 뜨지 않음, but chrome은 실행중인 것\n",
    "driver = get_chrome_driver_headless()"
   ]
  },
  {
   "cell_type": "code",
   "execution_count": 36,
   "id": "b49e2eda",
   "metadata": {},
   "outputs": [],
   "source": [
    "driver.get(\"https://www.naver.com/\")"
   ]
  },
  {
   "cell_type": "code",
   "execution_count": 37,
   "id": "b45eb046",
   "metadata": {
    "scrolled": true
   },
   "outputs": [
    {
     "data": {
      "text/plain": [
       "'NAVER'"
      ]
     },
     "execution_count": 37,
     "metadata": {},
     "output_type": "execute_result"
    }
   ],
   "source": [
    "driver.title"
   ]
  },
  {
   "cell_type": "code",
   "execution_count": 38,
   "id": "ed0db4a2",
   "metadata": {},
   "outputs": [],
   "source": [
    "driver.quit()"
   ]
  },
  {
   "cell_type": "code",
   "execution_count": 39,
   "id": "d1eb73fe",
   "metadata": {},
   "outputs": [],
   "source": [
    "# 셀레니움을 이용한 크롤링은 GUI 환경에서 모든 테스트를 마치고 headless 설정을 하여 CLI 환경으로 돌린다."
   ]
  }
 ],
 "metadata": {
  "kernelspec": {
   "display_name": "Python 3 (ipykernel)",
   "language": "python",
   "name": "python3"
  },
  "language_info": {
   "codemirror_mode": {
    "name": "ipython",
    "version": 3
   },
   "file_extension": ".py",
   "mimetype": "text/x-python",
   "name": "python",
   "nbconvert_exporter": "python",
   "pygments_lexer": "ipython3",
   "version": "3.9.13"
  }
 },
 "nbformat": 4,
 "nbformat_minor": 5
}
