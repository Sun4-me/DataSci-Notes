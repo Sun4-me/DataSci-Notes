{
 "cells": [
  {
   "cell_type": "code",
   "execution_count": 1,
   "id": "00dddc8d",
   "metadata": {},
   "outputs": [
    {
     "name": "stderr",
     "output_type": "stream",
     "text": [
      "WARNING: An illegal reflective access operation has occurred\n",
      "WARNING: Illegal reflective access by org.apache.spark.unsafe.Platform (file:/home/ubuntu/spark-3.2.4/jars/spark-unsafe_2.12-3.2.4.jar) to constructor java.nio.DirectByteBuffer(long,int)\n",
      "WARNING: Please consider reporting this to the maintainers of org.apache.spark.unsafe.Platform\n",
      "WARNING: Use --illegal-access=warn to enable warnings of further illegal reflective access operations\n",
      "WARNING: All illegal access operations will be denied in a future release\n",
      "Using Spark's default log4j profile: org/apache/spark/log4j-defaults.properties\n",
      "Setting default log level to \"WARN\".\n",
      "To adjust logging level use sc.setLogLevel(newLevel). For SparkR, use setLogLevel(newLevel).\n",
      "23/06/05 00:06:36 WARN NativeCodeLoader: Unable to load native-hadoop library for your platform... using builtin-java classes where applicable\n"
     ]
    }
   ],
   "source": [
    "from pyspark import SparkConf, SparkContext\n",
    "\n",
    "conf = SparkConf().setMaster(\"local\").setAppName(\"set_transformations\")\n",
    "sc = SparkContext(conf=conf)"
   ]
  },
  {
   "cell_type": "code",
   "execution_count": 2,
   "id": "6125cada",
   "metadata": {},
   "outputs": [],
   "source": [
    "num1 = sc.parallelize([1, 2, 3, 4, 5])\n",
    "num2 = sc.parallelize([4, 5, 6, 7, 8, 9, 10])"
   ]
  },
  {
   "cell_type": "code",
   "execution_count": 3,
   "id": "d8d0950f",
   "metadata": {},
   "outputs": [
    {
     "data": {
      "text/plain": [
       "PythonRDD[9] at RDD at PythonRDD.scala:53"
      ]
     },
     "execution_count": 3,
     "metadata": {},
     "output_type": "execute_result"
    }
   ],
   "source": [
    "# 교집합 : intersection\n",
    "intersection_rdd = num1.intersection(num2)\n",
    "intersection_rdd"
   ]
  },
  {
   "cell_type": "code",
   "execution_count": 4,
   "id": "c2e60b16",
   "metadata": {},
   "outputs": [
    {
     "name": "stderr",
     "output_type": "stream",
     "text": [
      "                                                                                \r"
     ]
    },
    {
     "data": {
      "text/plain": [
       "[4, 5]"
      ]
     },
     "execution_count": 4,
     "metadata": {},
     "output_type": "execute_result"
    }
   ],
   "source": [
    "intersection_rdd.collect()"
   ]
  },
  {
   "cell_type": "code",
   "execution_count": 5,
   "id": "852da444",
   "metadata": {},
   "outputs": [
    {
     "data": {
      "text/plain": [
       "[1, 2, 3, 4, 5, 4, 5, 6, 7, 8, 9, 10]"
      ]
     },
     "execution_count": 5,
     "metadata": {},
     "output_type": "execute_result"
    }
   ],
   "source": [
    "# 합집합 : union\n",
    "union_rdd = num1.union(num2)\n",
    "union_rdd.collect()"
   ]
  },
  {
   "cell_type": "code",
   "execution_count": 7,
   "id": "636a6492",
   "metadata": {},
   "outputs": [
    {
     "data": {
      "text/plain": [
       "[2, 1, 3]"
      ]
     },
     "execution_count": 7,
     "metadata": {},
     "output_type": "execute_result"
    }
   ],
   "source": [
    "# 차집합 : subtract\n",
    "subtract_rdd = num1.subtract(num2)\n",
    "subtract_rdd.collect()"
   ]
  },
  {
   "cell_type": "markdown",
   "id": "e70b64ae",
   "metadata": {},
   "source": [
    "데이터 랜덤 추출 - `sample(withReplacement, fraction, seed=None)`\n",
    "- 샘플링 : 데이터에서 일부분을 추출\n",
    "- `withReplacement` : 한 번 추출 된 샘플을 다시 샘플링 대상으로 삼을 것인지 여부\n",
    "    - `True` : 한 번 샘플링 된 데이터가 다시 대상이 됨\n",
    "    - `False` : 한 번 샘플링 된 데이터는 다시 대상이 되지 않습니다.\n",
    "- `fraction` : 샘플링 될 데이터의 기댓값(확률)\n",
    "    - 각각의 데이터가 추출될 확률\n",
    "    - 높아지면 높아질 수록 원본에서 샘플링되는 원소의 개수가 많아진다."
   ]
  },
  {
   "cell_type": "code",
   "execution_count": 8,
   "id": "3202f1ef",
   "metadata": {},
   "outputs": [],
   "source": [
    "num3 = sc.parallelize([1, 2, 3, 4, 5, 6, 7, 8, 9, 10])"
   ]
  },
  {
   "cell_type": "code",
   "execution_count": 9,
   "id": "072b6c86",
   "metadata": {},
   "outputs": [
    {
     "data": {
      "text/plain": [
       "[4, 6, 7, 8, 10]"
      ]
     },
     "execution_count": 9,
     "metadata": {},
     "output_type": "execute_result"
    }
   ],
   "source": [
    "num3.sample(withReplacement=False, fraction=0.5).collect()"
   ]
  },
  {
   "cell_type": "code",
   "execution_count": 11,
   "id": "489d7263",
   "metadata": {},
   "outputs": [
    {
     "data": {
      "text/plain": [
       "[3, 3, 4, 4, 6, 7, 7, 9, 10]"
      ]
     },
     "execution_count": 11,
     "metadata": {},
     "output_type": "execute_result"
    }
   ],
   "source": [
    "num3.sample(withReplacement=True, fraction=0.7).collect()"
   ]
  },
  {
   "cell_type": "code",
   "execution_count": 16,
   "id": "de683178",
   "metadata": {},
   "outputs": [
    {
     "data": {
      "text/plain": [
       "[3, 5, 7, 9, 9]"
      ]
     },
     "execution_count": 16,
     "metadata": {},
     "output_type": "execute_result"
    }
   ],
   "source": [
    "# seed : 랜덤 시드\n",
    "num3.sample(withReplacement=True, fraction=0.7, seed=42).collect()"
   ]
  },
  {
   "cell_type": "code",
   "execution_count": 17,
   "id": "d9fb851f",
   "metadata": {},
   "outputs": [],
   "source": [
    "sc.stop()"
   ]
  }
 ],
 "metadata": {
  "kernelspec": {
   "display_name": "Python 3 (ipykernel)",
   "language": "python",
   "name": "python3"
  },
  "language_info": {
   "codemirror_mode": {
    "name": "ipython",
    "version": 3
   },
   "file_extension": ".py",
   "mimetype": "text/x-python",
   "name": "python",
   "nbconvert_exporter": "python",
   "pygments_lexer": "ipython3",
   "version": "3.8.16"
  }
 },
 "nbformat": 4,
 "nbformat_minor": 5
}
