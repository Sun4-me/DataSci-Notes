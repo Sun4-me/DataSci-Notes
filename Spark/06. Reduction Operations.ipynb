{
 "cells": [
  {
   "cell_type": "code",
   "execution_count": 1,
   "id": "fb888b4b",
   "metadata": {},
   "outputs": [
    {
     "name": "stderr",
     "output_type": "stream",
     "text": [
      "WARNING: An illegal reflective access operation has occurred\n",
      "WARNING: Illegal reflective access by org.apache.spark.unsafe.Platform (file:/home/ubuntu/spark-3.2.4/jars/spark-unsafe_2.12-3.2.4.jar) to constructor java.nio.DirectByteBuffer(long,int)\n",
      "WARNING: Please consider reporting this to the maintainers of org.apache.spark.unsafe.Platform\n",
      "WARNING: Use --illegal-access=warn to enable warnings of further illegal reflective access operations\n",
      "WARNING: All illegal access operations will be denied in a future release\n",
      "Using Spark's default log4j profile: org/apache/spark/log4j-defaults.properties\n",
      "Setting default log level to \"WARN\".\n",
      "To adjust logging level use sc.setLogLevel(newLevel). For SparkR, use setLogLevel(newLevel).\n",
      "23/06/05 02:12:06 WARN NativeCodeLoader: Unable to load native-hadoop library for your platform... using builtin-java classes where applicable\n"
     ]
    }
   ],
   "source": [
    "from pyspark import SparkConf, SparkContext\n",
    "\n",
    "conf = SparkConf().setMaster(\"local\").setAppName(\"reduction-op\")\n",
    "sc = SparkContext(conf=conf)"
   ]
  },
  {
   "cell_type": "markdown",
   "id": "3a6ae3e4",
   "metadata": {},
   "source": [
    "# Reduce\n",
    "- 사용자가 지정하는 함수를 받아(task) 여러 개의 값을 하나로 줄여준다.\n",
    "- 파티션 별로 작업이 일어난다!"
   ]
  },
  {
   "cell_type": "code",
   "execution_count": 2,
   "id": "e0b741e3",
   "metadata": {},
   "outputs": [],
   "source": [
    "from operator import add # task"
   ]
  },
  {
   "cell_type": "code",
   "execution_count": 3,
   "id": "30a373dd",
   "metadata": {},
   "outputs": [
    {
     "data": {
      "text/plain": [
       "3"
      ]
     },
     "execution_count": 3,
     "metadata": {},
     "output_type": "execute_result"
    }
   ],
   "source": [
    "add(1, 2)"
   ]
  },
  {
   "cell_type": "code",
   "execution_count": 4,
   "id": "f1cc1625",
   "metadata": {},
   "outputs": [
    {
     "data": {
      "text/plain": [
       "ParallelCollectionRDD[0] at readRDDFromFile at PythonRDD.scala:274"
      ]
     },
     "execution_count": 4,
     "metadata": {},
     "output_type": "execute_result"
    }
   ],
   "source": [
    "sample_rdd = sc.parallelize([1, 2, 3, 4, 5])\n",
    "sample_rdd"
   ]
  },
  {
   "cell_type": "code",
   "execution_count": 5,
   "id": "46faed39",
   "metadata": {},
   "outputs": [
    {
     "name": "stderr",
     "output_type": "stream",
     "text": [
      "                                                                                \r"
     ]
    },
    {
     "data": {
      "text/plain": [
       "15"
      ]
     },
     "execution_count": 5,
     "metadata": {},
     "output_type": "execute_result"
    }
   ],
   "source": [
    "sample_rdd.reduce(add)"
   ]
  },
  {
   "cell_type": "code",
   "execution_count": 6,
   "id": "56eeaf45",
   "metadata": {},
   "outputs": [
    {
     "data": {
      "text/plain": [
       "[[1, 2, 3, 4]]"
      ]
     },
     "execution_count": 6,
     "metadata": {},
     "output_type": "execute_result"
    }
   ],
   "source": [
    "# 파티션이 1개인 경우(입력하지 않으면 기본 1)\n",
    "sample_rdd = sc.parallelize([1, 2, 3, 4], 1)\n",
    "sample_rdd.reduce(lambda x, y : (x * 2) + y)\n",
    "\n",
    "# 파티션이 1개\n",
    "sample_rdd.glom().collect()"
   ]
  },
  {
   "cell_type": "code",
   "execution_count": 7,
   "id": "8037f32e",
   "metadata": {},
   "outputs": [
    {
     "data": {
      "text/plain": [
       "[[1, 2], [3, 4]]"
      ]
     },
     "execution_count": 7,
     "metadata": {},
     "output_type": "execute_result"
    }
   ],
   "source": [
    "# glom : 파티션 별 데이터를 보여주고 싶을 때 사용\n",
    "sample_rdd_p2 = sc.parallelize([1, 2, 3, 4], 2)\n",
    "sample_rdd_p2.glom().collect()"
   ]
  },
  {
   "cell_type": "code",
   "execution_count": 8,
   "id": "e98d5eb1",
   "metadata": {},
   "outputs": [
    {
     "data": {
      "text/plain": [
       "18"
      ]
     },
     "execution_count": 8,
     "metadata": {},
     "output_type": "execute_result"
    }
   ],
   "source": [
    "sample_rdd_p2.reduce(lambda x, y : (x * 2) + y )"
   ]
  },
  {
   "cell_type": "code",
   "execution_count": 9,
   "id": "b389c036",
   "metadata": {},
   "outputs": [
    {
     "data": {
      "text/plain": [
       "18"
      ]
     },
     "execution_count": 9,
     "metadata": {},
     "output_type": "execute_result"
    }
   ],
   "source": [
    "sample_rdd_p3 = sc.parallelize([1, 2, 3, 4], 3)\n",
    "sample_rdd_p3.reduce(lambda x, y : (x * 2) + y )"
   ]
  },
  {
   "cell_type": "code",
   "execution_count": 10,
   "id": "39dc5107",
   "metadata": {},
   "outputs": [
    {
     "data": {
      "text/plain": [
       "[[1], [2], [3, 4]]"
      ]
     },
     "execution_count": 10,
     "metadata": {},
     "output_type": "execute_result"
    }
   ],
   "source": [
    "sample_rdd_p3.glom().collect()"
   ]
  },
  {
   "cell_type": "code",
   "execution_count": 11,
   "id": "ec0358d0",
   "metadata": {},
   "outputs": [
    {
     "data": {
      "text/plain": [
       "26"
      ]
     },
     "execution_count": 11,
     "metadata": {},
     "output_type": "execute_result"
    }
   ],
   "source": [
    "sample_rdd_p4 = sc.parallelize([1, 2, 3, 4], 4)\n",
    "sample_rdd_p4.reduce(lambda x, y : (x * 2) + y )"
   ]
  },
  {
   "cell_type": "markdown",
   "id": "0e4a7c0c",
   "metadata": {},
   "source": [
    "# Fold\n",
    "- `reduce`와 비슷하지만, `zeroValue`에 넣어놓고 싶은 시작값을 지정해서 `reduce`가 가능\n",
    "    - `zeroValue`는 파티션 마다 계산이 일어날 때 하나씩 더해지는 값"
   ]
  },
  {
   "cell_type": "code",
   "execution_count": 13,
   "id": "f34d1d52",
   "metadata": {},
   "outputs": [
    {
     "data": {
      "text/plain": [
       "[[], [2], [3], [4]]"
      ]
     },
     "execution_count": 13,
     "metadata": {},
     "output_type": "execute_result"
    }
   ],
   "source": [
    "sample_rdd = sc.parallelize([2, 3, 4], 4)\n",
    "sample_rdd.glom().collect()"
   ]
  },
  {
   "cell_type": "code",
   "execution_count": 14,
   "id": "38888aa1",
   "metadata": {},
   "outputs": [
    {
     "name": "stdout",
     "output_type": "stream",
     "text": [
      "24\n",
      "24\n"
     ]
    }
   ],
   "source": [
    "print(sample_rdd.reduce(lambda x, y : (x * y))) # 2 * 3 -> * 4\n",
    "print(sample_rdd.fold(1, lambda x, y : (x * y))) # 1 * 1 * (1 * 2) * ( 1 * 3 ) * ( 1 * 4 ) = 24"
   ]
  },
  {
   "cell_type": "code",
   "execution_count": 18,
   "id": "5d9d665d",
   "metadata": {},
   "outputs": [
    {
     "name": "stdout",
     "output_type": "stream",
     "text": [
      "768\n"
     ]
    }
   ],
   "source": [
    "print(sample_rdd.fold(2, lambda x, y : (x * y))) # 2 * 2 * ( 2 * 2 ) * ( 2 * 3 ) * (2 * 4)"
   ]
  },
  {
   "cell_type": "markdown",
   "id": "48ea4cf6",
   "metadata": {},
   "source": [
    "# Group By\n",
    "- `RDD.groupBy(<func>)`\n",
    "- 그룹핑 함수를 받아 `reduction`"
   ]
  },
  {
   "cell_type": "code",
   "execution_count": 21,
   "id": "0ed87d40",
   "metadata": {},
   "outputs": [
    {
     "name": "stderr",
     "output_type": "stream",
     "text": [
      "                                                                                \r"
     ]
    },
    {
     "data": {
      "text/plain": [
       "[(1, <pyspark.resultiterable.ResultIterable at 0x7f157c206250>),\n",
       " (0, <pyspark.resultiterable.ResultIterable at 0x7f155dcbc040>)]"
      ]
     },
     "execution_count": 21,
     "metadata": {},
     "output_type": "execute_result"
    }
   ],
   "source": [
    "sample_rdd = sc.parallelize([1, 1, 2, 3, 5, 8])\n",
    "result = sample_rdd.groupBy(lambda x : x % 2).collect()\n",
    "result"
   ]
  },
  {
   "cell_type": "code",
   "execution_count": 24,
   "id": "17b444c9",
   "metadata": {},
   "outputs": [
    {
     "data": {
      "text/plain": [
       "[(0, [2, 8]), (1, [1, 1, 3, 5])]"
      ]
     },
     "execution_count": 24,
     "metadata": {},
     "output_type": "execute_result"
    }
   ],
   "source": [
    "sorted([(x, sorted(y)) for (x, y) in result]) # sorted : 내부 Iterable 객체를 정렬한 후 리스트로 리턴"
   ]
  },
  {
   "cell_type": "markdown",
   "id": "36069167",
   "metadata": {},
   "source": [
    "# Aggregate\n",
    "- `RDD.aggregate(zeroValue, seqOp, combOp)`\n",
    "    - `zeroValue` : 각 파티션에서 누적할 시작 값\n",
    "    - `seqOp` : 타입 변경 함수\n",
    "        - 파티션 내에서 벌어지는 연산을 담당\n",
    "    - `combOp` : 모든 결과를 하나로 합쳐주는 연산을 담당\n",
    "- 파티션 단위의 연산 결과를 합쳐주는 과정을 거치게 된다."
   ]
  },
  {
   "cell_type": "code",
   "execution_count": 25,
   "id": "c4540741",
   "metadata": {},
   "outputs": [
    {
     "data": {
      "text/plain": [
       "[[1, 2], [3, 4]]"
      ]
     },
     "execution_count": 25,
     "metadata": {},
     "output_type": "execute_result"
    }
   ],
   "source": [
    "sample_rdd = sc.parallelize([1, 2, 3, 4], 2)\n",
    "sample_rdd.glom().collect()"
   ]
  },
  {
   "cell_type": "code",
   "execution_count": 26,
   "id": "c4068751",
   "metadata": {},
   "outputs": [],
   "source": [
    "seqOp = lambda x, y : (x[0] + y, x[1] + 1) # 파티션 내의 연산\n",
    "combOp = lambda x, y : (x[0] + y[0], x[1] + y[1]) # 파티션의 모든 결과를 최종 연산"
   ]
  },
  {
   "cell_type": "code",
   "execution_count": 27,
   "id": "63bbf560",
   "metadata": {},
   "outputs": [
    {
     "data": {
      "text/plain": [
       "(10, 4)"
      ]
     },
     "execution_count": 27,
     "metadata": {},
     "output_type": "execute_result"
    }
   ],
   "source": [
    "sample_rdd.aggregate((0, 0), seqOp, combOp)"
   ]
  },
  {
   "cell_type": "code",
   "execution_count": 28,
   "id": "a22cb442",
   "metadata": {},
   "outputs": [],
   "source": [
    "sc.stop()"
   ]
  },
  {
   "cell_type": "code",
   "execution_count": null,
   "id": "628dc931",
   "metadata": {},
   "outputs": [],
   "source": []
  },
  {
   "cell_type": "code",
   "execution_count": null,
   "id": "cb6bcca7",
   "metadata": {},
   "outputs": [],
   "source": []
  }
 ],
 "metadata": {
  "kernelspec": {
   "display_name": "Python 3 (ipykernel)",
   "language": "python",
   "name": "python3"
  },
  "language_info": {
   "codemirror_mode": {
    "name": "ipython",
    "version": 3
   },
   "file_extension": ".py",
   "mimetype": "text/x-python",
   "name": "python",
   "nbconvert_exporter": "python",
   "pygments_lexer": "ipython3",
   "version": "3.8.16"
  }
 },
 "nbformat": 4,
 "nbformat_minor": 5
}
