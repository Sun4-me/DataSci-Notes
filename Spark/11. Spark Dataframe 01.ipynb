{
 "cells": [
  {
   "cell_type": "code",
   "execution_count": 1,
   "id": "fdc07bc8",
   "metadata": {},
   "outputs": [
    {
     "name": "stderr",
     "output_type": "stream",
     "text": [
      "WARNING: An illegal reflective access operation has occurred\n",
      "WARNING: Illegal reflective access by org.apache.spark.unsafe.Platform (file:/home/ubuntu/spark-3.2.4/jars/spark-unsafe_2.12-3.2.4.jar) to constructor java.nio.DirectByteBuffer(long,int)\n",
      "WARNING: Please consider reporting this to the maintainers of org.apache.spark.unsafe.Platform\n",
      "WARNING: Use --illegal-access=warn to enable warnings of further illegal reflective access operations\n",
      "WARNING: All illegal access operations will be denied in a future release\n",
      "Using Spark's default log4j profile: org/apache/spark/log4j-defaults.properties\n",
      "Setting default log level to \"WARN\".\n",
      "To adjust logging level use sc.setLogLevel(newLevel). For SparkR, use setLogLevel(newLevel).\n",
      "23/06/07 05:04:42 WARN NativeCodeLoader: Unable to load native-hadoop library for your platform... using builtin-java classes where applicable\n"
     ]
    }
   ],
   "source": [
    "from pyspark.sql import SparkSession\n",
    "\n",
    "spark = SparkSession.builder.appName(\"trip_count_sql\").getOrCreate()"
   ]
  },
  {
   "cell_type": "code",
   "execution_count": 2,
   "id": "d1e49dc3",
   "metadata": {},
   "outputs": [
    {
     "name": "stderr",
     "output_type": "stream",
     "text": [
      "\r",
      "[Stage 0:>                                                          (0 + 1) / 1]\r",
      "\r",
      "                                                                                \r"
     ]
    },
    {
     "name": "stdout",
     "output_type": "stream",
     "text": [
      "+-----------+--------+------+--------------------+------+----+-----+-----+----------------+-------+-----+--------+\n",
      "|PassengerId|Survived|Pclass|                Name|   Sex| Age|SibSp|Parch|          Ticket|   Fare|Cabin|Embarked|\n",
      "+-----------+--------+------+--------------------+------+----+-----+-----+----------------+-------+-----+--------+\n",
      "|          1|       0|     3|Braund, Mr. Owen ...|  male|22.0|    1|    0|       A/5 21171|   7.25| null|       S|\n",
      "|          2|       1|     1|Cumings, Mrs. Joh...|female|38.0|    1|    0|        PC 17599|71.2833|  C85|       C|\n",
      "|          3|       1|     3|Heikkinen, Miss. ...|female|26.0|    0|    0|STON/O2. 3101282|  7.925| null|       S|\n",
      "|          4|       1|     1|Futrelle, Mrs. Ja...|female|35.0|    1|    0|          113803|   53.1| C123|       S|\n",
      "|          5|       0|     3|Allen, Mr. Willia...|  male|35.0|    0|    0|          373450|   8.05| null|       S|\n",
      "+-----------+--------+------+--------------------+------+----+-----+-----+----------------+-------+-----+--------+\n",
      "only showing top 5 rows\n",
      "\n"
     ]
    }
   ],
   "source": [
    "filepath = \"/home/ubuntu/working/spark-examples/data/titanic_train.csv\"\n",
    "titanic_sdf = spark.read.csv(filepath, inferSchema=True, header=True)\n",
    "\n",
    "titanic_sdf.show(5)"
   ]
  },
  {
   "cell_type": "code",
   "execution_count": 5,
   "id": "da3f8460",
   "metadata": {},
   "outputs": [
    {
     "data": {
      "text/html": [
       "<div>\n",
       "<style scoped>\n",
       "    .dataframe tbody tr th:only-of-type {\n",
       "        vertical-align: middle;\n",
       "    }\n",
       "\n",
       "    .dataframe tbody tr th {\n",
       "        vertical-align: top;\n",
       "    }\n",
       "\n",
       "    .dataframe thead th {\n",
       "        text-align: right;\n",
       "    }\n",
       "</style>\n",
       "<table border=\"1\" class=\"dataframe\">\n",
       "  <thead>\n",
       "    <tr style=\"text-align: right;\">\n",
       "      <th></th>\n",
       "      <th>PassengerId</th>\n",
       "      <th>Survived</th>\n",
       "      <th>Pclass</th>\n",
       "      <th>Name</th>\n",
       "      <th>Sex</th>\n",
       "      <th>Age</th>\n",
       "      <th>SibSp</th>\n",
       "      <th>Parch</th>\n",
       "      <th>Ticket</th>\n",
       "      <th>Fare</th>\n",
       "      <th>Cabin</th>\n",
       "      <th>Embarked</th>\n",
       "    </tr>\n",
       "  </thead>\n",
       "  <tbody>\n",
       "    <tr>\n",
       "      <th>0</th>\n",
       "      <td>1</td>\n",
       "      <td>0</td>\n",
       "      <td>3</td>\n",
       "      <td>Braund, Mr. Owen Harris</td>\n",
       "      <td>male</td>\n",
       "      <td>22.0</td>\n",
       "      <td>1</td>\n",
       "      <td>0</td>\n",
       "      <td>A/5 21171</td>\n",
       "      <td>7.2500</td>\n",
       "      <td>NaN</td>\n",
       "      <td>S</td>\n",
       "    </tr>\n",
       "    <tr>\n",
       "      <th>1</th>\n",
       "      <td>2</td>\n",
       "      <td>1</td>\n",
       "      <td>1</td>\n",
       "      <td>Cumings, Mrs. John Bradley (Florence Briggs Th...</td>\n",
       "      <td>female</td>\n",
       "      <td>38.0</td>\n",
       "      <td>1</td>\n",
       "      <td>0</td>\n",
       "      <td>PC 17599</td>\n",
       "      <td>71.2833</td>\n",
       "      <td>C85</td>\n",
       "      <td>C</td>\n",
       "    </tr>\n",
       "    <tr>\n",
       "      <th>2</th>\n",
       "      <td>3</td>\n",
       "      <td>1</td>\n",
       "      <td>3</td>\n",
       "      <td>Heikkinen, Miss. Laina</td>\n",
       "      <td>female</td>\n",
       "      <td>26.0</td>\n",
       "      <td>0</td>\n",
       "      <td>0</td>\n",
       "      <td>STON/O2. 3101282</td>\n",
       "      <td>7.9250</td>\n",
       "      <td>NaN</td>\n",
       "      <td>S</td>\n",
       "    </tr>\n",
       "    <tr>\n",
       "      <th>3</th>\n",
       "      <td>4</td>\n",
       "      <td>1</td>\n",
       "      <td>1</td>\n",
       "      <td>Futrelle, Mrs. Jacques Heath (Lily May Peel)</td>\n",
       "      <td>female</td>\n",
       "      <td>35.0</td>\n",
       "      <td>1</td>\n",
       "      <td>0</td>\n",
       "      <td>113803</td>\n",
       "      <td>53.1000</td>\n",
       "      <td>C123</td>\n",
       "      <td>S</td>\n",
       "    </tr>\n",
       "    <tr>\n",
       "      <th>4</th>\n",
       "      <td>5</td>\n",
       "      <td>0</td>\n",
       "      <td>3</td>\n",
       "      <td>Allen, Mr. William Henry</td>\n",
       "      <td>male</td>\n",
       "      <td>35.0</td>\n",
       "      <td>0</td>\n",
       "      <td>0</td>\n",
       "      <td>373450</td>\n",
       "      <td>8.0500</td>\n",
       "      <td>NaN</td>\n",
       "      <td>S</td>\n",
       "    </tr>\n",
       "  </tbody>\n",
       "</table>\n",
       "</div>"
      ],
      "text/plain": [
       "   PassengerId  Survived  Pclass  \\\n",
       "0            1         0       3   \n",
       "1            2         1       1   \n",
       "2            3         1       3   \n",
       "3            4         1       1   \n",
       "4            5         0       3   \n",
       "\n",
       "                                                Name     Sex   Age  SibSp  \\\n",
       "0                            Braund, Mr. Owen Harris    male  22.0      1   \n",
       "1  Cumings, Mrs. John Bradley (Florence Briggs Th...  female  38.0      1   \n",
       "2                             Heikkinen, Miss. Laina  female  26.0      0   \n",
       "3       Futrelle, Mrs. Jacques Heath (Lily May Peel)  female  35.0      1   \n",
       "4                           Allen, Mr. William Henry    male  35.0      0   \n",
       "\n",
       "   Parch            Ticket     Fare Cabin Embarked  \n",
       "0      0         A/5 21171   7.2500   NaN        S  \n",
       "1      0          PC 17599  71.2833   C85        C  \n",
       "2      0  STON/O2. 3101282   7.9250   NaN        S  \n",
       "3      0            113803  53.1000  C123        S  \n",
       "4      0            373450   8.0500   NaN        S  "
      ]
     },
     "execution_count": 5,
     "metadata": {},
     "output_type": "execute_result"
    }
   ],
   "source": [
    "import pandas as pd\n",
    "\n",
    "titanic_pdf = pd.read_csv(filepath, header='infer')\n",
    "titanic_pdf.head()"
   ]
  },
  {
   "cell_type": "markdown",
   "id": "ba3c832e",
   "metadata": {},
   "source": [
    "#### pandas DataFrame의 head()와 spark DataFrame head() 비교 및 print() 적용 시 차이\n",
    "* pandas DataFrame의 head(N)는 Dataframe의 선두 N개 Record를 가지는 DataFrame을 반환\n",
    "* spark DataFrame의 head(N)는 DataFrame의 선두 N개 Row Object를 list로 반환. \n",
    "* spark DataFrame의 limit(N)가 DataFrame의 선두 N개 Record를 가지는 DataFrame을 반환. \n",
    "* pandas DataFrame은 print() 적용 시 DataFrame의 내용을 출력하지만 spark DataFrame은 DataFrame의 schema만 출력"
   ]
  },
  {
   "cell_type": "code",
   "execution_count": 6,
   "id": "a222df6f",
   "metadata": {},
   "outputs": [
    {
     "data": {
      "text/plain": [
       "[Row(PassengerId=1, Survived=0, Pclass=3, Name='Braund, Mr. Owen Harris', Sex='male', Age=22.0, SibSp=1, Parch=0, Ticket='A/5 21171', Fare=7.25, Cabin=None, Embarked='S'),\n",
       " Row(PassengerId=2, Survived=1, Pclass=1, Name='Cumings, Mrs. John Bradley (Florence Briggs Thayer)', Sex='female', Age=38.0, SibSp=1, Parch=0, Ticket='PC 17599', Fare=71.2833, Cabin='C85', Embarked='C'),\n",
       " Row(PassengerId=3, Survived=1, Pclass=3, Name='Heikkinen, Miss. Laina', Sex='female', Age=26.0, SibSp=0, Parch=0, Ticket='STON/O2. 3101282', Fare=7.925, Cabin=None, Embarked='S'),\n",
       " Row(PassengerId=4, Survived=1, Pclass=1, Name='Futrelle, Mrs. Jacques Heath (Lily May Peel)', Sex='female', Age=35.0, SibSp=1, Parch=0, Ticket='113803', Fare=53.1, Cabin='C123', Embarked='S'),\n",
       " Row(PassengerId=5, Survived=0, Pclass=3, Name='Allen, Mr. William Henry', Sex='male', Age=35.0, SibSp=0, Parch=0, Ticket='373450', Fare=8.05, Cabin=None, Embarked='S')]"
      ]
     },
     "execution_count": 6,
     "metadata": {},
     "output_type": "execute_result"
    }
   ],
   "source": [
    "titanic_sdf.head(5)"
   ]
  },
  {
   "cell_type": "code",
   "execution_count": 8,
   "id": "75527f7d",
   "metadata": {},
   "outputs": [
    {
     "name": "stdout",
     "output_type": "stream",
     "text": [
      "+-----------+--------+------+--------------------+------+----+-----+-----+----------------+-------+-----+--------+\n",
      "|PassengerId|Survived|Pclass|                Name|   Sex| Age|SibSp|Parch|          Ticket|   Fare|Cabin|Embarked|\n",
      "+-----------+--------+------+--------------------+------+----+-----+-----+----------------+-------+-----+--------+\n",
      "|          1|       0|     3|Braund, Mr. Owen ...|  male|22.0|    1|    0|       A/5 21171|   7.25| null|       S|\n",
      "|          2|       1|     1|Cumings, Mrs. Joh...|female|38.0|    1|    0|        PC 17599|71.2833|  C85|       C|\n",
      "|          3|       1|     3|Heikkinen, Miss. ...|female|26.0|    0|    0|STON/O2. 3101282|  7.925| null|       S|\n",
      "|          4|       1|     1|Futrelle, Mrs. Ja...|female|35.0|    1|    0|          113803|   53.1| C123|       S|\n",
      "|          5|       0|     3|Allen, Mr. Willia...|  male|35.0|    0|    0|          373450|   8.05| null|       S|\n",
      "+-----------+--------+------+--------------------+------+----+-----+-----+----------------+-------+-----+--------+\n",
      "\n"
     ]
    }
   ],
   "source": [
    "# limit : Transformations\n",
    "titanic_sdf.limit(5).show()"
   ]
  },
  {
   "cell_type": "code",
   "execution_count": 9,
   "id": "66afd047",
   "metadata": {},
   "outputs": [
    {
     "name": "stdout",
     "output_type": "stream",
     "text": [
      "     PassengerId  Survived  Pclass  \\\n",
      "0              1         0       3   \n",
      "1              2         1       1   \n",
      "2              3         1       3   \n",
      "3              4         1       1   \n",
      "4              5         0       3   \n",
      "..           ...       ...     ...   \n",
      "886          887         0       2   \n",
      "887          888         1       1   \n",
      "888          889         0       3   \n",
      "889          890         1       1   \n",
      "890          891         0       3   \n",
      "\n",
      "                                                  Name     Sex   Age  SibSp  \\\n",
      "0                              Braund, Mr. Owen Harris    male  22.0      1   \n",
      "1    Cumings, Mrs. John Bradley (Florence Briggs Th...  female  38.0      1   \n",
      "2                               Heikkinen, Miss. Laina  female  26.0      0   \n",
      "3         Futrelle, Mrs. Jacques Heath (Lily May Peel)  female  35.0      1   \n",
      "4                             Allen, Mr. William Henry    male  35.0      0   \n",
      "..                                                 ...     ...   ...    ...   \n",
      "886                              Montvila, Rev. Juozas    male  27.0      0   \n",
      "887                       Graham, Miss. Margaret Edith  female  19.0      0   \n",
      "888           Johnston, Miss. Catherine Helen \"Carrie\"  female   NaN      1   \n",
      "889                              Behr, Mr. Karl Howell    male  26.0      0   \n",
      "890                                Dooley, Mr. Patrick    male  32.0      0   \n",
      "\n",
      "     Parch            Ticket     Fare Cabin Embarked  \n",
      "0        0         A/5 21171   7.2500   NaN        S  \n",
      "1        0          PC 17599  71.2833   C85        C  \n",
      "2        0  STON/O2. 3101282   7.9250   NaN        S  \n",
      "3        0            113803  53.1000  C123        S  \n",
      "4        0            373450   8.0500   NaN        S  \n",
      "..     ...               ...      ...   ...      ...  \n",
      "886      0            211536  13.0000   NaN        S  \n",
      "887      0            112053  30.0000   B42        S  \n",
      "888      2        W./C. 6607  23.4500   NaN        S  \n",
      "889      0            111369  30.0000  C148        C  \n",
      "890      0            370376   7.7500   NaN        Q  \n",
      "\n",
      "[891 rows x 12 columns]\n",
      "DataFrame[PassengerId: int, Survived: int, Pclass: int, Name: string, Sex: string, Age: double, SibSp: int, Parch: int, Ticket: string, Fare: double, Cabin: string, Embarked: string]\n"
     ]
    }
   ],
   "source": [
    "# print 비교\n",
    "print(titanic_pdf) # pandas dataframe을 print\n",
    "print(titanic_sdf) # spark dataframe을 print"
   ]
  },
  {
   "cell_type": "code",
   "execution_count": 10,
   "id": "ea22d22a",
   "metadata": {},
   "outputs": [
    {
     "data": {
      "text/html": [
       "<div>\n",
       "<style scoped>\n",
       "    .dataframe tbody tr th:only-of-type {\n",
       "        vertical-align: middle;\n",
       "    }\n",
       "\n",
       "    .dataframe tbody tr th {\n",
       "        vertical-align: top;\n",
       "    }\n",
       "\n",
       "    .dataframe thead th {\n",
       "        text-align: right;\n",
       "    }\n",
       "</style>\n",
       "<table border=\"1\" class=\"dataframe\">\n",
       "  <thead>\n",
       "    <tr style=\"text-align: right;\">\n",
       "      <th></th>\n",
       "      <th>Pclass</th>\n",
       "      <th>Embarked</th>\n",
       "    </tr>\n",
       "  </thead>\n",
       "  <tbody>\n",
       "    <tr>\n",
       "      <th>0</th>\n",
       "      <td>3</td>\n",
       "      <td>S</td>\n",
       "    </tr>\n",
       "    <tr>\n",
       "      <th>1</th>\n",
       "      <td>1</td>\n",
       "      <td>C</td>\n",
       "    </tr>\n",
       "    <tr>\n",
       "      <th>2</th>\n",
       "      <td>3</td>\n",
       "      <td>S</td>\n",
       "    </tr>\n",
       "    <tr>\n",
       "      <th>3</th>\n",
       "      <td>1</td>\n",
       "      <td>S</td>\n",
       "    </tr>\n",
       "    <tr>\n",
       "      <th>4</th>\n",
       "      <td>3</td>\n",
       "      <td>S</td>\n",
       "    </tr>\n",
       "    <tr>\n",
       "      <th>...</th>\n",
       "      <td>...</td>\n",
       "      <td>...</td>\n",
       "    </tr>\n",
       "    <tr>\n",
       "      <th>886</th>\n",
       "      <td>2</td>\n",
       "      <td>S</td>\n",
       "    </tr>\n",
       "    <tr>\n",
       "      <th>887</th>\n",
       "      <td>1</td>\n",
       "      <td>S</td>\n",
       "    </tr>\n",
       "    <tr>\n",
       "      <th>888</th>\n",
       "      <td>3</td>\n",
       "      <td>S</td>\n",
       "    </tr>\n",
       "    <tr>\n",
       "      <th>889</th>\n",
       "      <td>1</td>\n",
       "      <td>C</td>\n",
       "    </tr>\n",
       "    <tr>\n",
       "      <th>890</th>\n",
       "      <td>3</td>\n",
       "      <td>Q</td>\n",
       "    </tr>\n",
       "  </tbody>\n",
       "</table>\n",
       "<p>891 rows × 2 columns</p>\n",
       "</div>"
      ],
      "text/plain": [
       "     Pclass Embarked\n",
       "0         3        S\n",
       "1         1        C\n",
       "2         3        S\n",
       "3         1        S\n",
       "4         3        S\n",
       "..      ...      ...\n",
       "886       2        S\n",
       "887       1        S\n",
       "888       3        S\n",
       "889       1        C\n",
       "890       3        Q\n",
       "\n",
       "[891 rows x 2 columns]"
      ]
     },
     "execution_count": 10,
     "metadata": {},
     "output_type": "execute_result"
    }
   ],
   "source": [
    "# spark dataframe을 pandas dataframe으로 만들기\n",
    "titanic_sdf.select(\"Pclass\", \"Embarked\").toPandas()"
   ]
  },
  {
   "cell_type": "markdown",
   "id": "396e4289",
   "metadata": {},
   "source": [
    "## pandas DataFrame의 info()에 대응하는 Spark DataFrame 메소드 및 로직\n",
    "* pandas DataFrame의 info()는 컬럼명, data type과 not null 건수를 함께 출력\n",
    "* spark DataFrame의 info() 메소드가 없으며 대신 printSchema() 메소드로 스키마(컬럼명, data type)만 출력\n",
    "* not null 건수를 위해서는 별도의 SQL성 쿼리 작성 필요."
   ]
  },
  {
   "cell_type": "code",
   "execution_count": 11,
   "id": "521970a7",
   "metadata": {},
   "outputs": [
    {
     "name": "stdout",
     "output_type": "stream",
     "text": [
      "<class 'pandas.core.frame.DataFrame'>\n",
      "RangeIndex: 891 entries, 0 to 890\n",
      "Data columns (total 12 columns):\n",
      " #   Column       Non-Null Count  Dtype  \n",
      "---  ------       --------------  -----  \n",
      " 0   PassengerId  891 non-null    int64  \n",
      " 1   Survived     891 non-null    int64  \n",
      " 2   Pclass       891 non-null    int64  \n",
      " 3   Name         891 non-null    object \n",
      " 4   Sex          891 non-null    object \n",
      " 5   Age          714 non-null    float64\n",
      " 6   SibSp        891 non-null    int64  \n",
      " 7   Parch        891 non-null    int64  \n",
      " 8   Ticket       891 non-null    object \n",
      " 9   Fare         891 non-null    float64\n",
      " 10  Cabin        204 non-null    object \n",
      " 11  Embarked     889 non-null    object \n",
      "dtypes: float64(2), int64(5), object(5)\n",
      "memory usage: 83.7+ KB\n"
     ]
    }
   ],
   "source": [
    "# Pandas DataFrame의 Info\n",
    "titanic_pdf.info()"
   ]
  },
  {
   "cell_type": "code",
   "execution_count": 12,
   "id": "b8de68a7",
   "metadata": {},
   "outputs": [
    {
     "name": "stdout",
     "output_type": "stream",
     "text": [
      "root\n",
      " |-- PassengerId: integer (nullable = true)\n",
      " |-- Survived: integer (nullable = true)\n",
      " |-- Pclass: integer (nullable = true)\n",
      " |-- Name: string (nullable = true)\n",
      " |-- Sex: string (nullable = true)\n",
      " |-- Age: double (nullable = true)\n",
      " |-- SibSp: integer (nullable = true)\n",
      " |-- Parch: integer (nullable = true)\n",
      " |-- Ticket: string (nullable = true)\n",
      " |-- Fare: double (nullable = true)\n",
      " |-- Cabin: string (nullable = true)\n",
      " |-- Embarked: string (nullable = true)\n",
      "\n"
     ]
    }
   ],
   "source": [
    "# spark df의 타입은 java object type\n",
    "titanic_sdf.printSchema()"
   ]
  },
  {
   "cell_type": "code",
   "execution_count": 13,
   "id": "14997934",
   "metadata": {},
   "outputs": [],
   "source": [
    "# SQL의 count case when과 유사한 로직으로 null 값을 포함한 컬럼 확인\n",
    "#  문제는 파이썬에서 Null값을 NaN, Null을 모두 사용한다.\n",
    "from pyspark.sql.functions import count, isnan, when, col"
   ]
  },
  {
   "cell_type": "code",
   "execution_count": 14,
   "id": "c9e090e2",
   "metadata": {},
   "outputs": [
    {
     "data": {
      "text/plain": [
       "['PassengerId',\n",
       " 'Survived',\n",
       " 'Pclass',\n",
       " 'Name',\n",
       " 'Sex',\n",
       " 'Age',\n",
       " 'SibSp',\n",
       " 'Parch',\n",
       " 'Ticket',\n",
       " 'Fare',\n",
       " 'Cabin',\n",
       " 'Embarked']"
      ]
     },
     "execution_count": 14,
     "metadata": {},
     "output_type": "execute_result"
    }
   ],
   "source": [
    "# Spark DF에서 컬럼만 확인\n",
    "titanic_sdf.columns"
   ]
  },
  {
   "cell_type": "code",
   "execution_count": 15,
   "id": "55cb5189",
   "metadata": {},
   "outputs": [
    {
     "name": "stdout",
     "output_type": "stream",
     "text": [
      "+-----------+--------+------+----+---+---+-----+-----+------+----+-----+--------+\n",
      "|PassengerId|Survived|Pclass|Name|Sex|Age|SibSp|Parch|Ticket|Fare|Cabin|Embarked|\n",
      "+-----------+--------+------+----+---+---+-----+-----+------+----+-----+--------+\n",
      "|          0|       0|     0|   0|  0|177|    0|    0|     0|   0|  687|       2|\n",
      "+-----------+--------+------+----+---+---+-----+-----+------+----+-----+--------+\n",
      "\n"
     ]
    }
   ],
   "source": [
    "# 위의 나온 컬럼 별로 NaN값의 존재 여부 파악 및 개수를 세야 한다.\n",
    "titanic_sdf.select([count(when(isnan(c) | col(c).isNull(), c)).alias(c) for c in titanic_sdf.columns]).show()"
   ]
  },
  {
   "cell_type": "code",
   "execution_count": 16,
   "id": "6080f287",
   "metadata": {},
   "outputs": [
    {
     "name": "stdout",
     "output_type": "stream",
     "text": [
      "+-----------+--------+------+----+---+---+-----+-----+------+----+-----+--------+\n",
      "|PassengerId|Survived|Pclass|Name|Sex|Age|SibSp|Parch|Ticket|Fare|Cabin|Embarked|\n",
      "+-----------+--------+------+----+---+---+-----+-----+------+----+-----+--------+\n",
      "|          0|       0|     0|   0|  0|177|    0|    0|     0|   0|  687|       2|\n",
      "+-----------+--------+------+----+---+---+-----+-----+------+----+-----+--------+\n",
      "\n"
     ]
    }
   ],
   "source": [
    "def check_spark_null(spark_df):\n",
    "    return spark_df.select([count(when(isnan(c) | col(c).isNull(), c)).alias(c) for c in spark_df.columns])\n",
    "\n",
    "check_spark_null(titanic_sdf).show()"
   ]
  },
  {
   "cell_type": "markdown",
   "id": "6913c639",
   "metadata": {},
   "source": [
    "## pandas DataFrame describe()와 spark DataFrame describe() 비교\n",
    "* spark dataframe은 pandas dataframe과 비슷하게 describe()를 통해 모든 컬럼값들의 건수/평균/표준편차/최소값/최대값 등의 정보를 확인할 수 있음. 다만 percentile값을 만들지 않음. \n",
    "* pandas dataframe과 다르게 describe()시 숫자형 컬럼 뿐만 아니라 문자형 컬럼에 대해서도 건수/평균/표준편차/최소값/최대값 조사"
   ]
  },
  {
   "cell_type": "code",
   "execution_count": 17,
   "id": "9b004412",
   "metadata": {},
   "outputs": [
    {
     "data": {
      "text/html": [
       "<div>\n",
       "<style scoped>\n",
       "    .dataframe tbody tr th:only-of-type {\n",
       "        vertical-align: middle;\n",
       "    }\n",
       "\n",
       "    .dataframe tbody tr th {\n",
       "        vertical-align: top;\n",
       "    }\n",
       "\n",
       "    .dataframe thead th {\n",
       "        text-align: right;\n",
       "    }\n",
       "</style>\n",
       "<table border=\"1\" class=\"dataframe\">\n",
       "  <thead>\n",
       "    <tr style=\"text-align: right;\">\n",
       "      <th></th>\n",
       "      <th>PassengerId</th>\n",
       "      <th>Survived</th>\n",
       "      <th>Pclass</th>\n",
       "      <th>Age</th>\n",
       "      <th>SibSp</th>\n",
       "      <th>Parch</th>\n",
       "      <th>Fare</th>\n",
       "    </tr>\n",
       "  </thead>\n",
       "  <tbody>\n",
       "    <tr>\n",
       "      <th>count</th>\n",
       "      <td>891.000000</td>\n",
       "      <td>891.000000</td>\n",
       "      <td>891.000000</td>\n",
       "      <td>714.000000</td>\n",
       "      <td>891.000000</td>\n",
       "      <td>891.000000</td>\n",
       "      <td>891.000000</td>\n",
       "    </tr>\n",
       "    <tr>\n",
       "      <th>mean</th>\n",
       "      <td>446.000000</td>\n",
       "      <td>0.383838</td>\n",
       "      <td>2.308642</td>\n",
       "      <td>29.699118</td>\n",
       "      <td>0.523008</td>\n",
       "      <td>0.381594</td>\n",
       "      <td>32.204208</td>\n",
       "    </tr>\n",
       "    <tr>\n",
       "      <th>std</th>\n",
       "      <td>257.353842</td>\n",
       "      <td>0.486592</td>\n",
       "      <td>0.836071</td>\n",
       "      <td>14.526497</td>\n",
       "      <td>1.102743</td>\n",
       "      <td>0.806057</td>\n",
       "      <td>49.693429</td>\n",
       "    </tr>\n",
       "    <tr>\n",
       "      <th>min</th>\n",
       "      <td>1.000000</td>\n",
       "      <td>0.000000</td>\n",
       "      <td>1.000000</td>\n",
       "      <td>0.420000</td>\n",
       "      <td>0.000000</td>\n",
       "      <td>0.000000</td>\n",
       "      <td>0.000000</td>\n",
       "    </tr>\n",
       "    <tr>\n",
       "      <th>25%</th>\n",
       "      <td>223.500000</td>\n",
       "      <td>0.000000</td>\n",
       "      <td>2.000000</td>\n",
       "      <td>20.125000</td>\n",
       "      <td>0.000000</td>\n",
       "      <td>0.000000</td>\n",
       "      <td>7.910400</td>\n",
       "    </tr>\n",
       "    <tr>\n",
       "      <th>50%</th>\n",
       "      <td>446.000000</td>\n",
       "      <td>0.000000</td>\n",
       "      <td>3.000000</td>\n",
       "      <td>28.000000</td>\n",
       "      <td>0.000000</td>\n",
       "      <td>0.000000</td>\n",
       "      <td>14.454200</td>\n",
       "    </tr>\n",
       "    <tr>\n",
       "      <th>75%</th>\n",
       "      <td>668.500000</td>\n",
       "      <td>1.000000</td>\n",
       "      <td>3.000000</td>\n",
       "      <td>38.000000</td>\n",
       "      <td>1.000000</td>\n",
       "      <td>0.000000</td>\n",
       "      <td>31.000000</td>\n",
       "    </tr>\n",
       "    <tr>\n",
       "      <th>max</th>\n",
       "      <td>891.000000</td>\n",
       "      <td>1.000000</td>\n",
       "      <td>3.000000</td>\n",
       "      <td>80.000000</td>\n",
       "      <td>8.000000</td>\n",
       "      <td>6.000000</td>\n",
       "      <td>512.329200</td>\n",
       "    </tr>\n",
       "  </tbody>\n",
       "</table>\n",
       "</div>"
      ],
      "text/plain": [
       "       PassengerId    Survived      Pclass         Age       SibSp  \\\n",
       "count   891.000000  891.000000  891.000000  714.000000  891.000000   \n",
       "mean    446.000000    0.383838    2.308642   29.699118    0.523008   \n",
       "std     257.353842    0.486592    0.836071   14.526497    1.102743   \n",
       "min       1.000000    0.000000    1.000000    0.420000    0.000000   \n",
       "25%     223.500000    0.000000    2.000000   20.125000    0.000000   \n",
       "50%     446.000000    0.000000    3.000000   28.000000    0.000000   \n",
       "75%     668.500000    1.000000    3.000000   38.000000    1.000000   \n",
       "max     891.000000    1.000000    3.000000   80.000000    8.000000   \n",
       "\n",
       "            Parch        Fare  \n",
       "count  891.000000  891.000000  \n",
       "mean     0.381594   32.204208  \n",
       "std      0.806057   49.693429  \n",
       "min      0.000000    0.000000  \n",
       "25%      0.000000    7.910400  \n",
       "50%      0.000000   14.454200  \n",
       "75%      0.000000   31.000000  \n",
       "max      6.000000  512.329200  "
      ]
     },
     "execution_count": 17,
     "metadata": {},
     "output_type": "execute_result"
    }
   ],
   "source": [
    "titanic_pdf.describe()"
   ]
  },
  {
   "cell_type": "code",
   "execution_count": 19,
   "id": "2863da47",
   "metadata": {},
   "outputs": [
    {
     "name": "stdout",
     "output_type": "stream",
     "text": [
      "+-------+-----------------+-------------------+------------------+--------------------+------+------------------+------------------+-------------------+------------------+-----------------+-----+--------+\n",
      "|summary|      PassengerId|           Survived|            Pclass|                Name|   Sex|               Age|             SibSp|              Parch|            Ticket|             Fare|Cabin|Embarked|\n",
      "+-------+-----------------+-------------------+------------------+--------------------+------+------------------+------------------+-------------------+------------------+-----------------+-----+--------+\n",
      "|  count|              891|                891|               891|                 891|   891|               714|               891|                891|               891|              891|  204|     889|\n",
      "|   mean|            446.0| 0.3838383838383838| 2.308641975308642|                null|  null| 29.69911764705882|0.5230078563411896|0.38159371492704824|260318.54916792738| 32.2042079685746| null|    null|\n",
      "| stddev|257.3538420152301|0.48659245426485753|0.8360712409770491|                null|  null|14.526497332334035|1.1027434322934315| 0.8060572211299488|471609.26868834975|49.69342859718089| null|    null|\n",
      "|    min|                1|                  0|                 1|\"Andersson, Mr. A...|female|              0.42|                 0|                  0|            110152|              0.0|  A10|       C|\n",
      "|    max|              891|                  1|                 3|van Melkebeke, Mr...|  male|              80.0|                 8|                  6|         WE/P 5735|         512.3292|    T|       S|\n",
      "+-------+-----------------+-------------------+------------------+--------------------+------+------------------+------------------+-------------------+------------------+-----------------+-----+--------+\n",
      "\n"
     ]
    }
   ],
   "source": [
    "titanic_sdf.describe().show()"
   ]
  },
  {
   "cell_type": "code",
   "execution_count": 21,
   "id": "aa500bc2",
   "metadata": {},
   "outputs": [
    {
     "data": {
      "text/plain": [
       "[('PassengerId', 'int'),\n",
       " ('Survived', 'int'),\n",
       " ('Pclass', 'int'),\n",
       " ('Name', 'string'),\n",
       " ('Sex', 'string'),\n",
       " ('Age', 'double'),\n",
       " ('SibSp', 'int'),\n",
       " ('Parch', 'int'),\n",
       " ('Ticket', 'string'),\n",
       " ('Fare', 'double'),\n",
       " ('Cabin', 'string'),\n",
       " ('Embarked', 'string')]"
      ]
     },
     "execution_count": 21,
     "metadata": {},
     "output_type": "execute_result"
    }
   ],
   "source": [
    "# 숫자 형태의 데이터에 대해서만 describe 해보기\n",
    "titanic_sdf.dtypes"
   ]
  },
  {
   "cell_type": "code",
   "execution_count": 23,
   "id": "df1d1754",
   "metadata": {},
   "outputs": [
    {
     "data": {
      "text/plain": [
       "['PassengerId', 'Survived', 'Pclass', 'Age', 'SibSp', 'Parch', 'Fare']"
      ]
     },
     "execution_count": 23,
     "metadata": {},
     "output_type": "execute_result"
    }
   ],
   "source": [
    "number_columns = [ column_name for column_name, dtype in titanic_sdf.dtypes if dtype != 'string' ]\n",
    "number_columns"
   ]
  },
  {
   "cell_type": "code",
   "execution_count": 24,
   "id": "da07960d",
   "metadata": {},
   "outputs": [
    {
     "name": "stdout",
     "output_type": "stream",
     "text": [
      "+-------+-----------------+-------------------+------------------+------------------+------------------+-------------------+-----------------+\n",
      "|summary|      PassengerId|           Survived|            Pclass|               Age|             SibSp|              Parch|             Fare|\n",
      "+-------+-----------------+-------------------+------------------+------------------+------------------+-------------------+-----------------+\n",
      "|  count|              891|                891|               891|               714|               891|                891|              891|\n",
      "|   mean|            446.0| 0.3838383838383838| 2.308641975308642| 29.69911764705882|0.5230078563411896|0.38159371492704824| 32.2042079685746|\n",
      "| stddev|257.3538420152301|0.48659245426485753|0.8360712409770491|14.526497332334035|1.1027434322934315| 0.8060572211299488|49.69342859718089|\n",
      "|    min|                1|                  0|                 1|              0.42|                 0|                  0|              0.0|\n",
      "|    max|              891|                  1|                 3|              80.0|                 8|                  6|         512.3292|\n",
      "+-------+-----------------+-------------------+------------------+------------------+------------------+-------------------+-----------------+\n",
      "\n"
     ]
    }
   ],
   "source": [
    "titanic_sdf.select(number_columns).describe().show()"
   ]
  },
  {
   "cell_type": "markdown",
   "id": "d8e1cfc7",
   "metadata": {},
   "source": [
    "## pandas DataFrame의 shape에 이에 대응하는 spark Dataframe 로직\n",
    "* pandas DataFrame의 shape는 row건수와 column 개수를 매우 빠르게 제공.\n",
    "* spark DataFrame은 shape를 제공하지 않음. column 개수는 spark DataFrame의 columns로 확인. row건수는 count() 메소드(쿼리성)로 확인."
   ]
  },
  {
   "cell_type": "code",
   "execution_count": 25,
   "id": "ae3f0408",
   "metadata": {},
   "outputs": [
    {
     "data": {
      "text/plain": [
       "(891, 12)"
      ]
     },
     "execution_count": 25,
     "metadata": {},
     "output_type": "execute_result"
    }
   ],
   "source": [
    "titanic_pdf.shape"
   ]
  },
  {
   "cell_type": "code",
   "execution_count": 27,
   "id": "f095a0b2",
   "metadata": {},
   "outputs": [
    {
     "name": "stdout",
     "output_type": "stream",
     "text": [
      "컬럼 개수 : 12\n"
     ]
    }
   ],
   "source": [
    "# Spark DataFrame에서 컬럼 개수 얻어내기\n",
    "print(\"컬럼 개수 :\", len(titanic_sdf.columns))"
   ]
  },
  {
   "cell_type": "code",
   "execution_count": 28,
   "id": "8730fce5",
   "metadata": {},
   "outputs": [
    {
     "name": "stdout",
     "output_type": "stream",
     "text": [
      "데이터 개수 : 891\n"
     ]
    }
   ],
   "source": [
    "print(\"데이터 개수 :\", titanic_sdf.count())"
   ]
  },
  {
   "cell_type": "code",
   "execution_count": 29,
   "id": "ff701db9",
   "metadata": {},
   "outputs": [
    {
     "name": "stdout",
     "output_type": "stream",
     "text": [
      "titanic_sdf shape : (891, 12)\n"
     ]
    }
   ],
   "source": [
    "print(\"titanic_sdf shape :\", (titanic_sdf.count(), len(titanic_sdf.columns)))"
   ]
  },
  {
   "cell_type": "markdown",
   "id": "53f5a7a7",
   "metadata": {},
   "source": [
    "## Spark DataFrame의 select() 메소드 알아보기⭐️\n",
    "* select() 메소드는 SQL의 Select 절과 유사하게 한개 이상의 컬럼들의 값을 DataFrame형태로 반환. \n",
    "* 한개의 컬럼명, 또는 여러개의 컬럼명을 인자로 입력할 수 있음.\n",
    "* 개별 컬럼명을 문자열 형태로 또는 DataFrame의 컬럼 속성으로 지정\n",
    "* DataFrame의 컬럼 속성으로 지정시에는 DataFrame.컬럼명, DataFrame[컬럼명], col(컬럼명) 으로 지정 가능."
   ]
  },
  {
   "cell_type": "code",
   "execution_count": 30,
   "id": "5071663b",
   "metadata": {},
   "outputs": [
    {
     "data": {
      "text/plain": [
       "0                                Braund, Mr. Owen Harris\n",
       "1      Cumings, Mrs. John Bradley (Florence Briggs Th...\n",
       "2                                 Heikkinen, Miss. Laina\n",
       "3           Futrelle, Mrs. Jacques Heath (Lily May Peel)\n",
       "4                               Allen, Mr. William Henry\n",
       "                             ...                        \n",
       "886                                Montvila, Rev. Juozas\n",
       "887                         Graham, Miss. Margaret Edith\n",
       "888             Johnston, Miss. Catherine Helen \"Carrie\"\n",
       "889                                Behr, Mr. Karl Howell\n",
       "890                                  Dooley, Mr. Patrick\n",
       "Name: Name, Length: 891, dtype: object"
      ]
     },
     "execution_count": 30,
     "metadata": {},
     "output_type": "execute_result"
    }
   ],
   "source": [
    "# Pandas 데이터프레임에서 단일 컬럼값 가져오기\n",
    "titanic_pdf['Name']"
   ]
  },
  {
   "cell_type": "code",
   "execution_count": 31,
   "id": "967cad2b",
   "metadata": {},
   "outputs": [
    {
     "data": {
      "text/html": [
       "<div>\n",
       "<style scoped>\n",
       "    .dataframe tbody tr th:only-of-type {\n",
       "        vertical-align: middle;\n",
       "    }\n",
       "\n",
       "    .dataframe tbody tr th {\n",
       "        vertical-align: top;\n",
       "    }\n",
       "\n",
       "    .dataframe thead th {\n",
       "        text-align: right;\n",
       "    }\n",
       "</style>\n",
       "<table border=\"1\" class=\"dataframe\">\n",
       "  <thead>\n",
       "    <tr style=\"text-align: right;\">\n",
       "      <th></th>\n",
       "      <th>Name</th>\n",
       "      <th>Fare</th>\n",
       "    </tr>\n",
       "  </thead>\n",
       "  <tbody>\n",
       "    <tr>\n",
       "      <th>0</th>\n",
       "      <td>Braund, Mr. Owen Harris</td>\n",
       "      <td>7.2500</td>\n",
       "    </tr>\n",
       "    <tr>\n",
       "      <th>1</th>\n",
       "      <td>Cumings, Mrs. John Bradley (Florence Briggs Th...</td>\n",
       "      <td>71.2833</td>\n",
       "    </tr>\n",
       "    <tr>\n",
       "      <th>2</th>\n",
       "      <td>Heikkinen, Miss. Laina</td>\n",
       "      <td>7.9250</td>\n",
       "    </tr>\n",
       "    <tr>\n",
       "      <th>3</th>\n",
       "      <td>Futrelle, Mrs. Jacques Heath (Lily May Peel)</td>\n",
       "      <td>53.1000</td>\n",
       "    </tr>\n",
       "    <tr>\n",
       "      <th>4</th>\n",
       "      <td>Allen, Mr. William Henry</td>\n",
       "      <td>8.0500</td>\n",
       "    </tr>\n",
       "    <tr>\n",
       "      <th>...</th>\n",
       "      <td>...</td>\n",
       "      <td>...</td>\n",
       "    </tr>\n",
       "    <tr>\n",
       "      <th>886</th>\n",
       "      <td>Montvila, Rev. Juozas</td>\n",
       "      <td>13.0000</td>\n",
       "    </tr>\n",
       "    <tr>\n",
       "      <th>887</th>\n",
       "      <td>Graham, Miss. Margaret Edith</td>\n",
       "      <td>30.0000</td>\n",
       "    </tr>\n",
       "    <tr>\n",
       "      <th>888</th>\n",
       "      <td>Johnston, Miss. Catherine Helen \"Carrie\"</td>\n",
       "      <td>23.4500</td>\n",
       "    </tr>\n",
       "    <tr>\n",
       "      <th>889</th>\n",
       "      <td>Behr, Mr. Karl Howell</td>\n",
       "      <td>30.0000</td>\n",
       "    </tr>\n",
       "    <tr>\n",
       "      <th>890</th>\n",
       "      <td>Dooley, Mr. Patrick</td>\n",
       "      <td>7.7500</td>\n",
       "    </tr>\n",
       "  </tbody>\n",
       "</table>\n",
       "<p>891 rows × 2 columns</p>\n",
       "</div>"
      ],
      "text/plain": [
       "                                                  Name     Fare\n",
       "0                              Braund, Mr. Owen Harris   7.2500\n",
       "1    Cumings, Mrs. John Bradley (Florence Briggs Th...  71.2833\n",
       "2                               Heikkinen, Miss. Laina   7.9250\n",
       "3         Futrelle, Mrs. Jacques Heath (Lily May Peel)  53.1000\n",
       "4                             Allen, Mr. William Henry   8.0500\n",
       "..                                                 ...      ...\n",
       "886                              Montvila, Rev. Juozas  13.0000\n",
       "887                       Graham, Miss. Margaret Edith  30.0000\n",
       "888           Johnston, Miss. Catherine Helen \"Carrie\"  23.4500\n",
       "889                              Behr, Mr. Karl Howell  30.0000\n",
       "890                                Dooley, Mr. Patrick   7.7500\n",
       "\n",
       "[891 rows x 2 columns]"
      ]
     },
     "execution_count": 31,
     "metadata": {},
     "output_type": "execute_result"
    }
   ],
   "source": [
    "titanic_pdf[[\"Name\", \"Fare\"]]"
   ]
  },
  {
   "cell_type": "code",
   "execution_count": 33,
   "id": "d20fec76",
   "metadata": {},
   "outputs": [
    {
     "name": "stdout",
     "output_type": "stream",
     "text": [
      "+--------------------+\n",
      "|                Name|\n",
      "+--------------------+\n",
      "|Braund, Mr. Owen ...|\n",
      "|Cumings, Mrs. Joh...|\n",
      "|Heikkinen, Miss. ...|\n",
      "|Futrelle, Mrs. Ja...|\n",
      "|Allen, Mr. Willia...|\n",
      "|    Moran, Mr. James|\n",
      "|McCarthy, Mr. Tim...|\n",
      "|Palsson, Master. ...|\n",
      "|Johnson, Mrs. Osc...|\n",
      "|Nasser, Mrs. Nich...|\n",
      "|Sandstrom, Miss. ...|\n",
      "|Bonnell, Miss. El...|\n",
      "|Saundercock, Mr. ...|\n",
      "|Andersson, Mr. An...|\n",
      "|Vestrom, Miss. Hu...|\n",
      "|Hewlett, Mrs. (Ma...|\n",
      "|Rice, Master. Eugene|\n",
      "|Williams, Mr. Cha...|\n",
      "|Vander Planke, Mr...|\n",
      "|Masselmani, Mrs. ...|\n",
      "+--------------------+\n",
      "only showing top 20 rows\n",
      "\n"
     ]
    }
   ],
   "source": [
    "# Spark DataFrame의 select 사용\n",
    "titanic_sdf.select(\"Name\").show() # select name from titanic_sdf"
   ]
  },
  {
   "cell_type": "code",
   "execution_count": 34,
   "id": "8a1969ee",
   "metadata": {},
   "outputs": [
    {
     "name": "stdout",
     "output_type": "stream",
     "text": [
      "+--------------------+-------+\n",
      "|                Name|   Fare|\n",
      "+--------------------+-------+\n",
      "|Braund, Mr. Owen ...|   7.25|\n",
      "|Cumings, Mrs. Joh...|71.2833|\n",
      "|Heikkinen, Miss. ...|  7.925|\n",
      "|Futrelle, Mrs. Ja...|   53.1|\n",
      "|Allen, Mr. Willia...|   8.05|\n",
      "|    Moran, Mr. James| 8.4583|\n",
      "|McCarthy, Mr. Tim...|51.8625|\n",
      "|Palsson, Master. ...| 21.075|\n",
      "|Johnson, Mrs. Osc...|11.1333|\n",
      "|Nasser, Mrs. Nich...|30.0708|\n",
      "|Sandstrom, Miss. ...|   16.7|\n",
      "|Bonnell, Miss. El...|  26.55|\n",
      "|Saundercock, Mr. ...|   8.05|\n",
      "|Andersson, Mr. An...| 31.275|\n",
      "|Vestrom, Miss. Hu...| 7.8542|\n",
      "|Hewlett, Mrs. (Ma...|   16.0|\n",
      "|Rice, Master. Eugene| 29.125|\n",
      "|Williams, Mr. Cha...|   13.0|\n",
      "|Vander Planke, Mr...|   18.0|\n",
      "|Masselmani, Mrs. ...|  7.225|\n",
      "+--------------------+-------+\n",
      "only showing top 20 rows\n",
      "\n"
     ]
    }
   ],
   "source": [
    "# 여러 개의 컬럼을 select\n",
    "titanic_sdf.select(\"Name\", \"Fare\").show() # select(*args)"
   ]
  },
  {
   "cell_type": "code",
   "execution_count": 37,
   "id": "f93366cc",
   "metadata": {},
   "outputs": [
    {
     "data": {
      "text/plain": [
       "['PassengerId',\n",
       " 'Survived',\n",
       " 'Pclass',\n",
       " 'Sex',\n",
       " 'Age',\n",
       " 'SibSp',\n",
       " 'Parch',\n",
       " 'Ticket',\n",
       " 'Fare',\n",
       " 'Cabin',\n",
       " 'Embarked']"
      ]
     },
     "execution_count": 37,
     "metadata": {},
     "output_type": "execute_result"
    }
   ],
   "source": [
    "select_columns = titanic_sdf.columns\n",
    "select_columns.remove(\"Name\")\n",
    "select_columns"
   ]
  },
  {
   "cell_type": "code",
   "execution_count": 39,
   "id": "df609edb",
   "metadata": {},
   "outputs": [
    {
     "name": "stdout",
     "output_type": "stream",
     "text": [
      "['PassengerId', 'Survived', 'Pclass', 'Sex', 'Age', 'SibSp', 'Parch', 'Ticket', 'Fare', 'Cabin', 'Embarked']\n",
      "PassengerId Survived Pclass Sex Age SibSp Parch Ticket Fare Cabin Embarked\n"
     ]
    }
   ],
   "source": [
    "# *list를 사용하거나 list를 그대로 사용해서 데이터를 조회\n",
    "#   *list : list내의 모든 원소를 unpack 한다. 스파크 데이터프레임에서는 리스트가 아닌, 컬럼의 목록이 그대로 들어가는 것이 원칙!\n",
    "# select(\"A\", \"B\", \"C\") 처럼 선택하는 것이 원칙! 버전 업이 되면서 select([\"A\", \"B\", \"C\"]) 처럼 리스트가 그대로 들어갈 수 있게 됨!\n",
    "print(select_columns)\n",
    "print(*select_columns)"
   ]
  },
  {
   "cell_type": "code",
   "execution_count": 40,
   "id": "4d40c59e",
   "metadata": {},
   "outputs": [
    {
     "name": "stdout",
     "output_type": "stream",
     "text": [
      "+-----------+--------+------+------+----+-----+-----+----------------+-------+-----+--------+\n",
      "|PassengerId|Survived|Pclass|   Sex| Age|SibSp|Parch|          Ticket|   Fare|Cabin|Embarked|\n",
      "+-----------+--------+------+------+----+-----+-----+----------------+-------+-----+--------+\n",
      "|          1|       0|     3|  male|22.0|    1|    0|       A/5 21171|   7.25| null|       S|\n",
      "|          2|       1|     1|female|38.0|    1|    0|        PC 17599|71.2833|  C85|       C|\n",
      "|          3|       1|     3|female|26.0|    0|    0|STON/O2. 3101282|  7.925| null|       S|\n",
      "|          4|       1|     1|female|35.0|    1|    0|          113803|   53.1| C123|       S|\n",
      "|          5|       0|     3|  male|35.0|    0|    0|          373450|   8.05| null|       S|\n",
      "|          6|       0|     3|  male|null|    0|    0|          330877| 8.4583| null|       Q|\n",
      "|          7|       0|     1|  male|54.0|    0|    0|           17463|51.8625|  E46|       S|\n",
      "|          8|       0|     3|  male| 2.0|    3|    1|          349909| 21.075| null|       S|\n",
      "|          9|       1|     3|female|27.0|    0|    2|          347742|11.1333| null|       S|\n",
      "|         10|       1|     2|female|14.0|    1|    0|          237736|30.0708| null|       C|\n",
      "|         11|       1|     3|female| 4.0|    1|    1|         PP 9549|   16.7|   G6|       S|\n",
      "|         12|       1|     1|female|58.0|    0|    0|          113783|  26.55| C103|       S|\n",
      "|         13|       0|     3|  male|20.0|    0|    0|       A/5. 2151|   8.05| null|       S|\n",
      "|         14|       0|     3|  male|39.0|    1|    5|          347082| 31.275| null|       S|\n",
      "|         15|       0|     3|female|14.0|    0|    0|          350406| 7.8542| null|       S|\n",
      "|         16|       1|     2|female|55.0|    0|    0|          248706|   16.0| null|       S|\n",
      "|         17|       0|     3|  male| 2.0|    4|    1|          382652| 29.125| null|       Q|\n",
      "|         18|       1|     2|  male|null|    0|    0|          244373|   13.0| null|       S|\n",
      "|         19|       0|     3|female|31.0|    1|    0|          345763|   18.0| null|       S|\n",
      "|         20|       1|     3|female|null|    0|    0|            2649|  7.225| null|       C|\n",
      "+-----------+--------+------+------+----+-----+-----+----------------+-------+-----+--------+\n",
      "only showing top 20 rows\n",
      "\n",
      "+-----------+--------+------+------+----+-----+-----+----------------+-------+-----+--------+\n",
      "|PassengerId|Survived|Pclass|   Sex| Age|SibSp|Parch|          Ticket|   Fare|Cabin|Embarked|\n",
      "+-----------+--------+------+------+----+-----+-----+----------------+-------+-----+--------+\n",
      "|          1|       0|     3|  male|22.0|    1|    0|       A/5 21171|   7.25| null|       S|\n",
      "|          2|       1|     1|female|38.0|    1|    0|        PC 17599|71.2833|  C85|       C|\n",
      "|          3|       1|     3|female|26.0|    0|    0|STON/O2. 3101282|  7.925| null|       S|\n",
      "|          4|       1|     1|female|35.0|    1|    0|          113803|   53.1| C123|       S|\n",
      "|          5|       0|     3|  male|35.0|    0|    0|          373450|   8.05| null|       S|\n",
      "|          6|       0|     3|  male|null|    0|    0|          330877| 8.4583| null|       Q|\n",
      "|          7|       0|     1|  male|54.0|    0|    0|           17463|51.8625|  E46|       S|\n",
      "|          8|       0|     3|  male| 2.0|    3|    1|          349909| 21.075| null|       S|\n",
      "|          9|       1|     3|female|27.0|    0|    2|          347742|11.1333| null|       S|\n",
      "|         10|       1|     2|female|14.0|    1|    0|          237736|30.0708| null|       C|\n",
      "|         11|       1|     3|female| 4.0|    1|    1|         PP 9549|   16.7|   G6|       S|\n",
      "|         12|       1|     1|female|58.0|    0|    0|          113783|  26.55| C103|       S|\n",
      "|         13|       0|     3|  male|20.0|    0|    0|       A/5. 2151|   8.05| null|       S|\n",
      "|         14|       0|     3|  male|39.0|    1|    5|          347082| 31.275| null|       S|\n",
      "|         15|       0|     3|female|14.0|    0|    0|          350406| 7.8542| null|       S|\n",
      "|         16|       1|     2|female|55.0|    0|    0|          248706|   16.0| null|       S|\n",
      "|         17|       0|     3|  male| 2.0|    4|    1|          382652| 29.125| null|       Q|\n",
      "|         18|       1|     2|  male|null|    0|    0|          244373|   13.0| null|       S|\n",
      "|         19|       0|     3|female|31.0|    1|    0|          345763|   18.0| null|       S|\n",
      "|         20|       1|     3|female|null|    0|    0|            2649|  7.225| null|       C|\n",
      "+-----------+--------+------+------+----+-----+-----+----------------+-------+-----+--------+\n",
      "only showing top 20 rows\n",
      "\n"
     ]
    }
   ],
   "source": [
    "titanic_sdf.select(select_columns).show()\n",
    "titanic_sdf.select(*select_columns).show() # 이렇게 쓰는 것이 원칙!"
   ]
  },
  {
   "cell_type": "code",
   "execution_count": 41,
   "id": "6f7b9ce4",
   "metadata": {},
   "outputs": [
    {
     "data": {
      "text/plain": [
       "Column<'Name'>"
      ]
     },
     "execution_count": 41,
     "metadata": {},
     "output_type": "execute_result"
    }
   ],
   "source": [
    "# 컬럼 속성으로 지정하기. 브라켓( [ ] )을 활용하여 컬럼지정\n",
    "#  pandas dataframe의 브라켓은 \"컬럼을 포함한 배열(시리즈, DataFrame)\"\n",
    "#  spark dataframe의 브라켓은 \"컬럼 자체\"를 지정\n",
    "titanic_sdf['Name']"
   ]
  },
  {
   "cell_type": "code",
   "execution_count": 42,
   "id": "eefabb82",
   "metadata": {},
   "outputs": [
    {
     "data": {
      "text/plain": [
       "0                                Braund, Mr. Owen Harris\n",
       "1      Cumings, Mrs. John Bradley (Florence Briggs Th...\n",
       "2                                 Heikkinen, Miss. Laina\n",
       "3           Futrelle, Mrs. Jacques Heath (Lily May Peel)\n",
       "4                               Allen, Mr. William Henry\n",
       "                             ...                        \n",
       "886                                Montvila, Rev. Juozas\n",
       "887                         Graham, Miss. Margaret Edith\n",
       "888             Johnston, Miss. Catherine Helen \"Carrie\"\n",
       "889                                Behr, Mr. Karl Howell\n",
       "890                                  Dooley, Mr. Patrick\n",
       "Name: Name, Length: 891, dtype: object"
      ]
     },
     "execution_count": 42,
     "metadata": {},
     "output_type": "execute_result"
    }
   ],
   "source": [
    "titanic_pdf[\"Name\"]"
   ]
  },
  {
   "cell_type": "code",
   "execution_count": 43,
   "id": "fe472e8c",
   "metadata": {},
   "outputs": [
    {
     "name": "stdout",
     "output_type": "stream",
     "text": [
      "+--------------------+\n",
      "|                Name|\n",
      "+--------------------+\n",
      "|Braund, Mr. Owen ...|\n",
      "|Cumings, Mrs. Joh...|\n",
      "|Heikkinen, Miss. ...|\n",
      "|Futrelle, Mrs. Ja...|\n",
      "|Allen, Mr. Willia...|\n",
      "|    Moran, Mr. James|\n",
      "|McCarthy, Mr. Tim...|\n",
      "|Palsson, Master. ...|\n",
      "|Johnson, Mrs. Osc...|\n",
      "|Nasser, Mrs. Nich...|\n",
      "|Sandstrom, Miss. ...|\n",
      "|Bonnell, Miss. El...|\n",
      "|Saundercock, Mr. ...|\n",
      "|Andersson, Mr. An...|\n",
      "|Vestrom, Miss. Hu...|\n",
      "|Hewlett, Mrs. (Ma...|\n",
      "|Rice, Master. Eugene|\n",
      "|Williams, Mr. Cha...|\n",
      "|Vander Planke, Mr...|\n",
      "|Masselmani, Mrs. ...|\n",
      "+--------------------+\n",
      "only showing top 20 rows\n",
      "\n"
     ]
    }
   ],
   "source": [
    "titanic_sdf.select(titanic_sdf[\"Name\"]).show()"
   ]
  },
  {
   "cell_type": "code",
   "execution_count": 45,
   "id": "65710bc1",
   "metadata": {},
   "outputs": [
    {
     "data": {
      "text/plain": [
       "Column<'(Fare * 100)'>"
      ]
     },
     "execution_count": 45,
     "metadata": {},
     "output_type": "execute_result"
    }
   ],
   "source": [
    "titanic_sdf.Fare * 100"
   ]
  },
  {
   "cell_type": "code",
   "execution_count": 48,
   "id": "0d174e75",
   "metadata": {},
   "outputs": [
    {
     "name": "stdout",
     "output_type": "stream",
     "text": [
      "+-------+-----------------+\n",
      "|   Fare|     (Fare * 100)|\n",
      "+-------+-----------------+\n",
      "|   7.25|            725.0|\n",
      "|71.2833|          7128.33|\n",
      "|  7.925|            792.5|\n",
      "|   53.1|           5310.0|\n",
      "|   8.05|805.0000000000001|\n",
      "| 8.4583|845.8299999999999|\n",
      "|51.8625|          5186.25|\n",
      "| 21.075|           2107.5|\n",
      "|11.1333|          1113.33|\n",
      "|30.0708|          3007.08|\n",
      "|   16.7|           1670.0|\n",
      "|  26.55|           2655.0|\n",
      "|   8.05|805.0000000000001|\n",
      "| 31.275|           3127.5|\n",
      "| 7.8542|           785.42|\n",
      "|   16.0|           1600.0|\n",
      "| 29.125|           2912.5|\n",
      "|   13.0|           1300.0|\n",
      "|   18.0|           1800.0|\n",
      "|  7.225|            722.5|\n",
      "+-------+-----------------+\n",
      "only showing top 20 rows\n",
      "\n"
     ]
    }
   ],
   "source": [
    "titanic_sdf.select(titanic_sdf.Fare, titanic_sdf.Fare * 100).show()"
   ]
  },
  {
   "cell_type": "code",
   "execution_count": 49,
   "id": "393c01b3",
   "metadata": {},
   "outputs": [
    {
     "name": "stdout",
     "output_type": "stream",
     "text": [
      "+--------------------+-------+\n",
      "|                Name|   Fare|\n",
      "+--------------------+-------+\n",
      "|Braund, Mr. Owen ...|   7.25|\n",
      "|Cumings, Mrs. Joh...|71.2833|\n",
      "|Heikkinen, Miss. ...|  7.925|\n",
      "|Futrelle, Mrs. Ja...|   53.1|\n",
      "|Allen, Mr. Willia...|   8.05|\n",
      "|    Moran, Mr. James| 8.4583|\n",
      "|McCarthy, Mr. Tim...|51.8625|\n",
      "|Palsson, Master. ...| 21.075|\n",
      "|Johnson, Mrs. Osc...|11.1333|\n",
      "|Nasser, Mrs. Nich...|30.0708|\n",
      "|Sandstrom, Miss. ...|   16.7|\n",
      "|Bonnell, Miss. El...|  26.55|\n",
      "|Saundercock, Mr. ...|   8.05|\n",
      "|Andersson, Mr. An...| 31.275|\n",
      "|Vestrom, Miss. Hu...| 7.8542|\n",
      "|Hewlett, Mrs. (Ma...|   16.0|\n",
      "|Rice, Master. Eugene| 29.125|\n",
      "|Williams, Mr. Cha...|   13.0|\n",
      "|Vander Planke, Mr...|   18.0|\n",
      "|Masselmani, Mrs. ...|  7.225|\n",
      "+--------------------+-------+\n",
      "only showing top 20 rows\n",
      "\n"
     ]
    }
   ],
   "source": [
    "# 스파크 데이터 프레임에서 컬럼을 다룰 때 가장 많이 사용하는 방식\n",
    "from pyspark.sql.functions import col\n",
    "\n",
    "titanic_sdf.select(col(\"Name\"), col(\"Fare\")).show()"
   ]
  },
  {
   "cell_type": "code",
   "execution_count": 53,
   "id": "256a4650",
   "metadata": {},
   "outputs": [
    {
     "name": "stdout",
     "output_type": "stream",
     "text": [
      "+--------------------+--------------------+\n",
      "|                Name|         upper(Name)|\n",
      "+--------------------+--------------------+\n",
      "|Braund, Mr. Owen ...|BRAUND, MR. OWEN ...|\n",
      "|Cumings, Mrs. Joh...|CUMINGS, MRS. JOH...|\n",
      "|Heikkinen, Miss. ...|HEIKKINEN, MISS. ...|\n",
      "|Futrelle, Mrs. Ja...|FUTRELLE, MRS. JA...|\n",
      "|Allen, Mr. Willia...|ALLEN, MR. WILLIA...|\n",
      "|    Moran, Mr. James|    MORAN, MR. JAMES|\n",
      "|McCarthy, Mr. Tim...|MCCARTHY, MR. TIM...|\n",
      "|Palsson, Master. ...|PALSSON, MASTER. ...|\n",
      "|Johnson, Mrs. Osc...|JOHNSON, MRS. OSC...|\n",
      "|Nasser, Mrs. Nich...|NASSER, MRS. NICH...|\n",
      "|Sandstrom, Miss. ...|SANDSTROM, MISS. ...|\n",
      "|Bonnell, Miss. El...|BONNELL, MISS. EL...|\n",
      "|Saundercock, Mr. ...|SAUNDERCOCK, MR. ...|\n",
      "|Andersson, Mr. An...|ANDERSSON, MR. AN...|\n",
      "|Vestrom, Miss. Hu...|VESTROM, MISS. HU...|\n",
      "|Hewlett, Mrs. (Ma...|HEWLETT, MRS. (MA...|\n",
      "|Rice, Master. Eugene|RICE, MASTER. EUGENE|\n",
      "|Williams, Mr. Cha...|WILLIAMS, MR. CHA...|\n",
      "|Vander Planke, Mr...|VANDER PLANKE, MR...|\n",
      "|Masselmani, Mrs. ...|MASSELMANI, MRS. ...|\n",
      "+--------------------+--------------------+\n",
      "only showing top 20 rows\n",
      "\n",
      "+--------------------+--------------------+\n",
      "|                Name|         upper(Name)|\n",
      "+--------------------+--------------------+\n",
      "|Braund, Mr. Owen ...|BRAUND, MR. OWEN ...|\n",
      "|Cumings, Mrs. Joh...|CUMINGS, MRS. JOH...|\n",
      "|Heikkinen, Miss. ...|HEIKKINEN, MISS. ...|\n",
      "|Futrelle, Mrs. Ja...|FUTRELLE, MRS. JA...|\n",
      "|Allen, Mr. Willia...|ALLEN, MR. WILLIA...|\n",
      "|    Moran, Mr. James|    MORAN, MR. JAMES|\n",
      "|McCarthy, Mr. Tim...|MCCARTHY, MR. TIM...|\n",
      "|Palsson, Master. ...|PALSSON, MASTER. ...|\n",
      "|Johnson, Mrs. Osc...|JOHNSON, MRS. OSC...|\n",
      "|Nasser, Mrs. Nich...|NASSER, MRS. NICH...|\n",
      "|Sandstrom, Miss. ...|SANDSTROM, MISS. ...|\n",
      "|Bonnell, Miss. El...|BONNELL, MISS. EL...|\n",
      "|Saundercock, Mr. ...|SAUNDERCOCK, MR. ...|\n",
      "|Andersson, Mr. An...|ANDERSSON, MR. AN...|\n",
      "|Vestrom, Miss. Hu...|VESTROM, MISS. HU...|\n",
      "|Hewlett, Mrs. (Ma...|HEWLETT, MRS. (MA...|\n",
      "|Rice, Master. Eugene|RICE, MASTER. EUGENE|\n",
      "|Williams, Mr. Cha...|WILLIAMS, MR. CHA...|\n",
      "|Vander Planke, Mr...|VANDER PLANKE, MR...|\n",
      "|Masselmani, Mrs. ...|MASSELMANI, MRS. ...|\n",
      "+--------------------+--------------------+\n",
      "only showing top 20 rows\n",
      "\n",
      "+--------------------+--------------------+\n",
      "|                Name|            Cap Name|\n",
      "+--------------------+--------------------+\n",
      "|Braund, Mr. Owen ...|BRAUND, MR. OWEN ...|\n",
      "|Cumings, Mrs. Joh...|CUMINGS, MRS. JOH...|\n",
      "|Heikkinen, Miss. ...|HEIKKINEN, MISS. ...|\n",
      "|Futrelle, Mrs. Ja...|FUTRELLE, MRS. JA...|\n",
      "|Allen, Mr. Willia...|ALLEN, MR. WILLIA...|\n",
      "|    Moran, Mr. James|    MORAN, MR. JAMES|\n",
      "|McCarthy, Mr. Tim...|MCCARTHY, MR. TIM...|\n",
      "|Palsson, Master. ...|PALSSON, MASTER. ...|\n",
      "|Johnson, Mrs. Osc...|JOHNSON, MRS. OSC...|\n",
      "|Nasser, Mrs. Nich...|NASSER, MRS. NICH...|\n",
      "|Sandstrom, Miss. ...|SANDSTROM, MISS. ...|\n",
      "|Bonnell, Miss. El...|BONNELL, MISS. EL...|\n",
      "|Saundercock, Mr. ...|SAUNDERCOCK, MR. ...|\n",
      "|Andersson, Mr. An...|ANDERSSON, MR. AN...|\n",
      "|Vestrom, Miss. Hu...|VESTROM, MISS. HU...|\n",
      "|Hewlett, Mrs. (Ma...|HEWLETT, MRS. (MA...|\n",
      "|Rice, Master. Eugene|RICE, MASTER. EUGENE|\n",
      "|Williams, Mr. Cha...|WILLIAMS, MR. CHA...|\n",
      "|Vander Planke, Mr...|VANDER PLANKE, MR...|\n",
      "|Masselmani, Mrs. ...|MASSELMANI, MRS. ...|\n",
      "+--------------------+--------------------+\n",
      "only showing top 20 rows\n",
      "\n"
     ]
    }
   ],
   "source": [
    "from pyspark.sql.functions import upper, lower, col\n",
    "\n",
    "# 1. 브라켓을 활용해서 함수 연산 적용\n",
    "titanic_sdf.select(\"Name\", upper(titanic_sdf[\"Name\"])).show()\n",
    "\n",
    "# 2. .을 활용해서 함수 연산 적용\n",
    "titanic_sdf.select(\"Name\", upper(titanic_sdf.Name)).show()\n",
    "\n",
    "# 3. col을 활용해서 함수 연산 적용\n",
    "titanic_sdf.select(\"Name\", upper(col(\"Name\")).alias(\"Cap Name\")).show()"
   ]
  },
  {
   "cell_type": "markdown",
   "id": "02c59a13",
   "metadata": {},
   "source": [
    "## spark DataFrame filter() 메소드 알아보기\n",
    "* filter()는 SQL의 where와 유사하게 DataFrame내의 특정 조건을 만족하는 레코드를 DataFrame으로 반환. \n",
    "* filter()내의 조건 컬럼은 컬럼 속성으로 지정 가능. 조건문 자체는 SQL 과 유사한 문자열로 지정 할 수 있음(조건 컬럼은 문자열 지정이 안됨. )\n",
    "* where() 메소드는 filter()의 alias이며 SQL where와 직관적인 동일성을 간주하기 위해 생성. \n",
    "* 복합 조건 and는 & 를, or를 | 를 사용. 개별 조건은 ()로 감싸야 함."
   ]
  },
  {
   "cell_type": "code",
   "execution_count": 56,
   "id": "0b9611ce",
   "metadata": {},
   "outputs": [
    {
     "name": "stdout",
     "output_type": "stream",
     "text": [
      "+-----------+--------+------+--------------------+------+----+-----+-----+------+------+-----+--------+\n",
      "|PassengerId|Survived|Pclass|                Name|   Sex| Age|SibSp|Parch|Ticket|  Fare|Cabin|Embarked|\n",
      "+-----------+--------+------+--------------------+------+----+-----+-----+------+------+-----+--------+\n",
      "|          6|       0|     3|    Moran, Mr. James|  male|null|    0|    0|330877|8.4583| null|       Q|\n",
      "|         17|       0|     3|Rice, Master. Eugene|  male| 2.0|    4|    1|382652|29.125| null|       Q|\n",
      "|         23|       1|     3|\"McGowan, Miss. A...|female|15.0|    0|    0|330923|8.0292| null|       Q|\n",
      "|         29|       1|     3|\"O'Dwyer, Miss. E...|female|null|    0|    0|330959|7.8792| null|       Q|\n",
      "|         33|       1|     3|Glynn, Miss. Mary...|female|null|    0|    0|335677|  7.75| null|       Q|\n",
      "|         45|       1|     3|Devaney, Miss. Ma...|female|19.0|    0|    0|330958|7.8792| null|       Q|\n",
      "|         47|       0|     3|   Lennon, Mr. Denis|  male|null|    1|    0|370371|  15.5| null|       Q|\n",
      "|         48|       1|     3|O'Driscoll, Miss....|female|null|    0|    0| 14311|  7.75| null|       Q|\n",
      "|         83|       1|     3|McDermott, Miss. ...|female|null|    0|    0|330932|7.7875| null|       Q|\n",
      "|        110|       1|     3| Moran, Miss. Bertha|female|null|    1|    0|371110| 24.15| null|       Q|\n",
      "|        117|       0|     3|Connors, Mr. Patrick|  male|70.5|    0|    0|370369|  7.75| null|       Q|\n",
      "|        127|       0|     3| McMahon, Mr. Martin|  male|null|    0|    0|370372|  7.75| null|       Q|\n",
      "|        144|       0|     3| Burke, Mr. Jeremiah|  male|19.0|    0|    0|365222|  6.75| null|       Q|\n",
      "|        157|       1|     3|\"Gilnagh, Miss. K...|female|16.0|    0|    0| 35851|7.7333| null|       Q|\n",
      "|        172|       0|     3|Rice, Master. Arthur|  male| 4.0|    4|    1|382652|29.125| null|       Q|\n",
      "|        187|       1|     3|\"O'Brien, Mrs. Th...|female|null|    1|    0|370365|  15.5| null|       Q|\n",
      "|        189|       0|     3|    Bourke, Mr. John|  male|40.0|    1|    1|364849|  15.5| null|       Q|\n",
      "|        197|       0|     3| Mernagh, Mr. Robert|  male|null|    0|    0|368703|  7.75| null|       Q|\n",
      "|        199|       1|     3|\"Madigan, Miss. M...|female|null|    0|    0|370370|  7.75| null|       Q|\n",
      "|        209|       1|     3|\"Carr, Miss. Hele...|female|16.0|    0|    0|367231|  7.75| null|       Q|\n",
      "+-----------+--------+------+--------------------+------+----+-----+-----+------+------+-----+--------+\n",
      "only showing top 20 rows\n",
      "\n"
     ]
    }
   ],
   "source": [
    "titanic_sdf.filter(col(\"Embarked\") == \"Q\").show()\n",
    "# titanic_sdf.filter(\"Embarked\" == \"Q\").show()"
   ]
  },
  {
   "cell_type": "code",
   "execution_count": 57,
   "id": "cb2df380",
   "metadata": {},
   "outputs": [
    {
     "name": "stdout",
     "output_type": "stream",
     "text": [
      "+-----------+--------+------+--------------------+------+----+-----+-----+------+------+-----+--------+\n",
      "|PassengerId|Survived|Pclass|                Name|   Sex| Age|SibSp|Parch|Ticket|  Fare|Cabin|Embarked|\n",
      "+-----------+--------+------+--------------------+------+----+-----+-----+------+------+-----+--------+\n",
      "|          6|       0|     3|    Moran, Mr. James|  male|null|    0|    0|330877|8.4583| null|       Q|\n",
      "|         17|       0|     3|Rice, Master. Eugene|  male| 2.0|    4|    1|382652|29.125| null|       Q|\n",
      "|         23|       1|     3|\"McGowan, Miss. A...|female|15.0|    0|    0|330923|8.0292| null|       Q|\n",
      "|         29|       1|     3|\"O'Dwyer, Miss. E...|female|null|    0|    0|330959|7.8792| null|       Q|\n",
      "|         33|       1|     3|Glynn, Miss. Mary...|female|null|    0|    0|335677|  7.75| null|       Q|\n",
      "|         45|       1|     3|Devaney, Miss. Ma...|female|19.0|    0|    0|330958|7.8792| null|       Q|\n",
      "|         47|       0|     3|   Lennon, Mr. Denis|  male|null|    1|    0|370371|  15.5| null|       Q|\n",
      "|         48|       1|     3|O'Driscoll, Miss....|female|null|    0|    0| 14311|  7.75| null|       Q|\n",
      "|         83|       1|     3|McDermott, Miss. ...|female|null|    0|    0|330932|7.7875| null|       Q|\n",
      "|        110|       1|     3| Moran, Miss. Bertha|female|null|    1|    0|371110| 24.15| null|       Q|\n",
      "|        117|       0|     3|Connors, Mr. Patrick|  male|70.5|    0|    0|370369|  7.75| null|       Q|\n",
      "|        127|       0|     3| McMahon, Mr. Martin|  male|null|    0|    0|370372|  7.75| null|       Q|\n",
      "|        144|       0|     3| Burke, Mr. Jeremiah|  male|19.0|    0|    0|365222|  6.75| null|       Q|\n",
      "|        157|       1|     3|\"Gilnagh, Miss. K...|female|16.0|    0|    0| 35851|7.7333| null|       Q|\n",
      "|        172|       0|     3|Rice, Master. Arthur|  male| 4.0|    4|    1|382652|29.125| null|       Q|\n",
      "|        187|       1|     3|\"O'Brien, Mrs. Th...|female|null|    1|    0|370365|  15.5| null|       Q|\n",
      "|        189|       0|     3|    Bourke, Mr. John|  male|40.0|    1|    1|364849|  15.5| null|       Q|\n",
      "|        197|       0|     3| Mernagh, Mr. Robert|  male|null|    0|    0|368703|  7.75| null|       Q|\n",
      "|        199|       1|     3|\"Madigan, Miss. M...|female|null|    0|    0|370370|  7.75| null|       Q|\n",
      "|        209|       1|     3|\"Carr, Miss. Hele...|female|16.0|    0|    0|367231|  7.75| null|       Q|\n",
      "+-----------+--------+------+--------------------+------+----+-----+-----+------+------+-----+--------+\n",
      "only showing top 20 rows\n",
      "\n"
     ]
    }
   ],
   "source": [
    "titanic_sdf.where(col(\"Embarked\") == \"Q\").show()"
   ]
  },
  {
   "cell_type": "code",
   "execution_count": 58,
   "id": "5df2e8a8",
   "metadata": {},
   "outputs": [
    {
     "name": "stdout",
     "output_type": "stream",
     "text": [
      "+-----------+--------+------+--------------------+------+----+-----+-----+------+------+-----+--------+\n",
      "|PassengerId|Survived|Pclass|                Name|   Sex| Age|SibSp|Parch|Ticket|  Fare|Cabin|Embarked|\n",
      "+-----------+--------+------+--------------------+------+----+-----+-----+------+------+-----+--------+\n",
      "|          6|       0|     3|    Moran, Mr. James|  male|null|    0|    0|330877|8.4583| null|       Q|\n",
      "|         17|       0|     3|Rice, Master. Eugene|  male| 2.0|    4|    1|382652|29.125| null|       Q|\n",
      "|         23|       1|     3|\"McGowan, Miss. A...|female|15.0|    0|    0|330923|8.0292| null|       Q|\n",
      "|         29|       1|     3|\"O'Dwyer, Miss. E...|female|null|    0|    0|330959|7.8792| null|       Q|\n",
      "|         33|       1|     3|Glynn, Miss. Mary...|female|null|    0|    0|335677|  7.75| null|       Q|\n",
      "|         45|       1|     3|Devaney, Miss. Ma...|female|19.0|    0|    0|330958|7.8792| null|       Q|\n",
      "|         47|       0|     3|   Lennon, Mr. Denis|  male|null|    1|    0|370371|  15.5| null|       Q|\n",
      "|         48|       1|     3|O'Driscoll, Miss....|female|null|    0|    0| 14311|  7.75| null|       Q|\n",
      "|         83|       1|     3|McDermott, Miss. ...|female|null|    0|    0|330932|7.7875| null|       Q|\n",
      "|        110|       1|     3| Moran, Miss. Bertha|female|null|    1|    0|371110| 24.15| null|       Q|\n",
      "|        117|       0|     3|Connors, Mr. Patrick|  male|70.5|    0|    0|370369|  7.75| null|       Q|\n",
      "|        127|       0|     3| McMahon, Mr. Martin|  male|null|    0|    0|370372|  7.75| null|       Q|\n",
      "|        144|       0|     3| Burke, Mr. Jeremiah|  male|19.0|    0|    0|365222|  6.75| null|       Q|\n",
      "|        157|       1|     3|\"Gilnagh, Miss. K...|female|16.0|    0|    0| 35851|7.7333| null|       Q|\n",
      "|        172|       0|     3|Rice, Master. Arthur|  male| 4.0|    4|    1|382652|29.125| null|       Q|\n",
      "|        187|       1|     3|\"O'Brien, Mrs. Th...|female|null|    1|    0|370365|  15.5| null|       Q|\n",
      "|        189|       0|     3|    Bourke, Mr. John|  male|40.0|    1|    1|364849|  15.5| null|       Q|\n",
      "|        197|       0|     3| Mernagh, Mr. Robert|  male|null|    0|    0|368703|  7.75| null|       Q|\n",
      "|        199|       1|     3|\"Madigan, Miss. M...|female|null|    0|    0|370370|  7.75| null|       Q|\n",
      "|        209|       1|     3|\"Carr, Miss. Hele...|female|16.0|    0|    0|367231|  7.75| null|       Q|\n",
      "+-----------+--------+------+--------------------+------+----+-----+-----+------+------+-----+--------+\n",
      "only showing top 20 rows\n",
      "\n"
     ]
    }
   ],
   "source": [
    "titanic_sdf.filter(\"Embarked == 'Q'\").show()"
   ]
  },
  {
   "cell_type": "code",
   "execution_count": 59,
   "id": "1d935ec0",
   "metadata": {},
   "outputs": [
    {
     "name": "stdout",
     "output_type": "stream",
     "text": [
      "+-----------+--------+------+--------------------+------+----+-----+-----+-----------+-------+-----------+--------+\n",
      "|PassengerId|Survived|Pclass|                Name|   Sex| Age|SibSp|Parch|     Ticket|   Fare|      Cabin|Embarked|\n",
      "+-----------+--------+------+--------------------+------+----+-----+-----+-----------+-------+-----------+--------+\n",
      "|          4|       1|     1|Futrelle, Mrs. Ja...|female|35.0|    1|    0|     113803|   53.1|       C123|       S|\n",
      "|          7|       0|     1|McCarthy, Mr. Tim...|  male|54.0|    0|    0|      17463|51.8625|        E46|       S|\n",
      "|         12|       1|     1|Bonnell, Miss. El...|female|58.0|    0|    0|     113783|  26.55|       C103|       S|\n",
      "|         24|       1|     1|Sloper, Mr. Willi...|  male|28.0|    0|    0|     113788|   35.5|         A6|       S|\n",
      "|         28|       0|     1|Fortune, Mr. Char...|  male|19.0|    3|    2|      19950|  263.0|C23 C25 C27|       S|\n",
      "|         36|       0|     1|Holverson, Mr. Al...|  male|42.0|    1|    0|     113789|   52.0|       null|       S|\n",
      "|         56|       1|     1|   Woolner, Mr. Hugh|  male|null|    0|    0|      19947|   35.5|        C52|       S|\n",
      "|         63|       0|     1|Harris, Mr. Henry...|  male|45.0|    1|    0|      36973| 83.475|        C83|       S|\n",
      "|         84|       0|     1|Carrau, Mr. Franc...|  male|28.0|    0|    0|     113059|   47.1|       null|       S|\n",
      "|         89|       1|     1|Fortune, Miss. Ma...|female|23.0|    3|    2|      19950|  263.0|C23 C25 C27|       S|\n",
      "|         93|       0|     1|Chaffee, Mr. Herb...|  male|46.0|    1|    0|W.E.P. 5734| 61.175|        E31|       S|\n",
      "|        103|       0|     1|White, Mr. Richar...|  male|21.0|    0|    1|      35281|77.2875|        D26|       S|\n",
      "|        111|       0|     1|Porter, Mr. Walte...|  male|47.0|    0|    0|     110465|   52.0|       C110|       S|\n",
      "|        125|       0|     1|White, Mr. Perciv...|  male|54.0|    0|    1|      35281|77.2875|        D26|       S|\n",
      "|        137|       1|     1|Newsom, Miss. Hel...|female|19.0|    0|    2|      11752|26.2833|        D47|       S|\n",
      "|        138|       0|     1|Futrelle, Mr. Jac...|  male|37.0|    1|    0|     113803|   53.1|       C123|       S|\n",
      "|        152|       1|     1|Pears, Mrs. Thoma...|female|22.0|    1|    0|     113776|   66.6|         C2|       S|\n",
      "|        167|       1|     1|Chibnall, Mrs. (E...|female|null|    0|    1|     113505|   55.0|        E33|       S|\n",
      "|        169|       0|     1| Baumann, Mr. John D|  male|null|    0|    0|   PC 17318| 25.925|       null|       S|\n",
      "|        171|       0|     1|Van der hoef, Mr....|  male|61.0|    0|    0|     111240|   33.5|        B19|       S|\n",
      "+-----------+--------+------+--------------------+------+----+-----+-----+-----------+-------+-----------+--------+\n",
      "only showing top 20 rows\n",
      "\n"
     ]
    }
   ],
   "source": [
    "# Embarked가 \"S\"이고, Pclass가 1인 사람의 정보\n",
    "titanic_sdf.filter( (col(\"Embarked\") == 'S') & (col(\"Pclass\") == 1) ).show()"
   ]
  },
  {
   "cell_type": "code",
   "execution_count": 60,
   "id": "7063067f",
   "metadata": {},
   "outputs": [
    {
     "name": "stdout",
     "output_type": "stream",
     "text": [
      "+-----------+--------+------+--------------------+------+----+-----+-----+----------------+-------+-----+--------+\n",
      "|PassengerId|Survived|Pclass|                Name|   Sex| Age|SibSp|Parch|          Ticket|   Fare|Cabin|Embarked|\n",
      "+-----------+--------+------+--------------------+------+----+-----+-----+----------------+-------+-----+--------+\n",
      "|          1|       0|     3|Braund, Mr. Owen ...|  male|22.0|    1|    0|       A/5 21171|   7.25| null|       S|\n",
      "|          2|       1|     1|Cumings, Mrs. Joh...|female|38.0|    1|    0|        PC 17599|71.2833|  C85|       C|\n",
      "|          3|       1|     3|Heikkinen, Miss. ...|female|26.0|    0|    0|STON/O2. 3101282|  7.925| null|       S|\n",
      "|          4|       1|     1|Futrelle, Mrs. Ja...|female|35.0|    1|    0|          113803|   53.1| C123|       S|\n",
      "|          5|       0|     3|Allen, Mr. Willia...|  male|35.0|    0|    0|          373450|   8.05| null|       S|\n",
      "|          7|       0|     1|McCarthy, Mr. Tim...|  male|54.0|    0|    0|           17463|51.8625|  E46|       S|\n",
      "|          8|       0|     3|Palsson, Master. ...|  male| 2.0|    3|    1|          349909| 21.075| null|       S|\n",
      "|          9|       1|     3|Johnson, Mrs. Osc...|female|27.0|    0|    2|          347742|11.1333| null|       S|\n",
      "|         11|       1|     3|Sandstrom, Miss. ...|female| 4.0|    1|    1|         PP 9549|   16.7|   G6|       S|\n",
      "|         12|       1|     1|Bonnell, Miss. El...|female|58.0|    0|    0|          113783|  26.55| C103|       S|\n",
      "|         13|       0|     3|Saundercock, Mr. ...|  male|20.0|    0|    0|       A/5. 2151|   8.05| null|       S|\n",
      "|         14|       0|     3|Andersson, Mr. An...|  male|39.0|    1|    5|          347082| 31.275| null|       S|\n",
      "|         15|       0|     3|Vestrom, Miss. Hu...|female|14.0|    0|    0|          350406| 7.8542| null|       S|\n",
      "|         16|       1|     2|Hewlett, Mrs. (Ma...|female|55.0|    0|    0|          248706|   16.0| null|       S|\n",
      "|         18|       1|     2|Williams, Mr. Cha...|  male|null|    0|    0|          244373|   13.0| null|       S|\n",
      "|         19|       0|     3|Vander Planke, Mr...|female|31.0|    1|    0|          345763|   18.0| null|       S|\n",
      "|         21|       0|     2|Fynney, Mr. Joseph J|  male|35.0|    0|    0|          239865|   26.0| null|       S|\n",
      "|         22|       1|     2|Beesley, Mr. Lawr...|  male|34.0|    0|    0|          248698|   13.0|  D56|       S|\n",
      "|         24|       1|     1|Sloper, Mr. Willi...|  male|28.0|    0|    0|          113788|   35.5|   A6|       S|\n",
      "|         25|       0|     3|Palsson, Miss. To...|female| 8.0|    3|    1|          349909| 21.075| null|       S|\n",
      "+-----------+--------+------+--------------------+------+----+-----+-----+----------------+-------+-----+--------+\n",
      "only showing top 20 rows\n",
      "\n"
     ]
    }
   ],
   "source": [
    "# Embarked가 \"S\"이거나 Pclass가 1인 사람의 정보\n",
    "titanic_sdf.filter( (col(\"Embarked\") == 'S') | (col(\"Pclass\") == 1) ).show()"
   ]
  },
  {
   "cell_type": "code",
   "execution_count": 61,
   "id": "fa877432",
   "metadata": {},
   "outputs": [
    {
     "name": "stdout",
     "output_type": "stream",
     "text": [
      "+-----------+--------+------+--------------------+------+----+-----+-----+----------------+-------+-----+--------+\n",
      "|PassengerId|Survived|Pclass|                Name|   Sex| Age|SibSp|Parch|          Ticket|   Fare|Cabin|Embarked|\n",
      "+-----------+--------+------+--------------------+------+----+-----+-----+----------------+-------+-----+--------+\n",
      "|          3|       1|     3|Heikkinen, Miss. ...|female|26.0|    0|    0|STON/O2. 3101282|  7.925| null|       S|\n",
      "|         11|       1|     3|Sandstrom, Miss. ...|female| 4.0|    1|    1|         PP 9549|   16.7|   G6|       S|\n",
      "|         12|       1|     1|Bonnell, Miss. El...|female|58.0|    0|    0|          113783|  26.55| C103|       S|\n",
      "|         15|       0|     3|Vestrom, Miss. Hu...|female|14.0|    0|    0|          350406| 7.8542| null|       S|\n",
      "|         23|       1|     3|\"McGowan, Miss. A...|female|15.0|    0|    0|          330923| 8.0292| null|       Q|\n",
      "|         25|       0|     3|Palsson, Miss. To...|female| 8.0|    3|    1|          349909| 21.075| null|       S|\n",
      "|         29|       1|     3|\"O'Dwyer, Miss. E...|female|null|    0|    0|          330959| 7.8792| null|       Q|\n",
      "|         33|       1|     3|Glynn, Miss. Mary...|female|null|    0|    0|          335677|   7.75| null|       Q|\n",
      "|         39|       0|     3|Vander Planke, Mi...|female|18.0|    2|    0|          345764|   18.0| null|       S|\n",
      "|         40|       1|     3|Nicola-Yarred, Mi...|female|14.0|    1|    0|            2651|11.2417| null|       C|\n",
      "|         44|       1|     2|Laroche, Miss. Si...|female| 3.0|    1|    2|   SC/Paris 2123|41.5792| null|       C|\n",
      "|         45|       1|     3|Devaney, Miss. Ma...|female|19.0|    0|    0|          330958| 7.8792| null|       Q|\n",
      "|         48|       1|     3|O'Driscoll, Miss....|female|null|    0|    0|           14311|   7.75| null|       Q|\n",
      "|         57|       1|     2|   Rugg, Miss. Emily|female|21.0|    0|    0|      C.A. 31026|   10.5| null|       S|\n",
      "|         59|       1|     2|West, Miss. Const...|female| 5.0|    1|    2|      C.A. 34651|  27.75| null|       S|\n",
      "|         62|       1|     1| Icard, Miss. Amelie|female|38.0|    0|    0|          113572|   80.0|  B28|    null|\n",
      "|         69|       1|     3|Andersson, Miss. ...|female|17.0|    4|    2|         3101281|  7.925| null|       S|\n",
      "|         72|       0|     3|Goodwin, Miss. Li...|female|16.0|    5|    2|         CA 2144|   46.9| null|       S|\n",
      "|         80|       1|     3|Dowdell, Miss. El...|female|30.0|    0|    0|          364516| 12.475| null|       S|\n",
      "|         83|       1|     3|McDermott, Miss. ...|female|null|    0|    0|          330932| 7.7875| null|       Q|\n",
      "+-----------+--------+------+--------------------+------+----+-----+-----+----------------+-------+-----+--------+\n",
      "only showing top 20 rows\n",
      "\n"
     ]
    }
   ],
   "source": [
    "# 이름에 Miss가 들어가는 사람의 정보 가져오기\n",
    "titanic_sdf.filter( col(\"Name\").like(\"%Miss%\")).show()"
   ]
  },
  {
   "cell_type": "code",
   "execution_count": 62,
   "id": "a7ab2449",
   "metadata": {},
   "outputs": [
    {
     "name": "stdout",
     "output_type": "stream",
     "text": [
      "+-----------+--------+------+--------------------+------+----+-----+-----+----------------+-------+-----+--------+\n",
      "|PassengerId|Survived|Pclass|                Name|   Sex| Age|SibSp|Parch|          Ticket|   Fare|Cabin|Embarked|\n",
      "+-----------+--------+------+--------------------+------+----+-----+-----+----------------+-------+-----+--------+\n",
      "|          3|       1|     3|Heikkinen, Miss. ...|female|26.0|    0|    0|STON/O2. 3101282|  7.925| null|       S|\n",
      "|         16|       1|     2|Hewlett, Mrs. (Ma...|female|55.0|    0|    0|          248706|   16.0| null|       S|\n",
      "|         36|       0|     1|Holverson, Mr. Al...|  male|42.0|    1|    0|          113789|   52.0| null|       S|\n",
      "|         53|       1|     1|Harper, Mrs. Henr...|female|49.0|    1|    0|        PC 17572|76.7292|  D33|       C|\n",
      "|         63|       0|     1|Harris, Mr. Henry...|  male|45.0|    1|    0|           36973| 83.475|  C83|       S|\n",
      "|         73|       0|     2|Hood, Mr. Ambrose Jr|  male|21.0|    0|    0|    S.O.C. 14879|   73.5| null|       S|\n",
      "|        121|       0|     2|Hickman, Mr. Stan...|  male|21.0|    2|    0|    S.O.C. 14879|   73.5| null|       S|\n",
      "|        143|       1|     3|Hakkarainen, Mrs....|female|24.0|    1|    0|STON/O2. 3101279|  15.85| null|       S|\n",
      "|        179|       0|     2|  Hale, Mr. Reginald|  male|30.0|    0|    0|          250653|   13.0| null|       S|\n",
      "|        217|       1|     3|Honkanen, Miss. E...|female|27.0|    0|    0|STON/O2. 3101283|  7.925| null|       S|\n",
      "|        220|       0|     2|  Harris, Mr. Walter|  male|30.0|    0|    0|       W/C 14208|   10.5| null|       S|\n",
      "|        225|       1|     1|Hoyt, Mr. Frederi...|  male|38.0|    1|    0|           19943|   90.0|  C93|       S|\n",
      "|        231|       1|     1|Harris, Mrs. Henr...|female|35.0|    1|    0|           36973| 83.475|  C83|       S|\n",
      "|        236|       0|     3|Harknett, Miss. A...|female|null|    0|    0|      W./C. 6609|   7.55| null|       S|\n",
      "|        237|       0|     2|   Hold, Mr. Stephen|  male|44.0|    1|    0|           26707|   26.0| null|       S|\n",
      "|        240|       0|     2|Hunt, Mr. George ...|  male|33.0|    0|    0|      SCO/W 1585| 12.275| null|       S|\n",
      "|        248|       1|     2|Hamalainen, Mrs. ...|female|24.0|    0|    2|          250649|   14.5| null|       S|\n",
      "|        264|       0|     1|Harrison, Mr. Wil...|  male|40.0|    0|    0|          112059|    0.0|  B94|       S|\n",
      "|        265|       0|     3|  Henry, Miss. Delia|female|null|    0|    0|          382649|   7.75| null|       Q|\n",
      "|        289|       1|     2|Hosono, Mr. Masabumi|  male|42.0|    0|    0|          237798|   13.0| null|       S|\n",
      "+-----------+--------+------+--------------------+------+----+-----+-----+----------------+-------+-----+--------+\n",
      "only showing top 20 rows\n",
      "\n"
     ]
    }
   ],
   "source": [
    "# 이름이 H로 시작하는 사람\n",
    "titanic_sdf.filter( col(\"Name\").like(\"H%\")).show()"
   ]
  },
  {
   "cell_type": "code",
   "execution_count": 64,
   "id": "1de8cdbe",
   "metadata": {},
   "outputs": [
    {
     "name": "stdout",
     "output_type": "stream",
     "text": [
      "+-----------+--------+------+--------------------+------+----+-----+-----+----------------+-------+-----+--------+\n",
      "|PassengerId|Survived|Pclass|                Name|   Sex| Age|SibSp|Parch|          Ticket|   Fare|Cabin|Embarked|\n",
      "+-----------+--------+------+--------------------+------+----+-----+-----+----------------+-------+-----+--------+\n",
      "|          3|       1|     3|Heikkinen, Miss. ...|female|26.0|    0|    0|STON/O2. 3101282|  7.925| null|       S|\n",
      "|         16|       1|     2|Hewlett, Mrs. (Ma...|female|55.0|    0|    0|          248706|   16.0| null|       S|\n",
      "|         36|       0|     1|Holverson, Mr. Al...|  male|42.0|    1|    0|          113789|   52.0| null|       S|\n",
      "|         53|       1|     1|Harper, Mrs. Henr...|female|49.0|    1|    0|        PC 17572|76.7292|  D33|       C|\n",
      "|         63|       0|     1|Harris, Mr. Henry...|  male|45.0|    1|    0|           36973| 83.475|  C83|       S|\n",
      "|         73|       0|     2|Hood, Mr. Ambrose Jr|  male|21.0|    0|    0|    S.O.C. 14879|   73.5| null|       S|\n",
      "|        121|       0|     2|Hickman, Mr. Stan...|  male|21.0|    2|    0|    S.O.C. 14879|   73.5| null|       S|\n",
      "|        143|       1|     3|Hakkarainen, Mrs....|female|24.0|    1|    0|STON/O2. 3101279|  15.85| null|       S|\n",
      "|        179|       0|     2|  Hale, Mr. Reginald|  male|30.0|    0|    0|          250653|   13.0| null|       S|\n",
      "|        217|       1|     3|Honkanen, Miss. E...|female|27.0|    0|    0|STON/O2. 3101283|  7.925| null|       S|\n",
      "|        220|       0|     2|  Harris, Mr. Walter|  male|30.0|    0|    0|       W/C 14208|   10.5| null|       S|\n",
      "|        225|       1|     1|Hoyt, Mr. Frederi...|  male|38.0|    1|    0|           19943|   90.0|  C93|       S|\n",
      "|        231|       1|     1|Harris, Mrs. Henr...|female|35.0|    1|    0|           36973| 83.475|  C83|       S|\n",
      "|        236|       0|     3|Harknett, Miss. A...|female|null|    0|    0|      W./C. 6609|   7.55| null|       S|\n",
      "|        237|       0|     2|   Hold, Mr. Stephen|  male|44.0|    1|    0|           26707|   26.0| null|       S|\n",
      "|        240|       0|     2|Hunt, Mr. George ...|  male|33.0|    0|    0|      SCO/W 1585| 12.275| null|       S|\n",
      "|        248|       1|     2|Hamalainen, Mrs. ...|female|24.0|    0|    2|          250649|   14.5| null|       S|\n",
      "|        264|       0|     1|Harrison, Mr. Wil...|  male|40.0|    0|    0|          112059|    0.0|  B94|       S|\n",
      "|        265|       0|     3|  Henry, Miss. Delia|female|null|    0|    0|          382649|   7.75| null|       Q|\n",
      "|        289|       1|     2|Hosono, Mr. Masabumi|  male|42.0|    0|    0|          237798|   13.0| null|       S|\n",
      "+-----------+--------+------+--------------------+------+----+-----+-----+----------------+-------+-----+--------+\n",
      "only showing top 20 rows\n",
      "\n"
     ]
    }
   ],
   "source": [
    "titanic_sdf.filter(lower(col(\"Name\")).like(\"h%\")).show()"
   ]
  },
  {
   "cell_type": "code",
   "execution_count": 67,
   "id": "4524aa71",
   "metadata": {},
   "outputs": [
    {
     "name": "stdout",
     "output_type": "stream",
     "text": [
      "+-----------+--------+------+--------------------+------+----+-----+-----+---------+-------+-----------+--------+\n",
      "|PassengerId|Survived|Pclass|                Name|   Sex| Age|SibSp|Parch|   Ticket|   Fare|      Cabin|Embarked|\n",
      "+-----------+--------+------+--------------------+------+----+-----+-----+---------+-------+-----------+--------+\n",
      "|          1|       0|     3|Braund, Mr. Owen ...|  male|22.0|    1|    0|A/5 21171|   7.25|       null|       S|\n",
      "|          2|       1|     1|Cumings, Mrs. Joh...|female|38.0|    1|    0| PC 17599|71.2833|        C85|       C|\n",
      "|          4|       1|     1|Futrelle, Mrs. Ja...|female|35.0|    1|    0|   113803|   53.1|       C123|       S|\n",
      "|          5|       0|     3|Allen, Mr. Willia...|  male|35.0|    0|    0|   373450|   8.05|       null|       S|\n",
      "|          6|       0|     3|    Moran, Mr. James|  male|null|    0|    0|   330877| 8.4583|       null|       Q|\n",
      "|          7|       0|     1|McCarthy, Mr. Tim...|  male|54.0|    0|    0|    17463|51.8625|        E46|       S|\n",
      "|          9|       1|     3|Johnson, Mrs. Osc...|female|27.0|    0|    2|   347742|11.1333|       null|       S|\n",
      "|         10|       1|     2|Nasser, Mrs. Nich...|female|14.0|    1|    0|   237736|30.0708|       null|       C|\n",
      "|         13|       0|     3|Saundercock, Mr. ...|  male|20.0|    0|    0|A/5. 2151|   8.05|       null|       S|\n",
      "|         14|       0|     3|Andersson, Mr. An...|  male|39.0|    1|    5|   347082| 31.275|       null|       S|\n",
      "|         16|       1|     2|Hewlett, Mrs. (Ma...|female|55.0|    0|    0|   248706|   16.0|       null|       S|\n",
      "|         18|       1|     2|Williams, Mr. Cha...|  male|null|    0|    0|   244373|   13.0|       null|       S|\n",
      "|         19|       0|     3|Vander Planke, Mr...|female|31.0|    1|    0|   345763|   18.0|       null|       S|\n",
      "|         20|       1|     3|Masselmani, Mrs. ...|female|null|    0|    0|     2649|  7.225|       null|       C|\n",
      "|         21|       0|     2|Fynney, Mr. Joseph J|  male|35.0|    0|    0|   239865|   26.0|       null|       S|\n",
      "|         22|       1|     2|Beesley, Mr. Lawr...|  male|34.0|    0|    0|   248698|   13.0|        D56|       S|\n",
      "|         24|       1|     1|Sloper, Mr. Willi...|  male|28.0|    0|    0|   113788|   35.5|         A6|       S|\n",
      "|         26|       1|     3|Asplund, Mrs. Car...|female|38.0|    1|    5|   347077|31.3875|       null|       S|\n",
      "|         27|       0|     3|Emir, Mr. Farred ...|  male|null|    0|    0|     2631|  7.225|       null|       C|\n",
      "|         28|       0|     1|Fortune, Mr. Char...|  male|19.0|    3|    2|    19950|  263.0|C23 C25 C27|       S|\n",
      "+-----------+--------+------+--------------------+------+----+-----+-----+---------+-------+-----------+--------+\n",
      "only showing top 20 rows\n",
      "\n"
     ]
    }
   ],
   "source": [
    "titanic_sdf.filter(\"Name like '%Mr%'\").show()"
   ]
  },
  {
   "cell_type": "code",
   "execution_count": 70,
   "id": "19b14397",
   "metadata": {},
   "outputs": [
    {
     "name": "stdout",
     "output_type": "stream",
     "text": [
      "+-----------+--------+------+--------------------+------+----+-----+-----+---------+-------+-----------+--------+\n",
      "|PassengerId|Survived|Pclass|                Name|   Sex| Age|SibSp|Parch|   Ticket|   Fare|      Cabin|Embarked|\n",
      "+-----------+--------+------+--------------------+------+----+-----+-----+---------+-------+-----------+--------+\n",
      "|          1|       0|     3|Braund, Mr. Owen ...|  male|22.0|    1|    0|A/5 21171|   7.25|       null|       S|\n",
      "|          2|       1|     1|Cumings, Mrs. Joh...|female|38.0|    1|    0| PC 17599|71.2833|        C85|       C|\n",
      "|          4|       1|     1|Futrelle, Mrs. Ja...|female|35.0|    1|    0|   113803|   53.1|       C123|       S|\n",
      "|          5|       0|     3|Allen, Mr. Willia...|  male|35.0|    0|    0|   373450|   8.05|       null|       S|\n",
      "|          6|       0|     3|    Moran, Mr. James|  male|null|    0|    0|   330877| 8.4583|       null|       Q|\n",
      "|          7|       0|     1|McCarthy, Mr. Tim...|  male|54.0|    0|    0|    17463|51.8625|        E46|       S|\n",
      "|          9|       1|     3|Johnson, Mrs. Osc...|female|27.0|    0|    2|   347742|11.1333|       null|       S|\n",
      "|         10|       1|     2|Nasser, Mrs. Nich...|female|14.0|    1|    0|   237736|30.0708|       null|       C|\n",
      "|         13|       0|     3|Saundercock, Mr. ...|  male|20.0|    0|    0|A/5. 2151|   8.05|       null|       S|\n",
      "|         14|       0|     3|Andersson, Mr. An...|  male|39.0|    1|    5|   347082| 31.275|       null|       S|\n",
      "|         16|       1|     2|Hewlett, Mrs. (Ma...|female|55.0|    0|    0|   248706|   16.0|       null|       S|\n",
      "|         18|       1|     2|Williams, Mr. Cha...|  male|null|    0|    0|   244373|   13.0|       null|       S|\n",
      "|         19|       0|     3|Vander Planke, Mr...|female|31.0|    1|    0|   345763|   18.0|       null|       S|\n",
      "|         20|       1|     3|Masselmani, Mrs. ...|female|null|    0|    0|     2649|  7.225|       null|       C|\n",
      "|         21|       0|     2|Fynney, Mr. Joseph J|  male|35.0|    0|    0|   239865|   26.0|       null|       S|\n",
      "|         22|       1|     2|Beesley, Mr. Lawr...|  male|34.0|    0|    0|   248698|   13.0|        D56|       S|\n",
      "|         24|       1|     1|Sloper, Mr. Willi...|  male|28.0|    0|    0|   113788|   35.5|         A6|       S|\n",
      "|         26|       1|     3|Asplund, Mrs. Car...|female|38.0|    1|    5|   347077|31.3875|       null|       S|\n",
      "|         27|       0|     3|Emir, Mr. Farred ...|  male|null|    0|    0|     2631|  7.225|       null|       C|\n",
      "|         28|       0|     1|Fortune, Mr. Char...|  male|19.0|    3|    2|    19950|  263.0|C23 C25 C27|       S|\n",
      "+-----------+--------+------+--------------------+------+----+-----+-----+---------+-------+-----------+--------+\n",
      "only showing top 20 rows\n",
      "\n"
     ]
    }
   ],
   "source": [
    "titanic_sdf.filter(\" lower(Name) like '%mr%'\").show() # 별도의 pyspark.sql.functions 호출이 없이 사용이 가능."
   ]
  },
  {
   "cell_type": "code",
   "execution_count": 71,
   "id": "4b0a2a1b",
   "metadata": {},
   "outputs": [
    {
     "name": "stdout",
     "output_type": "stream",
     "text": [
      "+------+--------+--------------------+\n",
      "|Pclass|Embarked|                Name|\n",
      "+------+--------+--------------------+\n",
      "|     3|       S|Heikkinen, Miss. ...|\n",
      "|     3|       S|Sandstrom, Miss. ...|\n",
      "|     1|       S|Bonnell, Miss. El...|\n",
      "|     3|       S|Vestrom, Miss. Hu...|\n",
      "|     3|       Q|\"McGowan, Miss. A...|\n",
      "|     3|       S|Palsson, Miss. To...|\n",
      "|     3|       Q|\"O'Dwyer, Miss. E...|\n",
      "|     3|       Q|Glynn, Miss. Mary...|\n",
      "|     3|       S|Vander Planke, Mi...|\n",
      "|     3|       C|Nicola-Yarred, Mi...|\n",
      "|     2|       C|Laroche, Miss. Si...|\n",
      "|     3|       Q|Devaney, Miss. Ma...|\n",
      "|     3|       Q|O'Driscoll, Miss....|\n",
      "|     2|       S|   Rugg, Miss. Emily|\n",
      "|     2|       S|West, Miss. Const...|\n",
      "|     1|    null| Icard, Miss. Amelie|\n",
      "|     3|       S|Andersson, Miss. ...|\n",
      "|     3|       S|Goodwin, Miss. Li...|\n",
      "|     3|       S|Dowdell, Miss. El...|\n",
      "|     3|       Q|McDermott, Miss. ...|\n",
      "+------+--------+--------------------+\n",
      "only showing top 20 rows\n",
      "\n"
     ]
    }
   ],
   "source": [
    "titanic_sdf.filter(upper(col(\"Name\")).like(\"%MISS%\")).select(\"Pclass\", \"Embarked\", \"Name\").show()"
   ]
  },
  {
   "cell_type": "code",
   "execution_count": 72,
   "id": "97024530",
   "metadata": {},
   "outputs": [],
   "source": [
    "spark.stop()"
   ]
  }
 ],
 "metadata": {
  "kernelspec": {
   "display_name": "Python 3 (ipykernel)",
   "language": "python",
   "name": "python3"
  },
  "language_info": {
   "codemirror_mode": {
    "name": "ipython",
    "version": 3
   },
   "file_extension": ".py",
   "mimetype": "text/x-python",
   "name": "python",
   "nbconvert_exporter": "python",
   "pygments_lexer": "ipython3",
   "version": "3.8.16"
  }
 },
 "nbformat": 4,
 "nbformat_minor": 5
}
