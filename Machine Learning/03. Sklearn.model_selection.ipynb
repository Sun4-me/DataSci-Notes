{
 "cells": [
  {
   "cell_type": "code",
   "execution_count": 1,
   "metadata": {
    "colab": {
     "base_uri": "https://localhost:8080/"
    },
    "executionInfo": {
     "elapsed": 1545,
     "status": "ok",
     "timestamp": 1681460933111,
     "user": {
      "displayName": "‍선헌석[학생](경영대학 경영학과)",
      "userId": "11844710874656119254"
     },
     "user_tz": -540
    },
    "id": "2hLGhWEjIjR-",
    "outputId": "17e7e86e-791d-4c63-f105-1b698cc71833"
   },
   "outputs": [
    {
     "name": "stdout",
     "output_type": "stream",
     "text": [
      "[0 0 0 0 0 0 0 0 0 0 0 0 0 0 0 0 0 0 0 0 0 0 0 0 0 0 0 0 0 0 0 0 0 0 0 0 0\n",
      " 0 0 0 0 0 0 0 0 0 0 0 0 0 1 1 1 1 1 1 1 1 1 1 1 1 1 1 1 1 1 1 1 1 1 1 1 1\n",
      " 1 1 1 1 1 1 1 1 1 1 1 1 1 1 1 1 1 1 1 1 1 1 1 1 1 1 2 2 2 2 2 2 2 2 2 2 2\n",
      " 2 2 2 2 2 2 2 2 2 2 2 2 2 2 2 2 2 2 2 2 2 2 2 2 2 2 2 2 2 2 2 2 2 2 2 2 2\n",
      " 2 2]\n"
     ]
    }
   ],
   "source": [
    "# Load Data\n",
    "\n",
    "from sklearn.datasets import load_iris\n",
    "\n",
    "iris = load_iris()\n",
    "\n",
    "X = iris.data\n",
    "y = iris.target\n",
    "\n",
    "print(y)"
   ]
  },
  {
   "cell_type": "markdown",
   "metadata": {
    "id": "oqr8Nz5tJVOs"
   },
   "source": [
    "## 랜덤을 부여하지 않고 잘라낸 경우\n",
    "- Shuffle 수행을 하지 않음"
   ]
  },
  {
   "cell_type": "code",
   "execution_count": 2,
   "metadata": {
    "colab": {
     "base_uri": "https://localhost:8080/"
    },
    "executionInfo": {
     "elapsed": 24,
     "status": "ok",
     "timestamp": 1681460933113,
     "user": {
      "displayName": "‍선헌석[학생](경영대학 경영학과)",
      "userId": "11844710874656119254"
     },
     "user_tz": -540
    },
    "id": "admRZXEuJJ9T",
    "outputId": "4d3f325a-081c-4582-e0ca-f0286e0c9ca6"
   },
   "outputs": [
    {
     "name": "stdout",
     "output_type": "stream",
     "text": [
      "[0 0 0 0 0 0 0 0 0 0 0 0 0 0 0 0 0 0 0 0 0 0 0 0 0 0 0 0 0 0 0 0 0 0 0 0 0\n",
      " 0 0 0 0 0 0 0 0 0 0 0 0 0]\n"
     ]
    }
   ],
   "source": [
    "test_size = 50\n",
    "\n",
    "X_test = X[: test_size]\n",
    "y_test = y[: test_size]\n",
    "\n",
    "print(y_test)"
   ]
  },
  {
   "cell_type": "code",
   "execution_count": 3,
   "metadata": {
    "colab": {
     "base_uri": "https://localhost:8080/"
    },
    "executionInfo": {
     "elapsed": 19,
     "status": "ok",
     "timestamp": 1681460933115,
     "user": {
      "displayName": "‍선헌석[학생](경영대학 경영학과)",
      "userId": "11844710874656119254"
     },
     "user_tz": -540
    },
    "id": "euBWMk2YJiA6",
    "outputId": "42fe7f3e-2df2-47af-dd79-0a2c22bf30ab"
   },
   "outputs": [
    {
     "name": "stdout",
     "output_type": "stream",
     "text": [
      "[1 1 1 1 1 1 1 1 1 1 1 1 1 1 1 1 1 1 1 1 1 1 1 1 1 1 1 1 1 1 1 1 1 1 1 1 1\n",
      " 1 1 1 1 1 1 1 1 1 1 1 1 1 2 2 2 2 2 2 2 2 2 2 2 2 2 2 2 2 2 2 2 2 2 2 2 2\n",
      " 2 2 2 2 2 2 2 2 2 2 2 2 2 2 2 2 2 2 2 2 2 2 2 2 2 2]\n"
     ]
    }
   ],
   "source": [
    "X_train = X[test_size: ]\n",
    "y_train = y[test_size: ]\n",
    "\n",
    "print(y_train)"
   ]
  },
  {
   "cell_type": "code",
   "execution_count": 4,
   "metadata": {
    "colab": {
     "base_uri": "https://localhost:8080/",
     "height": 74
    },
    "executionInfo": {
     "elapsed": 456,
     "status": "ok",
     "timestamp": 1681460933559,
     "user": {
      "displayName": "‍선헌석[학생](경영대학 경영학과)",
      "userId": "11844710874656119254"
     },
     "user_tz": -540
    },
    "id": "PVQhYwpmKL9l",
    "outputId": "518498af-a6d1-4c8c-aec0-7b817d03ecee"
   },
   "outputs": [
    {
     "data": {
      "text/plain": [
       "DecisionTreeClassifier()"
      ]
     },
     "execution_count": 4,
     "metadata": {},
     "output_type": "execute_result"
    }
   ],
   "source": [
    "from sklearn.tree import DecisionTreeClassifier\n",
    "\n",
    "dt_clf = DecisionTreeClassifier()\n",
    "\n",
    "dt_clf.fit(X_train, y_train)"
   ]
  },
  {
   "cell_type": "code",
   "execution_count": 5,
   "metadata": {
    "colab": {
     "base_uri": "https://localhost:8080/"
    },
    "executionInfo": {
     "elapsed": 543,
     "status": "ok",
     "timestamp": 1681460934087,
     "user": {
      "displayName": "‍선헌석[학생](경영대학 경영학과)",
      "userId": "11844710874656119254"
     },
     "user_tz": -540
    },
    "id": "Qkmlix1bKjGb",
    "outputId": "597984e0-e3eb-40f5-eca2-661484a45edd"
   },
   "outputs": [
    {
     "name": "stdout",
     "output_type": "stream",
     "text": [
      "예측 스코어 : 0.0000\n"
     ]
    }
   ],
   "source": [
    "from sklearn.metrics import accuracy_score\n",
    "\n",
    "pred = dt_clf.predict(X_test)\n",
    "\n",
    "acc_result = accuracy_score(y_test, pred)\n",
    "                            \n",
    "print(\"예측 스코어 : {:.4f}\".format(acc_result))\n",
    "# 예측 스코어 : 0.0000\n",
    "# 따라서 데이터를 섞어주는 Shrffle 과정이 꼭 필요하다."
   ]
  },
  {
   "cell_type": "markdown",
   "metadata": {
    "id": "ZJGbxe0ELHSX"
   },
   "source": [
    "## train_test_split 활용\n"
   ]
  },
  {
   "cell_type": "code",
   "execution_count": 6,
   "metadata": {
    "executionInfo": {
     "elapsed": 37,
     "status": "ok",
     "timestamp": 1681460934092,
     "user": {
      "displayName": "‍선헌석[학생](경영대학 경영학과)",
      "userId": "11844710874656119254"
     },
     "user_tz": -540
    },
    "id": "wd-GvFp_LF00"
   },
   "outputs": [],
   "source": [
    "from sklearn.model_selection import train_test_split\n",
    "\n",
    "X_train, X_test, y_train, y_test = train_test_split(\n",
    "    X, y, test_size=0.3, random_state = 121\n",
    ")"
   ]
  },
  {
   "cell_type": "code",
   "execution_count": 7,
   "metadata": {
    "executionInfo": {
     "elapsed": 2545,
     "status": "ok",
     "timestamp": 1681460936605,
     "user": {
      "displayName": "‍선헌석[학생](경영대학 경영학과)",
      "userId": "11844710874656119254"
     },
     "user_tz": -540
    },
    "id": "mMzPXYYdLrqY"
   },
   "outputs": [],
   "source": [
    "import matplotlib.pyplot as plt\n",
    "import seaborn as sns\n",
    "\n",
    "sns.set_theme()"
   ]
  },
  {
   "cell_type": "code",
   "execution_count": 8,
   "metadata": {
    "colab": {
     "base_uri": "https://localhost:8080/",
     "height": 434
    },
    "executionInfo": {
     "elapsed": 358,
     "status": "ok",
     "timestamp": 1681460936681,
     "user": {
      "displayName": "‍선헌석[학생](경영대학 경영학과)",
      "userId": "11844710874656119254"
     },
     "user_tz": -540
    },
    "id": "lvoDTxavL1aw",
    "outputId": "1ae79509-816a-471e-8874-6a573f9b0e68"
   },
   "outputs": [
    {
     "data": {
      "image/png": "[encoded data removed]",
      "text/plain": [
       "<Figure size 640x480 with 1 Axes>"
      ]
     },
     "metadata": {},
     "output_type": "display_data"
    }
   ],
   "source": [
    "# 시각화를 통한 train 세트의 비율 확인  \n",
    "sns.countplot(x=y_train)\n",
    "plt.show()\n",
    "\n",
    "# 원본은 50 : 50 : 50 이었지만 불균형 하다."
   ]
  },
  {
   "cell_type": "code",
   "execution_count": 9,
   "metadata": {
    "executionInfo": {
     "elapsed": 350,
     "status": "ok",
     "timestamp": 1681460936686,
     "user": {
      "displayName": "‍선헌석[학생](경영대학 경영학과)",
      "userId": "11844710874656119254"
     },
     "user_tz": -540
    },
    "id": "FfsOlUNYMUbo"
   },
   "outputs": [],
   "source": [
    "X_train, X_test, y_train, y_test = train_test_split(\n",
    "    X, y, test_size=0.3, random_state = 121, \n",
    "    stratify = y # 클래스의 비율 만큼 분할이 수행\n",
    ")"
   ]
  },
  {
   "cell_type": "code",
   "execution_count": 10,
   "metadata": {
    "colab": {
     "base_uri": "https://localhost:8080/",
     "height": 434
    },
    "executionInfo": {
     "elapsed": 350,
     "status": "ok",
     "timestamp": 1681460936690,
     "user": {
      "displayName": "‍선헌석[학생](경영대학 경영학과)",
      "userId": "11844710874656119254"
     },
     "user_tz": -540
    },
    "id": "SYjuouM6MyVu",
    "outputId": "6cf69f3a-f2f5-4f67-d12c-06a36291b688"
   },
   "outputs": [
    {
     "data": {
      "image/png": "[encoded data removed]",
      "text/plain": [
       "<Figure size 640x480 with 1 Axes>"
      ]
     },
     "metadata": {},
     "output_type": "display_data"
    }
   ],
   "source": [
    "sns.countplot(x=y_train)\n",
    "plt.show()\n",
    "# stratify 를 활용하면 균형해진다."
   ]
  },
  {
   "cell_type": "markdown",
   "metadata": {
    "id": "4Ps0bFR7jMwO"
   },
   "source": [
    "## K-Fold, Stratified K-Fold"
   ]
  },
  {
   "cell_type": "code",
   "execution_count": 11,
   "metadata": {
    "executionInfo": {
     "elapsed": 351,
     "status": "ok",
     "timestamp": 1681460936700,
     "user": {
      "displayName": "‍선헌석[학생](경영대학 경영학과)",
      "userId": "11844710874656119254"
     },
     "user_tz": -540
    },
    "id": "lkGZTeikjOzz"
   },
   "outputs": [],
   "source": [
    "# K-Fold\n",
    "from sklearn.model_selection import KFold\n",
    "import numpy as np"
   ]
  },
  {
   "cell_type": "code",
   "execution_count": 12,
   "metadata": {
    "colab": {
     "base_uri": "https://localhost:8080/"
    },
    "executionInfo": {
     "elapsed": 350,
     "status": "ok",
     "timestamp": 1681460936704,
     "user": {
      "displayName": "‍선헌석[학생](경영대학 경영학과)",
      "userId": "11844710874656119254"
     },
     "user_tz": -540
    },
    "id": "6jUPTrS_jg07",
    "outputId": "05d29d43-2951-4169-f2c6-84ae567f6fa2"
   },
   "outputs": [
    {
     "name": "stdout",
     "output_type": "stream",
     "text": [
      "검증 세트의 인덱스 : [ 0  1  2  3  4  5  6  7  8  9 10 11 12 13 14 15 16 17 18 19 20 21 22 23\n",
      " 24 25 26 27 28 29 30 31 32 33 34 35 36 37 38 39 40 41 42 43 44 45 46 47\n",
      " 48 49]\n",
      "훈련 세트의 인덱스 : [ 50  51  52  53  54  55  56  57  58  59  60  61  62  63  64  65  66  67\n",
      "  68  69  70  71  72  73  74  75  76  77  78  79  80  81  82  83  84  85\n",
      "  86  87  88  89  90  91  92  93  94  95  96  97  98  99 100 101 102 103\n",
      " 104 105 106 107 108 109 110 111 112 113 114 115 116 117 118 119 120 121\n",
      " 122 123 124 125 126 127 128 129 130 131 132 133 134 135 136 137 138 139\n",
      " 140 141 142 143 144 145 146 147 148 149]\n",
      "\n",
      "검증 세트의 인덱스 : [50 51 52 53 54 55 56 57 58 59 60 61 62 63 64 65 66 67 68 69 70 71 72 73\n",
      " 74 75 76 77 78 79 80 81 82 83 84 85 86 87 88 89 90 91 92 93 94 95 96 97\n",
      " 98 99]\n",
      "훈련 세트의 인덱스 : [  0   1   2   3   4   5   6   7   8   9  10  11  12  13  14  15  16  17\n",
      "  18  19  20  21  22  23  24  25  26  27  28  29  30  31  32  33  34  35\n",
      "  36  37  38  39  40  41  42  43  44  45  46  47  48  49 100 101 102 103\n",
      " 104 105 106 107 108 109 110 111 112 113 114 115 116 117 118 119 120 121\n",
      " 122 123 124 125 126 127 128 129 130 131 132 133 134 135 136 137 138 139\n",
      " 140 141 142 143 144 145 146 147 148 149]\n",
      "\n",
      "검증 세트의 인덱스 : [100 101 102 103 104 105 106 107 108 109 110 111 112 113 114 115 116 117\n",
      " 118 119 120 121 122 123 124 125 126 127 128 129 130 131 132 133 134 135\n",
      " 136 137 138 139 140 141 142 143 144 145 146 147 148 149]\n",
      "훈련 세트의 인덱스 : [ 0  1  2  3  4  5  6  7  8  9 10 11 12 13 14 15 16 17 18 19 20 21 22 23\n",
      " 24 25 26 27 28 29 30 31 32 33 34 35 36 37 38 39 40 41 42 43 44 45 46 47\n",
      " 48 49 50 51 52 53 54 55 56 57 58 59 60 61 62 63 64 65 66 67 68 69 70 71\n",
      " 72 73 74 75 76 77 78 79 80 81 82 83 84 85 86 87 88 89 90 91 92 93 94 95\n",
      " 96 97 98 99]\n",
      "\n"
     ]
    }
   ],
   "source": [
    "# 3개의 폴드 세트로 분리하는 KFold 객체 생성\n",
    "kfold = KFold(n_splits=3)\n",
    "\n",
    "# KFold 객체의 split() 함수를 호출하면 폴드 별 학습용, 검증용 테스트의 인덱스를 array로 반환\n",
    "for train_indices, valid_indices in kfold.split(X):\n",
    "  print(\"검증 세트의 인덱스 : {}\".format(valid_indices))\n",
    "  print(\"훈련 세트의 인덱스 : {}\".format(train_indices))\n",
    "  print()"
   ]
  },
  {
   "cell_type": "markdown",
   "metadata": {
    "id": "u5YVH0gdlrpV"
   },
   "source": [
    "## 교차 검증 수행\n",
    "- 각 폴드 마다 훈련 세트를 위한 인덱스를 활용해 훈련 데이터로 사용\n",
    "- 검증 세트를 위한 인덱스를 활용해 검증 데이터로 사용\n",
    "- 각 훈련, 검증의 결과를 저장했다가, 최종적으로 훈련이 끝나면 평균"
   ]
  },
  {
   "cell_type": "code",
   "execution_count": 13,
   "metadata": {
    "colab": {
     "base_uri": "https://localhost:8080/"
    },
    "executionInfo": {
     "elapsed": 4,
     "status": "ok",
     "timestamp": 1681461002781,
     "user": {
      "displayName": "‍선헌석[학생](경영대학 경영학과)",
      "userId": "11844710874656119254"
     },
     "user_tz": -540
    },
    "id": "TIc9f5UQlnLS",
    "outputId": "eab596c8-ccd2-411c-a16c-e790cc5ee9f9"
   },
   "outputs": [
    {
     "name": "stdout",
     "output_type": "stream",
     "text": [
      "1 번째 폴드에 대한 평가 결과 : 0.0000\n",
      "2 번째 폴드에 대한 평가 결과 : 0.0000\n",
      "3 번째 폴드에 대한 평가 결과 : 0.0000\n",
      "\n",
      "최종 결과 : 0.0\n"
     ]
    }
   ],
   "source": [
    "n_iter = 0\n",
    "cv_accuracy = [] # 각 폴드에서의 정확도를 담을 배열\n",
    "\n",
    "kfold = KFold(n_splits=3)\n",
    "for train_indices, valid_indices in kfold.split(X):\n",
    "  \n",
    "  # 반환된 인덱스를 이용해 학습용, 검증용 데이터를 추출\n",
    "  X_train, X_valid = X[train_indices], X[valid_indices]\n",
    "  y_train, y_valid = y[train_indices], y[valid_indices]\n",
    "\n",
    "  # 모델 생성 및 훈련\n",
    "  dt_clt = DecisionTreeClassifier().fit(X_train, y_train) # 모델 객체 생성 동시에 훈련\n",
    "\n",
    "  # 예측\n",
    "  pred = dt_clt.predict(X_valid)\n",
    "\n",
    "  # 평가\n",
    "  acc = accuracy_score(y_valid, pred)\n",
    "\n",
    "  # 해당 폴드의 평가 결과를 배열에 저장\n",
    "  cv_accuracy.append(acc)\n",
    "\n",
    "  n_iter += 1\n",
    "  print(\"{} 번째 폴드에 대한 평가 결과 : {:.4f}\".format(n_iter, acc))\n",
    "\n",
    "# 평균\n",
    "print()\n",
    "print(\"최종 결과 : {}\".format(np.mean(cv_accuracy)))\n",
    "\n",
    "\n",
    "# KFold시 훈련과 검증 세트의 클래스 비율 때문에 결과가 0 이 나온다."
   ]
  },
  {
   "cell_type": "code",
   "execution_count": 14,
   "metadata": {
    "colab": {
     "base_uri": "https://localhost:8080/"
    },
    "executionInfo": {
     "elapsed": 306,
     "status": "ok",
     "timestamp": 1681460936709,
     "user": {
      "displayName": "‍선헌석[학생](경영대학 경영학과)",
      "userId": "11844710874656119254"
     },
     "user_tz": -540
    },
    "id": "q_v91bXNmkTn",
    "outputId": "f17a1548-1d18-4f71-ae4e-30ca908185a8"
   },
   "outputs": [
    {
     "name": "stdout",
     "output_type": "stream",
     "text": [
      "검증 세트의 인덱스 : [  0   1   2   3   4   5   6   7   8   9  10  11  12  13  14  15  16  50\n",
      "  51  52  53  54  55  56  57  58  59  60  61  62  63  64  65  66 100 101\n",
      " 102 103 104 105 106 107 108 109 110 111 112 113 114 115]\n",
      "\n",
      "클래스 0 : 17개 / 클래스 1 : 17개 / 클래스 2 : 16개\n",
      "==================================================\n",
      "\n",
      "검증 세트의 인덱스 : [ 17  18  19  20  21  22  23  24  25  26  27  28  29  30  31  32  33  67\n",
      "  68  69  70  71  72  73  74  75  76  77  78  79  80  81  82 116 117 118\n",
      " 119 120 121 122 123 124 125 126 127 128 129 130 131 132]\n",
      "\n",
      "클래스 0 : 17개 / 클래스 1 : 16개 / 클래스 2 : 17개\n",
      "==================================================\n",
      "\n",
      "검증 세트의 인덱스 : [ 34  35  36  37  38  39  40  41  42  43  44  45  46  47  48  49  83  84\n",
      "  85  86  87  88  89  90  91  92  93  94  95  96  97  98  99 133 134 135\n",
      " 136 137 138 139 140 141 142 143 144 145 146 147 148 149]\n",
      "\n",
      "클래스 0 : 16개 / 클래스 1 : 17개 / 클래스 2 : 17개\n",
      "==================================================\n",
      "\n"
     ]
    }
   ],
   "source": [
    "# Stratified K Fold\n",
    "from sklearn.model_selection import StratifiedKFold\n",
    "\n",
    "skfold = StratifiedKFold(n_splits=3)\n",
    "\n",
    "for train_indices, valid_indices in skfold.split(X, y):\n",
    "  print(\"검증 세트의 인덱스 : {}\".format(valid_indices))\n",
    "  print()\n",
    "\n",
    "  class_, counts = np.unique(y[valid_indices], return_counts=True)\n",
    "  classes = dict(zip(class_, counts))\n",
    "  print(\"클래스 0 : {}개 / 클래스 1 : {}개 / 클래스 2 : {}개\".format(classes[0], classes[1], classes[2]))\n",
    "  print(\"=\"*50)\n",
    "  print()"
   ]
  },
  {
   "cell_type": "code",
   "execution_count": 15,
   "metadata": {
    "colab": {
     "base_uri": "https://localhost:8080/"
    },
    "executionInfo": {
     "elapsed": 290,
     "status": "ok",
     "timestamp": 1681460936721,
     "user": {
      "displayName": "‍선헌석[학생](경영대학 경영학과)",
      "userId": "11844710874656119254"
     },
     "user_tz": -540
    },
    "id": "btrmK1hFsa9G",
    "outputId": "ce0dbd3e-3fc1-4253-a68f-3925d7b9ae6f"
   },
   "outputs": [
    {
     "name": "stdout",
     "output_type": "stream",
     "text": [
      "1 번째 폴드에 대한 평가 결과 : 0.9800\n",
      "2 번째 폴드에 대한 평가 결과 : 0.9200\n",
      "3 번째 폴드에 대한 평가 결과 : 0.9800\n",
      "\n",
      "최종 결과 : 0.96\n"
     ]
    }
   ],
   "source": [
    "# Stratified K Fold 교차 검증\n",
    "n_iter = 0\n",
    "cv_accuracy = [] # 각 폴드에서의 정확도를 담을 배열\n",
    "\n",
    "skfold = StratifiedKFold(n_splits=3)\n",
    "\n",
    "for train_indices, valid_indices in skfold.split(X, y):\n",
    "  \n",
    "  # 반환된 인덱스를 이용해 학습용, 검증용 데이터를 추출\n",
    "  X_train, X_valid = X[train_indices], X[valid_indices]\n",
    "  y_train, y_valid = y[train_indices], y[valid_indices]\n",
    "\n",
    "  # 모델 생성 및 훈련\n",
    "  dt_clt = DecisionTreeClassifier().fit(X_train, y_train) # 모델 객체 생성 동시에 훈련\n",
    "\n",
    "  # 예측\n",
    "  pred = dt_clt.predict(X_valid)\n",
    "\n",
    "  # 평가\n",
    "  acc = accuracy_score(y_valid, pred)\n",
    "\n",
    "  # 해당 폴드의 평가 결과를 배열에 저장\n",
    "  cv_accuracy.append(acc)\n",
    "\n",
    "  n_iter += 1\n",
    "  print(\"{} 번째 폴드에 대한 평가 결과 : {:.4f}\".format(n_iter, acc))\n",
    "\n",
    "# 평균\n",
    "print()\n",
    "print(\"최종 결과 : {}\".format(np.mean(cv_accuracy)))"
   ]
  },
  {
   "cell_type": "markdown",
   "metadata": {
    "id": "ZGhZ8TLDtIQ7"
   },
   "source": [
    "- 회귀 모델의 경우 : KFold 사용해서 교차검증\n",
    "- 분류 모델의 경우 : Strartified KFold 사용해서 교차검증"
   ]
  },
  {
   "cell_type": "markdown",
   "metadata": {
    "id": "VXsmdW5Xt_zX"
   },
   "source": [
    "## cross_val_score"
   ]
  },
  {
   "cell_type": "code",
   "execution_count": 16,
   "metadata": {
    "colab": {
     "base_uri": "https://localhost:8080/"
    },
    "executionInfo": {
     "elapsed": 211,
     "status": "ok",
     "timestamp": 1681460936723,
     "user": {
      "displayName": "‍선헌석[학생](경영대학 경영학과)",
      "userId": "11844710874656119254"
     },
     "user_tz": -540
    },
    "id": "1_WonqaJtHTg",
    "outputId": "efce739d-ac12-46ea-cf43-d57160d82776"
   },
   "outputs": [
    {
     "name": "stdout",
     "output_type": "stream",
     "text": [
      "폴드 별 정확도 확인 : [0.98 0.94 1.  ]\n",
      "평균 별 정확도 확인 : 0.9733333333333333\n"
     ]
    }
   ],
   "source": [
    "from sklearn.model_selection import cross_val_score\n",
    "\n",
    "scores = cross_val_score(\n",
    "    DecisionTreeClassifier(), # Classifier 가 들어가면 자동으로 Stratified K Fold를 사용\n",
    "    X,\n",
    "    y,\n",
    "    scoring='accuracy',\n",
    "    cv = 3 # fold 개수    \n",
    ")\n",
    "print(\"폴드 별 정확도 확인 : {}\".format(scores))\n",
    "print(\"평균 별 정확도 확인 : {}\".format(np.mean(scores)))"
   ]
  },
  {
   "cell_type": "markdown",
   "metadata": {
    "id": "ipw6DAf8xp39"
   },
   "source": [
    "## GridSearchCV를 이용한 하이퍼 파라미터 튜닝 & 교차검증"
   ]
  },
  {
   "cell_type": "code",
   "execution_count": 17,
   "metadata": {
    "executionInfo": {
     "elapsed": 200,
     "status": "ok",
     "timestamp": 1681460936725,
     "user": {
      "displayName": "‍선헌석[학생](경영대학 경영학과)",
      "userId": "11844710874656119254"
     },
     "user_tz": -540
    },
    "id": "eApyGbBNxpan"
   },
   "outputs": [],
   "source": [
    "X_train, X_test, y_train, y_test = train_test_split(\n",
    "    X,\n",
    "    y,\n",
    "    test_size = 0.2,\n",
    "    stratify = y,\n",
    "    random_state = 121\n",
    ")"
   ]
  },
  {
   "cell_type": "code",
   "execution_count": 18,
   "metadata": {
    "executionInfo": {
     "elapsed": 198,
     "status": "ok",
     "timestamp": 1681460936726,
     "user": {
      "displayName": "‍선헌석[학생](경영대학 경영학과)",
      "userId": "11844710874656119254"
     },
     "user_tz": -540
    },
    "id": "_ywhDrLoyC2Y"
   },
   "outputs": [],
   "source": [
    "# GridSearch 를 수행할 하이퍼 파라미터를 딕셔너리로 설정\n",
    "\n",
    "# key :  하이퍼 파라미터의 이름(변수명)\n",
    "# value : 하이퍼 파라미터에 들어갈 값의 목록(리스트)\n",
    "\n",
    "parameters = {\n",
    "    \"max_depth\" : [1, 2, 3],\n",
    "    \"min_samples_split\" : [2, 3]\n",
    "}"
   ]
  },
  {
   "cell_type": "code",
   "execution_count": 19,
   "metadata": {
    "executionInfo": {
     "elapsed": 194,
     "status": "ok",
     "timestamp": 1681460936727,
     "user": {
      "displayName": "‍선헌석[학생](경영대학 경영학과)",
      "userId": "11844710874656119254"
     },
     "user_tz": -540
    },
    "id": "yE_RGdjRzeKn"
   },
   "outputs": [],
   "source": [
    "from sklearn.model_selection import GridSearchCV\n",
    "\n",
    "grid_dt_clf = GridSearchCV(\n",
    "    DecisionTreeClassifier(),\n",
    "    param_grid = parameters,\n",
    "    return_train_score = True, # 훈련 세트에 대한 평가 점수도 같이 받게 해주는 옵션\n",
    "    n_jobs = -1, # 사용 가능한 CPU 코어를 모두 사용해서 훈련에 투입\n",
    "    cv = 3 # 각 하이퍼 파라미터 조합으로 만드는 모델에서 사용할 폴드의 개수\n",
    ")"
   ]
  },
  {
   "cell_type": "code",
   "execution_count": 20,
   "metadata": {
    "colab": {
     "base_uri": "https://localhost:8080/",
     "height": 115
    },
    "executionInfo": {
     "elapsed": 2073,
     "status": "ok",
     "timestamp": 1681460938609,
     "user": {
      "displayName": "‍선헌석[학생](경영대학 경영학과)",
      "userId": "11844710874656119254"
     },
     "user_tz": -540
    },
    "id": "vznXIg9V0vFW",
    "outputId": "fc5e97ec-392d-466b-c605-5ccc6c804f19"
   },
   "outputs": [
    {
     "data": {
      "text/plain": [
       "GridSearchCV(cv=3, estimator=DecisionTreeClassifier(), n_jobs=-1,\n",
       "             param_grid={'max_depth': [1, 2, 3], 'min_samples_split': [2, 3]},\n",
       "             return_train_score=True)"
      ]
     },
     "execution_count": 20,
     "metadata": {},
     "output_type": "execute_result"
    }
   ],
   "source": [
    "grid_dt_clf.fit(X_train,y_train)"
   ]
  },
  {
   "cell_type": "code",
   "execution_count": 21,
   "metadata": {
    "colab": {
     "base_uri": "https://localhost:8080/"
    },
    "executionInfo": {
     "elapsed": 31,
     "status": "ok",
     "timestamp": 1681460938610,
     "user": {
      "displayName": "‍선헌석[학생](경영대학 경영학과)",
      "userId": "11844710874656119254"
     },
     "user_tz": -540
    },
    "id": "qEez87p306xJ",
    "outputId": "5c5eb287-a6fd-4f2d-84d3-446ea6b79b7b"
   },
   "outputs": [
    {
     "data": {
      "text/plain": [
       "{'mean_fit_time': array([0.00233992, 0.00248726, 0.00167966, 0.00217748, 0.00267482,\n",
       "        0.00218153]),\n",
       " 'std_fit_time': array([0.00024401, 0.0003951 , 0.0004498 , 0.00102692, 0.00045351,\n",
       "        0.00025279]),\n",
       " 'mean_score_time': array([0.00133236, 0.00100056, 0.00079894, 0.00133697, 0.00050012,\n",
       "        0.00099802]),\n",
       " 'std_score_time': array([4.69803687e-04, 3.46231793e-06, 5.88207289e-04, 4.74634540e-04,\n",
       "        4.04763615e-04, 6.74349576e-07]),\n",
       " 'param_max_depth': masked_array(data=[1, 1, 2, 2, 3, 3],\n",
       "              mask=[False, False, False, False, False, False],\n",
       "        fill_value='?',\n",
       "             dtype=object),\n",
       " 'param_min_samples_split': masked_array(data=[2, 3, 2, 3, 2, 3],\n",
       "              mask=[False, False, False, False, False, False],\n",
       "        fill_value='?',\n",
       "             dtype=object),\n",
       " 'params': [{'max_depth': 1, 'min_samples_split': 2},\n",
       "  {'max_depth': 1, 'min_samples_split': 3},\n",
       "  {'max_depth': 2, 'min_samples_split': 2},\n",
       "  {'max_depth': 2, 'min_samples_split': 3},\n",
       "  {'max_depth': 3, 'min_samples_split': 2},\n",
       "  {'max_depth': 3, 'min_samples_split': 3}],\n",
       " 'split0_test_score': array([0.65 , 0.65 , 0.975, 0.975, 1.   , 1.   ]),\n",
       " 'split1_test_score': array([0.675, 0.675, 0.95 , 0.95 , 0.95 , 0.95 ]),\n",
       " 'split2_test_score': array([0.65, 0.65, 0.85, 0.85, 0.85, 0.85]),\n",
       " 'mean_test_score': array([0.65833333, 0.65833333, 0.925     , 0.925     , 0.93333333,\n",
       "        0.93333333]),\n",
       " 'std_test_score': array([0.01178511, 0.01178511, 0.05400617, 0.05400617, 0.06236096,\n",
       "        0.06236096]),\n",
       " 'rank_test_score': array([5, 5, 3, 3, 1, 1]),\n",
       " 'split0_train_score': array([0.675 , 0.675 , 0.95  , 0.95  , 0.9625, 0.9625]),\n",
       " 'split1_train_score': array([0.6625, 0.6625, 0.9625, 0.9625, 0.9875, 0.9875]),\n",
       " 'split2_train_score': array([0.675 , 0.675 , 0.9875, 0.9875, 0.9875, 0.9875]),\n",
       " 'mean_train_score': array([0.67083333, 0.67083333, 0.96666667, 0.96666667, 0.97916667,\n",
       "        0.97916667]),\n",
       " 'std_train_score': array([0.00589256, 0.00589256, 0.01559024, 0.01559024, 0.01178511,\n",
       "        0.01178511])}"
      ]
     },
     "execution_count": 21,
     "metadata": {},
     "output_type": "execute_result"
    }
   ],
   "source": [
    "# GridSearchCV의 결과는 cv_results_ 변수에 들어있다.\n",
    "grid_dt_clf.cv_results_"
   ]
  },
  {
   "cell_type": "code",
   "execution_count": 22,
   "metadata": {
    "colab": {
     "base_uri": "https://localhost:8080/"
    },
    "executionInfo": {
     "elapsed": 21,
     "status": "ok",
     "timestamp": 1681460938611,
     "user": {
      "displayName": "‍선헌석[학생](경영대학 경영학과)",
      "userId": "11844710874656119254"
     },
     "user_tz": -540
    },
    "id": "UyBD-mT01Pa7",
    "outputId": "2d4c7cf3-d3de-4dc1-df41-48430cc01e77"
   },
   "outputs": [
    {
     "name": "stdout",
     "output_type": "stream",
     "text": [
      "GridSearchCV 최적 하이퍼 파라미터 : {'max_depth': 3, 'min_samples_split': 2}\n",
      "GridSearchCV 최고 정확도 : 0.9333\n"
     ]
    }
   ],
   "source": [
    "print(\"GridSearchCV 최적 하이퍼 파라미터 : {}\".format(grid_dt_clf.best_params_))\n",
    "print(\"GridSearchCV 최고 정확도 : {:.4f}\".format(grid_dt_clf.best_score_)) # valid 세트에서의 최고 정확도"
   ]
  },
  {
   "cell_type": "code",
   "execution_count": 23,
   "metadata": {
    "colab": {
     "base_uri": "https://localhost:8080/"
    },
    "executionInfo": {
     "elapsed": 681,
     "status": "ok",
     "timestamp": 1681460939282,
     "user": {
      "displayName": "‍선헌석[학생](경영대학 경영학과)",
      "userId": "11844710874656119254"
     },
     "user_tz": -540
    },
    "id": "ngggsf5n2C9H",
    "outputId": "9e07d26e-5314-4ada-846c-f23b0279b852"
   },
   "outputs": [
    {
     "name": "stdout",
     "output_type": "stream",
     "text": [
      "테스트 세트의 정확도 : 0.9667\n"
     ]
    }
   ],
   "source": [
    "# 최고의 결과를 냈었던 추정기(Estimator)로 예측\n",
    "pred = grid_dt_clf.predict(X_test)\n",
    "\n",
    "print(\"테스트 세트의 정확도 : {:.4f}\".format(accuracy_score(y_test, pred)))"
   ]
  },
  {
   "cell_type": "code",
   "execution_count": 24,
   "metadata": {
    "colab": {
     "base_uri": "https://localhost:8080/",
     "height": 74
    },
    "executionInfo": {
     "elapsed": 28,
     "status": "ok",
     "timestamp": 1681460939283,
     "user": {
      "displayName": "‍선헌석[학생](경영대학 경영학과)",
      "userId": "11844710874656119254"
     },
     "user_tz": -540
    },
    "id": "O9B6us-v2dLR",
    "outputId": "fcd53c3f-b5e2-470f-8374-889003d77f29"
   },
   "outputs": [
    {
     "data": {
      "text/plain": [
       "DecisionTreeClassifier(max_depth=3)"
      ]
     },
     "execution_count": 24,
     "metadata": {},
     "output_type": "execute_result"
    }
   ],
   "source": [
    "# 학습이 완료된 최고 성능의 모델 객체 얻어내기\n",
    "best_dt_clf = grid_dt_clf.best_estimator_\n",
    "best_dt_clf"
   ]
  },
  {
   "cell_type": "code",
   "execution_count": 25,
   "metadata": {
    "colab": {
     "base_uri": "https://localhost:8080/"
    },
    "executionInfo": {
     "elapsed": 26,
     "status": "ok",
     "timestamp": 1681460939284,
     "user": {
      "displayName": "‍선헌석[학생](경영대학 경영학과)",
      "userId": "11844710874656119254"
     },
     "user_tz": -540
    },
    "id": "1Mc1-Wde2wVb",
    "outputId": "1a6f7131-5ddc-42ab-889b-0c80e566c75f"
   },
   "outputs": [
    {
     "name": "stdout",
     "output_type": "stream",
     "text": [
      "테스트 세트의 정확도 : 0.9667\n"
     ]
    }
   ],
   "source": [
    "pred = best_dt_clf.predict(X_test)\n",
    "print(\"테스트 세트의 정확도 : {:.4f}\".format(accuracy_score(y_test, pred)))"
   ]
  }
 ],
 "metadata": {
  "colab": {
   "authorship_tag": "ABX9TyOBOCEl+zndX7KN1DGpuLo8",
   "provenance": []
  },
  "kernelspec": {
   "display_name": "Python 3 (ipykernel)",
   "language": "python",
   "name": "python3"
  },
  "language_info": {
   "codemirror_mode": {
    "name": "ipython",
    "version": 3
   },
   "file_extension": ".py",
   "mimetype": "text/x-python",
   "name": "python",
   "nbconvert_exporter": "python",
   "pygments_lexer": "ipython3",
   "version": "3.9.13"
  }
 },
 "nbformat": 4,
 "nbformat_minor": 1
}
