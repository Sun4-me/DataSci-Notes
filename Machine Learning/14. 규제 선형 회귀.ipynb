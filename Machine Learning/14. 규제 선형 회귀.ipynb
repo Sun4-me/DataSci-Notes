{
 "cells": [
  {
   "cell_type": "code",
   "execution_count": 1,
   "metadata": {
    "colab": {
     "base_uri": "https://localhost:8080/",
     "height": 423
    },
    "executionInfo": {
     "elapsed": 2687,
     "status": "ok",
     "timestamp": 1681697324757,
     "user": {
      "displayName": "‍선헌석[학생](경영대학 경영학과)",
      "userId": "11844710874656119254"
     },
     "user_tz": -540
    },
    "id": "CXnssUnV99gU",
    "outputId": "3faea49a-f283-4552-e07a-ab2454c1f1fe"
   },
   "outputs": [
    {
     "data": {
      "text/html": [
       "<div>\n",
       "<style scoped>\n",
       "    .dataframe tbody tr th:only-of-type {\n",
       "        vertical-align: middle;\n",
       "    }\n",
       "\n",
       "    .dataframe tbody tr th {\n",
       "        vertical-align: top;\n",
       "    }\n",
       "\n",
       "    .dataframe thead th {\n",
       "        text-align: right;\n",
       "    }\n",
       "</style>\n",
       "<table border=\"1\" class=\"dataframe\">\n",
       "  <thead>\n",
       "    <tr style=\"text-align: right;\">\n",
       "      <th></th>\n",
       "      <th>CRIM</th>\n",
       "      <th>ZN</th>\n",
       "      <th>INDUS</th>\n",
       "      <th>CHAS</th>\n",
       "      <th>NOX</th>\n",
       "      <th>RM</th>\n",
       "      <th>AGE</th>\n",
       "      <th>DIS</th>\n",
       "      <th>RAD</th>\n",
       "      <th>TAX</th>\n",
       "      <th>PTRATIO</th>\n",
       "      <th>B</th>\n",
       "      <th>LSTAT</th>\n",
       "      <th>PRICE</th>\n",
       "    </tr>\n",
       "  </thead>\n",
       "  <tbody>\n",
       "    <tr>\n",
       "      <th>0</th>\n",
       "      <td>0.00632</td>\n",
       "      <td>18.0</td>\n",
       "      <td>2.31</td>\n",
       "      <td>0.0</td>\n",
       "      <td>0.538</td>\n",
       "      <td>6.575</td>\n",
       "      <td>65.2</td>\n",
       "      <td>4.0900</td>\n",
       "      <td>1.0</td>\n",
       "      <td>296.0</td>\n",
       "      <td>15.3</td>\n",
       "      <td>396.90</td>\n",
       "      <td>4.98</td>\n",
       "      <td>24.0</td>\n",
       "    </tr>\n",
       "    <tr>\n",
       "      <th>1</th>\n",
       "      <td>0.02731</td>\n",
       "      <td>0.0</td>\n",
       "      <td>7.07</td>\n",
       "      <td>0.0</td>\n",
       "      <td>0.469</td>\n",
       "      <td>6.421</td>\n",
       "      <td>78.9</td>\n",
       "      <td>4.9671</td>\n",
       "      <td>2.0</td>\n",
       "      <td>242.0</td>\n",
       "      <td>17.8</td>\n",
       "      <td>396.90</td>\n",
       "      <td>9.14</td>\n",
       "      <td>21.6</td>\n",
       "    </tr>\n",
       "    <tr>\n",
       "      <th>2</th>\n",
       "      <td>0.02729</td>\n",
       "      <td>0.0</td>\n",
       "      <td>7.07</td>\n",
       "      <td>0.0</td>\n",
       "      <td>0.469</td>\n",
       "      <td>7.185</td>\n",
       "      <td>61.1</td>\n",
       "      <td>4.9671</td>\n",
       "      <td>2.0</td>\n",
       "      <td>242.0</td>\n",
       "      <td>17.8</td>\n",
       "      <td>392.83</td>\n",
       "      <td>4.03</td>\n",
       "      <td>34.7</td>\n",
       "    </tr>\n",
       "    <tr>\n",
       "      <th>3</th>\n",
       "      <td>0.03237</td>\n",
       "      <td>0.0</td>\n",
       "      <td>2.18</td>\n",
       "      <td>0.0</td>\n",
       "      <td>0.458</td>\n",
       "      <td>6.998</td>\n",
       "      <td>45.8</td>\n",
       "      <td>6.0622</td>\n",
       "      <td>3.0</td>\n",
       "      <td>222.0</td>\n",
       "      <td>18.7</td>\n",
       "      <td>394.63</td>\n",
       "      <td>2.94</td>\n",
       "      <td>33.4</td>\n",
       "    </tr>\n",
       "    <tr>\n",
       "      <th>4</th>\n",
       "      <td>0.06905</td>\n",
       "      <td>0.0</td>\n",
       "      <td>2.18</td>\n",
       "      <td>0.0</td>\n",
       "      <td>0.458</td>\n",
       "      <td>7.147</td>\n",
       "      <td>54.2</td>\n",
       "      <td>6.0622</td>\n",
       "      <td>3.0</td>\n",
       "      <td>222.0</td>\n",
       "      <td>18.7</td>\n",
       "      <td>396.90</td>\n",
       "      <td>5.33</td>\n",
       "      <td>36.2</td>\n",
       "    </tr>\n",
       "    <tr>\n",
       "      <th>...</th>\n",
       "      <td>...</td>\n",
       "      <td>...</td>\n",
       "      <td>...</td>\n",
       "      <td>...</td>\n",
       "      <td>...</td>\n",
       "      <td>...</td>\n",
       "      <td>...</td>\n",
       "      <td>...</td>\n",
       "      <td>...</td>\n",
       "      <td>...</td>\n",
       "      <td>...</td>\n",
       "      <td>...</td>\n",
       "      <td>...</td>\n",
       "      <td>...</td>\n",
       "    </tr>\n",
       "    <tr>\n",
       "      <th>501</th>\n",
       "      <td>0.06263</td>\n",
       "      <td>0.0</td>\n",
       "      <td>11.93</td>\n",
       "      <td>0.0</td>\n",
       "      <td>0.573</td>\n",
       "      <td>6.593</td>\n",
       "      <td>69.1</td>\n",
       "      <td>2.4786</td>\n",
       "      <td>1.0</td>\n",
       "      <td>273.0</td>\n",
       "      <td>21.0</td>\n",
       "      <td>391.99</td>\n",
       "      <td>9.67</td>\n",
       "      <td>22.4</td>\n",
       "    </tr>\n",
       "    <tr>\n",
       "      <th>502</th>\n",
       "      <td>0.04527</td>\n",
       "      <td>0.0</td>\n",
       "      <td>11.93</td>\n",
       "      <td>0.0</td>\n",
       "      <td>0.573</td>\n",
       "      <td>6.120</td>\n",
       "      <td>76.7</td>\n",
       "      <td>2.2875</td>\n",
       "      <td>1.0</td>\n",
       "      <td>273.0</td>\n",
       "      <td>21.0</td>\n",
       "      <td>396.90</td>\n",
       "      <td>9.08</td>\n",
       "      <td>20.6</td>\n",
       "    </tr>\n",
       "    <tr>\n",
       "      <th>503</th>\n",
       "      <td>0.06076</td>\n",
       "      <td>0.0</td>\n",
       "      <td>11.93</td>\n",
       "      <td>0.0</td>\n",
       "      <td>0.573</td>\n",
       "      <td>6.976</td>\n",
       "      <td>91.0</td>\n",
       "      <td>2.1675</td>\n",
       "      <td>1.0</td>\n",
       "      <td>273.0</td>\n",
       "      <td>21.0</td>\n",
       "      <td>396.90</td>\n",
       "      <td>5.64</td>\n",
       "      <td>23.9</td>\n",
       "    </tr>\n",
       "    <tr>\n",
       "      <th>504</th>\n",
       "      <td>0.10959</td>\n",
       "      <td>0.0</td>\n",
       "      <td>11.93</td>\n",
       "      <td>0.0</td>\n",
       "      <td>0.573</td>\n",
       "      <td>6.794</td>\n",
       "      <td>89.3</td>\n",
       "      <td>2.3889</td>\n",
       "      <td>1.0</td>\n",
       "      <td>273.0</td>\n",
       "      <td>21.0</td>\n",
       "      <td>393.45</td>\n",
       "      <td>6.48</td>\n",
       "      <td>22.0</td>\n",
       "    </tr>\n",
       "    <tr>\n",
       "      <th>505</th>\n",
       "      <td>0.04741</td>\n",
       "      <td>0.0</td>\n",
       "      <td>11.93</td>\n",
       "      <td>0.0</td>\n",
       "      <td>0.573</td>\n",
       "      <td>6.030</td>\n",
       "      <td>80.8</td>\n",
       "      <td>2.5050</td>\n",
       "      <td>1.0</td>\n",
       "      <td>273.0</td>\n",
       "      <td>21.0</td>\n",
       "      <td>396.90</td>\n",
       "      <td>7.88</td>\n",
       "      <td>11.9</td>\n",
       "    </tr>\n",
       "  </tbody>\n",
       "</table>\n",
       "<p>506 rows × 14 columns</p>\n",
       "</div>"
      ],
      "text/plain": [
       "        CRIM    ZN  INDUS  CHAS    NOX     RM   AGE     DIS  RAD    TAX  \\\n",
       "0    0.00632  18.0   2.31   0.0  0.538  6.575  65.2  4.0900  1.0  296.0   \n",
       "1    0.02731   0.0   7.07   0.0  0.469  6.421  78.9  4.9671  2.0  242.0   \n",
       "2    0.02729   0.0   7.07   0.0  0.469  7.185  61.1  4.9671  2.0  242.0   \n",
       "3    0.03237   0.0   2.18   0.0  0.458  6.998  45.8  6.0622  3.0  222.0   \n",
       "4    0.06905   0.0   2.18   0.0  0.458  7.147  54.2  6.0622  3.0  222.0   \n",
       "..       ...   ...    ...   ...    ...    ...   ...     ...  ...    ...   \n",
       "501  0.06263   0.0  11.93   0.0  0.573  6.593  69.1  2.4786  1.0  273.0   \n",
       "502  0.04527   0.0  11.93   0.0  0.573  6.120  76.7  2.2875  1.0  273.0   \n",
       "503  0.06076   0.0  11.93   0.0  0.573  6.976  91.0  2.1675  1.0  273.0   \n",
       "504  0.10959   0.0  11.93   0.0  0.573  6.794  89.3  2.3889  1.0  273.0   \n",
       "505  0.04741   0.0  11.93   0.0  0.573  6.030  80.8  2.5050  1.0  273.0   \n",
       "\n",
       "     PTRATIO       B  LSTAT  PRICE  \n",
       "0       15.3  396.90   4.98   24.0  \n",
       "1       17.8  396.90   9.14   21.6  \n",
       "2       17.8  392.83   4.03   34.7  \n",
       "3       18.7  394.63   2.94   33.4  \n",
       "4       18.7  396.90   5.33   36.2  \n",
       "..       ...     ...    ...    ...  \n",
       "501     21.0  391.99   9.67   22.4  \n",
       "502     21.0  396.90   9.08   20.6  \n",
       "503     21.0  396.90   5.64   23.9  \n",
       "504     21.0  393.45   6.48   22.0  \n",
       "505     21.0  396.90   7.88   11.9  \n",
       "\n",
       "[506 rows x 14 columns]"
      ]
     },
     "execution_count": 1,
     "metadata": {},
     "output_type": "execute_result"
    }
   ],
   "source": [
    "import numpy as np\n",
    "import matplotlib.pyplot as plt\n",
    "import pandas as pd\n",
    "import seaborn as sns\n",
    "\n",
    "import warnings\n",
    "warnings.filterwarnings('ignore')  # 사이킷런 1.2 부터는 보스턴 주택가격 데이터가 없어진다는 warning 메시지 출력 제거\n",
    "\n",
    "data_url = \"http://lib.stat.cmu.edu/datasets/boston\"\n",
    "raw_df = pd.read_csv(data_url, sep=\"\\s+\", skiprows=22, header=None)\n",
    "data = np.hstack([raw_df.values[::2, :], raw_df.values[1::2, :2]])\n",
    "target = raw_df.values[1::2, 2]\n",
    "\n",
    "boston_df = pd.DataFrame(\n",
    "    data=data,\n",
    "    columns=['CRIM','ZN','INDUS','CHAS','NOX','RM','AGE','DIS','RAD','TAX','PTRATIO','B','LSTAT']\n",
    ")\n",
    "\n",
    "boston_df['PRICE']=target\n",
    "boston_df"
   ]
  },
  {
   "cell_type": "code",
   "execution_count": 2,
   "metadata": {
    "id": "ZmLE10Fc-WqY"
   },
   "outputs": [],
   "source": [
    "# 변동성을 작게 하려면 회귀계수 절대값이 낮아야 한다.\n",
    "# 최대한 0에 가까워 질수록 좋다.\n",
    "\n",
    "# 가중치가 높고 복잡하더라도, 규제를 통해 변동성을 낮출 수 있다.\n",
    "# 규제 선형 모델\n",
    "# L2규제(제곱), L1규제(절대값) // 규제항. 알파가 작아지면 W는 커진다."
   ]
  },
  {
   "cell_type": "markdown",
   "metadata": {
    "id": "kA9MRAM7_BBs"
   },
   "source": [
    "# Ridge를 활용한 규제 선형회귀 확인"
   ]
  },
  {
   "cell_type": "code",
   "execution_count": 3,
   "metadata": {
    "executionInfo": {
     "elapsed": 467,
     "status": "ok",
     "timestamp": 1681698243874,
     "user": {
      "displayName": "‍선헌석[학생](경영대학 경영학과)",
      "userId": "11844710874656119254"
     },
     "user_tz": -540
    },
    "id": "SuVhTEBB-44J"
   },
   "outputs": [],
   "source": [
    "from sklearn.linear_model import Ridge\n",
    "from sklearn.model_selection import train_test_split\n",
    "from sklearn.metrics import mean_squared_error\n",
    "\n",
    "X = boston_df.drop(\"PRICE\", axis=1)\n",
    "y = boston_df[\"PRICE\"]\n",
    "\n",
    "X_train, X_test, y_train, y_test = train_test_split(\n",
    "    X, y, test_size=0.2,\n",
    "    random_state=42\n",
    ")"
   ]
  },
  {
   "cell_type": "code",
   "execution_count": 4,
   "metadata": {
    "colab": {
     "base_uri": "https://localhost:8080/",
     "height": 74
    },
    "executionInfo": {
     "elapsed": 22,
     "status": "ok",
     "timestamp": 1681698250078,
     "user": {
      "displayName": "‍선헌석[학생](경영대학 경영학과)",
      "userId": "11844710874656119254"
     },
     "user_tz": -540
    },
    "id": "6VHBTRxcBr9y",
    "outputId": "354ac636-787a-42b7-fe16-c4eb4e4ce1a3"
   },
   "outputs": [
    {
     "data": {
      "text/plain": [
       "Ridge(alpha=10)"
      ]
     },
     "execution_count": 4,
     "metadata": {},
     "output_type": "execute_result"
    }
   ],
   "source": [
    "# 릿지 생성\n",
    "lr_ridge = Ridge(alpha=10) # alpha는 log scale로 지정하는게 보통(0.01, 0.1, 1, 10, 100, ...)\n",
    "lr_ridge.fit(X_train, y_train)"
   ]
  },
  {
   "cell_type": "code",
   "execution_count": 5,
   "metadata": {
    "colab": {
     "base_uri": "https://localhost:8080/"
    },
    "executionInfo": {
     "elapsed": 372,
     "status": "ok",
     "timestamp": 1681698272603,
     "user": {
      "displayName": "‍선헌석[학생](경영대학 경영학과)",
      "userId": "11844710874656119254"
     },
     "user_tz": -540
    },
    "id": "rnV_OeqlBtiV",
    "outputId": "0dc22e05-83ad-440d-998d-9846d098802e"
   },
   "outputs": [
    {
     "name": "stdout",
     "output_type": "stream",
     "text": [
      "MSE : 24.648\n",
      "RMSE : 4.965\n",
      "R2 : 0.664\n"
     ]
    }
   ],
   "source": [
    "ridge_pred = lr_ridge.predict(X_test)\n",
    "\n",
    "mse = mean_squared_error(y_test, ridge_pred)\n",
    "rmse = np.sqrt(mse)\n",
    "r2 = lr_ridge.score(X_test, y_test)\n",
    "\n",
    "print(\"MSE : {:.3f}\".format(mse))\n",
    "print(\"RMSE : {:.3f}\".format(rmse))\n",
    "print(\"R2 : {:.3f}\".format(r2))"
   ]
  },
  {
   "cell_type": "markdown",
   "metadata": {
    "id": "f8WT92mzDTkW"
   },
   "source": [
    "# degree=3 다항식 생성"
   ]
  },
  {
   "cell_type": "code",
   "execution_count": 6,
   "metadata": {
    "colab": {
     "base_uri": "https://localhost:8080/"
    },
    "executionInfo": {
     "elapsed": 294,
     "status": "ok",
     "timestamp": 1681698687817,
     "user": {
      "displayName": "‍선헌석[학생](경영대학 경영학과)",
      "userId": "11844710874656119254"
     },
     "user_tz": -540
    },
    "id": "dxm8d2kCDT8t",
    "outputId": "cee1ce4a-751e-487f-8c72-32f563937803"
   },
   "outputs": [
    {
     "data": {
      "text/plain": [
       "((404, 559), (102, 559))"
      ]
     },
     "execution_count": 6,
     "metadata": {},
     "output_type": "execute_result"
    }
   ],
   "source": [
    "from sklearn.preprocessing import PolynomialFeatures\n",
    "\n",
    "boston_poly = PolynomialFeatures(degree=3, include_bias=False)\n",
    "\n",
    "X_train_3 = boston_poly.fit_transform(X_train)\n",
    "X_test_3  = boston_poly.transform(X_test)\n",
    "\n",
    "X_train_3.shape, X_test_3.shape"
   ]
  },
  {
   "cell_type": "markdown",
   "metadata": {
    "id": "8YqTfgT6EPjv"
   },
   "source": [
    "# Ridge VS LinearRegression"
   ]
  },
  {
   "cell_type": "code",
   "execution_count": 7,
   "metadata": {
    "executionInfo": {
     "elapsed": 416,
     "status": "ok",
     "timestamp": 1681698920688,
     "user": {
      "displayName": "‍선헌석[학생](경영대학 경영학과)",
      "userId": "11844710874656119254"
     },
     "user_tz": -540
    },
    "id": "G4Pi4OXpBzCQ"
   },
   "outputs": [],
   "source": [
    "from sklearn.linear_model import LinearRegression\n",
    "\n",
    "lr = LinearRegression().fit(X_train_3, y_train)\n",
    "lr_ridge = Ridge(alpha=10).fit(X_train_3, y_train)"
   ]
  },
  {
   "cell_type": "code",
   "execution_count": 8,
   "metadata": {
    "colab": {
     "base_uri": "https://localhost:8080/"
    },
    "executionInfo": {
     "elapsed": 6,
     "status": "ok",
     "timestamp": 1681698926754,
     "user": {
      "displayName": "‍선헌석[학생](경영대학 경영학과)",
      "userId": "11844710874656119254"
     },
     "user_tz": -540
    },
    "id": "pxkIkjFEERL4",
    "outputId": "c8d1fa58-36a9-4458-e9f6-59b7e064cfac"
   },
   "outputs": [
    {
     "name": "stdout",
     "output_type": "stream",
     "text": [
      "LinearRegression MSE : 0.000 / RMSE : 0.000 / R2 : 1.000\n",
      "Ridge MSE : 1.701 / RMSE : 1.304 / R2 : 0.980\n"
     ]
    }
   ],
   "source": [
    "# 훈련 데이터에 대한 예측\n",
    "from sklearn.metrics import r2_score\n",
    "\n",
    "lr_train_pred = lr.predict(X_train_3)\n",
    "ridge_train_pred = lr_ridge.predict(X_train_3)\n",
    "\n",
    "lr_train_mse = mean_squared_error(y_train, lr_train_pred)\n",
    "lr_train_rmse = np.sqrt(lr_train_mse)\n",
    "lr_train_r2 = r2_score(y_train, lr_train_pred)\n",
    "\n",
    "ridge_train_mse = mean_squared_error(y_train, ridge_train_pred)\n",
    "ridge_train_rmse = np.sqrt(ridge_train_mse)\n",
    "ridge_train_r2 = r2_score(y_train, ridge_train_pred)\n",
    "\n",
    "print(\"LinearRegression MSE : {:.3f} / RMSE : {:.3f} / R2 : {:.3f}\".format(lr_train_mse, lr_train_rmse, lr_train_r2))\n",
    "print(\"Ridge MSE : {:.3f} / RMSE : {:.3f} / R2 : {:.3f}\".format(ridge_train_mse, ridge_train_rmse, ridge_train_r2))"
   ]
  },
  {
   "cell_type": "code",
   "execution_count": 9,
   "metadata": {
    "colab": {
     "base_uri": "https://localhost:8080/"
    },
    "executionInfo": {
     "elapsed": 311,
     "status": "ok",
     "timestamp": 1681699057165,
     "user": {
      "displayName": "‍선헌석[학생](경영대학 경영학과)",
      "userId": "11844710874656119254"
     },
     "user_tz": -540
    },
    "id": "4784ZTaEBtLm",
    "outputId": "5cc32a9f-6e93-455e-d292-76d9f8b28381"
   },
   "outputs": [
    {
     "data": {
      "text/plain": [
       "(array([-7.50874905e-01, -3.80954164e+00, -1.06652669e+00, -2.16325818e-03,\n",
       "        -4.77559868e-02]),\n",
       " array([ 3.85703052e-05,  8.61093767e-05, -2.77438680e-05, -3.38984404e-05,\n",
       "        -2.41927647e-06]))"
      ]
     },
     "execution_count": 9,
     "metadata": {},
     "output_type": "execute_result"
    }
   ],
   "source": [
    "# 가중치 확인 해보기\n",
    "\n",
    "lr.coef_[:5] , lr_ridge.coef_[:5]\n",
    "# 가중치가 확실히 줄어듬, 좀 더 일반화 됨"
   ]
  },
  {
   "cell_type": "code",
   "execution_count": 10,
   "metadata": {
    "colab": {
     "base_uri": "https://localhost:8080/"
    },
    "executionInfo": {
     "elapsed": 284,
     "status": "ok",
     "timestamp": 1681699254110,
     "user": {
      "displayName": "‍선헌석[학생](경영대학 경영학과)",
      "userId": "11844710874656119254"
     },
     "user_tz": -540
    },
    "id": "R00l7a5nEyn2",
    "outputId": "94992d2f-c27a-4f55-ae22-6c4fd368ed96"
   },
   "outputs": [
    {
     "name": "stdout",
     "output_type": "stream",
     "text": [
      "LinearRegression MSE : 129848.108 / RMSE : 360.344 / R2 : -1769.645\n",
      "Ridge MSE : 159.066 / RMSE : 12.612 / R2 : -1.169\n"
     ]
    }
   ],
   "source": [
    "# 테스트 세트 확인\n",
    "lr_test_pred = lr.predict(X_test_3)\n",
    "ridge_test_pred = lr_ridge.predict(X_test_3)\n",
    "\n",
    "lr_test_mse = mean_squared_error(y_test, lr_test_pred)\n",
    "lr_test_rmse = np.sqrt(lr_test_mse)\n",
    "lr_test_r2 = r2_score(y_test, lr_test_pred)\n",
    "\n",
    "ridge_test_mse = mean_squared_error(y_test, ridge_test_pred)\n",
    "ridge_test_rmse = np.sqrt(ridge_test_mse)\n",
    "ridge_test_r2 = r2_score(y_test, ridge_test_pred)\n",
    "\n",
    "print(\"LinearRegression MSE : {:.3f} / RMSE : {:.3f} / R2 : {:.3f}\".format(lr_test_mse, lr_test_rmse, lr_test_r2))\n",
    "print(\"Ridge MSE : {:.3f} / RMSE : {:.3f} / R2 : {:.3f}\".format(ridge_test_mse, ridge_test_rmse, ridge_test_r2))"
   ]
  },
  {
   "cell_type": "code",
   "execution_count": 11,
   "metadata": {
    "colab": {
     "base_uri": "https://localhost:8080/",
     "height": 527
    },
    "executionInfo": {
     "elapsed": 4276,
     "status": "ok",
     "timestamp": 1681699260126,
     "user": {
      "displayName": "‍선헌석[학생](경영대학 경영학과)",
      "userId": "11844710874656119254"
     },
     "user_tz": -540
    },
    "id": "alweDFiSFilV",
    "outputId": "2b7181ef-2266-4f2a-bebb-47ab32b62d32"
   },
   "outputs": [
    {
     "data": {
      "image/png": "[encoded data removed]",
      "text/plain": [
       "<Figure size 1800x600 with 5 Axes>"
      ]
     },
     "metadata": {},
     "output_type": "display_data"
    }
   ],
   "source": [
    "alphas = [0 , 0.1 , 1 , 10 , 100]\n",
    "\n",
    "# 각 alpha에 따른 회귀 계수 값을 시각화하기 위해 5개의 열로 된 맷플롯립 축 생성  \n",
    "fig , axs = plt.subplots(figsize=(18,6) , nrows=1 , ncols=5)\n",
    "# 각 alpha에 따른 회귀 계수 값을 데이터로 저장하기 위한 DataFrame 생성  \n",
    "coeff_df = pd.DataFrame()\n",
    "\n",
    "# alphas 리스트 값을 차례로 입력해 회귀 계수 값 시각화 및 데이터 저장. pos는 axis의 위치 지정\n",
    "for pos , alpha in enumerate(alphas) :\n",
    "    ridge = Ridge(alpha = alpha)\n",
    "    ridge.fit(X_train , y_train)\n",
    "    # alpha에 따른 피처별 회귀 계수를 Series로 변환하고 이를 DataFrame의 컬럼으로 추가.  \n",
    "    coeff = pd.Series(data=ridge.coef_ , index=X_train.columns )\n",
    "    colname='alpha:'+str(alpha)\n",
    "    coeff_df[colname] = coeff\n",
    "    # 막대 그래프로 각 alpha 값에서의 회귀 계수를 시각화. 회귀 계수값이 높은 순으로 표현\n",
    "    coeff = coeff.sort_values(ascending=False)\n",
    "    axs[pos].set_title(colname)\n",
    "    axs[pos].set_xlim(-3,6)\n",
    "    sns.barplot(x=coeff.values , y=coeff.index, ax=axs[pos])\n",
    "\n",
    "# for 문 바깥에서 맷플롯립의 show 호출 및 alpha에 따른 피처별 회귀 계수를 DataFrame으로 표시\n",
    "plt.show()"
   ]
  },
  {
   "cell_type": "markdown",
   "metadata": {
    "id": "66r-M_ytGvBi"
   },
   "source": [
    "# Lasso를 활용한 규제 선형회귀 확인하기"
   ]
  },
  {
   "cell_type": "code",
   "execution_count": 12,
   "metadata": {
    "colab": {
     "base_uri": "https://localhost:8080/"
    },
    "executionInfo": {
     "elapsed": 308,
     "status": "ok",
     "timestamp": 1681699598147,
     "user": {
      "displayName": "‍선헌석[학생](경영대학 경영학과)",
      "userId": "11844710874656119254"
     },
     "user_tz": -540
    },
    "id": "3KPJrHYfGvgk",
    "outputId": "9d110c65-afd3-470a-ec12-ae16baf49039"
   },
   "outputs": [
    {
     "name": "stdout",
     "output_type": "stream",
     "text": [
      "MSE : 34.686 / RMSE : 5.889 / R2 : 0.527\n"
     ]
    }
   ],
   "source": [
    "from sklearn.linear_model import Lasso\n",
    "\n",
    "lr_lasso = Lasso(alpha=10).fit(X_train, y_train)\n",
    "\n",
    "lasso_pred = lr_lasso.predict(X_test)\n",
    "\n",
    "mse = mean_squared_error(y_test, lasso_pred)\n",
    "rmse = np.sqrt(mse)\n",
    "r2 = r2_score(y_test, lasso_pred)\n",
    "\n",
    "print(\"MSE : {:.3f} / RMSE : {:.3f} / R2 : {:.3f}\".format(mse, rmse, r2))"
   ]
  },
  {
   "cell_type": "code",
   "execution_count": 13,
   "metadata": {
    "colab": {
     "base_uri": "https://localhost:8080/"
    },
    "executionInfo": {
     "elapsed": 349,
     "status": "ok",
     "timestamp": 1681699619539,
     "user": {
      "displayName": "‍선헌석[학생](경영대학 경영학과)",
      "userId": "11844710874656119254"
     },
     "user_tz": -540
    },
    "id": "i4_Fwy38G2nm",
    "outputId": "b00b3082-15e7-4741-b666-feaec1dcfb7c"
   },
   "outputs": [
    {
     "data": {
      "text/plain": [
       "array([-0.        ,  0.00632092, -0.        ,  0.        ,  0.        ,\n",
       "        0.        ,  0.        , -0.        ,  0.        , -0.0090727 ,\n",
       "       -0.        ,  0.00989229, -0.60414765])"
      ]
     },
     "execution_count": 13,
     "metadata": {},
     "output_type": "execute_result"
    }
   ],
   "source": [
    "lr_lasso.coef_ # Lasso는 0 값도 존재"
   ]
  },
  {
   "cell_type": "code",
   "execution_count": 14,
   "metadata": {
    "colab": {
     "base_uri": "https://localhost:8080/"
    },
    "executionInfo": {
     "elapsed": 440,
     "status": "ok",
     "timestamp": 1681699758010,
     "user": {
      "displayName": "‍선헌석[학생](경영대학 경영학과)",
      "userId": "11844710874656119254"
     },
     "user_tz": -540
    },
    "id": "EzSG8ivWG70c",
    "outputId": "70ab1ec3-1a00-41cf-8ee5-13fed39dfd9b"
   },
   "outputs": [
    {
     "name": "stdout",
     "output_type": "stream",
     "text": [
      "MSE : 13.241 / RMSE : 3.639 / R2 : 0.819\n"
     ]
    }
   ],
   "source": [
    "# 3차식 결과 확인\n",
    "\n",
    "lr_lasso = Lasso(alpha=10).fit(X_train_3, y_train)\n",
    "\n",
    "lasso_pred = lr_lasso.predict(X_test_3)\n",
    "\n",
    "mse = mean_squared_error(y_test, lasso_pred)\n",
    "rmse = np.sqrt(mse)\n",
    "r2 = r2_score(y_test, lasso_pred)\n",
    "\n",
    "print(\"MSE : {:.3f} / RMSE : {:.3f} / R2 : {:.3f}\".format(mse, rmse, r2))"
   ]
  },
  {
   "cell_type": "code",
   "execution_count": 15,
   "metadata": {
    "colab": {
     "base_uri": "https://localhost:8080/",
     "height": 527
    },
    "executionInfo": {
     "elapsed": 3696,
     "status": "ok",
     "timestamp": 1681699825916,
     "user": {
      "displayName": "‍선헌석[학생](경영대학 경영학과)",
      "userId": "11844710874656119254"
     },
     "user_tz": -540
    },
    "id": "kC4lsHJuFjLe",
    "outputId": "f3e7e317-011d-4bb8-9dfa-31f54b911159"
   },
   "outputs": [
    {
     "data": {
      "image/png": "[encoded data removed]",
      "text/plain": [
       "<Figure size 1800x600 with 5 Axes>"
      ]
     },
     "metadata": {},
     "output_type": "display_data"
    }
   ],
   "source": [
    "alphas = [0 , 0.1 , 1 , 10 , 100]\n",
    "\n",
    "# 각 alpha에 따른 회귀 계수 값을 시각화하기 위해 5개의 열로 된 맷플롯립 축 생성  \n",
    "fig , axs = plt.subplots(figsize=(18,6) , nrows=1 , ncols=5)\n",
    "# 각 alpha에 따른 회귀 계수 값을 데이터로 저장하기 위한 DataFrame 생성  \n",
    "coeff_df = pd.DataFrame()\n",
    "\n",
    "# alphas 리스트 값을 차례로 입력해 회귀 계수 값 시각화 및 데이터 저장. pos는 axis의 위치 지정\n",
    "for pos , alpha in enumerate(alphas) :\n",
    "    lasso = Lasso(alpha = alpha)\n",
    "    lasso.fit(X_train , y_train)\n",
    "    # alpha에 따른 피처별 회귀 계수를 Series로 변환하고 이를 DataFrame의 컬럼으로 추가.  \n",
    "    coeff = pd.Series(data=lasso.coef_ , index=X_train.columns )\n",
    "    colname='alpha:'+str(alpha)\n",
    "    coeff_df[colname] = coeff\n",
    "    # 막대 그래프로 각 alpha 값에서의 회귀 계수를 시각화. 회귀 계수값이 높은 순으로 표현\n",
    "    coeff = coeff.sort_values(ascending=False)\n",
    "    axs[pos].set_title(colname)\n",
    "    axs[pos].set_xlim(-3,6)\n",
    "    sns.barplot(x=coeff.values , y=coeff.index, ax=axs[pos])\n",
    "\n",
    "# for 문 바깥에서 맷플롯립의 show 호출 및 alpha에 따른 피처별 회귀 계수를 DataFrame으로 표시\n",
    "plt.show()"
   ]
  }
 ],
 "metadata": {
  "colab": {
   "authorship_tag": "ABX9TyNDPDPbNqOn5D5zaq/bAhZh",
   "provenance": []
  },
  "kernelspec": {
   "display_name": "Python 3 (ipykernel)",
   "language": "python",
   "name": "python3"
  },
  "language_info": {
   "codemirror_mode": {
    "name": "ipython",
    "version": 3
   },
   "file_extension": ".py",
   "mimetype": "text/x-python",
   "name": "python",
   "nbconvert_exporter": "python",
   "pygments_lexer": "ipython3",
   "version": "3.9.13"
  }
 },
 "nbformat": 4,
 "nbformat_minor": 1
}
