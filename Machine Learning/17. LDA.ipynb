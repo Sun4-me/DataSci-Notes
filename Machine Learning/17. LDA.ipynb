{
 "cells": [
  {
   "cell_type": "code",
   "execution_count": 1,
   "metadata": {
    "id": "G_Vp2bUs8cAM"
   },
   "outputs": [],
   "source": [
    "from sklearn.discriminant_analysis import LinearDiscriminantAnalysis"
   ]
  },
  {
   "cell_type": "code",
   "execution_count": 2,
   "metadata": {
    "executionInfo": {
     "elapsed": 6,
     "status": "ok",
     "timestamp": 1681881839723,
     "user": {
      "displayName": "‍선헌석[학생](경영대학 경영학과)",
      "userId": "11844710874656119254"
     },
     "user_tz": -540
    },
    "id": "g3ctRJqF8tU8"
   },
   "outputs": [],
   "source": [
    "from sklearn.datasets import load_iris\n",
    "\n",
    "iris = load_iris()"
   ]
  },
  {
   "cell_type": "code",
   "execution_count": 3,
   "metadata": {
    "executionInfo": {
     "elapsed": 6,
     "status": "ok",
     "timestamp": 1681881840048,
     "user": {
      "displayName": "‍선헌석[학생](경영대학 경영학과)",
      "userId": "11844710874656119254"
     },
     "user_tz": -540
    },
    "id": "IbDvQ-Mh-CGE"
   },
   "outputs": [],
   "source": [
    "lda = LinearDiscriminantAnalysis(n_components=2)"
   ]
  },
  {
   "cell_type": "code",
   "execution_count": 4,
   "metadata": {
    "colab": {
     "base_uri": "https://localhost:8080/",
     "height": 74
    },
    "executionInfo": {
     "elapsed": 335,
     "status": "ok",
     "timestamp": 1681881846233,
     "user": {
      "displayName": "‍선헌석[학생](경영대학 경영학과)",
      "userId": "11844710874656119254"
     },
     "user_tz": -540
    },
    "id": "O7Dtv9Ol-DVg",
    "outputId": "fffd59dc-52bc-4602-aca5-d1b353aed10f"
   },
   "outputs": [
    {
     "data": {
      "text/plain": [
       "LinearDiscriminantAnalysis(n_components=2)"
      ]
     },
     "execution_count": 4,
     "metadata": {},
     "output_type": "execute_result"
    }
   ],
   "source": [
    "# LDA는 클래스의 정보를 같이 입력 해줘야 한다.\n",
    "lda.fit(iris.data, iris.target) # 지도학습 처럼 feature, target이 같이 들어간다."
   ]
  },
  {
   "cell_type": "code",
   "execution_count": 5,
   "metadata": {
    "colab": {
     "base_uri": "https://localhost:8080/"
    },
    "executionInfo": {
     "elapsed": 9,
     "status": "ok",
     "timestamp": 1681881874419,
     "user": {
      "displayName": "‍선헌석[학생](경영대학 경영학과)",
      "userId": "11844710874656119254"
     },
     "user_tz": -540
    },
    "id": "8g7mhSKI-EwZ",
    "outputId": "1e87d6e4-6580-44fb-96d1-b68f54e46d3e"
   },
   "outputs": [
    {
     "data": {
      "text/plain": [
       "(150, 2)"
      ]
     },
     "execution_count": 5,
     "metadata": {},
     "output_type": "execute_result"
    }
   ],
   "source": [
    "iris_lda = lda.transform(iris.data)\n",
    "iris_lda.shape # 2차원으로 차원 축소 된 것 확인"
   ]
  },
  {
   "cell_type": "code",
   "execution_count": 6,
   "metadata": {
    "colab": {
     "base_uri": "https://localhost:8080/",
     "height": 206
    },
    "executionInfo": {
     "elapsed": 992,
     "status": "ok",
     "timestamp": 1681881991745,
     "user": {
      "displayName": "‍선헌석[학생](경영대학 경영학과)",
      "userId": "11844710874656119254"
     },
     "user_tz": -540
    },
    "id": "eZ5nSUM5-LsI",
    "outputId": "5ece010a-63ad-4b74-b75a-fe310a75a349"
   },
   "outputs": [
    {
     "data": {
      "text/html": [
       "<div>\n",
       "<style scoped>\n",
       "    .dataframe tbody tr th:only-of-type {\n",
       "        vertical-align: middle;\n",
       "    }\n",
       "\n",
       "    .dataframe tbody tr th {\n",
       "        vertical-align: top;\n",
       "    }\n",
       "\n",
       "    .dataframe thead th {\n",
       "        text-align: right;\n",
       "    }\n",
       "</style>\n",
       "<table border=\"1\" class=\"dataframe\">\n",
       "  <thead>\n",
       "    <tr style=\"text-align: right;\">\n",
       "      <th></th>\n",
       "      <th>component_1</th>\n",
       "      <th>component_2</th>\n",
       "      <th>target</th>\n",
       "    </tr>\n",
       "  </thead>\n",
       "  <tbody>\n",
       "    <tr>\n",
       "      <th>0</th>\n",
       "      <td>8.061800</td>\n",
       "      <td>0.300421</td>\n",
       "      <td>0</td>\n",
       "    </tr>\n",
       "    <tr>\n",
       "      <th>1</th>\n",
       "      <td>7.128688</td>\n",
       "      <td>-0.786660</td>\n",
       "      <td>0</td>\n",
       "    </tr>\n",
       "    <tr>\n",
       "      <th>2</th>\n",
       "      <td>7.489828</td>\n",
       "      <td>-0.265384</td>\n",
       "      <td>0</td>\n",
       "    </tr>\n",
       "    <tr>\n",
       "      <th>3</th>\n",
       "      <td>6.813201</td>\n",
       "      <td>-0.670631</td>\n",
       "      <td>0</td>\n",
       "    </tr>\n",
       "    <tr>\n",
       "      <th>4</th>\n",
       "      <td>8.132309</td>\n",
       "      <td>0.514463</td>\n",
       "      <td>0</td>\n",
       "    </tr>\n",
       "  </tbody>\n",
       "</table>\n",
       "</div>"
      ],
      "text/plain": [
       "   component_1  component_2  target\n",
       "0     8.061800     0.300421       0\n",
       "1     7.128688    -0.786660       0\n",
       "2     7.489828    -0.265384       0\n",
       "3     6.813201    -0.670631       0\n",
       "4     8.132309     0.514463       0"
      ]
     },
     "execution_count": 6,
     "metadata": {},
     "output_type": "execute_result"
    }
   ],
   "source": [
    "import matplotlib.pyplot as plt\n",
    "import seaborn as sns\n",
    "\n",
    "import pandas as pd\n",
    "\n",
    "iris_lda_df = pd.DataFrame(\n",
    "    data = iris_lda,\n",
    "    columns = [\"component_1\", \"component_2\"]\n",
    ")\n",
    "\n",
    "iris_lda_df['target'] = iris.target\n",
    "iris_lda_df.head()"
   ]
  },
  {
   "cell_type": "code",
   "execution_count": 7,
   "metadata": {
    "colab": {
     "base_uri": "https://localhost:8080/",
     "height": 454
    },
    "executionInfo": {
     "elapsed": 2515,
     "status": "ok",
     "timestamp": 1681882046272,
     "user": {
      "displayName": "‍선헌석[학생](경영대학 경영학과)",
      "userId": "11844710874656119254"
     },
     "user_tz": -540
    },
    "id": "i-yRlt4I-oNF",
    "outputId": "a445a5dd-edee-4a02-a403-11636efc136d"
   },
   "outputs": [
    {
     "data": {
      "image/png": "[encoded data removed]",
      "text/plain": [
       "<Figure size 640x480 with 1 Axes>"
      ]
     },
     "metadata": {},
     "output_type": "display_data"
    }
   ],
   "source": [
    "sns.scatterplot(\n",
    "    x=\"component_1\",\n",
    "    y=\"component_2\",\n",
    "    hue='target',\n",
    "    palette='muted',\n",
    "    data=iris_lda_df\n",
    ")\n",
    "\n",
    "plt.show()\n",
    "# PCA 보단 조금 더 나아 보인다."
   ]
  },
  {
   "cell_type": "code",
   "execution_count": null,
   "metadata": {
    "id": "h4vgdrXf-0v-"
   },
   "outputs": [],
   "source": []
  }
 ],
 "metadata": {
  "colab": {
   "authorship_tag": "ABX9TyNzdm1KD5B8p14RlENNNe2a",
   "provenance": []
  },
  "kernelspec": {
   "display_name": "Python 3 (ipykernel)",
   "language": "python",
   "name": "python3"
  },
  "language_info": {
   "codemirror_mode": {
    "name": "ipython",
    "version": 3
   },
   "file_extension": ".py",
   "mimetype": "text/x-python",
   "name": "python",
   "nbconvert_exporter": "python",
   "pygments_lexer": "ipython3",
   "version": "3.9.13"
  }
 },
 "nbformat": 4,
 "nbformat_minor": 1
}
