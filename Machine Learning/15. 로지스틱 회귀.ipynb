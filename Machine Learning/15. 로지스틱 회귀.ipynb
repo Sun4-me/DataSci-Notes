{
 "cells": [
  {
   "cell_type": "code",
   "execution_count": 1,
   "metadata": {
    "executionInfo": {
     "elapsed": 2751,
     "status": "ok",
     "timestamp": 1681705888408,
     "user": {
      "displayName": "‍선헌석[학생](경영대학 경영학과)",
      "userId": "11844710874656119254"
     },
     "user_tz": -540
    },
    "id": "RHmbHmSUen88"
   },
   "outputs": [],
   "source": [
    "import pandas as pd\n",
    "import matplotlib.pyplot as plt\n",
    "%matplotlib inline\n",
    "\n",
    "from sklearn.datasets import load_breast_cancer\n",
    "from sklearn.linear_model import LogisticRegression\n",
    "\n",
    "cancer = load_breast_cancer()"
   ]
  },
  {
   "cell_type": "markdown",
   "metadata": {
    "id": "Ad5kIdGoe1xL"
   },
   "source": [
    "# 데이터 전처리\n",
    "- 선형 모델을 사용할 때는 표준화를 진행하는 것이 좋다!"
   ]
  },
  {
   "cell_type": "code",
   "execution_count": 2,
   "metadata": {
    "executionInfo": {
     "elapsed": 301,
     "status": "ok",
     "timestamp": 1681706340646,
     "user": {
      "displayName": "‍선헌석[학생](경영대학 경영학과)",
      "userId": "11844710874656119254"
     },
     "user_tz": -540
    },
    "id": "Av3JL5raez-o"
   },
   "outputs": [],
   "source": [
    "from sklearn.preprocessing import StandardScaler\n",
    "from sklearn.model_selection import train_test_split\n",
    "\n",
    "scaler = StandardScaler()\n",
    "data_scaled = scaler.fit_transform(cancer.data)\n",
    "\n",
    "X_train, X_test, y_train, y_test = train_test_split(\n",
    "    data_scaled,\n",
    "    cancer.target,\n",
    "    test_size=0.3,\n",
    "    random_state=0\n",
    ")"
   ]
  },
  {
   "cell_type": "code",
   "execution_count": 3,
   "metadata": {
    "executionInfo": {
     "elapsed": 329,
     "status": "ok",
     "timestamp": 1681706348646,
     "user": {
      "displayName": "‍선헌석[학생](경영대학 경영학과)",
      "userId": "11844710874656119254"
     },
     "user_tz": -540
    },
    "id": "3Gh3Fynbgk5U"
   },
   "outputs": [],
   "source": [
    "lr_clf = LogisticRegression() # 기본 solver는 lbfgs\n",
    "lr_clf.fit(X_train, y_train)\n",
    "\n",
    "lr_pred = lr_clf.predict(X_test)"
   ]
  },
  {
   "cell_type": "markdown",
   "metadata": {
    "id": "V9-DBedHgoOK"
   },
   "source": [
    "# 평가"
   ]
  },
  {
   "cell_type": "code",
   "execution_count": 4,
   "metadata": {
    "colab": {
     "base_uri": "https://localhost:8080/"
    },
    "executionInfo": {
     "elapsed": 5,
     "status": "ok",
     "timestamp": 1681706542607,
     "user": {
      "displayName": "‍선헌석[학생](경영대학 경영학과)",
      "userId": "11844710874656119254"
     },
     "user_tz": -540
    },
    "id": "0FdTz_2Ggmsj",
    "outputId": "62c3df15-aec2-461a-f9db-2c29f36d8726"
   },
   "outputs": [
    {
     "name": "stdout",
     "output_type": "stream",
     "text": [
      "Accuracy : 0.977, ROC_AUC : 0.972\n"
     ]
    }
   ],
   "source": [
    "from sklearn.metrics import accuracy_score, roc_auc_score\n",
    "\n",
    "print(\"Accuracy : {:.3f}, ROC_AUC : {:.3f}\".format(accuracy_score(y_test, lr_pred), roc_auc_score(y_test, lr_pred)))"
   ]
  },
  {
   "cell_type": "code",
   "execution_count": 5,
   "metadata": {
    "colab": {
     "base_uri": "https://localhost:8080/"
    },
    "executionInfo": {
     "elapsed": 887,
     "status": "ok",
     "timestamp": 1681706758192,
     "user": {
      "displayName": "‍선헌석[학생](경영대학 경영학과)",
      "userId": "11844710874656119254"
     },
     "user_tz": -540
    },
    "id": "oFWsRdiAhWI4",
    "outputId": "0cc1e28b-d767-4d14-9fb2-08b7e148e55d"
   },
   "outputs": [
    {
     "name": "stdout",
     "output_type": "stream",
     "text": [
      "lbfgs\n",
      "Accuracy : 0.977, ROC_AUC : 0.972\n",
      "\n",
      "liblinear\n",
      "Accuracy : 0.982, ROC_AUC : 0.979\n",
      "\n",
      "newton-cg\n",
      "Accuracy : 0.977, ROC_AUC : 0.972\n",
      "\n",
      "sag\n",
      "Accuracy : 0.982, ROC_AUC : 0.979\n",
      "\n",
      "saga\n",
      "Accuracy : 0.982, ROC_AUC : 0.979\n",
      "\n"
     ]
    }
   ],
   "source": [
    "# solver에 따른 성능 변화 측정\n",
    "solvers = ['lbfgs', 'liblinear', 'newton-cg', 'sag', 'saga']\n",
    "\n",
    "for solver in solvers:\n",
    "  lr_clf = LogisticRegression(solver=solver, max_iter=600) # max_iter : 최적화 횟수\n",
    "  lr_clf.fit(X_train, y_train)\n",
    "\n",
    "  lr_pred = lr_clf.predict(X_test)\n",
    "\n",
    "  print(solver)\n",
    "  print(\"Accuracy : {:.3f}, ROC_AUC : {:.3f}\".format(accuracy_score(y_test, lr_pred), roc_auc_score(y_test, lr_pred)))\n",
    "  print()"
   ]
  },
  {
   "cell_type": "code",
   "execution_count": 6,
   "metadata": {
    "colab": {
     "base_uri": "https://localhost:8080/",
     "height": 553
    },
    "executionInfo": {
     "elapsed": 2600,
     "status": "ok",
     "timestamp": 1681706876713,
     "user": {
      "displayName": "‍선헌석[학생](경영대학 경영학과)",
      "userId": "11844710874656119254"
     },
     "user_tz": -540
    },
    "id": "jYAaJalpiKid",
    "outputId": "9f764ead-94d6-49b9-f837-feacdb5ef094"
   },
   "outputs": [
    {
     "name": "stderr",
     "output_type": "stream",
     "text": [
      "C:\\Users\\Sun\\anaconda\\lib\\site-packages\\sklearn\\model_selection\\_validation.py:372: FitFailedWarning: \n",
      "18 fits failed out of a total of 72.\n",
      "The score on these train-test partitions for these parameters will be set to nan.\n",
      "If these failures are not expected, you can try to debug them by setting error_score='raise'.\n",
      "\n",
      "Below are more details about the failures:\n",
      "--------------------------------------------------------------------------------\n",
      "18 fits failed with the following error:\n",
      "Traceback (most recent call last):\n",
      "  File \"C:\\Users\\Sun\\anaconda\\lib\\site-packages\\sklearn\\model_selection\\_validation.py\", line 680, in _fit_and_score\n",
      "    estimator.fit(X_train, y_train, **fit_params)\n",
      "  File \"C:\\Users\\Sun\\anaconda\\lib\\site-packages\\sklearn\\linear_model\\_logistic.py\", line 1461, in fit\n",
      "    solver = _check_solver(self.solver, self.penalty, self.dual)\n",
      "  File \"C:\\Users\\Sun\\anaconda\\lib\\site-packages\\sklearn\\linear_model\\_logistic.py\", line 447, in _check_solver\n",
      "    raise ValueError(\n",
      "ValueError: Solver lbfgs supports only 'l2' or 'none' penalties, got l1 penalty.\n",
      "\n",
      "  warnings.warn(some_fits_failed_message, FitFailedWarning)\n",
      "C:\\Users\\Sun\\anaconda\\lib\\site-packages\\sklearn\\model_selection\\_search.py:969: UserWarning: One or more of the test scores are non-finite: [0.96485659 0.94555834 0.92261209        nan 0.97891024 0.97364708\n",
      " 0.96131997        nan 0.97539218 0.97539218 0.96660169        nan\n",
      " 0.97539218 0.97539218 0.96660169        nan 0.97011974 0.97011974\n",
      " 0.96662025        nan 0.96661097 0.96661097 0.96134781        nan]\n",
      "  warnings.warn(\n"
     ]
    },
    {
     "data": {
      "text/plain": [
       "GridSearchCV(cv=3, estimator=LogisticRegression(),\n",
       "             param_grid={'C': [0.01, 0.1, 1, 1, 5, 10], 'penalty': ['l2', 'l1'],\n",
       "                         'solver': ['liblinear', 'lbfgs']},\n",
       "             scoring='accuracy')"
      ]
     },
     "execution_count": 6,
     "metadata": {},
     "output_type": "execute_result"
    }
   ],
   "source": [
    "# GridSearch\n",
    "from sklearn.model_selection import GridSearchCV\n",
    "\n",
    "params={'solver':['liblinear', 'lbfgs'],\n",
    "        'penalty':['l2', 'l1'],\n",
    "        'C':[0.01, 0.1, 1, 1, 5, 10]}\n",
    "\n",
    "grid_clf = GridSearchCV(\n",
    "    LogisticRegression(),\n",
    "    param_grid=params,\n",
    "    scoring='accuracy',\n",
    "    cv=3\n",
    ")\n",
    "grid_clf.fit(data_scaled, cancer.target)"
   ]
  },
  {
   "cell_type": "code",
   "execution_count": 7,
   "metadata": {
    "colab": {
     "base_uri": "https://localhost:8080/"
    },
    "executionInfo": {
     "elapsed": 361,
     "status": "ok",
     "timestamp": 1681706947672,
     "user": {
      "displayName": "‍선헌석[학생](경영대학 경영학과)",
      "userId": "11844710874656119254"
     },
     "user_tz": -540
    },
    "id": "mS8UgNMzinAN",
    "outputId": "d1c3ff8c-cab9-4532-c898-2b1b4500b696"
   },
   "outputs": [
    {
     "name": "stdout",
     "output_type": "stream",
     "text": [
      "최적 하이퍼 파라미터:{'C': 0.1, 'penalty': 'l2', 'solver': 'liblinear'}, 최적 평균 정확도:0.979\n"
     ]
    }
   ],
   "source": [
    "print('최적 하이퍼 파라미터:{}, 최적 평균 정확도:{:.3f}'.format(grid_clf.best_params_, grid_clf.best_score_))"
   ]
  }
 ],
 "metadata": {
  "colab": {
   "authorship_tag": "ABX9TyNK3PnkXhgs20i6ZRw5ePwB",
   "provenance": []
  },
  "kernelspec": {
   "display_name": "Python 3 (ipykernel)",
   "language": "python",
   "name": "python3"
  },
  "language_info": {
   "codemirror_mode": {
    "name": "ipython",
    "version": 3
   },
   "file_extension": ".py",
   "mimetype": "text/x-python",
   "name": "python",
   "nbconvert_exporter": "python",
   "pygments_lexer": "ipython3",
   "version": "3.9.13"
  }
 },
 "nbformat": 4,
 "nbformat_minor": 1
}
