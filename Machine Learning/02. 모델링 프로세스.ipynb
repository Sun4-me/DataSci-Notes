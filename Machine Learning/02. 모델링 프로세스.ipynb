{
 "cells": [
  {
   "cell_type": "code",
   "execution_count": 1,
   "metadata": {
    "colab": {
     "base_uri": "https://localhost:8080/"
    },
    "executionInfo": {
     "elapsed": 589,
     "status": "ok",
     "timestamp": 1681175500654,
     "user": {
      "displayName": "‍선헌석[학생](경영대학 경영학과)",
      "userId": "11844710874656119254"
     },
     "user_tz": -540
    },
    "id": "QPGqBbGh21Z0",
    "outputId": "7a3378c2-9b66-40dc-a1ed-f950c0e42d9b"
   },
   "outputs": [
    {
     "name": "stdout",
     "output_type": "stream",
     "text": [
      "feature shape : (150, 4)\n",
      "target shape : (150,)\n"
     ]
    }
   ],
   "source": [
    "# Load Data\n",
    "\n",
    "from sklearn.datasets import load_iris\n",
    "\n",
    "iris = load_iris()\n",
    "\n",
    "iris_feature = iris.data\n",
    "iris_target = iris.target\n",
    "\n",
    "# 데이터를 불러왔으면 반드시 shape을 확인\n",
    "print(\"feature shape : {}\".format(iris_feature.shape))\n",
    "print(\"target shape : {}\".format(iris_target.shape))"
   ]
  },
  {
   "cell_type": "code",
   "execution_count": 2,
   "metadata": {
    "colab": {
     "base_uri": "https://localhost:8080/",
     "height": 206
    },
    "executionInfo": {
     "elapsed": 6,
     "status": "ok",
     "timestamp": 1681175772294,
     "user": {
      "displayName": "‍선헌석[학생](경영대학 경영학과)",
      "userId": "11844710874656119254"
     },
     "user_tz": -540
    },
    "id": "hM_FFbu530Ej",
    "outputId": "eff4187e-38d2-48b4-e225-4d7975c5c7df"
   },
   "outputs": [
    {
     "data": {
      "text/html": [
       "<div>\n",
       "<style scoped>\n",
       "    .dataframe tbody tr th:only-of-type {\n",
       "        vertical-align: middle;\n",
       "    }\n",
       "\n",
       "    .dataframe tbody tr th {\n",
       "        vertical-align: top;\n",
       "    }\n",
       "\n",
       "    .dataframe thead th {\n",
       "        text-align: right;\n",
       "    }\n",
       "</style>\n",
       "<table border=\"1\" class=\"dataframe\">\n",
       "  <thead>\n",
       "    <tr style=\"text-align: right;\">\n",
       "      <th></th>\n",
       "      <th>sepal length (cm)</th>\n",
       "      <th>sepal width (cm)</th>\n",
       "      <th>petal length (cm)</th>\n",
       "      <th>petal width (cm)</th>\n",
       "      <th>target</th>\n",
       "    </tr>\n",
       "  </thead>\n",
       "  <tbody>\n",
       "    <tr>\n",
       "      <th>0</th>\n",
       "      <td>5.1</td>\n",
       "      <td>3.5</td>\n",
       "      <td>1.4</td>\n",
       "      <td>0.2</td>\n",
       "      <td>0</td>\n",
       "    </tr>\n",
       "    <tr>\n",
       "      <th>1</th>\n",
       "      <td>4.9</td>\n",
       "      <td>3.0</td>\n",
       "      <td>1.4</td>\n",
       "      <td>0.2</td>\n",
       "      <td>0</td>\n",
       "    </tr>\n",
       "    <tr>\n",
       "      <th>2</th>\n",
       "      <td>4.7</td>\n",
       "      <td>3.2</td>\n",
       "      <td>1.3</td>\n",
       "      <td>0.2</td>\n",
       "      <td>0</td>\n",
       "    </tr>\n",
       "    <tr>\n",
       "      <th>3</th>\n",
       "      <td>4.6</td>\n",
       "      <td>3.1</td>\n",
       "      <td>1.5</td>\n",
       "      <td>0.2</td>\n",
       "      <td>0</td>\n",
       "    </tr>\n",
       "    <tr>\n",
       "      <th>4</th>\n",
       "      <td>5.0</td>\n",
       "      <td>3.6</td>\n",
       "      <td>1.4</td>\n",
       "      <td>0.2</td>\n",
       "      <td>0</td>\n",
       "    </tr>\n",
       "  </tbody>\n",
       "</table>\n",
       "</div>"
      ],
      "text/plain": [
       "   sepal length (cm)  sepal width (cm)  petal length (cm)  petal width (cm)  \\\n",
       "0                5.1               3.5                1.4               0.2   \n",
       "1                4.9               3.0                1.4               0.2   \n",
       "2                4.7               3.2                1.3               0.2   \n",
       "3                4.6               3.1                1.5               0.2   \n",
       "4                5.0               3.6                1.4               0.2   \n",
       "\n",
       "   target  \n",
       "0       0  \n",
       "1       0  \n",
       "2       0  \n",
       "3       0  \n",
       "4       0  "
      ]
     },
     "execution_count": 2,
     "metadata": {},
     "output_type": "execute_result"
    }
   ],
   "source": [
    "import pandas as pd\n",
    "\n",
    "feature_names = iris.feature_names\n",
    "\n",
    "iris_df = pd.DataFrame(\n",
    "    data=iris_feature,\n",
    "    columns=feature_names\n",
    ")\n",
    "\n",
    "iris_df['target'] = iris_target\n",
    "iris_df.head()"
   ]
  },
  {
   "cell_type": "code",
   "execution_count": 3,
   "metadata": {
    "colab": {
     "base_uri": "https://localhost:8080/"
    },
    "executionInfo": {
     "elapsed": 3,
     "status": "ok",
     "timestamp": 1681175866238,
     "user": {
      "displayName": "‍선헌석[학생](경영대학 경영학과)",
      "userId": "11844710874656119254"
     },
     "user_tz": -540
    },
    "id": "qLOCgqKa4oy8",
    "outputId": "ce03755b-dfd6-4118-d982-4ad088cfd411"
   },
   "outputs": [
    {
     "data": {
      "text/plain": [
       "0    50\n",
       "1    50\n",
       "2    50\n",
       "Name: target, dtype: int64"
      ]
     },
     "execution_count": 3,
     "metadata": {},
     "output_type": "execute_result"
    }
   ],
   "source": [
    "# 분류 문제에서 확인할 제일 중요한 내용 : 타겟의 개수\n",
    "# value_counts() 통해 타겟의 개수를 확인하여 데이터를 증강하던지 삭제하던지 파악해야 한다.\n",
    "iris_df['target'].value_counts()"
   ]
  },
  {
   "cell_type": "markdown",
   "metadata": {
    "id": "ym2WMmnZ5pGJ"
   },
   "source": [
    "## 학습 데이터 /테스트 데이터 분리"
   ]
  },
  {
   "cell_type": "code",
   "execution_count": 4,
   "metadata": {
    "colab": {
     "base_uri": "https://localhost:8080/"
    },
    "executionInfo": {
     "elapsed": 7,
     "status": "ok",
     "timestamp": 1681176861511,
     "user": {
      "displayName": "‍선헌석[학생](경영대학 경영학과)",
      "userId": "11844710874656119254"
     },
     "user_tz": -540
    },
    "id": "-58d1lRY5lyv",
    "outputId": "59b45d72-b56c-4f2d-ffff-7c278356e824"
   },
   "outputs": [
    {
     "name": "stdout",
     "output_type": "stream",
     "text": [
      "훈련 데이터 shape : (120, 4)\n",
      "테스트 데이터 shape : (30, 4)\n"
     ]
    }
   ],
   "source": [
    "from sklearn.model_selection import train_test_split\n",
    "\n",
    "X_train, X_test, y_train, y_test = train_test_split(\n",
    "    iris_df.drop(\"target\", axis=1), # Feature 행렬 / 2차원 형태로 배열 되고 있으니. N*M 에서 target 을 제외한(drop) 나머지를 추출하기 위함\n",
    "    iris_df['target'], # target 벡터\n",
    "    test_size = 0.2, # 테스트(검증) 세트의 비율, 보통 0.2 ~ 0.3\n",
    "    random_state = 42 # 랜덤 시드 고정값\n",
    ")\n",
    "\n",
    "print(\"훈련 데이터 shape : {}\".format(X_train.shape))\n",
    "print(\"테스트 데이터 shape : {}\".format(X_test.shape))"
   ]
  },
  {
   "cell_type": "markdown",
   "metadata": {
    "id": "o9h8rEAk80YL"
   },
   "source": [
    "## 모델 훈련"
   ]
  },
  {
   "cell_type": "code",
   "execution_count": 5,
   "metadata": {
    "colab": {
     "base_uri": "https://localhost:8080/",
     "height": 74
    },
    "executionInfo": {
     "elapsed": 12,
     "status": "ok",
     "timestamp": 1681176985212,
     "user": {
      "displayName": "‍선헌석[학생](경영대학 경영학과)",
      "userId": "11844710874656119254"
     },
     "user_tz": -540
    },
    "id": "ozc70ytT8yqz",
    "outputId": "90c39e71-74ea-444f-981c-af5ad4dbd02d"
   },
   "outputs": [
    {
     "data": {
      "text/plain": [
       "DecisionTreeClassifier()"
      ]
     },
     "execution_count": 5,
     "metadata": {},
     "output_type": "execute_result"
    }
   ],
   "source": [
    "# 의사결정나무 분류기 사용\n",
    "from sklearn.tree import DecisionTreeClassifier\n",
    "\n",
    "# 모델 객체 생성\n",
    "dt_clf = DecisionTreeClassifier()\n",
    "\n",
    "# 모델 훈련\n",
    "dt_clf.fit(X_train, y_train)"
   ]
  },
  {
   "cell_type": "markdown",
   "metadata": {
    "id": "Y7Z3kmmt9llK"
   },
   "source": [
    "## 테스트 데이터 예측"
   ]
  },
  {
   "cell_type": "code",
   "execution_count": 6,
   "metadata": {
    "colab": {
     "base_uri": "https://localhost:8080/"
    },
    "executionInfo": {
     "elapsed": 5,
     "status": "ok",
     "timestamp": 1681177180397,
     "user": {
      "displayName": "‍선헌석[학생](경영대학 경영학과)",
      "userId": "11844710874656119254"
     },
     "user_tz": -540
    },
    "id": "o3-ROqsT9j7A",
    "outputId": "30962be1-8789-4f4c-974d-e6f8548ee6a5"
   },
   "outputs": [
    {
     "name": "stdout",
     "output_type": "stream",
     "text": [
      "테스트 세트의 예측 결과 : [1 0 2 1 1 0 1 2 1 1 2 0 0 0 0 1 2 1 1 2 0 2 0 2 2 2 2 2 0 0]\n"
     ]
    }
   ],
   "source": [
    "pred = dt_clf.predict(X_test) # 예측 할 때는 Feature만 넣기\n",
    "\n",
    "print(\"테스트 세트의 예측 결과 : {}\".format(pred))"
   ]
  },
  {
   "cell_type": "markdown",
   "metadata": {
    "id": "KnYOFXyU-hLs"
   },
   "source": [
    "## 평가\n",
    "- 예측 정확도(Accuracy) 평가\n"
   ]
  },
  {
   "cell_type": "code",
   "execution_count": 7,
   "metadata": {
    "colab": {
     "base_uri": "https://localhost:8080/"
    },
    "executionInfo": {
     "elapsed": 1287,
     "status": "ok",
     "timestamp": 1681177431963,
     "user": {
      "displayName": "‍선헌석[학생](경영대학 경영학과)",
      "userId": "11844710874656119254"
     },
     "user_tz": -540
    },
    "id": "hVhKtsKe-nPW",
    "outputId": "7a921e65-2678-45b2-a2bf-17c3bf6b0f43"
   },
   "outputs": [
    {
     "name": "stdout",
     "output_type": "stream",
     "text": [
      "예측 정확도 : 1.0000\n"
     ]
    }
   ],
   "source": [
    "from sklearn.metrics import accuracy_score\n",
    "\n",
    "acc_result = accuracy_score(y_test, pred)\n",
    "print(\"예측 정확도 : {:.4f}\".format(acc_result))"
   ]
  }
 ],
 "metadata": {
  "colab": {
   "authorship_tag": "ABX9TyNIFF1tANj5DJJ1qPGHRL3d",
   "provenance": []
  },
  "kernelspec": {
   "display_name": "Python 3 (ipykernel)",
   "language": "python",
   "name": "python3"
  },
  "language_info": {
   "codemirror_mode": {
    "name": "ipython",
    "version": 3
   },
   "file_extension": ".py",
   "mimetype": "text/x-python",
   "name": "python",
   "nbconvert_exporter": "python",
   "pygments_lexer": "ipython3",
   "version": "3.9.13"
  }
 },
 "nbformat": 4,
 "nbformat_minor": 1
}
